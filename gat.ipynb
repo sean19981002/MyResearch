{
  "cells": [
    {
      "cell_type": "code",
      "execution_count": 41,
      "metadata": {
        "collapsed": false
      },
      "outputs": [],
      "source": [
        "%matplotlib inline"
      ]
    },
    {
      "cell_type": "markdown",
      "metadata": {},
      "source": [
        "\n",
        "\n",
        "Understand Graph Attention Network\n",
        "=======================================\n",
        "\n",
        "**Authors:** `Hao Zhang <https://github.com/sufeidechabei/>`_, `Mufei Li\n",
        "<https://github.com/mufeili>`_, `Minjie Wang\n",
        "<https://jermainewang.github.io/>`_  `Zheng Zhang\n",
        "<https://shanghai.nyu.edu/academics/faculty/directory/zheng-zhang>`_\n",
        "\n",
        "<div class=\"alert alert-danger\"><h4>Warning</h4><p>The tutorial aims at gaining insights into the paper, with code as a mean\n",
        "    of explanation. The implementation thus is NOT optimized for running\n",
        "    efficiency. For recommended implementation, please refer to the `official\n",
        "    examples <https://github.com/dmlc/dgl/tree/master/examples>`_.</p></div>\n",
        "\n",
        "In this tutorial, you learn about a graph attention network (GAT) and how it can be \n",
        "implemented in PyTorch. You can also learn to visualize and understand what the attention \n",
        "mechanism has learned.\n",
        "\n",
        "The research described in the paper `Graph Convolutional Network (GCN) <https://arxiv.org/abs/1609.02907>`_,\n",
        "indicates that combining local graph structure and node-level features yields\n",
        "good performance on node classification tasks. However, the way GCN aggregates\n",
        "is structure-dependent, which can hurt its generalizability.\n",
        "\n",
        "One workaround is to simply average over all neighbor node features as described in\n",
        "the research paper `GraphSAGE\n",
        "<https://www-cs-faculty.stanford.edu/people/jure/pubs/graphsage-nips17.pdf>`_.\n",
        "However, `Graph Attention Network <https://arxiv.org/abs/1710.10903>`_ proposes a\n",
        "different type of aggregation. GAT uses weighting neighbor features with feature dependent and\n",
        "structure-free normalization, in the style of attention.\n"
      ]
    },
    {
      "cell_type": "markdown",
      "metadata": {},
      "source": [
        "Introducing attention to GCN\n",
        "----------------------------\n",
        "\n",
        "The key difference between GAT and GCN is how the information from the one-hop neighborhood is aggregated.\n",
        "\n",
        "For GCN, a graph convolution operation produces the normalized sum of the node features of neighbors.\n",
        "\n",
        "\n",
        "\\begin{align}h_i^{(l+1)}=\\sigma\\left(\\sum_{j\\in \\mathcal{N}(i)} {\\frac{1}{c_{ij}} W^{(l)}h^{(l)}_j}\\right)\\end{align}\n",
        "\n",
        "\n",
        "where $\\mathcal{N}(i)$ is the set of its one-hop neighbors (to include\n",
        "$v_i$ in the set, simply add a self-loop to each node),\n",
        "$c_{ij}=\\sqrt{|\\mathcal{N}(i)|}\\sqrt{|\\mathcal{N}(j)|}$ is a\n",
        "normalization constant based on graph structure, $\\sigma$ is an\n",
        "activation function (GCN uses ReLU), and $W^{(l)}$ is a shared\n",
        "weight matrix for node-wise feature transformation. Another model proposed in\n",
        "`GraphSAGE\n",
        "<https://www-cs-faculty.stanford.edu/people/jure/pubs/graphsage-nips17.pdf>`_\n",
        "employs the same update rule except that they set\n",
        "$c_{ij}=|\\mathcal{N}(i)|$.\n",
        "\n",
        "GAT introduces the attention mechanism as a substitute for the statically\n",
        "normalized convolution operation. Below are the equations to compute the node\n",
        "embedding $h_i^{(l+1)}$ of layer $l+1$ from the embeddings of\n",
        "layer $l$.\n",
        "\n",
        "![](https://data.dgl.ai/tutorial/gat/gat.png)\n",
        "\n",
        "  :width: 450px\n",
        "  :align: center\n",
        "\n",
        "\\begin{align}\\begin{align}\n",
        "  z_i^{(l)}&=W^{(l)}h_i^{(l)},&(1) \\\\\n",
        "  e_{ij}^{(l)}&=\\text{LeakyReLU}(\\vec a^{(l)^T}(z_i^{(l)}||z_j^{(l)})),&(2)\\\\\n",
        "  \\alpha_{ij}^{(l)}&=\\frac{\\exp(e_{ij}^{(l)})}{\\sum_{k\\in \\mathcal{N}(i)}^{}\\exp(e_{ik}^{(l)})},&(3)\\\\\n",
        "  h_i^{(l+1)}&=\\sigma\\left(\\sum_{j\\in \\mathcal{N}(i)} {\\alpha^{(l)}_{ij} z^{(l)}_j }\\right),&(4)\n",
        "  \\end{align}\\end{align}\n",
        "\n",
        "\n",
        "Explanations:\n",
        "\n",
        "\n",
        "* Equation (1) is a linear transformation of the lower layer embedding $h_i^{(l)}$\n",
        "  and $W^{(l)}$ is its learnable weight matrix.\n",
        "* Equation (2) computes a pair-wise *un-normalized* attention score between two neighbors.\n",
        "  Here, it first concatenates the $z$ embeddings of the two nodes, where $||$\n",
        "  denotes concatenation, then takes a dot product of it and a learnable weight vector\n",
        "  $\\vec a^{(l)}$, and applies a LeakyReLU in the end. This form of attention is\n",
        "  usually called *additive attention*, contrast with the dot-product attention in the\n",
        "  Transformer model.\n",
        "* Equation (3) applies a softmax to normalize the attention scores on each node's\n",
        "  incoming edges.\n",
        "* Equation (4) is similar to GCN. The embeddings from neighbors are aggregated together,\n",
        "  scaled by the attention scores.\n",
        "\n",
        "There are other details from the paper, such as dropout and skip connections.\n",
        "For the purpose of simplicity, those details are left out of this tutorial. To see more details, \n",
        "download the `full example <https://github.com/dmlc/dgl/blob/master/examples/pytorch/gat/gat.py>`_.\n",
        "In its essence, GAT is just a different aggregation function with attention\n",
        "over features of neighbors, instead of a simple mean aggregation.\n",
        "\n",
        "GAT in DGL\n",
        "----------\n",
        "\n",
        "DGL provides an off-the-shelf implementation of the GAT layer under the ``dgl.nn.<backend>``\n",
        "subpackage. Simply import the ``GATConv`` as the follows.\n",
        "\n"
      ]
    },
    {
      "cell_type": "code",
      "execution_count": 42,
      "metadata": {
        "collapsed": false
      },
      "outputs": [],
      "source": [
        "from dgl.nn.pytorch import GATConv\n",
        "import sys\n",
        "from dgl.data import CoraGraphDataset"
      ]
    },
    {
      "cell_type": "markdown",
      "metadata": {},
      "source": [
        "Readers can skip the following step-by-step explanation of the implementation and\n",
        "jump to the `Put everything together`_ for training and visualization results.\n",
        "\n",
        "To begin, you can get an overall impression about how a ``GATLayer`` module is\n",
        "implemented in DGL. In this section, the four equations above are broken down \n",
        "one at a time.\n",
        "\n",
        "<div class=\"alert alert-info\"><h4>Note</h4><p>This is showing how to implement a GAT from scratch.  DGL provides a more\n",
        "   efficient :class:`builtin GAT layer module <dgl.nn.pytorch.conv.GATConv>`.</p></div>\n",
        "\n",
        "\n"
      ]
    },
    {
      "cell_type": "code",
      "execution_count": 43,
      "metadata": {
        "collapsed": false
      },
      "outputs": [],
      "source": [
        "import torch\n",
        "import torch.nn as nn\n",
        "import torch.nn.functional as F\n",
        "\n",
        "device = ''\n",
        "if torch.cuda.is_available():\n",
        "    device = 'cuda:0'\n",
        "else:\n",
        "    device = 'cpu'\n",
        "\n",
        "class GATLayer(nn.Module):\n",
        "    def __init__(self, g, in_dim, out_dim):\n",
        "        super(GATLayer, self).__init__()\n",
        "        self.g = g.to(device = device)\n",
        "        # equation (1)\n",
        "        self.fc = nn.Linear(in_dim, out_dim, bias=False, device = device)\n",
        "        # equation (2)\n",
        "        self.attn_fc = nn.Linear(2 * out_dim, 1, bias=False, device = device)\n",
        "        self.reset_parameters()\n",
        "\n",
        "    def reset_parameters(self):\n",
        "        \"\"\"Reinitialize learnable parameters.\"\"\"\n",
        "        gain = nn.init.calculate_gain('relu')\n",
        "        nn.init.xavier_normal_(self.fc.weight, gain=gain)\n",
        "        nn.init.xavier_normal_(self.attn_fc.weight, gain=gain)\n",
        "\n",
        "    def edge_attention(self, edges):\n",
        "        # edge UDF for equation (2)\n",
        "        z2 = torch.cat([edges.src['z'], edges.dst['z']], dim=1).to(device = device)\n",
        "        a = self.attn_fc(z2)\n",
        "        return {'e': F.leaky_relu(a).to(device = device)}\n",
        "\n",
        "    def message_func(self, edges):\n",
        "        # message UDF for equation (3) & (4)\n",
        "        return {'z': edges.src['z'], 'e': edges.data['e']}\n",
        "\n",
        "    def reduce_func(self, nodes):\n",
        "        # reduce UDF for equation (3) & (4)\n",
        "        # equation (3)\n",
        "        alpha = F.softmax(nodes.mailbox['e'], dim=1).to(device = device)\n",
        "        # equation (4)\n",
        "        h = torch.sum(alpha * nodes.mailbox['z'], dim=1).to(device = device)\n",
        "        return {'h': h}\n",
        "\n",
        "    def forward(self, h):\n",
        "        # equation (1)\n",
        "        z = self.fc(h)\n",
        "        self.g.ndata['z'] = z\n",
        "        # equation (2)\n",
        "        self.g.apply_edges(self.edge_attention)\n",
        "        # equation (3) & (4)\n",
        "        self.g.update_all(self.message_func, self.reduce_func)\n",
        "        return self.g.ndata.pop('h')"
      ]
    },
    {
      "attachments": {},
      "cell_type": "markdown",
      "metadata": {},
      "source": [
        "Equation (1)\n",
        "\n",
        "$\\begin{align}z_i^{(l)}=W^{(l)}h_i^{(l)},(1)\\end{align}$\n",
        "\n",
        "The first one shows linear transformation. It's common and can be\n",
        "easily implemented in Pytorch using ``torch.nn.Linear``.\n",
        "\n",
        "Equation (2)\n",
        "\n",
        "$\\begin{align}e_{ij}^{(l)}=\\text{LeakyReLU}(\\vec a^{(l)^T}(z_i^{(l)}|z_j^{(l)})),(2)\\end{align}$\n",
        "\n",
        "The un-normalized attention score $e_{ij}$ is calculated using the\n",
        "embeddings of adjacent nodes $i$ and $j$. This suggests that the\n",
        "attention scores can be viewed as edge data, which can be calculated by the\n",
        "``apply_edges`` API. The argument to the ``apply_edges`` is an **Edge UDF**,\n",
        "which is defined as below:\n",
        "\n"
      ]
    },
    {
      "cell_type": "code",
      "execution_count": 44,
      "metadata": {
        "collapsed": false
      },
      "outputs": [],
      "source": [
        "def edge_attention(self, edges):\n",
        "    # edge UDF for equation (2)\n",
        "    z2 = torch.cat([edges.src['z'], edges.dst['z']], dim=1).to(device = device)\n",
        "    a = self.attn_fc(z2)\n",
        "    return {'e' : F.leaky_relu(a).to(device = device)}"
      ]
    },
    {
      "cell_type": "markdown",
      "metadata": {},
      "source": [
        "Here, the dot product with the learnable weight vector $\\vec{a^{(l)}}$\n",
        "is implemented again using PyTorch's linear transformation ``attn_fc``. Note\n",
        "that ``apply_edges`` will **batch** all the edge data in one tensor, so the\n",
        "``cat``, ``attn_fc`` here are applied on all the edges in parallel.\n",
        "\n",
        "Equation (3) & (4)\n",
        "\n",
        "\n",
        "\\begin{align}\\begin{align}\n",
        "  \\alpha_{ij}^{(l)}&=\\frac{\\exp(e_{ij}^{(l)})}{\\sum_{k\\in \\mathcal{N}(i)}^{}\\exp(e_{ik}^{(l)})},&(3)\\\\\n",
        "  h_i^{(l+1)}&=\\sigma\\left(\\sum_{j\\in \\mathcal{N}(i)} {\\alpha^{(l)}_{ij} z^{(l)}_j }\\right),&(4)\n",
        "  \\end{align}\\end{align}\n",
        "\n",
        "Similar to GCN, ``update_all`` API is used to trigger message passing on all\n",
        "the nodes. The message function sends out two tensors: the transformed ``z``\n",
        "embedding of the source node and the un-normalized attention score ``e`` on\n",
        "each edge. The reduce function then performs two tasks:\n",
        "\n",
        "\n",
        "* Normalize the attention scores using softmax (equation (3)).\n",
        "* Aggregate neighbor embeddings weighted by the attention scores (equation(4)).\n",
        "\n",
        "Both tasks first fetch data from the mailbox and then manipulate it on the\n",
        "second dimension (``dim=1``), on which the messages are batched.\n",
        "\n"
      ]
    },
    {
      "cell_type": "code",
      "execution_count": 45,
      "metadata": {
        "collapsed": false
      },
      "outputs": [],
      "source": [
        "def reduce_func(self, nodes):\n",
        "    # reduce UDF for equation (3) & (4)\n",
        "    # equation (3)\n",
        "    alpha = F.softmax(nodes.mailbox['e'], dim=1).to(device = device)\n",
        "    # equation (4)\n",
        "    h = torch.sum(alpha * nodes.mailbox['z'], dim=1).to(device = device)\n",
        "    return {'h' : h}"
      ]
    },
    {
      "attachments": {},
      "cell_type": "markdown",
      "metadata": {},
      "source": [
        "Multi-head attention\n",
        "\n",
        "Analogous to multiple channels in ConvNet, GAT introduces **multi-head\n",
        "attention** to enrich the model capacity and to stabilize the learning\n",
        "process. Each attention head has its own parameters and their outputs can be\n",
        "merged in two ways:\n",
        "\n",
        "$$\\begin{align}\\text{concatenation}: h^{(l+1)}_{i} =||_{k=1}^{K}\\sigma\\left(\\sum_{j\\in \\mathcal{N}(i)}\\alpha_{ij}^{k}W^{k}h^{(l)}_{j}\\right)\\end{align}$$\n",
        "\n",
        "or\n",
        "\n",
        "$$\\begin{align}\\text{average}: h_{i}^{(l+1)}=\\sigma\\left(\\frac{1}{K}\\sum_{k=1}^{K}\\sum_{j\\in\\mathcal{N}(i)}\\alpha_{ij}^{k}W^{k}h^{(l)}_{j}\\right)\\end{align}$$\n",
        "\n",
        "where $K$ is the number of heads. You can use\n",
        "concatenation for intermediary layers and average for the final layer.\n",
        "\n",
        "Use the above defined single-head ``GATLayer`` as the building block\n",
        "for the ``MultiHeadGATLayer`` below:\n",
        "\n"
      ]
    },
    {
      "cell_type": "code",
      "execution_count": 46,
      "metadata": {
        "collapsed": false
      },
      "outputs": [],
      "source": [
        "class MultiHeadGATLayer(nn.Module):\n",
        "    def __init__(self, g, in_dim, out_dim, num_heads, merge='cat'):\n",
        "        super(MultiHeadGATLayer, self).__init__()\n",
        "        self.heads = nn.ModuleList().to(device = device)\n",
        "        for i in range(num_heads):\n",
        "            self.heads.append(GATLayer(g, in_dim, out_dim).to(device = device))\n",
        "        self.merge = merge\n",
        "\n",
        "    def forward(self, h):\n",
        "        head_outs = [attn_head(h) for attn_head in self.heads]\n",
        "        if self.merge == 'cat':\n",
        "            # concat on the output feature dimension (dim=1)\n",
        "            return torch.cat(head_outs, dim=1).to(device = device)\n",
        "        else:\n",
        "            # merge using average\n",
        "            return torch.mean(torch.stack(head_outs)).to(device = device)"
      ]
    },
    {
      "attachments": {},
      "cell_type": "markdown",
      "metadata": {},
      "source": [
        "Put everything together\n",
        "\n",
        "\n",
        "Now, you can define a two-layer GAT model.\n",
        "\n"
      ]
    },
    {
      "cell_type": "code",
      "execution_count": 47,
      "metadata": {
        "collapsed": false
      },
      "outputs": [],
      "source": [
        "class GAT(nn.Module):\n",
        "    def __init__(self, g, in_dim, hidden_dim, out_dim, num_heads):\n",
        "        super(GAT, self).__init__()\n",
        "        self.layer1 = MultiHeadGATLayer(g, in_dim, hidden_dim, num_heads).to(device = device)\n",
        "        # Be aware that the input dimension is hidden_dim*num_heads since\n",
        "        # multiple head outputs are concatenated together. Also, only\n",
        "        # one attention head in the output layer.\n",
        "        self.layer2 = MultiHeadGATLayer(g, hidden_dim * num_heads, out_dim, 1).to(device = device)\n",
        "\n",
        "    def forward(self, h):\n",
        "        h = self.layer1(h)\n",
        "        h = F.elu(h)\n",
        "        h = self.layer2(h)\n",
        "        return h"
      ]
    },
    {
      "cell_type": "markdown",
      "metadata": {},
      "source": [
        "We then load the Cora dataset using DGL's built-in data module.\n",
        "\n"
      ]
    },
    {
      "attachments": {},
      "cell_type": "markdown",
      "metadata": {},
      "source": [
        "12/30\n",
        "* $feature:12555 * 25,\\in [-3,+3]$"
      ]
    },
    {
      "cell_type": "code",
      "execution_count": 48,
      "metadata": {
        "collapsed": false
      },
      "outputs": [],
      "source": [
        "from dgl import DGLGraph\n",
        "from dgl.data import citation_graph as citegrh\n",
        "import networkx as nx\n",
        "import dgl\n",
        "import numpy as np\n",
        "#from numpy import geek\n",
        "from dgl.data.utils import load_graphs\n",
        "\n",
        "\n",
        "def load_cora_data():\n",
        "    data = CoraGraphDataset()\n",
        "    graph = data[0]\n",
        "    features = graph.ndata['feat']\n",
        "    labels = graph.ndata['label']\n",
        "    mask = graph.ndata['train_mask']\n",
        "    return graph, features, labels, mask\n",
        "\n",
        "def Load_BaseG(file_path = 'Biden/2022-11-07/'):\n",
        "\n",
        "    f_path = file_path + 'user_profile/'\n",
        "    g_path = file_path + 'Graph/Base_Graph/baseG.bin'\n",
        "    baseG , label= load_graphs(g_path) # graph list, graph label\n",
        "    baseG = baseG[0]\n",
        "    # node feature\n",
        "    num_nodes = baseG.number_of_nodes()\n",
        "    feature = torch.randint(low=-3, high=4, size=(num_nodes, 25), dtype=torch.int)\n",
        "    labels = torch.randint(low=0, high=2, size=(num_nodes, ), dtype=torch.int)\n",
        "    mask = 0\n",
        "    return baseG, feature, labels, mask\n",
        "\n",
        "\n"
      ]
    },
    {
      "cell_type": "markdown",
      "metadata": {},
      "source": [
        "The training loop is exactly the same as in the GCN tutorial.\n",
        "\n"
      ]
    },
    {
      "cell_type": "code",
      "execution_count": 49,
      "metadata": {},
      "outputs": [],
      "source": [
        "g, features, labels, mask = Load_BaseG() #load_cora_data()"
      ]
    },
    {
      "cell_type": "code",
      "execution_count": 50,
      "metadata": {},
      "outputs": [
        {
          "data": {
            "text/plain": [
              "Graph(num_nodes=12555, num_edges=641910,\n",
              "      ndata_schemes={}\n",
              "      edata_schemes={})"
            ]
          },
          "execution_count": 50,
          "metadata": {},
          "output_type": "execute_result"
        }
      ],
      "source": [
        "g"
      ]
    },
    {
      "cell_type": "code",
      "execution_count": 51,
      "metadata": {},
      "outputs": [
        {
          "data": {
            "text/plain": [
              "tensor([[    0,     0],\n",
              "        [    0,     6],\n",
              "        [    0,     8],\n",
              "        ...,\n",
              "        [12553,     9],\n",
              "        [12553,    20],\n",
              "        [12554,     0]])"
            ]
          },
          "execution_count": 51,
          "metadata": {},
          "output_type": "execute_result"
        }
      ],
      "source": [
        "(features == 3).nonzero()"
      ]
    },
    {
      "cell_type": "code",
      "execution_count": 52,
      "metadata": {},
      "outputs": [
        {
          "data": {
            "text/plain": [
              "tensor([1, 0, 0,  ..., 1, 0, 0], dtype=torch.int32)"
            ]
          },
          "execution_count": 52,
          "metadata": {},
          "output_type": "execute_result"
        }
      ],
      "source": [
        "# 7 labels\n",
        "labels"
      ]
    },
    {
      "cell_type": "code",
      "execution_count": 53,
      "metadata": {
        "collapsed": false
      },
      "outputs": [
        {
          "data": {
            "text/plain": [
              "<Figure size 640x480 with 0 Axes>"
            ]
          },
          "metadata": {},
          "output_type": "display_data"
        }
      ],
      "source": [
        "import time\n",
        "import numpy as np\n",
        "import matplotlib.pyplot as plt\n",
        "\n",
        "\n",
        "for i in range(4):\n",
        "    # create the model, 2 heads, each head has hidden size 8\n",
        "    y = []\n",
        "    x = []\n",
        "    net = GAT(g.to(device),\n",
        "            in_dim=features.size()[1],\n",
        "            hidden_dim=8,\n",
        "            out_dim=2, # Class number\n",
        "            num_heads=3)\n",
        "\n",
        "    # create optimizer\n",
        "    optimizer = torch.optim.Adam(net.parameters(), lr=1e-3)\n",
        "    # main loop\n",
        "    dur = []\n",
        "    for epoch in range(400):\n",
        "        #if epoch >= 3:\n",
        "        \n",
        "        t0 = time.time()\n",
        "\n",
        "        logits = net(features.float().to(device))\n",
        "        logp = F.log_softmax(logits, 1).to(device) # shape = |V| * classes\n",
        "        loss = F.nll_loss(logp.to(device), labels.long().to(device)).to(device = device)\n",
        "\n",
        "        optimizer.zero_grad()\n",
        "        loss.backward()\n",
        "        optimizer.step()\n",
        "\n",
        "        #if epoch >= 3:\n",
        "        dur.append(time.time() - t0)\n",
        "        \n",
        "\n",
        "        #print(\"Epoch {:05d} | Loss {:.4f} | Time(s) {:.4f}\".format(\n",
        "        #    epoch, loss.item(), np.mean(dur)))\n",
        "        x.append(epoch)\n",
        "        y.append(loss.item())\n",
        "    \n",
        "    # plotting the points \n",
        "    x = [int(i) for i in x]\n",
        "    y = [float(i) for i in y]\n",
        "\n",
        "    lines = plt.plot(x, y)\n",
        "    plt.title('Loss')\n",
        "    plt.xlabel('epoch')\n",
        "    plt.ylabel('loss')\n",
        "    plt.setp(lines, marker='o')\n",
        "    plt.grid(True)\n",
        "    plt.savefig('%d_output.png' % i)\n",
        "    plt.clf()"
      ]
    },
    {
      "cell_type": "code",
      "execution_count": 54,
      "metadata": {},
      "outputs": [
        {
          "data": {
            "text/plain": [
              "GAT(\n",
              "  (layer1): MultiHeadGATLayer(\n",
              "    (heads): ModuleList(\n",
              "      (0): GATLayer(\n",
              "        (fc): Linear(in_features=25, out_features=8, bias=False)\n",
              "        (attn_fc): Linear(in_features=16, out_features=1, bias=False)\n",
              "      )\n",
              "      (1): GATLayer(\n",
              "        (fc): Linear(in_features=25, out_features=8, bias=False)\n",
              "        (attn_fc): Linear(in_features=16, out_features=1, bias=False)\n",
              "      )\n",
              "      (2): GATLayer(\n",
              "        (fc): Linear(in_features=25, out_features=8, bias=False)\n",
              "        (attn_fc): Linear(in_features=16, out_features=1, bias=False)\n",
              "      )\n",
              "    )\n",
              "  )\n",
              "  (layer2): MultiHeadGATLayer(\n",
              "    (heads): ModuleList(\n",
              "      (0): GATLayer(\n",
              "        (fc): Linear(in_features=24, out_features=2, bias=False)\n",
              "        (attn_fc): Linear(in_features=4, out_features=1, bias=False)\n",
              "      )\n",
              "    )\n",
              "  )\n",
              ")"
            ]
          },
          "execution_count": 54,
          "metadata": {},
          "output_type": "execute_result"
        }
      ],
      "source": [
        "net"
      ]
    },
    {
      "cell_type": "code",
      "execution_count": 55,
      "metadata": {},
      "outputs": [
        {
          "data": {
            "text/plain": [
              "tensor([[-3.8617, -3.6022],\n",
              "        [-7.4296, -7.3267],\n",
              "        [-8.8249, -8.7794],\n",
              "        ...,\n",
              "        [-9.5278, -9.6806],\n",
              "        [-6.6743, -6.6680],\n",
              "        [-6.7860, -6.7488]], device='cuda:0', grad_fn=<CatBackward0>)"
            ]
          },
          "execution_count": 55,
          "metadata": {},
          "output_type": "execute_result"
        }
      ],
      "source": [
        "logits"
      ]
    },
    {
      "cell_type": "code",
      "execution_count": 56,
      "metadata": {},
      "outputs": [
        {
          "data": {
            "text/plain": [
              "tensor([[-0.8312, -0.5718],\n",
              "        [-0.7459, -0.6431],\n",
              "        [-0.7162, -0.6707],\n",
              "        ...,\n",
              "        [-0.6196, -0.7725],\n",
              "        [-0.6963, -0.6900],\n",
              "        [-0.7119, -0.6747]], device='cuda:0', grad_fn=<LogSoftmaxBackward0>)"
            ]
          },
          "execution_count": 56,
          "metadata": {},
          "output_type": "execute_result"
        }
      ],
      "source": [
        "logp"
      ]
    },
    {
      "attachments": {},
      "cell_type": "markdown",
      "metadata": {},
      "source": [
        "Visualizing and understanding attention learned\n",
        "----------------------------------------------\n",
        "\n",
        "Cora\n",
        "\n",
        "The following table summarizes the model performance on Cora that is reported in\n",
        "`the GAT paper <https://arxiv.org/pdf/1710.10903.pdf>`_ and obtained with DGL \n",
        "implementations.\n",
        "\n",
        ".. list-table::\n",
        "   :header-rows: 1\n",
        "\n",
        "   * - Model\n",
        "     - Accuracy\n",
        "   * - GCN (paper)\n",
        "     - $81.4\\pm 0.5%$\n",
        "   * - GCN (dgl)\n",
        "     - $82.05\\pm 0.33%$\n",
        "   * - GAT (paper)\n",
        "     - $83.0\\pm 0.7%$\n",
        "   * - GAT (dgl)\n",
        "     - $83.69\\pm 0.529%$\n",
        "\n",
        "*What kind of attention distribution has our model learned?*\n",
        "\n",
        "Because the attention weight $a_{ij}$ is associated with edges, you can\n",
        "visualize it by coloring edges. Below you can pick a subgraph of Cora and plot the\n",
        "attention weights of the last ``GATLayer``. The nodes are colored according\n",
        "to their labels, whereas the edges are colored according to the magnitude of\n",
        "the attention weights, which can be referred with the colorbar on the right.\n",
        "\n",
        "![](https://data.dgl.ai/tutorial/gat/cora-attention.png)\n",
        "\n",
        "\n",
        "You can see that the model seems to learn different attention weights. To\n",
        "understand the distribution more thoroughly, measure the `entropy\n",
        "<https://en.wikipedia.org/wiki/Entropy_(information_theory>`_) of the\n",
        "attention distribution. For any node $i$,\n",
        "$\\{\\alpha_{ij}\\}_{j\\in\\mathcal{N}(i)}$ forms a discrete probability\n",
        "distribution over all its neighbors with the entropy given by\n",
        "\n",
        "$\\begin{align}H({\\alpha_{ij}}_{j\\in\\mathcal{N}(i)})=-\\sum_{j\\in\\mathcal{N}(i)} \\alpha_{ij}\\log\\alpha_{ij}\\end{align}$\n",
        "\n",
        "A low entropy means a high degree of concentration, and vice\n",
        "versa. An entropy of 0 means all attention is on one source node. The uniform\n",
        "distribution has the highest entropy of $ log(\\mathcal{N}(i)) $.\n",
        "Ideally, you want to see the model learns a distribution of lower entropy\n",
        "(i.e, one or two neighbors are much more important than the others).\n",
        "\n",
        "Note that since nodes can have different degrees, the maximum entropy will\n",
        "also be different. Therefore, you plot the aggregated histogram of entropy\n",
        "values of all nodes in the entire graph. Below are the attention histogram of\n",
        "learned by each attention head.\n",
        "\n",
        "|image2|\n",
        "\n",
        "As a reference, here is the histogram if all the nodes have uniform attention weight distribution.\n",
        "\n",
        "![](https://data.dgl.ai/tutorial/gat/cora-attention-uniform-hist.png)\n",
        "\n",
        "\n",
        "One can see that **the attention values learned is quite similar to uniform distribution**\n",
        "(i.e, all neighbors are equally important). This partially\n",
        "explains why the performance of GAT is close to that of GCN on Cora\n",
        "(according to `author's reported result\n",
        "<https://arxiv.org/pdf/1710.10903.pdf>`_, the accuracy difference averaged\n",
        "over 100 runs is less than 2 percent). Attention does not matter\n",
        "since it does not differentiate much.\n",
        "\n",
        "*Does that mean the attention mechanism is not useful?* No! A different\n",
        "dataset exhibits an entirely different pattern, as you can see next.\n",
        "\n",
        "Protein-protein interaction (PPI) networks\n",
        "\n",
        "The PPI dataset used here consists of $24$ graphs corresponding to\n",
        "different human tissues. Nodes can have up to $121$ kinds of labels, so\n",
        "the label of node is represented as a binary tensor of size $121$. The\n",
        "task is to predict node label.\n",
        "\n",
        "Use $20$ graphs for training, $2$ for validation and $2$\n",
        "for test. The average number of nodes per graph is $2372$. Each node\n",
        "has $50$ features that are composed of positional gene sets, motif gene\n",
        "sets, and immunological signatures. Critically, test graphs remain completely\n",
        "unobserved during training, a setting called \"inductive learning\".\n",
        "\n",
        "Compare the performance of GAT and GCN for $10$ random runs on this\n",
        "task and use hyperparameter search on the validation set to find the best\n",
        "model.\n",
        "\n",
        ".. list-table::\n",
        "   :header-rows: 1\n",
        "\n",
        "   * - Model\n",
        "     - F1 Score(micro)\n",
        "   * - GAT\n",
        "     - $0.975 \\pm 0.006$\n",
        "   * - GCN\n",
        "     - $0.509 \\pm 0.025$\n",
        "   * - Paper\n",
        "     - $0.973 \\pm 0.002$\n",
        "\n",
        "The table above is the result of this experiment, where you use micro `F1\n",
        "score <https://en.wikipedia.org/wiki/F1_score>`_ to evaluate the model\n",
        "performance.\n",
        "\n",
        "<div class=\"alert alert-info\"><h4>Note</h4><p>Below is the calculation process of F1 score:\n",
        "\n",
        "\n",
        "  * $precision=\\frac{\\sum_{t=1}^{n}TP_{t}}{\\sum_{t=1}^{n}(TP_{t} +FP_{t})}$\n",
        "\n",
        "  * $recall=\\frac{\\sum_{t=1}^{n}TP_{t}}{\\sum_{t=1}^{n}(TP_{t} +FN_{t})}$\n",
        "\n",
        "  * $F1_{micro}=2\\frac{precision*recall}{precision+recall}$\n",
        "\n",
        "  * $TP_{t}$ represents for number of nodes that both have and are predicted to have label $t$\n",
        "  * $FP_{t}$ represents for number of nodes that do not have but are predicted to have label $t$\n",
        "  * $FN_{t}$ represents for number of output classes labeled as $t$ but predicted as others.\n",
        "  * $n$ is the number of labels, i.e. $121$ in our case.</p></div>\n",
        "\n",
        "During training, use ``BCEWithLogitsLoss`` as the loss function. The\n",
        "learning curves of GAT and GCN are presented below; what is evident is the\n",
        "dramatic performance adavantage of GAT over GCN.\n",
        "\n",
        "![](https://data.dgl.ai/tutorial/gat/ppi-curve.png)\n",
        "\n",
        "  :width: 300px\n",
        "  :align: center\n",
        "\n",
        "As before, you can have a statistical understanding of the attentions learned\n",
        "by showing the histogram plot for the node-wise attention entropy. Below are\n",
        "the attention histograms learned by different attention layers.\n",
        "\n",
        "*Attention learned in layer 1:*\n",
        "\n",
        "|image5|\n",
        "\n",
        "*Attention learned in layer 2:*\n",
        "\n",
        "|image6|\n",
        "\n",
        "*Attention learned in final layer:*\n",
        "\n",
        "|image7|\n",
        "\n",
        "Again, comparing with uniform distribution: \n",
        "\n",
        "![](https://data.dgl.ai/tutorial/gat/ppi-uniform-hist.png)\n",
        "\n",
        "  :width: 250px\n",
        "  :align: center\n",
        "\n",
        "Clearly, **GAT does learn sharp attention weights**! There is a clear pattern\n",
        "over the layers as well: **the attention gets sharper with a higher\n",
        "layer**.\n",
        "\n",
        "Unlike the Cora dataset where GAT's gain is minimal at best, for PPI there\n",
        "is a significant performance gap between GAT and other GNN variants compared\n",
        "in `the GAT paper <https://arxiv.org/pdf/1710.10903.pdf>`_ (at least 20 percent),\n",
        "and the attention distributions between the two clearly differ. While this\n",
        "deserves further research, one immediate conclusion is that GAT's advantage\n",
        "lies perhaps more in its ability to handle a graph with more complex\n",
        "neighborhood structure.\n",
        "\n",
        "What's next?\n",
        "------------\n",
        "\n",
        "So far, you have seen how to use DGL to implement GAT. There are some\n",
        "missing details such as dropout, skip connections, and hyper-parameter tuning,\n",
        "which are practices that do not involve DGL-related concepts. For more information\n",
        "check out the full example.\n",
        "\n",
        "* See the optimized `full example <https://github.com/dmlc/dgl/blob/master/examples/pytorch/gat/gat.py>`_.\n",
        "* The next tutorial describes how to speedup GAT models by parallelizing multiple attention heads and SPMV optimization.\n",
        "\n",
        ".. |image2| image:: https://data.dgl.ai/tutorial/gat/cora-attention-hist.png\n",
        ".. |image5| image:: https://data.dgl.ai/tutorial/gat/ppi-first-layer-hist.png\n",
        ".. |image6| image:: https://data.dgl.ai/tutorial/gat/ppi-second-layer-hist.png\n",
        ".. |image7| image:: https://data.dgl.ai/tutorial/gat/ppi-final-layer-hist.png\n",
        "\n"
      ]
    }
  ],
  "metadata": {
    "kernelspec": {
      "display_name": "dgl",
      "language": "python",
      "name": "python3"
    },
    "language_info": {
      "codemirror_mode": {
        "name": "ipython",
        "version": 3
      },
      "file_extension": ".py",
      "mimetype": "text/x-python",
      "name": "python",
      "nbconvert_exporter": "python",
      "pygments_lexer": "ipython3",
      "version": "3.7.15"
    },
    "vscode": {
      "interpreter": {
        "hash": "bd41fe153378347448e1c201e7672b8e1a74a52b34c8d7e7e6593400a70fc6a0"
      }
    }
  },
  "nbformat": 4,
  "nbformat_minor": 0
}
