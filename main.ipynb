{
 "cells": [
  {
   "cell_type": "code",
   "execution_count": 1,
   "metadata": {},
   "outputs": [],
   "source": [
    "import pandas as pd\n",
    "import tweepy\n",
    "import requests\n",
    "import datetime\n",
    "import json\n",
    "import matplotlib.pyplot as plt\n",
    "from Classes import Data_crawl\n",
    "from functions import *"
   ]
  },
  {
   "cell_type": "markdown",
   "metadata": {},
   "source": [
    "### My Access Keys for Tweepy"
   ]
  },
  {
   "cell_type": "code",
   "execution_count": 2,
   "metadata": {},
   "outputs": [],
   "source": [
    "api_key = 'I3N75MY5qJxCvSrLWe0ZG4vQk'\n",
    "api_key_secret = 'Q3GC8Vr6F2FNqwh7v8rWoDNnA1Qqnn4RjkJ6STVtAQLamw4qCs'\n",
    "bearer_token = 'AAAAAAAAAAAAAAAAAAAAAIPvbAEAAAAApt3kcfjyiVBOLVWMbi1Fu6CLL24%3DuIMwpFYplQqMd68VXXv4eU954tnOQu5vljRnV3xL292k4F5sFR'\n",
    "access_token = '1467171706754453504-EJx2MzY1RtEGHXf3hqBZkANnsc4hA2'\n",
    "access_token_secret = 'VpVdfP1WhID2nas76BXRTMdXXOTvx1BPO1J9LDYs9QM65'"
   ]
  },
  {
   "cell_type": "code",
   "execution_count": 3,
   "metadata": {},
   "outputs": [],
   "source": [
    "token = list()\n",
    "with open('tokens.txt', 'r') as f:\n",
    "    for line in f:\n",
    "        line = line.replace('\\n', '')\n",
    "        token.append(line)"
   ]
  },
  {
   "cell_type": "markdown",
   "metadata": {},
   "source": [
    "## <font color=\"pink\">Biden tweets crawling </font> ##\n",
    "\n"
   ]
  },
  {
   "cell_type": "code",
   "execution_count": 10,
   "metadata": {},
   "outputs": [
    {
     "data": {
      "text/html": [
       "<div>\n",
       "<style scoped>\n",
       "    .dataframe tbody tr th:only-of-type {\n",
       "        vertical-align: middle;\n",
       "    }\n",
       "\n",
       "    .dataframe tbody tr th {\n",
       "        vertical-align: top;\n",
       "    }\n",
       "\n",
       "    .dataframe thead th {\n",
       "        text-align: right;\n",
       "    }\n",
       "</style>\n",
       "<table border=\"1\" class=\"dataframe\">\n",
       "  <thead>\n",
       "    <tr style=\"text-align: right;\">\n",
       "      <th></th>\n",
       "      <th>id</th>\n",
       "      <th>created_at</th>\n",
       "      <th>text</th>\n",
       "      <th>retweeted</th>\n",
       "      <th>retweet_count</th>\n",
       "      <th>favorite_count</th>\n",
       "    </tr>\n",
       "  </thead>\n",
       "  <tbody>\n",
       "    <tr>\n",
       "      <th>0</th>\n",
       "      <td>1589407281187274800</td>\n",
       "      <td>Mon Nov 07 00:00:00 +0000 2022</td>\n",
       "      <td>Ted Cruz said that folks who are receiving stu...</td>\n",
       "      <td>False</td>\n",
       "      <td>9718</td>\n",
       "      <td>56394</td>\n",
       "    </tr>\n",
       "    <tr>\n",
       "      <th>1</th>\n",
       "      <td>1589377088162865200</td>\n",
       "      <td>Sun Nov 06 22:00:01 +0000 2022</td>\n",
       "      <td>I'm doing everything I can so that you and you...</td>\n",
       "      <td>False</td>\n",
       "      <td>2257</td>\n",
       "      <td>6913</td>\n",
       "    </tr>\n",
       "    <tr>\n",
       "      <th>2</th>\n",
       "      <td>1589369533072015400</td>\n",
       "      <td>Sun Nov 06 21:30:00 +0000 2022</td>\n",
       "      <td>Folks, there’s nothing that will create more c...</td>\n",
       "      <td>False</td>\n",
       "      <td>6141</td>\n",
       "      <td>18260</td>\n",
       "    </tr>\n",
       "    <tr>\n",
       "      <th>3</th>\n",
       "      <td>1589360169602916400</td>\n",
       "      <td>Sun Nov 06 20:52:47 +0000 2022</td>\n",
       "      <td>This is about giving people a fighting chance ...</td>\n",
       "      <td>False</td>\n",
       "      <td>1650</td>\n",
       "      <td>5706</td>\n",
       "    </tr>\n",
       "    <tr>\n",
       "      <th>4</th>\n",
       "      <td>1589331784579301400</td>\n",
       "      <td>Sun Nov 06 19:00:00 +0000 2022</td>\n",
       "      <td>Together, we've added a record 700,000 manufac...</td>\n",
       "      <td>False</td>\n",
       "      <td>4346</td>\n",
       "      <td>16584</td>\n",
       "    </tr>\n",
       "    <tr>\n",
       "      <th>...</th>\n",
       "      <td>...</td>\n",
       "      <td>...</td>\n",
       "      <td>...</td>\n",
       "      <td>...</td>\n",
       "      <td>...</td>\n",
       "      <td>...</td>\n",
       "    </tr>\n",
       "    <tr>\n",
       "      <th>995</th>\n",
       "      <td>1544683264601882600</td>\n",
       "      <td>Wed Jul 06 14:02:43 +0000 2022</td>\n",
       "      <td>We can deal with the immediate crisis of high ...</td>\n",
       "      <td>False</td>\n",
       "      <td>5822</td>\n",
       "      <td>41464</td>\n",
       "    </tr>\n",
       "    <tr>\n",
       "      <th>996</th>\n",
       "      <td>1544481063027855400</td>\n",
       "      <td>Wed Jul 06 00:39:15 +0000 2022</td>\n",
       "      <td>More than 50 years have passed since the jungl...</td>\n",
       "      <td>False</td>\n",
       "      <td>1733</td>\n",
       "      <td>10697</td>\n",
       "    </tr>\n",
       "    <tr>\n",
       "      <th>997</th>\n",
       "      <td>1544468827181817900</td>\n",
       "      <td>Tue Jul 05 23:50:37 +0000 2022</td>\n",
       "      <td>Today, I stood humbly alongside Specialists Fi...</td>\n",
       "      <td>False</td>\n",
       "      <td>1977</td>\n",
       "      <td>14436</td>\n",
       "    </tr>\n",
       "    <tr>\n",
       "      <th>998</th>\n",
       "      <td>1544425047066017800</td>\n",
       "      <td>Tue Jul 05 20:56:39 +0000 2022</td>\n",
       "      <td>https://t.co/BdllhUqViK</td>\n",
       "      <td>False</td>\n",
       "      <td>570</td>\n",
       "      <td>2666</td>\n",
       "    </tr>\n",
       "    <tr>\n",
       "      <th>999</th>\n",
       "      <td>1544425045572718600</td>\n",
       "      <td>Tue Jul 05 20:56:39 +0000 2022</td>\n",
       "      <td>Due to the pandemic, kids are behind in math a...</td>\n",
       "      <td>False</td>\n",
       "      <td>6003</td>\n",
       "      <td>35336</td>\n",
       "    </tr>\n",
       "  </tbody>\n",
       "</table>\n",
       "<p>1000 rows × 6 columns</p>\n",
       "</div>"
      ],
      "text/plain": [
       "                      id                      created_at  \\\n",
       "0    1589407281187274800  Mon Nov 07 00:00:00 +0000 2022   \n",
       "1    1589377088162865200  Sun Nov 06 22:00:01 +0000 2022   \n",
       "2    1589369533072015400  Sun Nov 06 21:30:00 +0000 2022   \n",
       "3    1589360169602916400  Sun Nov 06 20:52:47 +0000 2022   \n",
       "4    1589331784579301400  Sun Nov 06 19:00:00 +0000 2022   \n",
       "..                   ...                             ...   \n",
       "995  1544683264601882600  Wed Jul 06 14:02:43 +0000 2022   \n",
       "996  1544481063027855400  Wed Jul 06 00:39:15 +0000 2022   \n",
       "997  1544468827181817900  Tue Jul 05 23:50:37 +0000 2022   \n",
       "998  1544425047066017800  Tue Jul 05 20:56:39 +0000 2022   \n",
       "999  1544425045572718600  Tue Jul 05 20:56:39 +0000 2022   \n",
       "\n",
       "                                                  text  retweeted  \\\n",
       "0    Ted Cruz said that folks who are receiving stu...      False   \n",
       "1    I'm doing everything I can so that you and you...      False   \n",
       "2    Folks, there’s nothing that will create more c...      False   \n",
       "3    This is about giving people a fighting chance ...      False   \n",
       "4    Together, we've added a record 700,000 manufac...      False   \n",
       "..                                                 ...        ...   \n",
       "995  We can deal with the immediate crisis of high ...      False   \n",
       "996  More than 50 years have passed since the jungl...      False   \n",
       "997  Today, I stood humbly alongside Specialists Fi...      False   \n",
       "998                            https://t.co/BdllhUqViK      False   \n",
       "999  Due to the pandemic, kids are behind in math a...      False   \n",
       "\n",
       "     retweet_count  favorite_count  \n",
       "0             9718           56394  \n",
       "1             2257            6913  \n",
       "2             6141           18260  \n",
       "3             1650            5706  \n",
       "4             4346           16584  \n",
       "..             ...             ...  \n",
       "995           5822           41464  \n",
       "996           1733           10697  \n",
       "997           1977           14436  \n",
       "998            570            2666  \n",
       "999           6003           35336  \n",
       "\n",
       "[1000 rows x 6 columns]"
      ]
     },
     "execution_count": 10,
     "metadata": {},
     "output_type": "execute_result"
    }
   ],
   "source": [
    "download = False # 需不需要抓資料，FALSE 的話載入本地資料\n",
    "\n",
    "today  = '2022-11-07' # date you wanna captured\n",
    "file_path = 'Biden/' + today + '/'\n",
    "dataset = Data_crawl(token=token, file_path=file_path)\n",
    "query = 'from:POTUS -is:retweet' \n",
    "tweet_fields = ['author_id', 'created_at', 'retweeted', 'retweet_count', 'favorite_count']\n",
    "\n",
    "\n",
    "if download:\n",
    "    tweet_df = dataset.Get_Tweets_Dataframe(\n",
    "        query=query,\n",
    "        tweet_fields=tweet_fields\n",
    "    )\n",
    "else:\n",
    "    tweet_df = pd.read_excel(file_path + 'Biden.xlsx')\n",
    "    dataset.Get_Tweets_Dataframe(\n",
    "        tweet_df=tweet_df, \n",
    "        wanna_download=download, \n",
    "        query=query, \n",
    "        tweet_fields=tweet_fields)\n",
    "    tweet_df.tail(n=8)\n",
    "dataset.tweets_df"
   ]
  },
  {
   "cell_type": "markdown",
   "metadata": {},
   "source": [
    "## <font color=\"pink\">依照 tweet ID 尋找每篇推文的 retweeters</font> \n",
    "\n",
    "> * 使用 JSON/XLSX 格式儲存 retweeters\n",
    "> * 針對每篇 tweet 建立兩個 list，分別把抓到的 ID、UserName 存進 Retweeter_List\n",
    "> * 將抓取的時間範圍寫在最前面\n",
    ">\n",
    "> * <font color=#FF6600> 要用 paginator 抓 retweeters，否則會抓不超過 100 個\n",
    "> * 練習檔案讀寫務必記得拿 White House，否則複寫以後檔案會消失 (2022/10/06 )  </font>\n"
   ]
  },
  {
   "cell_type": "code",
   "execution_count": null,
   "metadata": {},
   "outputs": [],
   "source": [
    "retweeter_dict = dict() # keys:tweet id, value:list of retweeters\n",
    "if download:\n",
    "    retweeter_dict = dataset.Get_Retweeters_Multi()"
   ]
  },
  {
   "cell_type": "markdown",
   "metadata": {},
   "source": [
    "## <font color=\"pink\"> 分布圖 & Target User </font> \n",
    "\n",
    "- 依照每篇 tweet 看一下 retweet count ，畫成 bar chart.\n",
    "\n",
    "- 依照每個 user 轉推的篇數畫出 bar chart，<font color=#FFD382> X軸為 轉推1,2,3... 的篇數，Y軸為人數 </font>\n",
    "- 分布圖出來以後，設一個底線，把轉推篇數低於這個底線的 user 踢掉，留下的就是 target user"
   ]
  },
  {
   "cell_type": "code",
   "execution_count": null,
   "metadata": {},
   "outputs": [],
   "source": [
    "Need_Union = False # if u need to unions the files, set as True\n",
    "\n",
    "if Need_Union:\n",
    "    retweet_file_list = list() # storing all files name u want to union\n",
    "    for i in range(len(token)):\n",
    "        filename = file_path + str(i) + '_retweeters.json'\n",
    "        retweet_file_list.append(filename)\n",
    "    retweeter_dict = union_JSON_files(file_list = retweet_file_list)\n",
    "\n",
    "else: # u wanna load the retweeter json file that has already unioned.\n",
    "    with open(file_path + today + '_retweeters.json', 'r') as f:\n",
    "        json_file = json.load(f)\n",
    "        for tweet_id in json_file:\n",
    "            retweeter_dict[tweet_id] = json_file[tweet_id]\n",
    "\n",
    "print(\"Total tweets :\", len(retweeter_dict.keys()))"
   ]
  },
  {
   "cell_type": "code",
   "execution_count": null,
   "metadata": {},
   "outputs": [],
   "source": [
    "# retweet count for each tweet -- bar chart\n",
    "count = list()\n",
    "for id in retweeter_dict.keys():\n",
    "    count.append(len(retweeter_dict[id]))\n",
    "retweet_count = list(map(str, count))\n",
    "\n",
    "plt.figure(figsize = (20,5))\n",
    "plt.title('Biden dataset retweeter count')\n",
    "plt.bar(retweet_count, count, color=['black', 'blue'], width=0.8, align='center')\n",
    "plt.grid(True,color='r',alpha=0.6)\n",
    "plt.xlabel('Retweet count for each tweet')\n",
    "plt.ylabel('Retweeter count')\n",
    "plt.xticks(rotation='vertical')\n",
    "plt.show()"
   ]
  },
  {
   "cell_type": "code",
   "execution_count": null,
   "metadata": {},
   "outputs": [],
   "source": [
    "# Union the retweeter lists, filtering the repeated id\n",
    "\n",
    "retweeters = set()\n",
    "requests_count = 0\n",
    "for i in retweeter_dict:\n",
    "    retweeter_list = set(retweeter_dict[i])\n",
    "    requests_count += len(retweeter_list)\n",
    "    retweeters |= retweeter_list # Union into retweeters\n",
    "\n",
    "# And also, see the ratio of retweeters and requests count --> bar chart\n",
    "plt.figure(figsize = (5,8))\n",
    "plt.title('Retweeters and Requests count')\n",
    "plt.bar([str(len(retweeters)), str(requests_count)], [len(retweeters), requests_count],color=['red', 'blue'], width=0.3, align='center')\n",
    "plt.grid(True,color='r',alpha=0.6)\n",
    "plt.show()"
   ]
  },
  {
   "cell_type": "markdown",
   "metadata": {},
   "source": [
    "## Target User\n",
    "- 踢掉 retweet 篇數過少的 users，剩下的對象就是 target users.\n",
    "- 接著再用 target users 去蒐集相對應的 followers.\n",
    "- Negative Sampling 可能要上."
   ]
  },
  {
   "cell_type": "code",
   "execution_count": null,
   "metadata": {},
   "outputs": [],
   "source": [
    "# start finding retweets count of each user\n",
    "user_retweet_count = dict()\n",
    "result = UserRetweetCount_MultiCore(\n",
    "    retweeter_dict=retweeter_dict, \n",
    "    retweeters=list(retweeters), \n",
    "    parallelism=8, \n",
    "    requests_count=requests_count\n",
    ")\n",
    "# parralle degree = 15, 2m19.3s\n",
    "# parralle degree = 9, 2m43.4s"
   ]
  },
  {
   "cell_type": "code",
   "execution_count": null,
   "metadata": {},
   "outputs": [],
   "source": [
    "# start statistics retweet count\n",
    "\n",
    "\"\"\"\n",
    "    Retweet count from 1 to len(how many tweets)\n",
    "    show_list : first element represent 'how many users retweet 1 tweet', so are the rests.\n",
    "\n",
    "\"\"\"\n",
    "label = [str(i) for i in range(1,58,1)]\n",
    "show_list = [0 for i in range(tweet_df.shape[0])]\n",
    "\n",
    "for user in result.keys():\n",
    "    index = result[user]\n",
    "    show_list[index-1] += 1"
   ]
  },
  {
   "cell_type": "code",
   "execution_count": null,
   "metadata": {},
   "outputs": [],
   "source": [
    "# Draw a bar plot to see\n",
    "print(\"Total users: %d\" % len(retweeters))\n",
    "color = (0.3, 0.9, 0.4, 0.6)\n",
    "plt.figure(figsize = (35,8))\n",
    "plt.title(\"User's retweet count\")\n",
    "plt.bar(label, show_list, color=color, width=0.8, align='center')\n",
    "plt.grid(True,color='r',alpha=0.3)\n",
    "plt.xlabel('Retweet count')\n",
    "plt.ylabel('User Count')\n",
    "plt.xticks(rotation='vertical')\n",
    "for index, value in enumerate(show_list):\n",
    "    plt.text(index, value, str(value))\n",
    "plt.show()"
   ]
  },
  {
   "cell_type": "code",
   "execution_count": null,
   "metadata": {},
   "outputs": [],
   "source": [
    "#   Draw a bar plot to see after bounded\n",
    "\"\"\"\n",
    "    Set bound after observing the user's retweet counts distributionns.\n",
    "    Most of the users distributed in the range of 1 to 3.\n",
    "\"\"\"\n",
    "bound = 4\n",
    "print(\"Total users :\", len(retweeters))\n",
    "print(\"Deleting users of retweet counts lower than %d : %d\" % (bound, sum(show_list[0:bound])))\n",
    "print(\"Total of target users : %d\" % sum(show_list[bound:]))\n",
    "\n",
    "color = (0.3, 0.9, 0.4, 0.6)\n",
    "plt.figure(figsize = (35,8))\n",
    "plt.title(\"User's retweet count after bounded\")\n",
    "plt.bar(label[bound:], show_list[bound:], color=color, width=0.8, align='center')\n",
    "plt.grid(True,color='r',alpha=0.3)\n",
    "plt.xlabel('Target users retweet count')\n",
    "plt.ylabel('Target user count')\n",
    "plt.xticks(rotation='vertical')\n",
    "for index, value in enumerate(show_list[bound:]):\n",
    "    plt.text(index, value, str(value))\n",
    "plt.show()"
   ]
  },
  {
   "cell_type": "code",
   "execution_count": null,
   "metadata": {},
   "outputs": [],
   "source": [
    "wanna_find_target = False\n",
    "target_users = list()\n",
    "if wanna_find_target:   # need to run the function to find target users\n",
    "    retweeters = dict(result)\n",
    "    target_users = FindTargetUser_MultiCore(\n",
    "        bound = bound,\n",
    "        retweeters = retweeters,\n",
    "    )\n",
    "    target_users = sorted(target_users)\n",
    "    print(\"Target users :\", len(target_users))\n",
    "    with open(file_path + \"target_users.json\", \"w\") as f:\n",
    "        json.dump(target_users, f, indent=True)\n",
    "\n",
    "else: # load the file of target users\n",
    "    with open(file_path + \"target_users.json\", \"r\") as f:\n",
    "        json_file = json.load(f)\n",
    "        target_users = list(json_file)"
   ]
  },
  {
   "cell_type": "code",
   "execution_count": null,
   "metadata": {},
   "outputs": [
    {
     "data": {
      "text/plain": [
       "'TargetUser_Tweets = dataset.Get_User_Tweets_Multi(\\n    file_path=file_path,\\n    target_user=target_users\\n)\\nprint(len(TargetUser_Tweets))\\n'"
      ]
     },
     "execution_count": 14,
     "metadata": {},
     "output_type": "execute_result"
    }
   ],
   "source": [
    "# get tweets from the post wall of each target user.\n",
    "# and dont captured those target users who already been crawed.\n",
    "\"\"\"TargetUser_Tweets = dataset.Get_User_Tweets_Multi(\n",
    "    file_path=file_path,\n",
    "    target_user=target_users\n",
    ")\n",
    "print(len(TargetUser_Tweets))\n",
    "\"\"\""
   ]
  },
  {
   "cell_type": "code",
   "execution_count": 15,
   "metadata": {},
   "outputs": [],
   "source": [
    "# get follower list of every target users\n",
    "\n",
    "\"\"\"\n",
    "dataset.Get_Followers_Multi(\n",
    "    target_users = target_users,\n",
    "    file_path = file_path\n",
    ")"
   ]
  },
  {
   "cell_type": "markdown",
   "metadata": {},
   "source": [
    "## <font color=\"pink\"> Graph Construction </font> ##\n",
    "\n",
    "\n",
    "1. 把所有 target user 的 id 一起 encoding 成 0, 1, 2, 3, ... \n",
    "   \n",
    "2. 收集每個 target user 的追蹤關係後再下去比對，有出現在清單上面的 user id，就代表他們有 edge\n",
    "3. 全部用 follow 的關係當 edge 建圖，會有一張 Base Graph\n",
    "4. 每篇 tweet 以 base graph 為基礎來建 data graph，每一個 data graph 的區別是權重的不同\n",
    "5. 如果某兩個 user 有共同轉推同一篇 tweet ，那這兩個 user 在這張 data graph 的權重 + 1\n"
   ]
  },
  {
   "cell_type": "code",
   "execution_count": null,
   "metadata": {},
   "outputs": [],
   "source": [
    "retweeters_set = set() # 把 retweeters 用成集合，方便做 union\n",
    "requests = int(0) # total capture requests\n",
    "for tweet_id in json_file:\n",
    "    retweeters = set(json_file[tweet_id])\n",
    "    requests += len(retweeters)\n",
    "    retweeters_set = retweeters_set.union(retweeters) # set union\n",
    "\n",
    "plt.title('Biden dataset  ' + filename)\n",
    "plt.grid(True,color='r',alpha=0.6)\n",
    "v_label = 'Retweeter (' + str(len(retweeters_set)) + ')'\n",
    "r_label = 'Requests (' + str(requests) + ')'\n",
    "plt.bar([v_label, r_label], [len(retweeters_set), requests], color=['orange', 'blue'], width=0.4)\n",
    "plt.figure(figsize = (1,2))\n",
    "plt.show()"
   ]
  },
  {
   "cell_type": "code",
   "execution_count": null,
   "metadata": {},
   "outputs": [],
   "source": [
    "# 檢查有沒有重複\n",
    "print(len(retweeters_set.difference()))\n",
    "retweeters_set = sorted(retweeters_set)"
   ]
  },
  {
   "cell_type": "markdown",
   "metadata": {},
   "source": [
    "#### 2. Encoding\n",
    "- 將所有的 retweeter <font color='#FF1212'> (vertex)</font> 的 user id encoding 成 0,1,2,3...，方便建 adjacency matrix\n",
    "- json file 的 multiple objects 最前面與最後面要加中括弧[]，objects 之間要加逗號"
   ]
  },
  {
   "cell_type": "code",
   "execution_count": null,
   "metadata": {},
   "outputs": [],
   "source": [
    "\n",
    "wanna_save = True\n",
    "# json file 再多一個 object -> user id : following list\n",
    "user_follower = dict.fromkeys(retweeters_set)\n",
    "\n",
    "for id in user_follower.keys():\n",
    "    followers = []\n",
    "    for follwer in tweepy.Paginator(client.get_users_followers, id).flatten():\n",
    "        followers.append(follwer.id)\n",
    "    user_follower[id] = followers\n"
   ]
  },
  {
   "cell_type": "code",
   "execution_count": null,
   "metadata": {},
   "outputs": [],
   "source": [
    "if wanna_save:\n",
    "    with open('2022-10-06_followers.json', 'w') as f: # 這裡記得改掉 不然又寫錯\n",
    "        foller_json = json.dumps(user_follower)\n",
    "        f.write(foller_json)"
   ]
  },
  {
   "cell_type": "markdown",
   "metadata": {},
   "source": [
    "> 接下來要將 user's 的 followers，跟 retweeters_set 做比較，不在 retweeter_set 裡面的 id 直接踢掉\n",
    "> \n",
    "> 剩下來的存起來，用來建 edge list"
   ]
  },
  {
   "cell_type": "code",
   "execution_count": null,
   "metadata": {},
   "outputs": [],
   "source": [
    "encoding_table = dict()\n",
    "for i,j in zip(retweeters_set, range(len(retweeters_set))):\n",
    "    encoding_table[i] = j"
   ]
  }
 ],
 "metadata": {
  "kernelspec": {
   "display_name": "Python 3.7.13 ('DGL')",
   "language": "python",
   "name": "python3"
  },
  "language_info": {
   "codemirror_mode": {
    "name": "ipython",
    "version": 3
   },
   "file_extension": ".py",
   "mimetype": "text/x-python",
   "name": "python",
   "nbconvert_exporter": "python",
   "pygments_lexer": "ipython3",
   "version": "3.7.13"
  },
  "orig_nbformat": 4,
  "vscode": {
   "interpreter": {
    "hash": "66c9e842df77833218ebfcd98f0be0e387cfd88e6e6d188560a22d2024f33ac2"
   }
  }
 },
 "nbformat": 4,
 "nbformat_minor": 2
}
