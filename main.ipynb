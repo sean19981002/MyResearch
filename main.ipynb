{
 "cells": [
  {
   "cell_type": "code",
   "execution_count": null,
   "metadata": {},
   "outputs": [],
   "source": [
    "import pandas as pd\n",
    "import tweepy\n",
    "import requests\n",
    "import datetime\n",
    "import json\n",
    "import matplotlib.pyplot as plt\n",
    "from Classes import Data_crawl\n",
    "from functions import *\n",
    "import numpy as np"
   ]
  },
  {
   "cell_type": "markdown",
   "metadata": {},
   "source": [
    "### My Access Keys for Tweepy"
   ]
  },
  {
   "cell_type": "code",
   "execution_count": null,
   "metadata": {},
   "outputs": [],
   "source": [
    "# sean19981002\n",
    "api_key = 'AD9ZnCOeRDtYEiGe45WUtPS2j'\n",
    "api_key_secret = '8YRO0UU9vAoLCOUn3FO96OXUdEBuJpRIzgyPCTHgyudmt2SZuh'\n",
    "bearer_token = 'AAAAAAAAAAAAAAAAAAAAAF71jAEAAAAAKAm8%2BESJhS4ydqw1pSAd%2FXmL41Q%3DyY2fkJmdECatUXBWKk49JYzBjMFoovBtUn1VrHDiAiwQy3pwR7'"
   ]
  },
  {
   "cell_type": "code",
   "execution_count": null,
   "metadata": {},
   "outputs": [],
   "source": [
    "# s10627070\n",
    "api_key = 'I3N75MY5qJxCvSrLWe0ZG4vQk'\n",
    "api_key_secret = 'Q3GC8Vr6F2FNqwh7v8rWoDNnA1Qqnn4RjkJ6STVtAQLamw4qCs'\n",
    "bearer_token = 'AAAAAAAAAAAAAAAAAAAAAIPvbAEAAAAApt3kcfjyiVBOLVWMbi1Fu6CLL24%3DuIMwpFYplQqMd68VXXv4eU954tnOQu5vljRnV3xL292k4F5sFR' #old\n",
    "access_token = '1467171706754453504-EJx2MzY1RtEGHXf3hqBZkANnsc4hA2'\n",
    "access_token_secret = 'VpVdfP1WhID2nas76BXRTMdXXOTvx1BPO1J9LDYs9QM65'"
   ]
  },
  {
   "cell_type": "code",
   "execution_count": null,
   "metadata": {},
   "outputs": [],
   "source": [
    "token = list()\n",
    "with open('tokens.txt', 'r') as f:\n",
    "    for line in f:\n",
    "        line = line.replace('\\n', '')\n",
    "        token.append(line)\n",
    "token"
   ]
  },
  {
   "cell_type": "markdown",
   "metadata": {},
   "source": [
    "## <font color=\"pink\">Biden tweets crawling </font> ##\n",
    "\n"
   ]
  },
  {
   "cell_type": "code",
   "execution_count": null,
   "metadata": {},
   "outputs": [],
   "source": [
    "download = False # 需不需要抓資料，FALSE 的話載入本地資料\n",
    "\n",
    "today  = '2022-11-07' # date you wanna captured\n",
    "file_path = 'Biden/' + today + '/'\n",
    "dataset = Data_crawl(token=token, file_path=file_path)\n",
    "query = 'from:POTUS -is:retweet' \n",
    "tweet_fields = ['author_id', 'created_at', 'retweeted', 'retweet_count', 'favorite_count']\n",
    "\n",
    "\n",
    "if download:\n",
    "    tweet_df = dataset.Get_Tweets_Dataframe(\n",
    "        query=query,\n",
    "        tweet_fields=tweet_fields\n",
    "    )\n",
    "else:\n",
    "    tweet_df = pd.read_excel(file_path + 'Biden.xlsx')\n",
    "    tweet_df = tweet_df[73:142] # selecting range you want of Biden's Tweets\n",
    "    tweet_df[id] = tweet_df['id'].astype('int') # change 'id' from str into int\n",
    "    tweet_df = tweet_df.reset_index() # reset index\n",
    "    dataset.Get_Tweets_Dataframe(\n",
    "        tweet_df=tweet_df, \n",
    "        wanna_download=download, \n",
    "        query=query, \n",
    "        tweet_fields=tweet_fields)\n",
    "\n",
    "dataset.tweets_df"
   ]
  },
  {
   "cell_type": "markdown",
   "metadata": {},
   "source": [
    "## <font color=\"pink\">依照 tweet ID 尋找每篇推文的 retweeters</font> \n",
    "\n",
    "> * 使用 JSON/XLSX 格式儲存 retweeters\n",
    "> * 針對每篇 tweet 建立兩個 list，分別把抓到的 ID、UserName 存進 Retweeter_List\n",
    "> * 將抓取的時間範圍寫在最前面\n",
    ">\n",
    "> * <font color=#FF6600> 要用 paginator 抓 retweeters，否則會抓不超過 100 個\n",
    "> * 練習檔案讀寫務必記得拿 White House，否則複寫以後檔案會消失 (2022/10/06 )  </font>\n"
   ]
  },
  {
   "cell_type": "code",
   "execution_count": null,
   "metadata": {},
   "outputs": [],
   "source": [
    "retweeter_dict = dict() # keys:tweet id, value:list of retweeters\n",
    "retweeters = set()\n",
    "\n",
    "if download:\n",
    "    retweeter_dict = dataset.Get_Retweeters_Multi()\n",
    "else:\n",
    "    for i in range(7):\n",
    "        file = file_path + \"retweeters/%d_retweeters.json\" % i\n",
    "        # loading files and combine\n",
    "        if path.exists(file):\n",
    "            with open(file, \"r\") as f:\n",
    "                json_data = json.load(f)\n",
    "                for j in json_data.keys():\n",
    "                    retweeter_dict[j] = json_data[j]"
   ]
  },
  {
   "cell_type": "markdown",
   "metadata": {},
   "source": [
    "## <font color=\"pink\"> 分布圖 & Target User </font> \n",
    "\n",
    "- 依照每篇 tweet 看一下 retweet count ，畫成 bar chart.\n",
    "\n",
    "- 依照每個 user 轉推的篇數畫出 bar chart，<font color=#FFD382> X軸為 轉推1,2,3... 的篇數，Y軸為人數 </font>\n",
    "- 分布圖出來以後，設一個底線，把轉推篇數低於這個底線的 user 踢掉，留下的就是 target user"
   ]
  },
  {
   "cell_type": "code",
   "execution_count": null,
   "metadata": {},
   "outputs": [],
   "source": [
    "# retweet count for each tweet -- bar chart\n",
    "count = list()\n",
    "for id in retweeter_dict.keys():\n",
    "    count.append(len(retweeter_dict[id]))\n",
    "retweet_count = list(map(str, count))\n",
    "\n",
    "plt.figure(figsize = (20,5))\n",
    "plt.title('Biden dataset retweeter count')\n",
    "plt.bar(retweet_count, count, color=['black', 'blue'], width=0.8, align='center')\n",
    "plt.grid(True,color='r',alpha=0.6)\n",
    "plt.xlabel('Retweet count for each tweet')\n",
    "plt.ylabel('Retweeter count')\n",
    "plt.xticks(rotation='vertical')\n",
    "plt.show()"
   ]
  },
  {
   "cell_type": "code",
   "execution_count": null,
   "metadata": {},
   "outputs": [],
   "source": [
    "# Union the retweeter lists, filtering the repeated id\n",
    "\n",
    "retweeters = set()\n",
    "requests_count = 0\n",
    "for i in retweeter_dict.keys():\n",
    "    retweeter_list = set(retweeter_dict[i])\n",
    "    requests_count += len(retweeter_list)\n",
    "    retweeters |= retweeter_list # Union into retweeters\n",
    "\n",
    "# And also, see the ratio of retweeters and requests count --> bar chart\n",
    "plt.figure(figsize = (5,8))\n",
    "plt.title('Retweeters and Requests count')\n",
    "plt.bar([str(len(retweeters)), str(requests_count)], [len(retweeters), requests_count],color=['red', 'blue'], width=0.3, align='center')\n",
    "plt.grid(True,color='r',alpha=0.6)\n",
    "plt.show()"
   ]
  },
  {
   "cell_type": "markdown",
   "metadata": {},
   "source": [
    "## Target User\n",
    "- 踢掉 retweet 篇數過少的 users，剩下的對象就是 target users.\n",
    "- 接著再用 target users 去蒐集相對應的 followers.\n",
    "- Negative Sampling 可能要上."
   ]
  },
  {
   "cell_type": "code",
   "execution_count": null,
   "metadata": {},
   "outputs": [],
   "source": [
    "# start finding retweets count of each user\n",
    "user_retweet_count = dict()\n",
    "\n",
    "if path.exists(file_path + \"UserRetweetCount.json\"):\n",
    "    with open(file_path + \"UserRetweetCount.json\", \"r\") as f:\n",
    "        user_retweet_count = json.load(f)\n",
    "\n",
    "else:\n",
    "    user_retweet_count = UserRetweetCount_MultiCore(\n",
    "        retweeter_dict=retweeter_dict, \n",
    "        retweeters=list(retweeters), \n",
    "        parallelism=8, \n",
    "        requests_count=requests_count\n",
    "    )\n",
    "    with open(file_path + \"UserRetweetCount.json\", \"w\") as f:\n",
    "        json.dump(user_retweet_count, f, indent=True)\n"
   ]
  },
  {
   "cell_type": "code",
   "execution_count": null,
   "metadata": {},
   "outputs": [],
   "source": [
    "# start statistics retweet count\n",
    "\n",
    "\"\"\"\n",
    "    Retweet count from 1 to len(how many tweets)\n",
    "    show_list : first element represent 'how many users retweet 1 tweet', so are the rests.\n",
    "\n",
    "\"\"\"\n",
    "label = [str(i) for i in range(1,70,1)]\n",
    "show_list = [0 for i in range(tweet_df.shape[0])]\n",
    "\n",
    "for user in user_retweet_count.keys():\n",
    "    index = user_retweet_count[user]\n",
    "    show_list[index-1] += 1"
   ]
  },
  {
   "cell_type": "code",
   "execution_count": null,
   "metadata": {},
   "outputs": [],
   "source": [
    "# Draw a bar plot to see\n",
    "print(\"Total users: %d\" % len(retweeters))\n",
    "color = (0.3, 0.9, 0.4, 0.6)\n",
    "plt.figure(figsize = (35,8))\n",
    "plt.title(\"User's retweet count\")\n",
    "plt.bar(label, show_list)\n",
    "plt.grid(True,color='r',alpha=0.3)\n",
    "plt.xlabel('Retweet count')\n",
    "plt.ylabel('User Count')\n",
    "plt.xticks(rotation='vertical')\n",
    "for index, value in enumerate(show_list):\n",
    "    plt.text(index, value, str(value))\n",
    "plt.show()"
   ]
  },
  {
   "cell_type": "code",
   "execution_count": null,
   "metadata": {},
   "outputs": [],
   "source": [
    "#   Draw a bar plot to see after bounded\n",
    "\"\"\"\n",
    "    Set bound after observing the user's retweet counts distributionns.\n",
    "    Most of the users distributed in the range of 1 to 3.\n",
    "\"\"\"\n",
    "\n",
    "\n",
    "bound = 5\n",
    "print(\"Total users :\", len(retweeters))\n",
    "print(\"Deleting users of retweet counts lower than %d : %d\" % (bound, sum(show_list[0:bound])))\n",
    "print(\"Total of target users : %d\" % sum(show_list[bound:]))\n",
    "\n",
    "color = (0.3, 0.9, 0.4, 0.6)\n",
    "plt.figure(figsize = (35,8))\n",
    "plt.title(\"User's retweet count after bounded\")\n",
    "plt.bar(label[bound:], show_list[bound:], color=color, width=0.8, align='center')\n",
    "plt.grid(True,color='r',alpha=0.3)\n",
    "plt.xlabel('Target users retweet count')\n",
    "plt.ylabel('Target user count')\n",
    "plt.xticks(rotation='vertical')\n",
    "for index, value in enumerate(show_list[bound:]):\n",
    "    plt.text(index, value, str(value))\n",
    "plt.show()"
   ]
  },
  {
   "cell_type": "code",
   "execution_count": null,
   "metadata": {},
   "outputs": [],
   "source": [
    "wanna_find_target = False\n",
    "target_users = list()\n",
    "\n",
    "if path.exists(file_path + \"target_users.json\"):   # need to run the function to find target users\n",
    "    with open(file_path + \"target_users.json\", \"r\") as f:\n",
    "        json_file = json.load(f)\n",
    "        target_users = list(json_file)\n",
    "\n",
    "    \n",
    "else: # load the file of target users\n",
    "    target_users = FindTargetUser_MultiCore(\n",
    "        bound = bound,\n",
    "        retweeters = user_retweet_count,\n",
    "    )\n",
    "    target_users = sorted(target_users)\n",
    "    print(\"Target users :\", len(target_users))\n",
    "    with open(file_path + \"target_users.json\", \"w\") as f:\n",
    "        json.dump(target_users, f, indent=True)"
   ]
  },
  {
   "cell_type": "markdown",
   "metadata": {},
   "source": [
    "### 將過濾非 target users 以後的貼文的轉推數以及他與 target users 的比例轉為 dataframe並畫圖表"
   ]
  },
  {
   "cell_type": "code",
   "execution_count": null,
   "metadata": {},
   "outputs": [],
   "source": [
    "# retweet count for each tweet after filtering\n",
    "count = [[], []]\n",
    "tmp = dict()\n",
    "for id in retweeter_dict.keys():\n",
    "    tmp[id] = set(target_users) & set(retweeter_dict[id])\n",
    "    count[0].append(len(tmp[id]))\n",
    "    count[1].append(len(retweeter_dict[id]))\n",
    "X = [str(i) for i in range(1, len(count[0])+1, 1)]\n",
    "X_axis = np.arange(len(X))\n",
    "\n",
    "plt.figure(figsize = (35,8))\n",
    "plt.bar(X_axis, count[0], width=0.3,  label='After')\n",
    "plt.bar(X_axis+0.35, count[1], width=0.3,  label='Before')\n",
    "plt.xticks(X_axis, X)\n",
    "plt.xlabel(\"Biden Tweets\")\n",
    "plt.ylabel(\"Retweet counts of each tweets\")\n",
    "plt.title(\"Retweet counts of each tweet after/before filtering\")\n",
    "plt.legend(bbox_to_anchor=(1,1), loc='upper left')\n",
    "plt.show()"
   ]
  },
  {
   "cell_type": "code",
   "execution_count": null,
   "metadata": {},
   "outputs": [],
   "source": [
    "ori = [len(retweeter_dict[i]) for i in retweeter_dict.keys()]\n",
    "aft = [len(tmp[i]) for i in retweeter_dict.keys()]\n",
    "df_data = {\n",
    "    \"id\" : list(retweeter_dict.keys()),\n",
    "    \"Original retweet count\" : count[1],\n",
    "    \"After filtering\" : count[0]\n",
    "}\n",
    "my_df = pd.DataFrame(df_data)\n",
    "#my_df['id'] = my_df[id].astype('str')\n",
    "my_df['Ratio of after/total'] = my_df['After filtering'].div(len(retweeters)).round(3)\n",
    "my_df.to_excel(file_path + \"compare%d.xlsx\" % bound, index=False, header=True, sheet_name=\"Threshold=%d\" % bound)"
   ]
  },
  {
   "cell_type": "markdown",
   "metadata": {},
   "source": [
    "## <font color=\"pink\"> 開始針對 Day 11 ~ Day 17 的 Biden tweet 蒐集轉推的時間 </font> \n",
    "\n",
    "> - #### 把 dataG.xlsx 裡面的 tweet id 拿出來(biden_tweets)，送進 dataset.Get_User_Tweets_Multi()，原本 type 為 str，須轉換成 int\n",
    "> - #### crawling target user 的貼文牆，若有轉推這段時間內的貼文，寫進 txt file\n",
    ">       * txt : target id, referenced id, tweet id, created at"
   ]
  },
  {
   "cell_type": "code",
   "execution_count": null,
   "metadata": {},
   "outputs": [],
   "source": [
    "type(target_users[0])"
   ]
  },
  {
   "cell_type": "code",
   "execution_count": null,
   "metadata": {},
   "outputs": [],
   "source": [
    "file_path"
   ]
  },
  {
   "cell_type": "code",
   "execution_count": null,
   "metadata": {},
   "outputs": [],
   "source": [
    "biden_tweets = list()\n",
    "with open(file_path + \"user_tweets/dataG.xlsx\", \"r\") as f:\n",
    "    df = pd.read_excel(file_path + \"user_tweets/dataG.xlsx\")\n",
    "    biden_tweets = list(df['id'].astype('int'))\n",
    "\n",
    "print(\"Tweets for data graph:\")\n",
    "print(\"  * Tweets count :\", len(biden_tweets))\n",
    "print(\"  * Element type :\", type(biden_tweets[0]))"
   ]
  },
  {
   "cell_type": "code",
   "execution_count": null,
   "metadata": {},
   "outputs": [],
   "source": [
    "\"\"\"\n",
    "    get tweets from the post wall of each target user.\n",
    "    and dont captured those target users who already been crawed.\n",
    "\"\"\"\n",
    "\n",
    "TargetUser_Tweets = dataset.Get_User_Tweets_Multi(\n",
    "    target_user=target_users,\n",
    "    biden_tweets=biden_tweets\n",
    ")\n",
    "print(len(TargetUser_Tweets))\n"
   ]
  },
  {
   "cell_type": "code",
   "execution_count": null,
   "metadata": {},
   "outputs": [],
   "source": [
    "# get follower list of every target users\n",
    "\n",
    "\"\"\"\n",
    "dataset.Get_Followers_Multi(\n",
    "    target_users = target_users,\n",
    "    file_path = file_path\n",
    ")\n",
    "\"\"\""
   ]
  },
  {
   "cell_type": "markdown",
   "metadata": {},
   "source": [
    "## <font color=\"pink\"> Graph Construction </font> ##\n",
    "\n",
    "\n",
    "1. 把所有 target user 的 id 一起 encoding 成 0, 1, 2, 3, ... \n",
    "   \n",
    "2. 收集每個 target user 的追蹤關係後再下去比對，有出現在清單上面的 user id，就代表他們有 edge\n",
    "3. 全部用 follow 的關係當 edge 建圖，會有一張 Base Graph\n",
    "4. 每篇 tweet 以 base graph 為基礎來建 data graph，每一個 data graph 的區別是權重的不同\n",
    "5. 如果某兩個 user 有共同轉推同一篇 tweet ，那這兩個 user 在這張 data graph 的權重 + 1\n"
   ]
  },
  {
   "cell_type": "code",
   "execution_count": null,
   "metadata": {},
   "outputs": [],
   "source": [
    "retweeters_set = set() # 把 retweeters 用成集合，方便做 union\n",
    "requests = int(0) # total capture requests\n",
    "for tweet_id in json_file:\n",
    "    retweeters = set(json_file[tweet_id])\n",
    "    requests += len(retweeters)\n",
    "    retweeters_set = retweeters_set.union(retweeters) # set union\n",
    "\n",
    "plt.title('Biden dataset  ' + filename)\n",
    "plt.grid(True,color='r',alpha=0.6)\n",
    "v_label = 'Retweeter (' + str(len(retweeters_set)) + ')'\n",
    "r_label = 'Requests (' + str(requests) + ')'\n",
    "plt.bar([v_label, r_label], [len(retweeters_set), requests], color=['orange', 'blue'], width=0.4)\n",
    "plt.figure(figsize = (1,2))\n",
    "plt.show()"
   ]
  },
  {
   "cell_type": "code",
   "execution_count": null,
   "metadata": {},
   "outputs": [],
   "source": [
    "# 檢查有沒有重複\n",
    "print(len(retweeters_set.difference()))\n",
    "retweeters_set = sorted(retweeters_set)"
   ]
  },
  {
   "cell_type": "markdown",
   "metadata": {},
   "source": [
    "#### 2. Encoding\n",
    "- 將所有的 retweeter <font color='#FF1212'> (vertex)</font> 的 user id encoding 成 0,1,2,3...，方便建 adjacency matrix\n",
    "- json file 的 multiple objects 最前面與最後面要加中括弧[]，objects 之間要加逗號"
   ]
  },
  {
   "cell_type": "code",
   "execution_count": null,
   "metadata": {},
   "outputs": [],
   "source": [
    "\n",
    "wanna_save = True\n",
    "# json file 再多一個 object -> user id : following list\n",
    "user_follower = dict.fromkeys(retweeters_set)\n",
    "\n",
    "for id in user_follower.keys():\n",
    "    followers = []\n",
    "    for follwer in tweepy.Paginator(client.get_users_followers, id).flatten():\n",
    "        followers.append(follwer.id)\n",
    "    user_follower[id] = followers\n"
   ]
  },
  {
   "cell_type": "code",
   "execution_count": null,
   "metadata": {},
   "outputs": [],
   "source": [
    "if wanna_save:\n",
    "    with open('2022-10-06_followers.json', 'w') as f: # 這裡記得改掉 不然又寫錯\n",
    "        foller_json = json.dumps(user_follower)\n",
    "        f.write(foller_json)"
   ]
  },
  {
   "cell_type": "markdown",
   "metadata": {},
   "source": [
    "> 接下來要將 user's 的 followers，跟 retweeters_set 做比較，不在 retweeter_set 裡面的 id 直接踢掉\n",
    "> \n",
    "> 剩下來的存起來，用來建 edge list"
   ]
  },
  {
   "cell_type": "code",
   "execution_count": null,
   "metadata": {},
   "outputs": [],
   "source": [
    "encoding_table = dict()\n",
    "for i,j in zip(retweeters_set, range(len(retweeters_set))):\n",
    "    encoding_table[i] = j"
   ]
  }
 ],
 "metadata": {
  "kernelspec": {
   "display_name": "Python 3.7.13 ('DGL')",
   "language": "python",
   "name": "python3"
  },
  "language_info": {
   "codemirror_mode": {
    "name": "ipython",
    "version": 3
   },
   "file_extension": ".py",
   "mimetype": "text/x-python",
   "name": "python",
   "nbconvert_exporter": "python",
   "pygments_lexer": "ipython3",
   "version": "3.7.13"
  },
  "orig_nbformat": 4,
  "vscode": {
   "interpreter": {
    "hash": "66c9e842df77833218ebfcd98f0be0e387cfd88e6e6d188560a22d2024f33ac2"
   }
  }
 },
 "nbformat": 4,
 "nbformat_minor": 2
}
