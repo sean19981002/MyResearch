{
 "cells": [
  {
   "cell_type": "code",
   "execution_count": 1,
   "metadata": {},
   "outputs": [],
   "source": [
    "import pandas as pd\n",
    "import tweepy\n",
    "import requests\n",
    "import datetime\n",
    "import json\n",
    "import matplotlib.pyplot as plt\n",
    "from Classes import Data_crawl\n",
    "from functions import *"
   ]
  },
  {
   "cell_type": "markdown",
   "metadata": {},
   "source": [
    "### My Access Keys for Tweepy"
   ]
  },
  {
   "cell_type": "code",
   "execution_count": 2,
   "metadata": {},
   "outputs": [],
   "source": [
    "api_key = 'I3N75MY5qJxCvSrLWe0ZG4vQk'\n",
    "api_key_secret = 'Q3GC8Vr6F2FNqwh7v8rWoDNnA1Qqnn4RjkJ6STVtAQLamw4qCs'\n",
    "bearer_token = 'AAAAAAAAAAAAAAAAAAAAAIPvbAEAAAAApt3kcfjyiVBOLVWMbi1Fu6CLL24%3DuIMwpFYplQqMd68VXXv4eU954tnOQu5vljRnV3xL292k4F5sFR'\n",
    "access_token = '1467171706754453504-EJx2MzY1RtEGHXf3hqBZkANnsc4hA2'\n",
    "access_token_secret = 'VpVdfP1WhID2nas76BXRTMdXXOTvx1BPO1J9LDYs9QM65'"
   ]
  },
  {
   "cell_type": "code",
   "execution_count": 3,
   "metadata": {},
   "outputs": [],
   "source": [
    "token = [\n",
    "'AAAAAAAAAAAAAAAAAAAAAIPvbAEAAAAApt3kcfjyiVBOLVWMbi1Fu6CLL24%3DuIMwpFYplQqMd68VXXv4eU954tnOQu5vljRnV3xL292k4F5sFR',\n",
    "'AAAAAAAAAAAAAAAAAAAAACHvcgEAAAAA9lDgALcD%2FZRxz%2BFrzuc6B7IxJqc%3DnBTsObUCrmc50dlBlB81QMnqnab8oj5Oo7uy4uXMi7vVUOEJAu',\n",
    "'AAAAAAAAAAAAAAAAAAAAAIPvbAEAAAAApt3kcfjyiVBOLVWMbi1Fu6CLL24%3DuIMwpFYplQqMd68VXXv4eU954tnOQu5vljRnV3xL292k4F5sFR',\n",
    "'AAAAAAAAAAAAAAAAAAAAAOvxbAEAAAAAOu%2FTOVHN5ocKWaChbnjZwI%2FoGdw%3DC1laLqLeCuXiwjg1bkV7kEVMY3pd3kZHDA4TKeRjcR89kKQPeR',\n",
    "'AAAAAAAAAAAAAAAAAAAAAC3ucgEAAAAANkLeJqeojqdGXtbsGknDrLiZuJ4%3DueRC8NneqPUawhC3rkI83DXgUk68poiPHc60YAMtKqDr9NFTHs',\n",
    "'AAAAAAAAAAAAAAAAAAAAAHfucgEAAAAAWrhXRgMpo%2Fj7fHl9uqSiUlklY5M%3DQWmApmhHTWG0LcdB77fiYOTnB8mbpU4HcPLMeWl6mQmZr60mKZ',\n",
    "'AAAAAAAAAAAAAAAAAAAAAJKnJgEAAAAAgpYwO66pBtdDUcwjHYnWbMY1ow8%3DJgCTSnmkqVE5M0ywnyoSvMX1Ywpz2ivYnONwQ0Aro7bgby6TUm',\n",
    "'AAAAAAAAAAAAAAAAAAAAAJaOeQEAAAAAyvSZWQ6m9q4SaMT1t1WCH%2FOymj0%3DVgRvLEP51YERK403i2pk5JU05Lu0vXppgQHxvhhxcBIkftu1FH'\n",
    "]"
   ]
  },
  {
   "cell_type": "markdown",
   "metadata": {},
   "source": [
    "## <font color=\"pink\">Biden tweets crawling </font> ##\n",
    "\n"
   ]
  },
  {
   "cell_type": "code",
   "execution_count": 4,
   "metadata": {},
   "outputs": [
    {
     "data": {
      "text/html": [
       "<div>\n",
       "<style scoped>\n",
       "    .dataframe tbody tr th:only-of-type {\n",
       "        vertical-align: middle;\n",
       "    }\n",
       "\n",
       "    .dataframe tbody tr th {\n",
       "        vertical-align: top;\n",
       "    }\n",
       "\n",
       "    .dataframe thead th {\n",
       "        text-align: right;\n",
       "    }\n",
       "</style>\n",
       "<table border=\"1\" class=\"dataframe\">\n",
       "  <thead>\n",
       "    <tr style=\"text-align: right;\">\n",
       "      <th></th>\n",
       "      <th>Unnamed: 0</th>\n",
       "      <th>id</th>\n",
       "      <th>author_id</th>\n",
       "      <th>created_at</th>\n",
       "      <th>text</th>\n",
       "      <th>edit_history_tweet_ids</th>\n",
       "    </tr>\n",
       "  </thead>\n",
       "  <tbody>\n",
       "    <tr>\n",
       "      <th>49</th>\n",
       "      <td>49</td>\n",
       "      <td>1577058416748634124</td>\n",
       "      <td>1349149096909668363</td>\n",
       "      <td>2022-10-03T22:10:01.000Z</td>\n",
       "      <td>All of America is with Puerto Rico as they rec...</td>\n",
       "      <td>['1577058416748634124']</td>\n",
       "    </tr>\n",
       "    <tr>\n",
       "      <th>50</th>\n",
       "      <td>50</td>\n",
       "      <td>1577043467397644288</td>\n",
       "      <td>1349149096909668363</td>\n",
       "      <td>2022-10-03T21:10:37.000Z</td>\n",
       "      <td>We’re investing in Puerto Rico’s roads, bridge...</td>\n",
       "      <td>['1577043467397644288']</td>\n",
       "    </tr>\n",
       "    <tr>\n",
       "      <th>51</th>\n",
       "      <td>51</td>\n",
       "      <td>1577017284807335941</td>\n",
       "      <td>1349149096909668363</td>\n",
       "      <td>2022-10-03T19:26:34.000Z</td>\n",
       "      <td>I’m determined to help Puerto Rico rebuild str...</td>\n",
       "      <td>['1577017284807335941']</td>\n",
       "    </tr>\n",
       "    <tr>\n",
       "      <th>52</th>\n",
       "      <td>52</td>\n",
       "      <td>1577011433040117763</td>\n",
       "      <td>1349149096909668363</td>\n",
       "      <td>2022-10-03T19:03:19.000Z</td>\n",
       "      <td>Join me as I deliver remarks on Puerto Rico di...</td>\n",
       "      <td>['1577011433040117763']</td>\n",
       "    </tr>\n",
       "    <tr>\n",
       "      <th>53</th>\n",
       "      <td>53</td>\n",
       "      <td>1576980402090156042</td>\n",
       "      <td>1349149096909668363</td>\n",
       "      <td>2022-10-03T17:00:01.000Z</td>\n",
       "      <td>I made clear my commitment to supporting the p...</td>\n",
       "      <td>['1576980402090156042']</td>\n",
       "    </tr>\n",
       "    <tr>\n",
       "      <th>54</th>\n",
       "      <td>54</td>\n",
       "      <td>1576980400538263552</td>\n",
       "      <td>1349149096909668363</td>\n",
       "      <td>2022-10-03T17:00:01.000Z</td>\n",
       "      <td>This funding builds on our work to support Pue...</td>\n",
       "      <td>['1576980400538263552']</td>\n",
       "    </tr>\n",
       "    <tr>\n",
       "      <th>55</th>\n",
       "      <td>55</td>\n",
       "      <td>1576980398596411393</td>\n",
       "      <td>1349149096909668363</td>\n",
       "      <td>2022-10-03T17:00:00.000Z</td>\n",
       "      <td>I said we'd be with the people of Puerto Rico ...</td>\n",
       "      <td>['1576980398596411393']</td>\n",
       "    </tr>\n",
       "    <tr>\n",
       "      <th>56</th>\n",
       "      <td>56</td>\n",
       "      <td>1576956856022491136</td>\n",
       "      <td>1349149096909668363</td>\n",
       "      <td>2022-10-03T15:26:27.000Z</td>\n",
       "      <td>Jill and I are headed to Ponce, Puerto Rico.\\n...</td>\n",
       "      <td>['1576956856022491136']</td>\n",
       "    </tr>\n",
       "  </tbody>\n",
       "</table>\n",
       "</div>"
      ],
      "text/plain": [
       "    Unnamed: 0                   id            author_id  \\\n",
       "49          49  1577058416748634124  1349149096909668363   \n",
       "50          50  1577043467397644288  1349149096909668363   \n",
       "51          51  1577017284807335941  1349149096909668363   \n",
       "52          52  1577011433040117763  1349149096909668363   \n",
       "53          53  1576980402090156042  1349149096909668363   \n",
       "54          54  1576980400538263552  1349149096909668363   \n",
       "55          55  1576980398596411393  1349149096909668363   \n",
       "56          56  1576956856022491136  1349149096909668363   \n",
       "\n",
       "                  created_at  \\\n",
       "49  2022-10-03T22:10:01.000Z   \n",
       "50  2022-10-03T21:10:37.000Z   \n",
       "51  2022-10-03T19:26:34.000Z   \n",
       "52  2022-10-03T19:03:19.000Z   \n",
       "53  2022-10-03T17:00:01.000Z   \n",
       "54  2022-10-03T17:00:01.000Z   \n",
       "55  2022-10-03T17:00:00.000Z   \n",
       "56  2022-10-03T15:26:27.000Z   \n",
       "\n",
       "                                                 text   edit_history_tweet_ids  \n",
       "49  All of America is with Puerto Rico as they rec...  ['1577058416748634124']  \n",
       "50  We’re investing in Puerto Rico’s roads, bridge...  ['1577043467397644288']  \n",
       "51  I’m determined to help Puerto Rico rebuild str...  ['1577017284807335941']  \n",
       "52  Join me as I deliver remarks on Puerto Rico di...  ['1577011433040117763']  \n",
       "53  I made clear my commitment to supporting the p...  ['1576980402090156042']  \n",
       "54  This funding builds on our work to support Pue...  ['1576980400538263552']  \n",
       "55  I said we'd be with the people of Puerto Rico ...  ['1576980398596411393']  \n",
       "56  Jill and I are headed to Ponce, Puerto Rico.\\n...  ['1576956856022491136']  "
      ]
     },
     "execution_count": 4,
     "metadata": {},
     "output_type": "execute_result"
    }
   ],
   "source": [
    "download = False # 需不需要抓資料，FALSE 的話載入本地資料\n",
    "\n",
    "dataset = Data_crawl(token=token)\n",
    "query = 'from:POTUS -is:retweet' \n",
    "tweet_fields = ['author_id', 'created_at']\n",
    "today  = str(datetime.date.today()) # 用當天日期當作檔案名稱\n",
    "file_path = 'Biden/' + today + '/'\n",
    "\n",
    "if download:\n",
    "    today  = str(datetime.date.today()) # 用當天日期當作檔案名稱\n",
    "    tweet_df = dataset.Get_Tweets_Dataframe(\n",
    "        query=query,\n",
    "        tweet_fields=tweet_fields\n",
    "    )\n",
    "else:\n",
    "    file_path = 'Biden/2022-10-10/'\n",
    "    today = '2022-10-10'\n",
    "    tweet_df = pd.read_excel(file_path + '2022-10-10.xlsx')\n",
    "    dataset.Get_Tweets_Dataframe(tweet_df=tweet_df, wanna_download=download)\n",
    "tweet_df.tail(n=8)"
   ]
  },
  {
   "cell_type": "markdown",
   "metadata": {},
   "source": [
    "## <font color=\"pink\">依照 tweet ID 尋找每篇推文的 retweeters</font> \n",
    "\n",
    "> * 使用 JSON/XLSX 格式儲存 retweeters\n",
    "> * 針對每篇 tweet 建立兩個 list，分別把抓到的 ID、UserName 存進 Retweeter_List\n",
    "> * 將抓取的時間範圍寫在最前面\n",
    ">\n",
    "> * <font color=#FF6600> 要用 paginator 抓 retweeters，否則會抓不超過 100 個\n",
    "> * 練習檔案讀寫務必記得拿 White House，否則複寫以後檔案會消失 (2022/10/06 )  </font>\n"
   ]
  },
  {
   "cell_type": "code",
   "execution_count": 5,
   "metadata": {},
   "outputs": [],
   "source": [
    "if download:\n",
    "    dataset.Get_Retweeters_MultiThread(filename=file_path)"
   ]
  },
  {
   "cell_type": "markdown",
   "metadata": {},
   "source": [
    "## <font color=\"pink\"> 分布圖 & Target User </font> \n",
    "\n",
    "- 依照每篇 tweet 看一下 retweet count ，畫成 bar chart.\n",
    "\n",
    "- 依照每個 user 轉推的篇數畫出 bar chart，<font color=#FFD382> X軸為 轉推1,2,3... 的篇數，Y軸為人數 </font>\n",
    "- 分布圖出來以後，設一個底線，把轉推篇數低於這個底線的 user 踢掉，留下的就是 target user"
   ]
  },
  {
   "cell_type": "code",
   "execution_count": 6,
   "metadata": {},
   "outputs": [
    {
     "name": "stdout",
     "output_type": "stream",
     "text": [
      "Total tweets : 57\n"
     ]
    }
   ],
   "source": [
    "Need_Union = False # if u need to unions the files, set as True\n",
    "retweeter_dict = dict() # keys:tweet id, value:list of retweeters\n",
    "\n",
    "if Need_Union:\n",
    "    retweet_file_list = list() # storing all files name u want to union\n",
    "    for i in range(len(token)):\n",
    "        filename = file_path + str(i) + '_retweeters.json'\n",
    "        retweet_file_list.append(filename)\n",
    "    retweeter_dict = union_JSON_files(file_list = retweet_file_list)\n",
    "\n",
    "else: # u wanna load the retweeter json file that has already unioned.\n",
    "    with open(file_path + today + '_retweeters.json', 'r') as f:\n",
    "        json_file = json.load(f)\n",
    "        for tweet_id in json_file:\n",
    "            retweeter_dict[tweet_id] = json_file[tweet_id]\n",
    "\n",
    "print(\"Total tweets :\", len(retweeter_dict.keys()))"
   ]
  },
  {
   "cell_type": "code",
   "execution_count": 7,
   "metadata": {},
   "outputs": [
    {
     "data": {
      "image/png": "[encoded data removed]",
      "text/plain": [
       "<Figure size 2000x500 with 1 Axes>"
      ]
     },
     "metadata": {},
     "output_type": "display_data"
    }
   ],
   "source": [
    "# retweet count for each tweet -- bar chart\n",
    "count = list()\n",
    "for id in retweeter_dict.keys():\n",
    "    count.append(len(retweeter_dict[id]))\n",
    "retweet_count = list(map(str, count))\n",
    "\n",
    "plt.figure(figsize = (20,5))\n",
    "plt.title('Biden dataset retweeter count')\n",
    "plt.bar(retweet_count, count, color=['black', 'blue'], width=0.8, align='center')\n",
    "plt.grid(True,color='r',alpha=0.6)\n",
    "plt.xlabel('Retweet count for each tweet')\n",
    "plt.ylabel('Retweeter count')\n",
    "plt.xticks(rotation='vertical')\n",
    "plt.show()"
   ]
  },
  {
   "cell_type": "code",
   "execution_count": 8,
   "metadata": {},
   "outputs": [
    {
     "data": {
      "image/png": "[encoded data removed]",
      "text/plain": [
       "<Figure size 500x800 with 1 Axes>"
      ]
     },
     "metadata": {},
     "output_type": "display_data"
    }
   ],
   "source": [
    "# Union the retweeter lists, filtering the repeated id\n",
    "\n",
    "retweeters = set()\n",
    "requests_count = 0\n",
    "for i in retweeter_dict:\n",
    "    retweeter_list = set(retweeter_dict[i])\n",
    "    requests_count += len(retweeter_list)\n",
    "    retweeters |= retweeter_list # Union into retweeters\n",
    "\n",
    "# And also, see the ratio of retweeters and requests count --> bar chart\n",
    "plt.figure(figsize = (5,8))\n",
    "plt.title('Retweeters and Requests count')\n",
    "plt.bar([str(len(retweeters)), str(requests_count)], [len(retweeters), requests_count],color=['red', 'blue'], width=0.3, align='center')\n",
    "plt.grid(True,color='r',alpha=0.6)\n",
    "plt.show()"
   ]
  },
  {
   "cell_type": "markdown",
   "metadata": {},
   "source": [
    "## Target User\n",
    "- 踢掉 retweet 篇數過少的 users，剩下的對象就是 target users.\n",
    "- 接著再用 target users 去蒐集相對應的 followers.\n",
    "- Negative Sampling 可能要上."
   ]
  },
  {
   "cell_type": "code",
   "execution_count": 9,
   "metadata": {},
   "outputs": [
    {
     "name": "stdout",
     "output_type": "stream",
     "text": [
      "Parrelle degree:  8\n",
      "Start dispatching Multi-Process....\n",
      "Start running all sub-process......\n",
      "Wait for resulst of all sub-process......\n"
     ]
    }
   ],
   "source": [
    "# start finding retweets count of each user\n",
    "user_retweet_count = dict()\n",
    "result = UserRetweetCount_MultiCore(\n",
    "    retweeter_dict=retweeter_dict, \n",
    "    retweeters=list(retweeters), \n",
    "    parallelism=8, \n",
    "    requests_count=requests_count\n",
    ")\n",
    "# parralle degree = 15, 2m19.3s\n",
    "# parralle degree = 9, 2m43.4s"
   ]
  },
  {
   "cell_type": "code",
   "execution_count": null,
   "metadata": {},
   "outputs": [],
   "source": [
    "# start statistics retweet count\n",
    "\n",
    "\"\"\"\n",
    "    Retweet count from 1 to len(how many tweets)\n",
    "    show_list : first element represent 'how many users retweet 1 tweet', so are the rests.\n",
    "\n",
    "\"\"\"\n",
    "label = [str(i) for i in range(1,58,1)]\n",
    "show_list = [0 for i in range(tweet_df.shape[0])]\n",
    "\n",
    "for user in result.keys():\n",
    "    index = result[user]\n",
    "    show_list[index-1] += 1"
   ]
  },
  {
   "cell_type": "code",
   "execution_count": null,
   "metadata": {},
   "outputs": [],
   "source": [
    "# Draw a bar plot to see\n",
    "print(\"Total users: %d\" % len(retweeters))\n",
    "color = (0.3, 0.9, 0.4, 0.6)\n",
    "plt.figure(figsize = (35,8))\n",
    "plt.title(\"User's retweet count\")\n",
    "plt.bar(label, show_list, color=color, width=0.8, align='center')\n",
    "plt.grid(True,color='r',alpha=0.3)\n",
    "plt.xlabel('Retweet count')\n",
    "plt.ylabel('User Count')\n",
    "plt.xticks(rotation='vertical')\n",
    "for index, value in enumerate(show_list):\n",
    "    plt.text(index, value, str(value))\n",
    "plt.show()"
   ]
  },
  {
   "cell_type": "code",
   "execution_count": null,
   "metadata": {},
   "outputs": [],
   "source": [
    "#   Draw a bar plot to see after bounded\n",
    "\"\"\"\n",
    "    Set bound after observing the user's retweet counts distributionns.\n",
    "    Most of the users distributed in the range of 1 to 3.\n",
    "\"\"\"\n",
    "bound = 4\n",
    "print(\"Total users :\", len(retweeters))\n",
    "print(\"Deleting users of retweet counts lower than %d : %d\" % (bound, sum(show_list[0:bound])))\n",
    "print(\"Total of target users : %d\" % sum(show_list[bound:]))\n",
    "\n",
    "color = (0.3, 0.9, 0.4, 0.6)\n",
    "plt.figure(figsize = (35,8))\n",
    "plt.title(\"User's retweet count after bounded\")\n",
    "plt.bar(label[bound:], show_list[bound:], color=color, width=0.8, align='center')\n",
    "plt.grid(True,color='r',alpha=0.3)\n",
    "plt.xlabel('Target users retweet count')\n",
    "plt.ylabel('Target user count')\n",
    "plt.xticks(rotation='vertical')\n",
    "for index, value in enumerate(show_list[bound:]):\n",
    "    plt.text(index, value, str(value))\n",
    "plt.show()"
   ]
  },
  {
   "cell_type": "code",
   "execution_count": null,
   "metadata": {},
   "outputs": [],
   "source": [
    "wanna_find_target = False\n",
    "target_users = list()\n",
    "if wanna_find_target:   # need to run the function to find target users\n",
    "    retweeters = dict(result)\n",
    "    target_users = FindTargetUser_MultiCore(\n",
    "        bound = bound,\n",
    "        retweeters = retweeters,\n",
    "    )\n",
    "    target_users = sorted(target_users)\n",
    "    print(\"Target users :\", len(target_users))\n",
    "    with open(file_path + \"target_users.json\", \"w\") as f:\n",
    "        json.dump(target_users, f, indent=True)\n",
    "\n",
    "else: # load the file of target users\n",
    "    with open(file_path + \"target_users.json\", \"r\") as f:\n",
    "        json_file = json.load(f)\n",
    "        target_users = list(json_file)"
   ]
  },
  {
   "cell_type": "code",
   "execution_count": null,
   "metadata": {},
   "outputs": [],
   "source": [
    "\"\"\"# get tweets from the post wall of each target user.\n",
    "TargetUser_Tweets = dataset.Get_User_Tweets_Multi(\n",
    "    file_path=file_path,\n",
    "    target_user=target_users\n",
    ")\n",
    "print(len(TargetUser_Tweets))\n",
    "\"\"\""
   ]
  },
  {
   "cell_type": "code",
   "execution_count": null,
   "metadata": {},
   "outputs": [],
   "source": [
    "# get follower list of every target users\n",
    "dataset.Get_Followers_Multi(\n",
    "    target_users = target_users,\n",
    "    file_path = file_path\n",
    ")\n"
   ]
  },
  {
   "cell_type": "markdown",
   "metadata": {},
   "source": [
    "## <font color=\"pink\"> Graph Construction </font> ##\n",
    "\n",
    "\n",
    "1. 把所有 target user 的 id 一起 encoding 成 0, 1, 2, 3, ... \n",
    "   \n",
    "2. 收集每個 target user 的追蹤關係後再下去比對，有出現在清單上面的 user id，就代表他們有 edge\n",
    "3. 全部用 follow 的關係當 edge 建圖，會有一張 Base Graph\n",
    "4. 每篇 tweet 以 base graph 為基礎來建 data graph，每一個 data graph 的區別是權重的不同\n",
    "5. 如果某兩個 user 有共同轉推同一篇 tweet ，那這兩個 user 在這張 data graph 的權重 + 1\n"
   ]
  },
  {
   "cell_type": "code",
   "execution_count": null,
   "metadata": {},
   "outputs": [],
   "source": [
    "retweeters_set = set() # 把 retweeters 用成集合，方便做 union\n",
    "requests = int(0) # total capture requests\n",
    "for tweet_id in json_file:\n",
    "    retweeters = set(json_file[tweet_id])\n",
    "    requests += len(retweeters)\n",
    "    retweeters_set = retweeters_set.union(retweeters) # set union\n",
    "\n",
    "plt.title('Biden dataset  ' + filename)\n",
    "plt.grid(True,color='r',alpha=0.6)\n",
    "v_label = 'Retweeter (' + str(len(retweeters_set)) + ')'\n",
    "r_label = 'Requests (' + str(requests) + ')'\n",
    "plt.bar([v_label, r_label], [len(retweeters_set), requests], color=['orange', 'blue'], width=0.4)\n",
    "plt.figure(figsize = (1,2))\n",
    "plt.show()"
   ]
  },
  {
   "cell_type": "code",
   "execution_count": null,
   "metadata": {},
   "outputs": [],
   "source": [
    "# 檢查有沒有重複\n",
    "print(len(retweeters_set.difference()))\n",
    "retweeters_set = sorted(retweeters_set)"
   ]
  },
  {
   "cell_type": "markdown",
   "metadata": {},
   "source": [
    "#### 2. Encoding\n",
    "- 將所有的 retweeter <font color='#FF1212'> (vertex)</font> 的 user id encoding 成 0,1,2,3...，方便建 adjacency matrix\n",
    "- json file 的 multiple objects 最前面與最後面要加中括弧[]，objects 之間要加逗號"
   ]
  },
  {
   "cell_type": "code",
   "execution_count": null,
   "metadata": {},
   "outputs": [],
   "source": [
    "\n",
    "wanna_save = True\n",
    "# json file 再多一個 object -> user id : following list\n",
    "user_follower = dict.fromkeys(retweeters_set)\n",
    "\n",
    "for id in user_follower.keys():\n",
    "    followers = []\n",
    "    for follwer in tweepy.Paginator(client.get_users_followers, id).flatten():\n",
    "        followers.append(follwer.id)\n",
    "    user_follower[id] = followers\n"
   ]
  },
  {
   "cell_type": "code",
   "execution_count": null,
   "metadata": {},
   "outputs": [],
   "source": [
    "if wanna_save:\n",
    "    with open('2022-10-06_followers.json', 'w') as f: # 這裡記得改掉 不然又寫錯\n",
    "        foller_json = json.dumps(user_follower)\n",
    "        f.write(foller_json)"
   ]
  },
  {
   "cell_type": "markdown",
   "metadata": {},
   "source": [
    "> 接下來要將 user's 的 followers，跟 retweeters_set 做比較，不在 retweeter_set 裡面的 id 直接踢掉\n",
    "> \n",
    "> 剩下來的存起來，用來建 edge list"
   ]
  },
  {
   "cell_type": "code",
   "execution_count": null,
   "metadata": {},
   "outputs": [],
   "source": [
    "encoding_table = dict()\n",
    "for i,j in zip(retweeters_set, range(len(retweeters_set))):\n",
    "    encoding_table[i] = j"
   ]
  }
 ],
 "metadata": {
  "kernelspec": {
   "display_name": "Python 3.7.13 ('DGL')",
   "language": "python",
   "name": "python3"
  },
  "language_info": {
   "codemirror_mode": {
    "name": "ipython",
    "version": 3
   },
   "file_extension": ".py",
   "mimetype": "text/x-python",
   "name": "python",
   "nbconvert_exporter": "python",
   "pygments_lexer": "ipython3",
   "version": "3.7.13"
  },
  "orig_nbformat": 4,
  "vscode": {
   "interpreter": {
    "hash": "66c9e842df77833218ebfcd98f0be0e387cfd88e6e6d188560a22d2024f33ac2"
   }
  }
 },
 "nbformat": 4,
 "nbformat_minor": 2
}
