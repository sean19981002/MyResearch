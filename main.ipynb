{
 "cells": [
  {
   "cell_type": "code",
   "execution_count": 1,
   "metadata": {},
   "outputs": [],
   "source": [
    "import pandas as pd\n",
    "import tweepy\n",
    "import requests\n",
    "import datetime\n",
    "import json\n",
    "import matplotlib.pyplot as plt\n",
    "from Classes import Data_crawl\n",
    "from functions import *\n",
    "import numpy as np"
   ]
  },
  {
   "cell_type": "markdown",
   "metadata": {},
   "source": [
    "### My Access Keys for Tweepy"
   ]
  },
  {
   "cell_type": "code",
   "execution_count": 2,
   "metadata": {},
   "outputs": [],
   "source": [
    "# sean19981002\n",
    "api_key = 'AD9ZnCOeRDtYEiGe45WUtPS2j'\n",
    "api_key_secret = '8YRO0UU9vAoLCOUn3FO96OXUdEBuJpRIzgyPCTHgyudmt2SZuh'\n",
    "bearer_token = 'AAAAAAAAAAAAAAAAAAAAAF71jAEAAAAAKAm8%2BESJhS4ydqw1pSAd%2FXmL41Q%3DyY2fkJmdECatUXBWKk49JYzBjMFoovBtUn1VrHDiAiwQy3pwR7'"
   ]
  },
  {
   "cell_type": "code",
   "execution_count": 3,
   "metadata": {},
   "outputs": [],
   "source": [
    "# s10627070\n",
    "api_key = 'I3N75MY5qJxCvSrLWe0ZG4vQk'\n",
    "api_key_secret = 'Q3GC8Vr6F2FNqwh7v8rWoDNnA1Qqnn4RjkJ6STVtAQLamw4qCs'\n",
    "bearer_token = 'AAAAAAAAAAAAAAAAAAAAAIPvbAEAAAAApt3kcfjyiVBOLVWMbi1Fu6CLL24%3DuIMwpFYplQqMd68VXXv4eU954tnOQu5vljRnV3xL292k4F5sFR' #old\n",
    "access_token = '1467171706754453504-EJx2MzY1RtEGHXf3hqBZkANnsc4hA2'\n",
    "access_token_secret = 'VpVdfP1WhID2nas76BXRTMdXXOTvx1BPO1J9LDYs9QM65'"
   ]
  },
  {
   "cell_type": "code",
   "execution_count": 4,
   "metadata": {},
   "outputs": [
    {
     "data": {
      "text/plain": [
       "['AAAAAAAAAAAAAAAAAAAAAJaOeQEAAAAAwwB4BH%2FBSUwJFsgWK1Ow3B2L7N8%3DKBHVX6eL8DqUOqnOllvzBsN3XlGWdE87o5AC9hvaGVGI0yTo1R',\n",
       " 'AAAAAAAAAAAAAAAAAAAAAP72jAEAAAAA7DFjY0A3oGFlzNLO6bq9pMh2hU8%3DAX72OdeqqVlHYhYzwWU7aofc8EkKdZmujEjlFNiZAsG81gQhlW',\n",
       " 'AAAAAAAAAAAAAAAAAAAAAIPvbAEAAAAAh3nRGhJ1HJjYHAwyxn7F5tm91js%3DpUaTtSLOgLxWFGdDaL2cDgHbJyiYQt8UMbWe8s9hfO8UIBK3xu',\n",
       " 'AAAAAAAAAAAAAAAAAAAAAKkViAEAAAAAMh5Mzxxsa6pTshJUf1cTvjQIhFo%3DzO9GnsfJjH4LjOvV3PldqYkda3gyTTxBh1pEZGS3oQk7kdnX7i',\n",
       " 'AAAAAAAAAAAAAAAAAAAAAOvxbAEAAAAAnL5kXJfdb%2Fa32z1iDgvi9lIqY58%3DvaL2jyG72R1kq7GTsmfOOMGjT5EJsvebYQGLc4Byko2j0WOe3w',\n",
       " 'AAAAAAAAAAAAAAAAAAAAAJKnJgEAAAAAgpYwO66pBtdDUcwjHYnWbMY1ow8%3DJgCTSnmkqVE5M0ywnyoSvMX1Ywpz2ivYnONwQ0Aro7bgby6TUm',\n",
       " 'AAAAAAAAAAAAAAAAAAAAAA0rhwEAAAAAwg6pSXd9zTPDUu70sBe7aA1x6SQ%3D4e492L05dARGO4yEj9LZ2POAjq4oGkwVQQBCPQKfc2ocoV8sth',\n",
       " 'AAAAAAAAAAAAAAAAAAAAAF71jAEAAAAAKAm8%2BESJhS4ydqw1pSAd%2FXmL41Q%3DyY2fkJmdECatUXBWKk49JYzBjMFoovBtUn1VrHDiAiwQy3pwR7',\n",
       " 'AAAAAAAAAAAAAAAAAAAAAAYGjQEAAAAAC74DT7oAQi5gv0bF9WdeU4f7hJo%3DYBkLAukJkdB6j1PcoyXgC3RMOZmeNsB8UhtWZcLQj93MmcbNL6',\n",
       " 'AAAAAAAAAAAAAAAAAAAAAPoGjQEAAAAA7q51nHEqctciLVVozvKX1WlvkAA%3DfQYzwAi058evByr1aIoLmTMV1YjlEpSdLoAKIlIVcq9LSNwiT7',\n",
       " 'AAAAAAAAAAAAAAAAAAAAAMgGjQEAAAAAV%2BvTp7Lpi1QJbSCcuFY%2FXvp0SHM%3DemYxzRF5ijRq72Q44Dh7bBd3rR0EriGtVI1XyyI6kAIz8SwlJX',\n",
       " 'AAAAAAAAAAAAAAAAAAAAALAxjQEAAAAAnmz%2ByL4xpCz84Pl3U8Lg%2BUsyelM%3Dh3wz4pP6TPCFpB9MqgkfusfHbVykCCvVqU3ccZCPVB28bj87VD',\n",
       " 'AAAAAAAAAAAAAAAAAAAAAJAGjQEAAAAA7SsjLD9VJnhRe3gdvdvdslHq2NQ%3DT3jiyZyyEw3nCyqHWyWlucAUmwRFIKX80B0AkiPAgId9pu1BIr',\n",
       " 'AAAAAAAAAAAAAAAAAAAAAPwxjQEAAAAAUG%2FmQd1X42iX%2FYsqWpOPk97RyAo%3DmWe7RLkTyX7mxP0K6MhOX6g96fJrdLP2pgffm6cHLEooRKTzao']"
      ]
     },
     "execution_count": 4,
     "metadata": {},
     "output_type": "execute_result"
    }
   ],
   "source": [
    "token = list()\n",
    "with open('tokens.txt', 'r') as f:\n",
    "    for line in f:\n",
    "        line = line.replace('\\n', '')\n",
    "        token.append(line)\n",
    "token"
   ]
  },
  {
   "cell_type": "markdown",
   "metadata": {},
   "source": [
    "## <font color=\"pink\">Biden tweets crawling </font> ##\n",
    "\n"
   ]
  },
  {
   "cell_type": "code",
   "execution_count": 5,
   "metadata": {},
   "outputs": [
    {
     "data": {
      "text/html": [
       "<div>\n",
       "<style scoped>\n",
       "    .dataframe tbody tr th:only-of-type {\n",
       "        vertical-align: middle;\n",
       "    }\n",
       "\n",
       "    .dataframe tbody tr th {\n",
       "        vertical-align: top;\n",
       "    }\n",
       "\n",
       "    .dataframe thead th {\n",
       "        text-align: right;\n",
       "    }\n",
       "</style>\n",
       "<table border=\"1\" class=\"dataframe\">\n",
       "  <thead>\n",
       "    <tr style=\"text-align: right;\">\n",
       "      <th></th>\n",
       "      <th>index</th>\n",
       "      <th>id</th>\n",
       "      <th>created_at</th>\n",
       "      <th>text</th>\n",
       "      <th>retweeted</th>\n",
       "      <th>retweet_count</th>\n",
       "      <th>favorite_count</th>\n",
       "      <th>139965871847696</th>\n",
       "    </tr>\n",
       "  </thead>\n",
       "  <tbody>\n",
       "    <tr>\n",
       "      <th>0</th>\n",
       "      <td>73</td>\n",
       "      <td>1586798846709227521</td>\n",
       "      <td>Sun Oct 30 19:15:01 +0000 2022</td>\n",
       "      <td>We’re making sure the biggest corporations beg...</td>\n",
       "      <td>False</td>\n",
       "      <td>5400</td>\n",
       "      <td>23297</td>\n",
       "      <td>1586798846709227521</td>\n",
       "    </tr>\n",
       "    <tr>\n",
       "      <th>1</th>\n",
       "      <td>74</td>\n",
       "      <td>1586787521920483331</td>\n",
       "      <td>Sun Oct 30 18:30:00 +0000 2022</td>\n",
       "      <td>We’re capping seniors’ out-of-pocket costs for...</td>\n",
       "      <td>False</td>\n",
       "      <td>7253</td>\n",
       "      <td>30591</td>\n",
       "      <td>1586787521920483331</td>\n",
       "    </tr>\n",
       "    <tr>\n",
       "      <th>2</th>\n",
       "      <td>75</td>\n",
       "      <td>1586773677869342724</td>\n",
       "      <td>Sun Oct 30 17:35:00 +0000 2022</td>\n",
       "      <td>Jill and I are devastated to learn that at lea...</td>\n",
       "      <td>False</td>\n",
       "      <td>4988</td>\n",
       "      <td>40074</td>\n",
       "      <td>1586773677869342724</td>\n",
       "    </tr>\n",
       "    <tr>\n",
       "      <th>3</th>\n",
       "      <td>76</td>\n",
       "      <td>1586719571574235144</td>\n",
       "      <td>Sun Oct 30 14:00:00 +0000 2022</td>\n",
       "      <td>We’re reducing the burden on working- and midd...</td>\n",
       "      <td>False</td>\n",
       "      <td>4120</td>\n",
       "      <td>17949</td>\n",
       "      <td>1586719571574235144</td>\n",
       "    </tr>\n",
       "    <tr>\n",
       "      <th>4</th>\n",
       "      <td>77</td>\n",
       "      <td>1586511955572973568</td>\n",
       "      <td>Sun Oct 30 00:15:00 +0000 2022</td>\n",
       "      <td>Oil companies made billions in profits this qu...</td>\n",
       "      <td>False</td>\n",
       "      <td>9393</td>\n",
       "      <td>35207</td>\n",
       "      <td>1586511955572973568</td>\n",
       "    </tr>\n",
       "    <tr>\n",
       "      <th>...</th>\n",
       "      <td>...</td>\n",
       "      <td>...</td>\n",
       "      <td>...</td>\n",
       "      <td>...</td>\n",
       "      <td>...</td>\n",
       "      <td>...</td>\n",
       "      <td>...</td>\n",
       "      <td>...</td>\n",
       "    </tr>\n",
       "    <tr>\n",
       "      <th>64</th>\n",
       "      <td>137</td>\n",
       "      <td>1584635840818515974</td>\n",
       "      <td>Mon Oct 24 20:00:00 +0000 2022</td>\n",
       "      <td>Exactly one week ago, we launched our applicat...</td>\n",
       "      <td>False</td>\n",
       "      <td>5782</td>\n",
       "      <td>22305</td>\n",
       "      <td>1584635840818515974</td>\n",
       "    </tr>\n",
       "    <tr>\n",
       "      <th>65</th>\n",
       "      <td>138</td>\n",
       "      <td>1584620744624979969</td>\n",
       "      <td>Mon Oct 24 19:00:01 +0000 2022</td>\n",
       "      <td>We know what Republicans in Congress will do i...</td>\n",
       "      <td>False</td>\n",
       "      <td>9317</td>\n",
       "      <td>26758</td>\n",
       "      <td>1584620744624979969</td>\n",
       "    </tr>\n",
       "    <tr>\n",
       "      <th>66</th>\n",
       "      <td>139</td>\n",
       "      <td>1584613701176463382</td>\n",
       "      <td>Mon Oct 24 18:32:01 +0000 2022</td>\n",
       "      <td>Republican officials want to put America in de...</td>\n",
       "      <td>False</td>\n",
       "      <td>4678</td>\n",
       "      <td>13701</td>\n",
       "      <td>1584613701176463382</td>\n",
       "    </tr>\n",
       "    <tr>\n",
       "      <th>67</th>\n",
       "      <td>140</td>\n",
       "      <td>1584602542239105025</td>\n",
       "      <td>Mon Oct 24 17:47:41 +0000 2022</td>\n",
       "      <td>For two years the COVID virus has been evolvin...</td>\n",
       "      <td>False</td>\n",
       "      <td>2727</td>\n",
       "      <td>13800</td>\n",
       "      <td>1584602542239105025</td>\n",
       "    </tr>\n",
       "    <tr>\n",
       "      <th>68</th>\n",
       "      <td>141</td>\n",
       "      <td>1584333868878135296</td>\n",
       "      <td>Mon Oct 24 00:00:04 +0000 2022</td>\n",
       "      <td>The deficit fell by $1.4 trillion this year.\\n...</td>\n",
       "      <td>False</td>\n",
       "      <td>16512</td>\n",
       "      <td>85920</td>\n",
       "      <td>1584333868878135296</td>\n",
       "    </tr>\n",
       "  </tbody>\n",
       "</table>\n",
       "<p>69 rows × 8 columns</p>\n",
       "</div>"
      ],
      "text/plain": [
       "    index                   id                      created_at  \\\n",
       "0      73  1586798846709227521  Sun Oct 30 19:15:01 +0000 2022   \n",
       "1      74  1586787521920483331  Sun Oct 30 18:30:00 +0000 2022   \n",
       "2      75  1586773677869342724  Sun Oct 30 17:35:00 +0000 2022   \n",
       "3      76  1586719571574235144  Sun Oct 30 14:00:00 +0000 2022   \n",
       "4      77  1586511955572973568  Sun Oct 30 00:15:00 +0000 2022   \n",
       "..    ...                  ...                             ...   \n",
       "64    137  1584635840818515974  Mon Oct 24 20:00:00 +0000 2022   \n",
       "65    138  1584620744624979969  Mon Oct 24 19:00:01 +0000 2022   \n",
       "66    139  1584613701176463382  Mon Oct 24 18:32:01 +0000 2022   \n",
       "67    140  1584602542239105025  Mon Oct 24 17:47:41 +0000 2022   \n",
       "68    141  1584333868878135296  Mon Oct 24 00:00:04 +0000 2022   \n",
       "\n",
       "                                                 text  retweeted  \\\n",
       "0   We’re making sure the biggest corporations beg...      False   \n",
       "1   We’re capping seniors’ out-of-pocket costs for...      False   \n",
       "2   Jill and I are devastated to learn that at lea...      False   \n",
       "3   We’re reducing the burden on working- and midd...      False   \n",
       "4   Oil companies made billions in profits this qu...      False   \n",
       "..                                                ...        ...   \n",
       "64  Exactly one week ago, we launched our applicat...      False   \n",
       "65  We know what Republicans in Congress will do i...      False   \n",
       "66  Republican officials want to put America in de...      False   \n",
       "67  For two years the COVID virus has been evolvin...      False   \n",
       "68  The deficit fell by $1.4 trillion this year.\\n...      False   \n",
       "\n",
       "    retweet_count  favorite_count      139965871847696  \n",
       "0            5400           23297  1586798846709227521  \n",
       "1            7253           30591  1586787521920483331  \n",
       "2            4988           40074  1586773677869342724  \n",
       "3            4120           17949  1586719571574235144  \n",
       "4            9393           35207  1586511955572973568  \n",
       "..            ...             ...                  ...  \n",
       "64           5782           22305  1584635840818515974  \n",
       "65           9317           26758  1584620744624979969  \n",
       "66           4678           13701  1584613701176463382  \n",
       "67           2727           13800  1584602542239105025  \n",
       "68          16512           85920  1584333868878135296  \n",
       "\n",
       "[69 rows x 8 columns]"
      ]
     },
     "execution_count": 5,
     "metadata": {},
     "output_type": "execute_result"
    }
   ],
   "source": [
    "download = False # 需不需要抓資料，FALSE 的話載入本地資料\n",
    "\n",
    "today  = '2022-11-07' # date you wanna captured\n",
    "file_path = 'Biden/' + today + '/'\n",
    "dataset = Data_crawl(token=token, file_path=file_path)\n",
    "query = 'from:POTUS -is:retweet' \n",
    "tweet_fields = ['author_id', 'created_at', 'retweeted', 'retweet_count', 'favorite_count']\n",
    "\n",
    "\n",
    "if download:\n",
    "    tweet_df = dataset.Get_Tweets_Dataframe(\n",
    "        query=query,\n",
    "        tweet_fields=tweet_fields\n",
    "    )\n",
    "else:\n",
    "    tweet_df = pd.read_excel(file_path + 'Biden.xlsx')\n",
    "    tweet_df = tweet_df[73:142] # selecting range you want of Biden's Tweets\n",
    "    tweet_df[id] = tweet_df['id'].astype('int') # change 'id' from str into int\n",
    "    tweet_df = tweet_df.reset_index() # reset index\n",
    "    dataset.Get_Tweets_Dataframe(\n",
    "        tweet_df=tweet_df, \n",
    "        wanna_download=download, \n",
    "        query=query, \n",
    "        tweet_fields=tweet_fields)\n",
    "\n",
    "dataset.tweets_df"
   ]
  },
  {
   "cell_type": "markdown",
   "metadata": {},
   "source": [
    "## <font color=\"pink\">依照 tweet ID 尋找每篇推文的 retweeters</font> \n",
    "\n",
    "> * 使用 JSON/XLSX 格式儲存 retweeters\n",
    "> * 針對每篇 tweet 建立兩個 list，分別把抓到的 ID、UserName 存進 Retweeter_List\n",
    "> * 將抓取的時間範圍寫在最前面\n",
    ">\n",
    "> * <font color=#FF6600> 要用 paginator 抓 retweeters，否則會抓不超過 100 個\n",
    "> * 練習檔案讀寫務必記得拿 White House，否則複寫以後檔案會消失 (2022/10/06 )  </font>\n"
   ]
  },
  {
   "cell_type": "code",
   "execution_count": 6,
   "metadata": {},
   "outputs": [],
   "source": [
    "retweeter_dict = dict() # keys:tweet id, value:list of retweeters\n",
    "retweeters = set()\n",
    "\n",
    "if download:\n",
    "    retweeter_dict = dataset.Get_Retweeters_Multi()\n",
    "else:\n",
    "    for i in range(7):\n",
    "        file = file_path + \"retweeters/%d_retweeters.json\" % i\n",
    "        # loading files and combine\n",
    "        if path.exists(file):\n",
    "            with open(file, \"r\") as f:\n",
    "                json_data = json.load(f)\n",
    "                for j in json_data.keys():\n",
    "                    retweeter_dict[j] = json_data[j]"
   ]
  },
  {
   "cell_type": "markdown",
   "metadata": {},
   "source": [
    "## <font color=\"pink\"> 分布圖 & Target User </font> \n",
    "\n",
    "- 依照每篇 tweet 看一下 retweet count ，畫成 bar chart.\n",
    "\n",
    "- 依照每個 user 轉推的篇數畫出 bar chart，<font color=#FFD382> X軸為 轉推1,2,3... 的篇數，Y軸為人數 </font>\n",
    "- 分布圖出來以後，設一個底線，把轉推篇數低於這個底線的 user 踢掉，留下的就是 target user"
   ]
  },
  {
   "cell_type": "code",
   "execution_count": 7,
   "metadata": {},
   "outputs": [
    {
     "data": {
      "image/png": "[encoded data removed]",
      "text/plain": [
       "<Figure size 2000x500 with 1 Axes>"
      ]
     },
     "metadata": {},
     "output_type": "display_data"
    }
   ],
   "source": [
    "# retweet count for each tweet -- bar chart\n",
    "count = list()\n",
    "for id in retweeter_dict.keys():\n",
    "    count.append(len(retweeter_dict[id]))\n",
    "retweet_count = list(map(str, count))\n",
    "\n",
    "plt.figure(figsize = (20,5))\n",
    "plt.title('Biden dataset retweeter count')\n",
    "plt.bar(retweet_count, count, color=['black', 'blue'], width=0.8, align='center')\n",
    "plt.grid(True,color='r',alpha=0.6)\n",
    "plt.xlabel('Retweet count for each tweet')\n",
    "plt.ylabel('Retweeter count')\n",
    "plt.xticks(rotation='vertical')\n",
    "plt.show()"
   ]
  },
  {
   "cell_type": "code",
   "execution_count": 8,
   "metadata": {},
   "outputs": [
    {
     "data": {
      "image/png": "[encoded data removed]",
      "text/plain": [
       "<Figure size 500x800 with 1 Axes>"
      ]
     },
     "metadata": {},
     "output_type": "display_data"
    }
   ],
   "source": [
    "# Union the retweeter lists, filtering the repeated id\n",
    "\n",
    "retweeters = set()\n",
    "requests_count = 0\n",
    "for i in retweeter_dict.keys():\n",
    "    retweeter_list = set(retweeter_dict[i])\n",
    "    requests_count += len(retweeter_list)\n",
    "    retweeters |= retweeter_list # Union into retweeters\n",
    "\n",
    "# And also, see the ratio of retweeters and requests count --> bar chart\n",
    "plt.figure(figsize = (5,8))\n",
    "plt.title('Retweeters and Requests count')\n",
    "plt.bar([str(len(retweeters)), str(requests_count)], [len(retweeters), requests_count],color=['red', 'blue'], width=0.3, align='center')\n",
    "plt.grid(True,color='r',alpha=0.6)\n",
    "plt.show()"
   ]
  },
  {
   "cell_type": "markdown",
   "metadata": {},
   "source": [
    "## Target User\n",
    "- 踢掉 retweet 篇數過少的 users，剩下的對象就是 target users.\n",
    "- 接著再用 target users 去蒐集相對應的 followers.\n",
    "- Negative Sampling 可能要上."
   ]
  },
  {
   "cell_type": "code",
   "execution_count": 9,
   "metadata": {},
   "outputs": [],
   "source": [
    "# start finding retweets count of each user\n",
    "user_retweet_count = dict()\n",
    "\n",
    "if path.exists(file_path + \"UserRetweetCount.json\"):\n",
    "    with open(file_path + \"UserRetweetCount.json\", \"r\") as f:\n",
    "        user_retweet_count = json.load(f)\n",
    "\n",
    "else:\n",
    "    user_retweet_count = UserRetweetCount_MultiCore(\n",
    "        retweeter_dict=retweeter_dict, \n",
    "        retweeters=list(retweeters), \n",
    "        parallelism=8, \n",
    "        requests_count=requests_count\n",
    "    )\n",
    "    with open(file_path + \"UserRetweetCount.json\", \"w\") as f:\n",
    "        json.dump(user_retweet_count, f, indent=True)\n"
   ]
  },
  {
   "cell_type": "code",
   "execution_count": 10,
   "metadata": {},
   "outputs": [],
   "source": [
    "# start statistics retweet count\n",
    "\n",
    "\"\"\"\n",
    "    Retweet count from 1 to len(how many tweets)\n",
    "    show_list : first element represent 'how many users retweet 1 tweet', so are the rests.\n",
    "\n",
    "\"\"\"\n",
    "label = [str(i) for i in range(1,70,1)]\n",
    "show_list = [0 for i in range(tweet_df.shape[0])]\n",
    "\n",
    "for user in user_retweet_count.keys():\n",
    "    index = user_retweet_count[user]\n",
    "    show_list[index-1] += 1"
   ]
  },
  {
   "cell_type": "code",
   "execution_count": 11,
   "metadata": {},
   "outputs": [
    {
     "name": "stdout",
     "output_type": "stream",
     "text": [
      "Total users: 102687\n"
     ]
    },
    {
     "data": {
      "image/png": "[encoded data removed]",
      "text/plain": [
       "<Figure size 3500x800 with 1 Axes>"
      ]
     },
     "metadata": {},
     "output_type": "display_data"
    }
   ],
   "source": [
    "# Draw a bar plot to see\n",
    "print(\"Total users: %d\" % len(retweeters))\n",
    "color = (0.3, 0.9, 0.4, 0.6)\n",
    "plt.figure(figsize = (35,8))\n",
    "plt.title(\"User's retweet count\")\n",
    "plt.bar(label, show_list)\n",
    "plt.grid(True,color='r',alpha=0.3)\n",
    "plt.xlabel('Retweet count')\n",
    "plt.ylabel('User Count')\n",
    "plt.xticks(rotation='vertical')\n",
    "for index, value in enumerate(show_list):\n",
    "    plt.text(index, value, str(value))\n",
    "plt.show()"
   ]
  },
  {
   "cell_type": "code",
   "execution_count": 12,
   "metadata": {},
   "outputs": [
    {
     "name": "stdout",
     "output_type": "stream",
     "text": [
      "Total users : 102687\n",
      "Deleting users of retweet counts lower than 5 : 89764\n",
      "Total of target users : 12923\n"
     ]
    },
    {
     "data": {
      "image/png": "[encoded data removed]",
      "text/plain": [
       "<Figure size 3500x800 with 1 Axes>"
      ]
     },
     "metadata": {},
     "output_type": "display_data"
    }
   ],
   "source": [
    "#   Draw a bar plot to see after bounded\n",
    "\"\"\"\n",
    "    Set bound after observing the user's retweet counts distributionns.\n",
    "    Most of the users distributed in the range of 1 to 3.\n",
    "\"\"\"\n",
    "\n",
    "\n",
    "bound = 5\n",
    "print(\"Total users :\", len(retweeters))\n",
    "print(\"Deleting users of retweet counts lower than %d : %d\" % (bound, sum(show_list[0:bound])))\n",
    "print(\"Total of target users : %d\" % sum(show_list[bound:]))\n",
    "\n",
    "color = (0.3, 0.9, 0.4, 0.6)\n",
    "plt.figure(figsize = (35,8))\n",
    "plt.title(\"User's retweet count after bounded\")\n",
    "plt.bar(label[bound:], show_list[bound:], color=color, width=0.8, align='center')\n",
    "plt.grid(True,color='r',alpha=0.3)\n",
    "plt.xlabel('Target users retweet count')\n",
    "plt.ylabel('Target user count')\n",
    "plt.xticks(rotation='vertical')\n",
    "for index, value in enumerate(show_list[bound:]):\n",
    "    plt.text(index, value, str(value))\n",
    "plt.show()"
   ]
  },
  {
   "cell_type": "code",
   "execution_count": 13,
   "metadata": {},
   "outputs": [],
   "source": [
    "wanna_find_target = False\n",
    "target_users = list()\n",
    "\n",
    "if path.exists(file_path + \"target_users.json\"):   # need to run the function to find target users\n",
    "    with open(file_path + \"target_users.json\", \"r\") as f:\n",
    "        json_file = json.load(f)\n",
    "        target_users = list(json_file)\n",
    "\n",
    "    \n",
    "else: # load the file of target users\n",
    "    target_users = FindTargetUser_MultiCore(\n",
    "        bound = bound,\n",
    "        retweeters = user_retweet_count,\n",
    "    )\n",
    "    target_users = sorted(target_users)\n",
    "    print(\"Target users :\", len(target_users))\n",
    "    with open(file_path + \"target_users.json\", \"w\") as f:\n",
    "        json.dump(target_users, f, indent=True)"
   ]
  },
  {
   "cell_type": "markdown",
   "metadata": {},
   "source": [
    "### 將過濾非 target users 以後的貼文的轉推數以及他與 target users 的比例轉為 dataframe並畫圖表"
   ]
  },
  {
   "cell_type": "code",
   "execution_count": 14,
   "metadata": {},
   "outputs": [
    {
     "data": {
      "image/png": "[encoded data removed]",
      "text/plain": [
       "<Figure size 3500x800 with 1 Axes>"
      ]
     },
     "metadata": {},
     "output_type": "display_data"
    }
   ],
   "source": [
    "# retweet count for each tweet after filtering\n",
    "count = [[], []]\n",
    "tmp = dict()\n",
    "for id in retweeter_dict.keys():\n",
    "    tmp[id] = set(target_users) & set(retweeter_dict[id])\n",
    "    count[0].append(len(tmp[id]))\n",
    "    count[1].append(len(retweeter_dict[id]))\n",
    "X = [str(i) for i in range(1, len(count[0])+1, 1)]\n",
    "X_axis = np.arange(len(X))\n",
    "\n",
    "plt.figure(figsize = (35,8))\n",
    "plt.bar(X_axis, count[0], width=0.3,  label='After')\n",
    "plt.bar(X_axis+0.35, count[1], width=0.3,  label='Before')\n",
    "plt.xticks(X_axis, X)\n",
    "plt.xlabel(\"Biden Tweets\")\n",
    "plt.ylabel(\"Retweet counts of each tweets\")\n",
    "plt.title(\"Retweet counts of each tweet after/before filtering\")\n",
    "plt.legend(bbox_to_anchor=(1,1), loc='upper left')\n",
    "plt.show()"
   ]
  },
  {
   "cell_type": "code",
   "execution_count": 15,
   "metadata": {},
   "outputs": [],
   "source": [
    "ori = [len(retweeter_dict[i]) for i in retweeter_dict.keys()]\n",
    "aft = [len(tmp[i]) for i in retweeter_dict.keys()]\n",
    "df_data = {\n",
    "    \"id\" : list(retweeter_dict.keys()),\n",
    "    \"Original retweet count\" : count[1],\n",
    "    \"After filtering\" : count[0]\n",
    "}\n",
    "my_df = pd.DataFrame(df_data)\n",
    "#my_df['id'] = my_df[id].astype('str')\n",
    "my_df['Ratio of after/total'] = my_df['After filtering'].div(len(retweeters)).round(3)\n",
    "my_df.to_excel(file_path + \"compare%d.xlsx\" % bound, index=False, header=True, sheet_name=\"Threshold=%d\" % bound)"
   ]
  },
  {
   "cell_type": "markdown",
   "metadata": {},
   "source": [
    "## <font color=\"pink\"> 開始針對 Day 11 ~ Day 17 的 Biden tweet 蒐集轉推的時間 </font> \n",
    "\n",
    "> - #### 把 dataG.xlsx 裡面的 tweet id 拿出來(biden_tweets)，送進 dataset.Get_User_Tweets_Multi()，原本 type 為 str，須轉換成 int\n",
    "> - #### crawling target user 的貼文牆，若有轉推這段時間內的貼文，寫進 txt file\n",
    ">       * txt : target id, referenced id, tweet id, created at"
   ]
  },
  {
   "cell_type": "code",
   "execution_count": 16,
   "metadata": {},
   "outputs": [
    {
     "data": {
      "text/plain": [
       "int"
      ]
     },
     "execution_count": 16,
     "metadata": {},
     "output_type": "execute_result"
    }
   ],
   "source": [
    "type(target_users[0])"
   ]
  },
  {
   "cell_type": "code",
   "execution_count": 17,
   "metadata": {},
   "outputs": [
    {
     "data": {
      "text/plain": [
       "'Biden/2022-11-07/'"
      ]
     },
     "execution_count": 17,
     "metadata": {},
     "output_type": "execute_result"
    }
   ],
   "source": [
    "file_path"
   ]
  },
  {
   "cell_type": "code",
   "execution_count": 18,
   "metadata": {},
   "outputs": [
    {
     "name": "stdout",
     "output_type": "stream",
     "text": [
      "Tweets for data graph:\n",
      "  * Tweets count : 71\n",
      "  * Element type : <class 'int'>\n"
     ]
    }
   ],
   "source": [
    "biden_tweets = list()\n",
    "with open(file_path + \"user_tweets/dataG.xlsx\", \"r\") as f:\n",
    "    df = pd.read_excel(file_path + \"user_tweets/dataG.xlsx\")\n",
    "    biden_tweets = list(df['id'].astype('int'))\n",
    "\n",
    "print(\"Tweets for data graph:\")\n",
    "print(\"  * Tweets count :\", len(biden_tweets))\n",
    "print(\"  * Element type :\", type(biden_tweets[0]))"
   ]
  },
  {
   "cell_type": "code",
   "execution_count": 19,
   "metadata": {},
   "outputs": [
    {
     "name": "stdout",
     "output_type": "stream",
     "text": [
      "Already crawled : 12923\n",
      "Target users : 12923\n",
      "ALL data had already crawled !\n"
     ]
    }
   ],
   "source": [
    "\"\"\"\n",
    "    get tweets from the post wall of each target user.\n",
    "    and dont captured those target users who already been crawed.\n",
    "\"\"\"\n",
    "\n",
    "dataset.Get_User_Tweets_Multi(\n",
    "    target_user=target_users,\n",
    "    biden_tweets=biden_tweets\n",
    ")\n"
   ]
  },
  {
   "cell_type": "code",
   "execution_count": 20,
   "metadata": {},
   "outputs": [
    {
     "name": "stdout",
     "output_type": "stream",
     "text": [
      "Already crawled : 8158\n",
      "Target users : 12922\n",
      "Start collecting followers of target users...\n",
      "2022-11-17 15:33:31.595253 Process 0 current : 9745602\n"
     ]
    },
    {
     "name": "stderr",
     "output_type": "stream",
     "text": [
      "Rate limit exceeded. Sleeping for 856 seconds.\n"
     ]
    },
    {
     "name": "stdout",
     "output_type": "stream",
     "text": [
      "2022-11-17 15:33:32.613234 Process 1 current : 71151452\n"
     ]
    },
    {
     "name": "stderr",
     "output_type": "stream",
     "text": [
      "Rate limit exceeded. Sleeping for 220 seconds.\n"
     ]
    },
    {
     "name": "stdout",
     "output_type": "stream",
     "text": [
      "2022-11-17 15:33:33.626898 Process 2 current : 126450712\n"
     ]
    },
    {
     "name": "stderr",
     "output_type": "stream",
     "text": [
      "Rate limit exceeded. Sleeping for 390 seconds.\n"
     ]
    },
    {
     "name": "stdout",
     "output_type": "stream",
     "text": [
      "2022-11-17 15:33:34.641147 Process 3 current : 315625544\n"
     ]
    },
    {
     "name": "stderr",
     "output_type": "stream",
     "text": [
      "Rate limit exceeded. Sleeping for 855 seconds.\n"
     ]
    },
    {
     "name": "stdout",
     "output_type": "stream",
     "text": [
      "2022-11-17 15:33:35.676580 Process 4 current : 600055511\n",
      "2022-11-17 15:33:36.688665 Process 5 current : 1532947802\n",
      "2022-11-17 15:33:36.790413 Process 4 current : 600648807\n",
      "2022-11-17 15:33:37.718479 Process 6 current : 2796863405\n",
      "2022-11-17 15:33:37.849527 Process 5 current : 1536796285\n"
     ]
    },
    {
     "name": "stderr",
     "output_type": "stream",
     "text": [
      "Rate limit exceeded. Sleeping for 850 seconds.\n",
      "Rate limit exceeded. Sleeping for 215 seconds.\n"
     ]
    },
    {
     "name": "stdout",
     "output_type": "stream",
     "text": [
      "2022-11-17 15:33:38.701300 Process 7 current : 703321989239447553\n",
      "2022-11-17 15:33:38.819908 Process 4 current : 601459279\n",
      "2022-11-17 15:33:39.715051 Process 8 current : 825127941507944448\n"
     ]
    },
    {
     "name": "stderr",
     "output_type": "stream",
     "text": [
      "Rate limit exceeded. Sleeping for 853 seconds.\n"
     ]
    },
    {
     "name": "stdout",
     "output_type": "stream",
     "text": [
      "2022-11-17 15:33:40.712616 Process 9 current : 960995321672294400\n",
      "2022-11-17 15:33:41.565878 Process 4 current : 938717942\n",
      "2022-11-17 15:33:41.720934 Process 10 current : 1177652811800051712\n",
      "2022-11-17 15:33:42.748188 Process 11 current : 1358617820712607744\n"
     ]
    },
    {
     "name": "stderr",
     "output_type": "stream",
     "text": [
      "Rate limit exceeded. Sleeping for 394 seconds.\n"
     ]
    },
    {
     "name": "stdout",
     "output_type": "stream",
     "text": [
      "2022-11-17 15:33:43.536524 Process 7 current : 704013051314372609\n",
      "2022-11-17 15:33:43.725116 Process 4 current : 940448438\n",
      "2022-11-17 15:33:43.732515 Process 12 current : 1446420307238178819\n",
      "2022-11-17 15:33:44.067222 Process 7 current : 704029128647798784\n",
      "2022-11-17 15:33:44.213871 Process 12 current : 1446423908035465217\n",
      "2022-11-17 15:33:44.438587 Process 4 current : 942447002\n",
      "2022-11-17 15:33:44.572917 Process 12 current : 1446524506303078431\n",
      "2022-11-17 15:33:44.617970 Process 7 current : 704342738012078080\n",
      "Wait for all process....\n",
      "2022-11-17 15:33:45.043269 Process 12 current : 1446783666026266624\n",
      "2022-11-17 15:33:45.397146 Process 12 current : 1446938825213812737\n",
      "2022-11-17 15:33:45.461729 Process 10 current : 1177728617025064961\n",
      "2022-11-17 15:33:45.764965 Process 10 current : 1177773004228571136\n",
      "2022-11-17 15:33:45.819283 Process 12 current : 1447198923379068937\n",
      "2022-11-17 15:33:46.751089 Process 7 current : 704428571939336192\n"
     ]
    },
    {
     "name": "stderr",
     "output_type": "stream",
     "text": [
      "Rate limit exceeded. Sleeping for 843 seconds.\n"
     ]
    },
    {
     "name": "stdout",
     "output_type": "stream",
     "text": [
      "2022-11-17 15:33:47.171279 Process 12 current : 1447243054369308674\n",
      "2022-11-17 15:33:47.547217 Process 12 current : 1447245527658156032\n",
      "2022-11-17 15:33:47.579281 Process 10 current : 1178022762411184128\n",
      "2022-11-17 15:33:48.014040 Process 12 current : 1447403355618304003\n",
      "2022-11-17 15:33:48.403854 Process 10 current : 1178453431754752000\n",
      "2022-11-17 15:33:48.902359 Process 10 current : 1178793548222566401\n",
      "2022-11-17 15:33:48.932529 Process 12 current : 1447594125931470857\n"
     ]
    },
    {
     "name": "stderr",
     "output_type": "stream",
     "text": [
      "Rate limit exceeded. Sleeping for 887 seconds.\n"
     ]
    },
    {
     "name": "stdout",
     "output_type": "stream",
     "text": [
      "2022-11-17 15:33:49.363789 Process 12 current : 1447656852272005121\n",
      "2022-11-17 15:33:50.307484 Process 10 current : 1178822573897011201\n",
      "2022-11-17 15:33:50.660330 Process 10 current : 1179095011457196034\n",
      "2022-11-17 15:33:51.174743 Process 10 current : 1179124044752404482\n",
      "2022-11-17 15:33:54.532264 Process 9 current : 961113478718246912\n"
     ]
    },
    {
     "name": "stderr",
     "output_type": "stream",
     "text": [
      "Rate limit exceeded. Sleeping for 887 seconds.\n",
      "Rate limit exceeded. Sleeping for 172 seconds.\n"
     ]
    },
    {
     "name": "stdout",
     "output_type": "stream",
     "text": [
      "2022-11-17 15:37:14.074711 Process 6 current : 2798807857\n",
      "2022-11-17 15:37:16.024460 Process 6 current : 2800591331\n",
      "2022-11-17 15:37:16.473060 Process 6 current : 2802250017\n",
      "2022-11-17 15:37:24.456517 Process 6 current : 2802308323\n"
     ]
    },
    {
     "name": "stderr",
     "output_type": "stream",
     "text": [
      "Rate limit exceeded. Sleeping for 890 seconds.\n"
     ]
    },
    {
     "name": "stdout",
     "output_type": "stream",
     "text": [
      "2022-11-17 15:40:04.835822 Process 2 current : 247487559\n",
      "2022-11-17 15:40:06.496958 Process 2 current : 247513550\n",
      "2022-11-17 15:40:06.843203 Process 2 current : 247642500\n",
      "2022-11-17 15:40:12.823960 Process 2 current : 247744426\n"
     ]
    },
    {
     "name": "stderr",
     "output_type": "stream",
     "text": [
      "Rate limit exceeded. Sleeping for 892 seconds.\n",
      "Rate limit exceeded. Sleeping for 889 seconds.\n"
     ]
    },
    {
     "name": "stdout",
     "output_type": "stream",
     "text": [
      "2022-11-17 15:40:22.168834 Process 11 current : 1358899343378550799\n",
      "2022-11-17 15:40:22.433653 Process 11 current : 1358998034735112195\n",
      "2022-11-17 15:40:23.363408 Process 11 current : 1359024248245862402\n"
     ]
    },
    {
     "name": "stderr",
     "output_type": "stream",
     "text": [
      "Rate limit exceeded. Sleeping for 891 seconds.\n"
     ]
    },
    {
     "name": "stdout",
     "output_type": "stream",
     "text": [
      "2022-11-17 15:47:48.746552 Process 0 current : 9874942\n",
      "2022-11-17 15:47:49.731797 Process 0 current : 10001212\n",
      "2022-11-17 15:47:50.695586 Process 7 current : 704501696525787136\n",
      "2022-11-17 15:47:51.101567 Process 3 current : 315990434\n",
      "2022-11-17 15:47:51.200161 Process 7 current : 789088712143409152\n",
      "2022-11-17 15:47:51.619688 Process 5 current : 1537157346\n",
      "2022-11-17 15:47:51.646393 Process 7 current : 789134823885418496\n",
      "2022-11-17 15:47:51.667905 Process 3 current : 484153762\n",
      "2022-11-17 15:47:51.983092 Process 7 current : 789146002393563136\n",
      "2022-11-17 15:47:52.189056 Process 3 current : 484286254\n",
      "2022-11-17 15:47:52.467769 Process 7 current : 789558747190394880\n",
      "2022-11-17 15:47:52.622048 Process 3 current : 484418111\n",
      "2022-11-17 15:47:53.258520 Process 7 current : 789722813355601920\n",
      "2022-11-17 15:47:53.342439 Process 5 current : 2022-11-17 15:47:53.3449011537307496\n",
      " Process 0 current : 11586452\n",
      "2022-11-17 15:47:53.645535 Process 7 current : 789884562310631424\n",
      "2022-11-17 15:47:54.034395 Process 5 current : 2296781690\n",
      "2022-11-17 15:47:54.107884 Process 3 current : 485376798\n",
      "2022-11-17 15:47:54.186010 Process 7 current : 790260823872663552\n",
      "2022-11-17 15:47:54.822295 Process 5 current : 2296973810\n"
     ]
    },
    {
     "name": "stderr",
     "output_type": "stream",
     "text": [
      "Rate limit exceeded. Sleeping for 894 seconds.\n"
     ]
    },
    {
     "name": "stdout",
     "output_type": "stream",
     "text": [
      "2022-11-17 15:47:55.599399 Process 3 current : 485860936\n",
      "2022-11-17 15:47:55.710064 Process 8 current : 825136470662975488\n"
     ]
    },
    {
     "name": "stderr",
     "output_type": "stream",
     "text": [
      "Rate limit exceeded. Sleeping for 894 seconds.\n"
     ]
    },
    {
     "name": "stdout",
     "output_type": "stream",
     "text": [
      "2022-11-17 15:47:56.100292 Process 3 current : 486081900\n",
      "2022-11-17 15:47:56.191102 Process 8 current : 825146425721905152\n"
     ]
    },
    {
     "name": "stderr",
     "output_type": "stream",
     "text": [
      "Rate limit exceeded. Sleeping for 894 seconds.\n",
      "Rate limit exceeded. Sleeping for 893 seconds.\n",
      "Rate limit exceeded. Sleeping for 888 seconds.\n"
     ]
    },
    {
     "name": "stdout",
     "output_type": "stream",
     "text": [
      "2022-11-17 15:48:40.196818 Process 4 current : 942698893\n",
      "2022-11-17 15:48:40.649858 Process 4 current : 943389476\n",
      "2022-11-17 15:48:42.412890 Process 4 current : 944653086\n",
      "2022-11-17 15:48:42.935751 Process 4 current : 946119746\n",
      "2022-11-17 15:48:43.388516 Process 4 current : 946259028\n",
      "2022-11-17 15:48:43.399431 Process 9 current : 961255438049333249\n",
      "2022-11-17 15:48:43.925818 Process 9 current : 961277402813956096\n",
      "2022-11-17 15:48:44.132803 Process 4 current : 946344888\n",
      "2022-11-17 15:48:44.463328 Process 9 current : 961359893910425600\n",
      "2022-11-17 15:48:44.816829 Process 9 current : 961633209590145025\n",
      "2022-11-17 15:48:45.111871 Process 9 current : 961860755690696704\n",
      "2022-11-17 15:48:45.494994 Process 9 current : 962381519024095232\n",
      "2022-11-17 15:48:46.763896 Process 9 current : 1073690437620260865\n",
      "2022-11-17 15:48:47.144105 Process 9 current : 1074276408535511040\n"
     ]
    },
    {
     "name": "stderr",
     "output_type": "stream",
     "text": [
      "Rate limit exceeded. Sleeping for 889 seconds.\n",
      "Rate limit exceeded. Sleeping for 891 seconds.\n"
     ]
    },
    {
     "name": "stdout",
     "output_type": "stream",
     "text": [
      "2022-11-17 15:52:16.725062 Process 6 current : 4269803603\n",
      "2022-11-17 15:52:17.455259 Process 6 current : 4273097474\n",
      "2022-11-17 15:52:18.374665 Process 6 current : 4278039155\n",
      "2022-11-17 15:52:20.976943 Process 6 current : 4281570916\n"
     ]
    },
    {
     "name": "stderr",
     "output_type": "stream",
     "text": [
      "Rate limit exceeded. Sleeping for 892 seconds.\n",
      "Rate limit exceeded. Sleeping for 892 seconds.\n",
      "Rate limit exceeded. Sleeping for 888 seconds.\n",
      "Rate limit exceeded. Sleeping for 887 seconds.\n"
     ]
    },
    {
     "name": "stdout",
     "output_type": "stream",
     "text": [
      "2022-11-17 16:02:50.055605 Process 0 current : 12008902\n",
      "2022-11-17 16:02:50.550228 Process 0 current : 12613032\n",
      "2022-11-17 16:02:50.968481 Process 5 current : 2297119045\n",
      "2022-11-17 16:02:51.694786 Process 5 current : 2297446780\n",
      "2022-11-17 16:02:52.188939 Process 5 current : 2298289777\n",
      "2022-11-17 16:02:52.461181 Process 0 current : 12879202\n",
      "2022-11-17 16:02:53.229708 Process 0 current : 12901492\n",
      "2022-11-17 16:02:53.325881 Process 3 current : 486219797\n",
      "2022-11-17 16:02:54.481499 Process 0 current : 12959802\n",
      "2022-11-17 16:02:54.939570 Process 0 current : 12978042\n"
     ]
    },
    {
     "name": "stderr",
     "output_type": "stream",
     "text": [
      "Rate limit exceeded. Sleeping for 894 seconds.\n"
     ]
    },
    {
     "name": "stdout",
     "output_type": "stream",
     "text": [
      "2022-11-17 16:02:56.576935 Process 3 current : 486252487\n",
      "2022-11-17 16:02:56.943206 Process 3 current : 486288432\n",
      "2022-11-17 16:02:57.392135 Process 3 current : 486316267\n"
     ]
    },
    {
     "name": "stderr",
     "output_type": "stream",
     "text": [
      "Rate limit exceeded. Sleeping for 893 seconds.\n"
     ]
    },
    {
     "name": "stdout",
     "output_type": "stream",
     "text": [
      "2022-11-17 16:02:58.858021 Process 3 current : 486604083\n"
     ]
    },
    {
     "name": "stderr",
     "output_type": "stream",
     "text": [
      "Rate limit exceeded. Sleeping for 893 seconds.\n",
      "Rate limit exceeded. Sleeping for 893 seconds.\n"
     ]
    },
    {
     "name": "stdout",
     "output_type": "stream",
     "text": [
      "2022-11-17 16:03:01.147531 Process 8 current : 825155032462921729\n",
      "2022-11-17 16:03:01.615984 Process 8 current : 825164378215432192\n",
      "2022-11-17 16:03:02.168479 Process 8 current : 825181652120788993\n",
      "2022-11-17 16:03:02.743604 Process 8 current : 825271813462585345\n",
      "2022-11-17 16:03:03.677123 Process 8 current : 919042632801771520\n",
      "2022-11-17 16:03:04.054528 Process 8 current : 919634578276601856\n",
      "2022-11-17 16:03:04.491388 Process 8 current : 920134096956936192\n"
     ]
    },
    {
     "name": "stderr",
     "output_type": "stream",
     "text": [
      "Rate limit exceeded. Sleeping for 891 seconds.\n"
     ]
    },
    {
     "name": "stdout",
     "output_type": "stream",
     "text": [
      "2022-11-17 16:03:48.281468 Process 9 current : 1074356871174209536\n",
      "2022-11-17 16:03:48.636334 Process 9 current : 1074426324545097729\n",
      "2022-11-17 16:03:49.523800 Process 9 current : 1074729218632806401\n"
     ]
    },
    {
     "name": "stderr",
     "output_type": "stream",
     "text": [
      "Rate limit exceeded. Sleeping for 888 seconds.\n"
     ]
    },
    {
     "name": "stdout",
     "output_type": "stream",
     "text": [
      "2022-11-17 16:03:53.520497 Process 9 current : 1074751613586284544\n",
      "2022-11-17 16:03:55.200896 Process 9 current : 1074780816864149505\n"
     ]
    },
    {
     "name": "stderr",
     "output_type": "stream",
     "text": [
      "Rate limit exceeded. Sleeping for 889 seconds.\n"
     ]
    },
    {
     "name": "stdout",
     "output_type": "stream",
     "text": [
      "2022-11-17 16:07:17.718449 Process 6 current : 4281996913\n",
      "2022-11-17 16:07:19.549535 Process 6 current : 4284893477\n",
      "2022-11-17 16:07:19.958315 Process 6 current : 4285787714\n",
      "2022-11-17 16:07:20.468943 Process 6 current : 4289447063\n",
      "2022-11-17 16:07:22.980030 Process 6 current : 4291563924\n",
      "2022-11-17 16:07:23.760907 Process 6 current : 4324505358\n",
      "2022-11-17 16:07:24.286625 Process 6 current : 4325736022\n",
      "2022-11-17 16:07:24.683063 Process 6 current : 4330089263\n",
      "2022-11-17 16:07:25.446543 Process 6 current : 4330986263\n"
     ]
    },
    {
     "name": "stderr",
     "output_type": "stream",
     "text": [
      "Rate limit exceeded. Sleeping for 892 seconds.\n",
      "Rate limit exceeded. Sleeping for 892 seconds.\n",
      "Rate limit exceeded. Sleeping for 892 seconds.\n"
     ]
    },
    {
     "name": "stdout",
     "output_type": "stream",
     "text": [
      "2022-11-17 16:10:23.519119 Process 11 current : 1359169839999447042\n",
      "2022-11-17 16:10:23.902779 Process 11 current : 1359209281359282176\n",
      "2022-11-17 16:10:24.232325 Process 11 current : 1359620851952418826\n",
      "2022-11-17 16:10:24.941856 Process 11 current : 1360051439951745024\n",
      "2022-11-17 16:10:25.692747 Process 11 current : 1360399724344442881\n",
      "2022-11-17 16:10:26.474005 Process 11 current : 1360631013215526915\n"
     ]
    },
    {
     "name": "stderr",
     "output_type": "stream",
     "text": [
      "Rate limit exceeded. Sleeping for 889 seconds.\n"
     ]
    },
    {
     "name": "stdout",
     "output_type": "stream",
     "text": [
      "2022-11-17 16:17:52.860248 Process 7 current : 790889950250164224\n",
      "2022-11-17 16:17:53.188924 Process 3 current : 4867384182022-11-17 16:17:53.191705\n",
      " Process 7 current : 790964547494506496\n",
      "2022-11-17 16:17:55.291906 Process 0 current : 13568912\n",
      "2022-11-17 16:17:55.956709 Process 3 current : 486908878\n",
      "2022-11-17 16:17:56.404449 Process 8 current : 920382898812997634\n"
     ]
    },
    {
     "name": "stderr",
     "output_type": "stream",
     "text": [
      "Rate limit exceeded. Sleeping for 894 seconds.\n"
     ]
    },
    {
     "name": "stdout",
     "output_type": "stream",
     "text": [
      "2022-11-17 16:17:58.095085 Process 8 current : 920642810788925440\n",
      "2022-11-17 16:17:58.156882 Process 7 current : 791699585223712768\n",
      "2022-11-17 16:17:58.600715 Process 7 current : 791911915077439488\n",
      "2022-11-17 16:17:59.031118 Process 7 current : 792398794059026435\n",
      "2022-11-17 16:17:59.437840 Process 7 current : 792403496825974786\n"
     ]
    },
    {
     "name": "stderr",
     "output_type": "stream",
     "text": [
      "Rate limit exceeded. Sleeping for 893 seconds.\n"
     ]
    },
    {
     "name": "stdout",
     "output_type": "stream",
     "text": [
      "2022-11-17 16:18:00.773849 Process 7 current : 792797789927378944\n"
     ]
    },
    {
     "name": "stderr",
     "output_type": "stream",
     "text": [
      "Rate limit exceeded. Sleeping for 892 seconds.\n",
      "Rate limit exceeded. Sleeping for 890 seconds.\n",
      "Rate limit exceeded. Sleeping for 889 seconds.\n",
      "Rate limit exceeded. Sleeping for 886 seconds.\n",
      "Rate limit exceeded. Sleeping for 887 seconds.\n"
     ]
    },
    {
     "name": "stdout",
     "output_type": "stream",
     "text": [
      "2022-11-17 16:22:20.616307 Process 6 current : 4332284595\n",
      "2022-11-17 16:22:21.477958 Process 6 current : 4332709972\n",
      "2022-11-17 16:22:21.917991 Process 6 current : 4333302880\n",
      "2022-11-17 16:22:22.388451 Process 6 current : 4337074513\n",
      "2022-11-17 16:22:23.315029 Process 6 current : 4339608079\n",
      "2022-11-17 16:22:24.701235 Process 6 current : 4350479772\n"
     ]
    },
    {
     "name": "stderr",
     "output_type": "stream",
     "text": [
      "Rate limit exceeded. Sleeping for 889 seconds.\n",
      "Rate limit exceeded. Sleeping for 892 seconds.\n",
      "Rate limit exceeded. Sleeping for 887 seconds.\n",
      "Rate limit exceeded. Sleeping for 892 seconds.\n"
     ]
    },
    {
     "name": "stdout",
     "output_type": "stream",
     "text": [
      "2022-11-17 16:32:53.767042 Process 7 current : 793271243810234368\n",
      "2022-11-17 16:32:54.212974 Process 7 current : 793367160341094400\n",
      "2022-11-17 16:32:55.991537 Process 3 current : 487197564\n",
      "2022-11-17 16:32:58.120865 Process 7 current : 793513080428822528\n",
      "2022-11-17 16:32:58.322186 Process 3 current : 487228241\n",
      "2022-11-17 16:32:58.583441 Process 7 current : 793528147102818304\n"
     ]
    },
    {
     "name": "stderr",
     "output_type": "stream",
     "text": [
      "Rate limit exceeded. Sleeping for 894 seconds.\n"
     ]
    },
    {
     "name": "stdout",
     "output_type": "stream",
     "text": [
      "2022-11-17 16:32:59.662246 Process 3 current : 487642650\n",
      "2022-11-17 16:33:00.837785 Process 7 current : 793560323609460736\n"
     ]
    },
    {
     "name": "stderr",
     "output_type": "stream",
     "text": [
      "Rate limit exceeded. Sleeping for 892 seconds.\n"
     ]
    },
    {
     "name": "stdout",
     "output_type": "stream",
     "text": [
      "2022-11-17 16:33:01.474303 Process 7 current : 793586145254748160\n",
      "2022-11-17 16:33:01.817552 Process 7 current : 793600604283305984\n"
     ]
    },
    {
     "name": "stderr",
     "output_type": "stream",
     "text": [
      "Rate limit exceeded. Sleeping for 891 seconds.\n",
      "Rate limit exceeded. Sleeping for 892 seconds.\n"
     ]
    },
    {
     "name": "stdout",
     "output_type": "stream",
     "text": [
      "2022-11-17 16:33:03.941613 Process 8 current : 921246007077175296\n",
      "2022-11-17 16:33:04.346825 Process 8 current : 921398887541121024\n",
      "2022-11-17 16:33:06.220302 Process 8 current : 921464207312289793\n"
     ]
    },
    {
     "name": "stderr",
     "output_type": "stream",
     "text": [
      "Rate limit exceeded. Sleeping for 889 seconds.\n",
      "Rate limit exceeded. Sleeping for 888 seconds.\n",
      "Rate limit exceeded. Sleeping for 888 seconds.\n"
     ]
    },
    {
     "name": "stdout",
     "output_type": "stream",
     "text": [
      "2022-11-17 16:37:22.276229 Process 6 current : 4351263087\n",
      "2022-11-17 16:37:24.589703 Process 6 current : 4351318152\n",
      "2022-11-17 16:37:27.365788 Process 6 current : 4352202027\n",
      "2022-11-17 16:37:27.763263 Process 6 current : 4352212707\n",
      "2022-11-17 16:37:28.166592 Process 6 current : 4363085188\n",
      "2022-11-17 16:37:28.718939 Process 6 current : 4367035762\n"
     ]
    },
    {
     "name": "stderr",
     "output_type": "stream",
     "text": [
      "Rate limit exceeded. Sleeping for 890 seconds.\n"
     ]
    },
    {
     "name": "stdout",
     "output_type": "stream",
     "text": [
      "2022-11-17 16:40:11.101308 Process 2 current : 247889672\n",
      "2022-11-17 16:40:12.565898 Process 2 current : 247961366\n",
      "2022-11-17 16:40:13.164635 Process 2 current : 248432782\n",
      "2022-11-17 16:40:13.539473 Process 2 current : 248616212\n",
      "2022-11-17 16:40:13.947352 Process 2 current : 248688460\n",
      "2022-11-17 16:40:15.440853 Process 2 current : 248695826\n",
      "2022-11-17 16:40:15.903093 Process 2 current : 248825254\n"
     ]
    },
    {
     "name": "stderr",
     "output_type": "stream",
     "text": [
      "Rate limit exceeded. Sleeping for 893 seconds.\n",
      "Rate limit exceeded. Sleeping for 892 seconds.\n",
      "Rate limit exceeded. Sleeping for 893 seconds.\n"
     ]
    },
    {
     "name": "stdout",
     "output_type": "stream",
     "text": [
      "2022-11-17 16:47:53.496342 Process 0 current : 13753532\n",
      "2022-11-17 16:47:53.800289 Process 5 current : 2299327182\n",
      "2022-11-17 16:47:54.665459 Process 5 current : 2300104914\n",
      "2022-11-17 16:47:55.047741 Process 5 current : 2301659114\n",
      "2022-11-17 16:47:56.251194 Process 5 current : 2302272980\n",
      "2022-11-17 16:47:56.861125 Process 7 current : 793971883616124929\n",
      "2022-11-17 16:47:57.492435 Process 5 current : 2304058364\n",
      "2022-11-17 16:47:57.764766 Process 5 current : 2304220740\n",
      "2022-11-17 16:47:58.516339 Process 0 current : 14049972\n",
      "2022-11-17 16:47:59.011345 Process 0 current : 14063008\n"
     ]
    },
    {
     "name": "stderr",
     "output_type": "stream",
     "text": [
      "Rate limit exceeded. Sleeping for 895 seconds.\n",
      "Rate limit exceeded. Sleeping for 895 seconds.\n"
     ]
    },
    {
     "name": "stdout",
     "output_type": "stream",
     "text": [
      "2022-11-17 16:48:02.928229 Process 8 current : 921746390656671744\n",
      "2022-11-17 16:48:03.389328 Process 8 current : 921869201782042625\n",
      "2022-11-17 16:48:03.774395 Process 8 current : 921886547124858880\n",
      "2022-11-17 16:48:04.165354 Process 8 current : 921931517093400576\n",
      "2022-11-17 16:48:04.587297 Process 8 current : 921947460863344642\n",
      "2022-11-17 16:48:05.550025 Process 8 current : 922471070552215553\n"
     ]
    },
    {
     "name": "stderr",
     "output_type": "stream",
     "text": [
      "Rate limit exceeded. Sleeping for 894 seconds.\n",
      "Rate limit exceeded. Sleeping for 892 seconds.\n",
      "Rate limit exceeded. Sleeping for 889 seconds.\n",
      "Rate limit exceeded. Sleeping for 887 seconds.\n"
     ]
    },
    {
     "name": "stdout",
     "output_type": "stream",
     "text": [
      "2022-11-17 16:48:58.976027 Process 9 current : 1075555660916514817\n",
      "2022-11-17 16:48:59.375872 Process 9 current : 1075862747315810305\n",
      "2022-11-17 16:48:59.803545 Process 9 current : 1075917574741856256\n"
     ]
    },
    {
     "name": "stderr",
     "output_type": "stream",
     "text": [
      "Rate limit exceeded. Sleeping for 888 seconds.\n"
     ]
    },
    {
     "name": "stdout",
     "output_type": "stream",
     "text": [
      "2022-11-17 16:52:21.862268 Process 6 current : 4373109794\n",
      "2022-11-17 16:52:22.651724 Process 6 current : 4375520925\n",
      "2022-11-17 16:52:26.421043 Process 6 current : 4382804954\n",
      "2022-11-17 16:52:29.399846 Process 6 current : 4386243922\n",
      "2022-11-17 16:52:29.767969 Process 6 current : 4392756681\n"
     ]
    },
    {
     "name": "stderr",
     "output_type": "stream",
     "text": [
      "Rate limit exceeded. Sleeping for 891 seconds.\n"
     ]
    },
    {
     "name": "stdout",
     "output_type": "stream",
     "text": [
      "2022-11-17 16:55:11.012250 Process 2 current : 248896092\n"
     ]
    },
    {
     "name": "stderr",
     "output_type": "stream",
     "text": [
      "Rate limit exceeded. Sleeping for 892 seconds.\n",
      "Rate limit exceeded. Sleeping for 892 seconds.\n"
     ]
    },
    {
     "name": "stdout",
     "output_type": "stream",
     "text": [
      "2022-11-17 16:55:25.387259 Process 11 current : 1360693131671343108\n",
      "2022-11-17 16:55:25.762845 Process 11 current : 1360946951454404615\n",
      "2022-11-17 16:55:27.654495 Process 11 current : 1361097544676311041\n",
      "2022-11-17 16:55:28.176166 Process 11 current : 1361133918389436416\n",
      "2022-11-17 16:55:29.035999 Process 11 current : 1361416296672464902\n",
      "2022-11-17 16:55:29.581140 Process 11 current : 1361496222301757444\n",
      "2022-11-17 16:55:31.406631 Process 11 current : 1361709432942583809\n"
     ]
    },
    {
     "name": "stderr",
     "output_type": "stream",
     "text": [
      "Rate limit exceeded. Sleeping for 893 seconds.\n"
     ]
    },
    {
     "name": "stdout",
     "output_type": "stream",
     "text": [
      "2022-11-17 17:02:56.058649 Process 7 current : 794619537559814144\n",
      "2022-11-17 17:02:56.911613 Process 7 current : 794923583143149568\n",
      "2022-11-17 17:02:57.055178 Process 0 current : 14070906\n",
      "2022-11-17 17:02:57.846271 Process 0 current : 14135426\n",
      "2022-11-17 17:02:58.296154 Process 5 current : 2304855368\n",
      "2022-11-17 17:02:59.032429 Process 3 current : 488024510\n",
      "2022-11-17 17:02:59.396373 Process 7 current : 794938549451759616\n",
      "2022-11-17 17:02:59.416239 Process 3 current : 488056864\n",
      "2022-11-17 17:02:59.973473 Process 7 current : 795419057487024129\n",
      "2022-11-17 17:02:59.996875 Process 3 current : 488080732\n",
      "2022-11-17 17:03:00.426989 Process 3 current : 489691285\n",
      "2022-11-17 17:03:00.457442 Process 8 current : 922606499888758787\n"
     ]
    },
    {
     "name": "stderr",
     "output_type": "stream",
     "text": [
      "Rate limit exceeded. Sleeping for 895 seconds.\n"
     ]
    },
    {
     "name": "stdout",
     "output_type": "stream",
     "text": [
      "2022-11-17 17:03:00.964885 Process 8 current : 922613656667422722\n",
      "2022-11-17 17:03:01.357111 Process 7 current : 795629889663762432\n"
     ]
    },
    {
     "name": "stderr",
     "output_type": "stream",
     "text": [
      "Rate limit exceeded. Sleeping for 895 seconds.\n"
     ]
    },
    {
     "name": "stdout",
     "output_type": "stream",
     "text": [
      "2022-11-17 17:03:02.904916 Process 7 current : 795742382411157504\n"
     ]
    },
    {
     "name": "stderr",
     "output_type": "stream",
     "text": [
      "Rate limit exceeded. Sleeping for 893 seconds.\n",
      "Rate limit exceeded. Sleeping for 895 seconds.\n",
      "Rate limit exceeded. Sleeping for 893 seconds.\n"
     ]
    },
    {
     "name": "stdout",
     "output_type": "stream",
     "text": [
      "2022-11-17 17:03:50.053243 Process 9 current : 1075982724958175232\n",
      "2022-11-17 17:03:50.343830 Process 9 current : 1076142148502859776\n",
      "2022-11-17 17:03:51.797312 Process 9 current : 1076641621352034306\n",
      "2022-11-17 17:03:52.224098 Process 9 current : 1076847120143925251\n",
      "2022-11-17 17:03:54.814963 Process 9 current : 1076972630635274240\n",
      "2022-11-17 17:03:57.090441 Process 9 current : 1076973002045177856\n",
      "2022-11-17 17:03:57.557098 Process 9 current : 1077033312722530304\n"
     ]
    },
    {
     "name": "stderr",
     "output_type": "stream",
     "text": [
      "Rate limit exceeded. Sleeping for 888 seconds.\n"
     ]
    },
    {
     "name": "stdout",
     "output_type": "stream",
     "text": [
      "2022-11-17 17:03:57.937996 Process 9 current : 1077062362836815872\n",
      "2022-11-17 17:03:58.438157 Process 9 current : 1077225059939467266\n",
      "2022-11-17 17:03:58.821584 Process 9 current : 1077505055345922048\n"
     ]
    },
    {
     "name": "stderr",
     "output_type": "stream",
     "text": [
      "Rate limit exceeded. Sleeping for 891 seconds.\n"
     ]
    },
    {
     "name": "stdout",
     "output_type": "stream",
     "text": [
      "2022-11-17 17:07:23.000896 Process 6 current : 4398387029\n",
      "2022-11-17 17:07:23.495821 Process 6 current : 4403491572\n",
      "2022-11-17 17:07:25.778109 Process 6 current : 4403932461\n",
      "2022-11-17 17:07:26.204543 Process 6 current : 4407038333\n",
      "2022-11-17 17:07:26.732617 Process 6 current : 4410959969\n",
      "2022-11-17 17:07:27.150454 Process 6 current : 4411102649\n",
      "2022-11-17 17:07:30.788180 Process 6 current : 4412143822\n"
     ]
    },
    {
     "name": "stderr",
     "output_type": "stream",
     "text": [
      "Rate limit exceeded. Sleeping for 891 seconds.\n",
      "Rate limit exceeded. Sleeping for 892 seconds.\n",
      "Rate limit exceeded. Sleeping for 892 seconds.\n"
     ]
    },
    {
     "name": "stdout",
     "output_type": "stream",
     "text": [
      "2022-11-17 17:10:25.338995 Process 11 current : 1361912669070970881\n",
      "2022-11-17 17:10:25.799271 Process 11 current : 1362032884538834947\n",
      "2022-11-17 17:10:26.668938 Process 11 current : 1362447067440951302\n",
      "2022-11-17 17:10:27.431490 Process 11 current : 1362478499186016259\n",
      "2022-11-17 17:10:28.016371 Process 11 current : 1362607921020952580\n"
     ]
    },
    {
     "name": "stderr",
     "output_type": "stream",
     "text": [
      "Rate limit exceeded. Sleeping for 892 seconds.\n",
      "Rate limit exceeded. Sleeping for 894 seconds.\n",
      "Rate limit exceeded. Sleeping for 894 seconds.\n"
     ]
    },
    {
     "name": "stdout",
     "output_type": "stream",
     "text": [
      "2022-11-17 17:18:03.733122 Process 5 current : 2307213114\n",
      "2022-11-17 17:18:04.085697 Process 3 current : 489840309\n",
      "2022-11-17 17:18:04.162263 Process 5 current : 2307669031\n",
      "2022-11-17 17:18:04.883731 Process 3 current : 490366025\n"
     ]
    },
    {
     "name": "stderr",
     "output_type": "stream",
     "text": [
      "Rate limit exceeded. Sleeping for 895 seconds.\n"
     ]
    },
    {
     "name": "stdout",
     "output_type": "stream",
     "text": [
      "2022-11-17 17:18:09.304509 Process 3 current : 490384585\n"
     ]
    },
    {
     "name": "stderr",
     "output_type": "stream",
     "text": [
      "Rate limit exceeded. Sleeping for 892 seconds.\n"
     ]
    },
    {
     "name": "stdout",
     "output_type": "stream",
     "text": [
      "2022-11-17 17:18:10.979880 Process 3 current : 490393163\n"
     ]
    },
    {
     "name": "stderr",
     "output_type": "stream",
     "text": [
      "Rate limit exceeded. Sleeping for 889 seconds.\n"
     ]
    },
    {
     "name": "stdout",
     "output_type": "stream",
     "text": [
      "2022-11-17 17:18:50.552818 Process 9 current : 1078270075847802882\n",
      "2022-11-17 17:18:51.332553 Process 9 current : 1078286231182692352\n",
      "2022-11-17 17:18:52.170728 Process 9 current : 1078640776513548289\n",
      "2022-11-17 17:18:52.569216 Process 9 current : 1078747118804832256\n",
      "2022-11-17 17:18:53.465695 Process 9 current : 1079044640974737408\n",
      "2022-11-17 17:18:54.179743 Process 9 current : 1079075425819680769\n",
      "2022-11-17 17:18:58.327900 Process 9 current : 1079083358146064384\n",
      "2022-11-17 17:18:58.773622 Process 9 current : 1079107164143276034\n",
      "2022-11-17 17:18:59.541765 Process 9 current : 1079132387605266432\n"
     ]
    },
    {
     "name": "stderr",
     "output_type": "stream",
     "text": [
      "Rate limit exceeded. Sleeping for 887 seconds.\n",
      "Rate limit exceeded. Sleeping for 890 seconds.\n"
     ]
    },
    {
     "name": "stdout",
     "output_type": "stream",
     "text": [
      "2022-11-17 17:22:25.010326 Process 6 current : 4416121001\n",
      "2022-11-17 17:22:25.438830 Process 6 current : 4417145253\n",
      "2022-11-17 17:22:25.775327 Process 6 current : 4418940743\n",
      "2022-11-17 17:22:26.603793 Process 6 current : 4420001009\n",
      "2022-11-17 17:22:27.534576 Process 6 current : 4433296940\n",
      "2022-11-17 17:22:28.002055 Process 6 current : 4435673712\n",
      "2022-11-17 17:22:28.888805 Process 6 current : 4440909147\n",
      "2022-11-17 17:22:29.715365 Process 6 current : 4452187707\n",
      "2022-11-17 17:22:30.153450 Process 6 current : 4466733072\n",
      "2022-11-17 17:22:30.562821 Process 6 current : 4476084275\n"
     ]
    },
    {
     "name": "stderr",
     "output_type": "stream",
     "text": [
      "Rate limit exceeded. Sleeping for 891 seconds.\n",
      "Rate limit exceeded. Sleeping for 892 seconds.\n",
      "Rate limit exceeded. Sleeping for 893 seconds.\n"
     ]
    },
    {
     "name": "stdout",
     "output_type": "stream",
     "text": [
      "2022-11-17 17:25:31.062294 Process 11 current : 1362773037368692743\n",
      "2022-11-17 17:25:31.374869 Process 11 current : 1362911757237424129\n",
      "2022-11-17 17:25:31.879973 Process 11 current : 1363198042581524482\n",
      "2022-11-17 17:25:32.349105 Process 11 current : 1363298622440357888\n",
      "2022-11-17 17:25:32.845286 Process 11 current : 1363568080652181504\n",
      "2022-11-17 17:25:34.570913 Process 11 current : 1363912931151384588\n",
      "2022-11-17 17:25:35.449257 Process 11 current : 1364091261171339266\n",
      "2022-11-17 17:25:35.952460 Process 11 current : 1364097628829405189\n"
     ]
    },
    {
     "name": "stderr",
     "output_type": "stream",
     "text": [
      "Rate limit exceeded. Sleeping for 890 seconds.\n"
     ]
    },
    {
     "name": "stdout",
     "output_type": "stream",
     "text": [
      "2022-11-17 17:33:00.841370 Process 3 current : 490636475\n",
      "2022-11-17 17:33:01.753352 Process 5 current : 2308345490\n",
      "2022-11-17 17:33:02.535647 Process 5 current : 2308769400\n",
      "2022-11-17 17:33:02.925107 Process 5 current : 2310553686\n",
      "2022-11-17 17:33:03.141280 Process 3 current : 490731852\n",
      "2022-11-17 17:33:03.735411 Process 3 current : 490764827\n"
     ]
    },
    {
     "name": "stderr",
     "output_type": "stream",
     "text": [
      "Rate limit exceeded. Sleeping for 894 seconds.\n"
     ]
    },
    {
     "name": "stdout",
     "output_type": "stream",
     "text": [
      "2022-11-17 17:33:04.771878 Process 5 current : 2310756072\n",
      "2022-11-17 17:33:05.277234 Process 5 current : 2311063720\n",
      "2022-11-17 17:33:05.564122 Process 8 current : 922859147686764544\n",
      "2022-11-17 17:33:06.024358 Process 8 current : 923233322582585344\n",
      "2022-11-17 17:33:06.198331 Process 7 current : 795953364681064448\n",
      "2022-11-17 17:33:06.397406 Process 8 current : 923336277268844550\n"
     ]
    },
    {
     "name": "stderr",
     "output_type": "stream",
     "text": [
      "Rate limit exceeded. Sleeping for 892 seconds.\n"
     ]
    },
    {
     "name": "stdout",
     "output_type": "stream",
     "text": [
      "2022-11-17 17:33:07.062665 Process 3 current : 490782345\n",
      "2022-11-17 17:33:07.146727 Process 8 current : 923344316503818240\n"
     ]
    },
    {
     "name": "stderr",
     "output_type": "stream",
     "text": [
      "Rate limit exceeded. Sleeping for 894 seconds.\n"
     ]
    },
    {
     "name": "stdout",
     "output_type": "stream",
     "text": [
      "2022-11-17 17:33:07.672935 Process 3 current : 490946441\n"
     ]
    },
    {
     "name": "stderr",
     "output_type": "stream",
     "text": [
      "Rate limit exceeded. Sleeping for 891 seconds.\n",
      "Rate limit exceeded. Sleeping for 889 seconds.\n",
      "Rate limit exceeded. Sleeping for 886 seconds.\n",
      "Rate limit exceeded. Sleeping for 886 seconds.\n",
      "Rate limit exceeded. Sleeping for 888 seconds.\n"
     ]
    },
    {
     "name": "stdout",
     "output_type": "stream",
     "text": [
      "2022-11-17 17:40:15.172053 Process 2 current : 248920752\n",
      "2022-11-17 17:40:15.998914 Process 2 current : 248927428\n",
      "2022-11-17 17:40:16.547159 Process 2 current : 249687228\n",
      "2022-11-17 17:40:17.989113 Process 2 current : 249856675\n",
      "2022-11-17 17:40:18.909113 Process 2 current : 250044015\n",
      "2022-11-17 17:40:19.851931 Process 2 current : 250176982\n",
      "2022-11-17 17:40:20.395781 Process 2 current : 250395671\n"
     ]
    },
    {
     "name": "stderr",
     "output_type": "stream",
     "text": [
      "Rate limit exceeded. Sleeping for 893 seconds.\n",
      "Rate limit exceeded. Sleeping for 893 seconds.\n",
      "Rate limit exceeded. Sleeping for 887 seconds.\n"
     ]
    },
    {
     "name": "stdout",
     "output_type": "stream",
     "text": [
      "2022-11-17 17:47:59.105043 Process 7 current : 796092456236437504\n",
      "2022-11-17 17:48:00.036291 Process 7 current : 796122768765022209\n",
      "2022-11-17 17:48:01.785892 Process 7 current : 796143502937690118\n",
      "2022-11-17 17:48:03.218682 Process 5 current : 2311116235\n",
      "2022-11-17 17:48:05.327996 Process 3 current : 490990946\n"
     ]
    },
    {
     "name": "stderr",
     "output_type": "stream",
     "text": [
      "Rate limit exceeded. Sleeping for 894 seconds.\n"
     ]
    },
    {
     "name": "stdout",
     "output_type": "stream",
     "text": [
      "2022-11-17 17:48:07.639156 Process 3 current : 491511680\n"
     ]
    },
    {
     "name": "stderr",
     "output_type": "stream",
     "text": [
      "Rate limit exceeded. Sleeping for 891 seconds.\n"
     ]
    },
    {
     "name": "stdout",
     "output_type": "stream",
     "text": [
      "2022-11-17 17:48:08.609572 Process 5 current : 2312293558\n"
     ]
    },
    {
     "name": "stderr",
     "output_type": "stream",
     "text": [
      "Rate limit exceeded. Sleeping for 894 seconds.\n"
     ]
    },
    {
     "name": "stdout",
     "output_type": "stream",
     "text": [
      "2022-11-17 17:48:09.010101 Process 3 current : 491737821\n",
      "2022-11-17 17:48:09.542522 Process 3 current : 492466348\n",
      "2022-11-17 17:48:09.954524 Process 3 current : 492542346\n",
      "2022-11-17 17:48:10.408597 Process 3 current : 492599666\n"
     ]
    },
    {
     "name": "stderr",
     "output_type": "stream",
     "text": [
      "Rate limit exceeded. Sleeping for 893 seconds.\n",
      "Rate limit exceeded. Sleeping for 887 seconds.\n",
      "Rate limit exceeded. Sleeping for 886 seconds.\n"
     ]
    },
    {
     "name": "stdout",
     "output_type": "stream",
     "text": [
      "2022-11-17 17:49:04.234319 Process 9 current : 1079143069038059520\n"
     ]
    },
    {
     "name": "stderr",
     "output_type": "stream",
     "text": [
      "Rate limit exceeded. Sleeping for 887 seconds.\n"
     ]
    },
    {
     "name": "stdout",
     "output_type": "stream",
     "text": [
      "2022-11-17 17:52:35.033093 Process 6 current : 4477563313\n",
      "2022-11-17 17:52:35.841844 Process 6 current : 4481687056\n",
      "2022-11-17 17:52:36.365530 Process 6 current : 4481861534\n",
      "2022-11-17 17:52:36.815959 Process 6 current : 4486336013\n",
      "2022-11-17 17:52:37.353344 Process 6 current : 4488303807\n"
     ]
    },
    {
     "name": "stderr",
     "output_type": "stream",
     "text": [
      "Rate limit exceeded. Sleeping for 889 seconds.\n"
     ]
    },
    {
     "name": "stdout",
     "output_type": "stream",
     "text": [
      "2022-11-17 17:55:14.724098 Process 2 current : 250604662\n",
      "2022-11-17 17:55:15.666762 Process 2 current : 250616216\n",
      "2022-11-17 17:55:16.142937 Process 2 current : 250684785\n",
      "2022-11-17 17:55:16.926198 Process 2 current : 250691621\n",
      "2022-11-17 17:55:20.365323 Process 2 current : 250695242\n",
      "2022-11-17 17:55:20.733966 Process 2 current : 250753823\n"
     ]
    },
    {
     "name": "stderr",
     "output_type": "stream",
     "text": [
      "Rate limit exceeded. Sleeping for 893 seconds.\n",
      "Rate limit exceeded. Sleeping for 893 seconds.\n"
     ]
    },
    {
     "name": "stdout",
     "output_type": "stream",
     "text": [
      "2022-11-17 17:55:40.654650 Process 11 current : 1364412373885411328\n"
     ]
    },
    {
     "name": "stderr",
     "output_type": "stream",
     "text": [
      "Rate limit exceeded. Sleeping for 888 seconds.\n"
     ]
    },
    {
     "name": "stdout",
     "output_type": "stream",
     "text": [
      "2022-11-17 18:03:05.885886 Process 3 current : 492702708\n",
      "2022-11-17 18:03:06.313515 Process 3 current : 493117643\n"
     ]
    },
    {
     "name": "stderr",
     "output_type": "stream",
     "text": [
      "Rate limit exceeded. Sleeping for 895 seconds.\n"
     ]
    },
    {
     "name": "stdout",
     "output_type": "stream",
     "text": [
      "2022-11-17 18:03:07.053715 Process 5 current : 2312685979\n",
      "2022-11-17 18:03:07.439288 Process 5 current : 2312698814\n",
      "2022-11-17 18:03:08.032417 Process 3 current : 493351539\n",
      "2022-11-17 18:03:08.348313 Process 5 current : 2313348246\n"
     ]
    },
    {
     "name": "stderr",
     "output_type": "stream",
     "text": [
      "Rate limit exceeded. Sleeping for 896 seconds.\n"
     ]
    },
    {
     "name": "stdout",
     "output_type": "stream",
     "text": [
      "2022-11-17 18:03:08.602976 Process 3 current : 493754515\n",
      "2022-11-17 18:03:09.035875 Process 3 current : 494138234\n",
      "2022-11-17 18:03:09.044428 Process 8 current : 923346582908661761\n",
      "2022-11-17 18:03:09.583233 Process 8 current : 923704345362759680\n",
      "2022-11-17 18:03:09.837147 Process 3 current : 494391088\n"
     ]
    },
    {
     "name": "stderr",
     "output_type": "stream",
     "text": [
      "Rate limit exceeded. Sleeping for 888 seconds.\n"
     ]
    },
    {
     "name": "stdout",
     "output_type": "stream",
     "text": [
      "2022-11-17 18:03:12.846870 Process 8 current : 923818590435917824\n",
      "2022-11-17 18:03:12.876792 Process 3 current : 494659555\n",
      "2022-11-17 18:03:13.274169 Process 8 current : 924038023167307777\n",
      "2022-11-17 18:03:13.773630 Process 8 current : 924325113666965504\n"
     ]
    },
    {
     "name": "stderr",
     "output_type": "stream",
     "text": [
      "Rate limit exceeded. Sleeping for 890 seconds.\n",
      "Rate limit exceeded. Sleeping for 891 seconds.\n",
      "Rate limit exceeded. Sleeping for 886 seconds.\n",
      "Rate limit exceeded. Sleeping for 886 seconds.\n"
     ]
    },
    {
     "name": "stdout",
     "output_type": "stream",
     "text": [
      "2022-11-17 18:07:32.242925 Process 6 current : 4488769523\n",
      "2022-11-17 18:07:35.146334 Process 6 current : 4492042880\n",
      "2022-11-17 18:07:35.612476 Process 6 current : 4494507141\n",
      "2022-11-17 18:07:36.035285 Process 6 current : 4495558277\n",
      "2022-11-17 18:07:36.518558 Process 6 current : 4497632855\n",
      "2022-11-17 18:07:37.315743 Process 6 current : 4500236833\n"
     ]
    },
    {
     "name": "stderr",
     "output_type": "stream",
     "text": [
      "Rate limit exceeded. Sleeping for 891 seconds.\n",
      "Rate limit exceeded. Sleeping for 893 seconds.\n",
      "Rate limit exceeded. Sleeping for 893 seconds.\n"
     ]
    },
    {
     "name": "stdout",
     "output_type": "stream",
     "text": [
      "2022-11-17 18:10:30.585990 Process 11 current : 1364534792365211648\n",
      "2022-11-17 18:10:31.039314 Process 11 current : 1364579275387592712\n",
      "2022-11-17 18:10:31.586870 Process 11 current : 1364690140984139781\n",
      "2022-11-17 18:10:33.487612 Process 11 current : 1364830342570532867\n",
      "2022-11-17 18:10:33.949154 Process 11 current : 1364961043362045960\n",
      "2022-11-17 18:10:34.373017 Process 11 current : 1365092108017823751\n",
      "2022-11-17 18:10:34.707612 Process 11 current : 1365281507711938560\n",
      "2022-11-17 18:10:35.067452 Process 11 current : 1365290254295584770\n",
      "2022-11-17 18:10:35.479689 Process 11 current : 1365399022987399168\n",
      "2022-11-17 18:10:35.913061 Process 11 current : 1365434922710818822\n"
     ]
    },
    {
     "name": "stderr",
     "output_type": "stream",
     "text": [
      "Rate limit exceeded. Sleeping for 893 seconds.\n"
     ]
    },
    {
     "name": "stdout",
     "output_type": "stream",
     "text": [
      "2022-11-17 18:18:04.818364 Process 3 current : 495206895\n",
      "2022-11-17 18:18:05.267192 Process 5 current : 2313795272\n",
      "2022-11-17 18:18:05.298979 Process 3 current : 495339130\n",
      "2022-11-17 18:18:05.753658 Process 5 current : 2316540020\n",
      "2022-11-17 18:18:05.804929 Process 3 current : 495387895\n",
      "2022-11-17 18:18:06.746236 Process 3 current : 495396554\n",
      "2022-11-17 18:18:07.257997 Process 3 current : 495415177\n",
      "2022-11-17 18:18:07.366946 Process 5 current : 2317864212\n"
     ]
    },
    {
     "name": "stderr",
     "output_type": "stream",
     "text": [
      "Rate limit exceeded. Sleeping for 893 seconds.\n"
     ]
    },
    {
     "name": "stdout",
     "output_type": "stream",
     "text": [
      "2022-11-17 18:18:08.635854 Process 3 current : 495918203\n"
     ]
    },
    {
     "name": "stderr",
     "output_type": "stream",
     "text": [
      "Rate limit exceeded. Sleeping for 894 seconds.\n"
     ]
    },
    {
     "name": "stdout",
     "output_type": "stream",
     "text": [
      "2022-11-17 18:18:09.423511 Process 3 current : 496306338\n",
      "2022-11-17 18:18:09.957620 Process 8 current : 924925992270938112\n",
      "2022-11-17 18:18:09.985782 Process 3 current : 497025230\n",
      "2022-11-17 18:18:10.269287 Process 8 current : 925018780752928768\n",
      "2022-11-17 18:18:10.482416 Process 3 current : 497027776\n",
      "2022-11-17 18:18:10.753548 Process 8 current : 925028387122327552\n",
      "2022-11-17 18:18:11.223827 Process 8 current : 925338281658736640\n"
     ]
    },
    {
     "name": "stderr",
     "output_type": "stream",
     "text": [
      "Rate limit exceeded. Sleeping for 894 seconds.\n"
     ]
    },
    {
     "name": "stdout",
     "output_type": "stream",
     "text": [
      "2022-11-17 18:18:11.585415 Process 8 current : 925408498761940992\n"
     ]
    },
    {
     "name": "stderr",
     "output_type": "stream",
     "text": [
      "Rate limit exceeded. Sleeping for 894 seconds.\n"
     ]
    },
    {
     "name": "stdout",
     "output_type": "stream",
     "text": [
      "2022-11-17 18:18:14.121300 Process 8 current : 925414928659501056\n"
     ]
    },
    {
     "name": "stderr",
     "output_type": "stream",
     "text": [
      "Rate limit exceeded. Sleeping for 894 seconds.\n"
     ]
    },
    {
     "name": "stdout",
     "output_type": "stream",
     "text": [
      "2022-11-17 18:18:58.365893 Process 9 current : 1079382152163160064\n",
      "2022-11-17 18:19:03.432950 Process 4 current : 946882993\n"
     ]
    },
    {
     "name": "stderr",
     "output_type": "stream",
     "text": [
      "Rate limit exceeded. Sleeping for 888 seconds.\n",
      "Rate limit exceeded. Sleeping for 887 seconds.\n"
     ]
    },
    {
     "name": "stdout",
     "output_type": "stream",
     "text": [
      "2022-11-17 18:22:29.136455 Process 6 current : 4510032132\n",
      "2022-11-17 18:22:30.042454 Process 6 current : 4513983378\n",
      "2022-11-17 18:22:38.500698 Process 6 current : 4516173496\n",
      "2022-11-17 18:22:39.983606 Process 6 current : 4518610392\n"
     ]
    },
    {
     "name": "stderr",
     "output_type": "stream",
     "text": [
      "Rate limit exceeded. Sleeping for 888 seconds.\n"
     ]
    },
    {
     "name": "stdout",
     "output_type": "stream",
     "text": [
      "2022-11-17 18:25:17.531783 Process 2 current : 250776493\n",
      "2022-11-17 18:25:19.032944 Process 2 current : 250893905\n",
      "2022-11-17 18:25:22.151456 Process 2 current : 251068809\n",
      "2022-11-17 18:25:22.158063 Process 1 current : 71387958\n",
      "2022-11-17 18:25:23.164373 Process 2 current : 251174491\n",
      "2022-11-17 18:25:23.610815 Process 2 current : 251341054\n"
     ]
    },
    {
     "name": "stderr",
     "output_type": "stream",
     "text": [
      "Rate limit exceeded. Sleeping for 894 seconds.\n"
     ]
    },
    {
     "name": "stdout",
     "output_type": "stream",
     "text": [
      "2022-11-17 18:25:26.028387 Process 1 current : 71469143\n",
      "2022-11-17 18:25:28.572756 Process 1 current : 71642639\n"
     ]
    },
    {
     "name": "stderr",
     "output_type": "stream",
     "text": [
      "Rate limit exceeded. Sleeping for 893 seconds.\n"
     ]
    },
    {
     "name": "stdout",
     "output_type": "stream",
     "text": [
      "2022-11-17 18:25:38.406147 Process 11 current : 1366110449276706822\n",
      "2022-11-17 18:25:38.891918 Process 11 current : 1366164057938616321\n",
      "2022-11-17 18:25:39.368786 Process 11 current : 1366358249155399681\n",
      "2022-11-17 18:25:39.720770 Process 11 current : 1366484647106985987\n",
      "2022-11-17 18:25:40.116373 Process 11 current : 1366551611733114881\n",
      "2022-11-17 18:25:40.447692 Process 11 current : 1366580389825961984\n",
      "2022-11-17 18:25:40.912419 Process 11 current : 1366807524637372422\n"
     ]
    },
    {
     "name": "stderr",
     "output_type": "stream",
     "text": [
      "Rate limit exceeded. Sleeping for 891 seconds.\n"
     ]
    },
    {
     "name": "stdout",
     "output_type": "stream",
     "text": [
      "2022-11-17 18:33:07.103799 Process 3 current : 498077600\n",
      "2022-11-17 18:33:08.168250 Process 5 current : 2318914404\n",
      "2022-11-17 18:33:08.680434 Process 5 current : 2318997476\n",
      "2022-11-17 18:33:09.084321 Process 8 current : 925524832179113995\n",
      "2022-11-17 18:33:09.588137 Process 8 current : 926197208403279873\n",
      "2022-11-17 18:33:09.635999 Process 5 current : 2319219266\n",
      "2022-11-17 18:33:10.169053 Process 5 current : 2320850868\n"
     ]
    },
    {
     "name": "stderr",
     "output_type": "stream",
     "text": [
      "Rate limit exceeded. Sleeping for 894 seconds.\n"
     ]
    },
    {
     "name": "stdout",
     "output_type": "stream",
     "text": [
      "2022-11-17 18:33:10.655517 Process 5 current : 2321563844\n",
      "2022-11-17 18:33:11.871520 Process 8 current : 926550611155472384\n",
      "2022-11-17 18:33:12.330416 Process 8 current : 926561761246846976\n",
      "2022-11-17 18:33:13.340236 Process 8 current : 926960947234607104\n"
     ]
    },
    {
     "name": "stderr",
     "output_type": "stream",
     "text": [
      "Rate limit exceeded. Sleeping for 893 seconds.\n"
     ]
    },
    {
     "name": "stdout",
     "output_type": "stream",
     "text": [
      "2022-11-17 18:33:13.756173 Process 8 current : 926963082320072704\n"
     ]
    },
    {
     "name": "stderr",
     "output_type": "stream",
     "text": [
      "Rate limit exceeded. Sleeping for 892 seconds.\n",
      "Rate limit exceeded. Sleeping for 888 seconds.\n",
      "Rate limit exceeded. Sleeping for 892 seconds.\n"
     ]
    },
    {
     "name": "stdout",
     "output_type": "stream",
     "text": [
      "2022-11-17 18:33:54.133204 Process 4 current : 948708523\n",
      "2022-11-17 18:33:54.847075 Process 4 current : 950426113\n",
      "2022-11-17 18:33:57.616265 Process 4 current : 950572518\n",
      "2022-11-17 18:33:58.110269 Process 4 current : 950883344\n",
      "2022-11-17 18:34:03.332954 Process 9 current : 1079565934254276616\n",
      "2022-11-17 18:34:03.366209 Process 4 current : 952167072\n",
      "2022-11-17 18:34:03.873137 Process 4 current : 952829508\n"
     ]
    },
    {
     "name": "stderr",
     "output_type": "stream",
     "text": [
      "Rate limit exceeded. Sleeping for 888 seconds.\n"
     ]
    },
    {
     "name": "stdout",
     "output_type": "stream",
     "text": [
      "2022-11-17 18:34:05.084691 Process 9 current : 1079808440275517444\n",
      "2022-11-17 18:34:06.903789 Process 9 current : 1079880936819445760\n",
      "2022-11-17 18:34:08.340851 Process 9 current : 1079884470927409152\n",
      "2022-11-17 18:34:08.696086 Process 9 current : 1080150091825061888\n"
     ]
    },
    {
     "name": "stderr",
     "output_type": "stream",
     "text": [
      "Rate limit exceeded. Sleeping for 889 seconds.\n"
     ]
    },
    {
     "name": "stdout",
     "output_type": "stream",
     "text": [
      "2022-11-17 18:37:32.960716 Process 6 current : 4519368256\n",
      "2022-11-17 18:37:34.812996 Process 6 current : 4520486415\n",
      "2022-11-17 18:37:35.371453 Process 6 current : 4529382444\n",
      "2022-11-17 18:37:37.394625 Process 6 current : 4529960717\n",
      "2022-11-17 18:37:37.789928 Process 6 current : 4531390125\n",
      "2022-11-17 18:37:38.279298 Process 6 current : 4544016208\n"
     ]
    },
    {
     "name": "stderr",
     "output_type": "stream",
     "text": [
      "Rate limit exceeded. Sleeping for 889 seconds.\n"
     ]
    },
    {
     "name": "stdout",
     "output_type": "stream",
     "text": [
      "2022-11-17 18:40:22.651401 Process 2 current : 251377054\n",
      "2022-11-17 18:40:22.817951 Process 1 current : 71654435\n",
      "2022-11-17 18:40:23.268741 Process 1 current : 71664307\n",
      "2022-11-17 18:40:24.363915 Process 2 current : 251435647\n",
      "2022-11-17 18:40:24.754201 Process 1 current : 71706877\n",
      "2022-11-17 18:40:26.808415 Process 2 current : 251438342\n",
      "2022-11-17 18:40:27.212427 Process 2 current : 252229421\n",
      "2022-11-17 18:40:27.416749 Process 1 current : 71902263\n"
     ]
    },
    {
     "name": "stderr",
     "output_type": "stream",
     "text": [
      "Rate limit exceeded. Sleeping for 894 seconds.\n",
      "Rate limit exceeded. Sleeping for 890 seconds.\n"
     ]
    },
    {
     "name": "stdout",
     "output_type": "stream",
     "text": [
      "2022-11-17 18:40:34.246635 Process 11 current : 1366819248694325253\n",
      "2022-11-17 18:40:34.720509 Process 11 current : 1366881071162216448\n",
      "2022-11-17 18:40:35.126748 Process 11 current : 1366921123229761542\n",
      "2022-11-17 18:40:35.469358 Process 11 current : 1366943874820759553\n",
      "2022-11-17 18:40:37.466974 Process 11 current : 1366944226727059458\n",
      "2022-11-17 18:40:37.989026 Process 11 current : 1366968666974158850\n",
      "2022-11-17 18:40:38.333041 Process 11 current : 1366985553112014851\n",
      "2022-11-17 18:40:39.091828 Process 11 current : 1367126379414880258\n"
     ]
    },
    {
     "name": "stderr",
     "output_type": "stream",
     "text": [
      "Rate limit exceeded. Sleeping for 893 seconds.\n"
     ]
    },
    {
     "name": "stdout",
     "output_type": "stream",
     "text": [
      "2022-11-17 18:48:04.531393 Process 7 current : 796211978935144449\n",
      "2022-11-17 18:48:05.359030 Process 7 current : 796367969328758784\n",
      "2022-11-17 18:48:07.988662 Process 3 current : 498111221\n",
      "2022-11-17 18:48:08.256960 Process 3 current : 498194298\n",
      "2022-11-17 18:48:09.041557 Process 3 current : 498443358\n",
      "2022-11-17 18:48:10.978424 Process 8 current : 927494086625513473\n"
     ]
    },
    {
     "name": "stderr",
     "output_type": "stream",
     "text": [
      "Rate limit exceeded. Sleeping for 894 seconds.\n"
     ]
    },
    {
     "name": "stdout",
     "output_type": "stream",
     "text": [
      "2022-11-17 18:48:11.503701 Process 8 current : 927609590245556224\n"
     ]
    },
    {
     "name": "stderr",
     "output_type": "stream",
     "text": [
      "Rate limit exceeded. Sleeping for 895 seconds.\n",
      "Rate limit exceeded. Sleeping for 888 seconds.\n",
      "Rate limit exceeded. Sleeping for 892 seconds.\n"
     ]
    },
    {
     "name": "stdout",
     "output_type": "stream",
     "text": [
      "2022-11-17 18:48:17.118841 Process 8 current : 927622184125657088\n",
      "2022-11-17 18:48:18.603632 Process 8 current : 927753084922662912\n",
      "2022-11-17 18:48:19.472381 Process 8 current : 928054018731053056\n"
     ]
    },
    {
     "name": "stderr",
     "output_type": "stream",
     "text": [
      "Rate limit exceeded. Sleeping for 889 seconds.\n"
     ]
    },
    {
     "name": "stdout",
     "output_type": "stream",
     "text": [
      "2022-11-17 18:48:56.555273 Process 4 current : 952988827\n",
      "2022-11-17 18:48:58.960647 Process 9 current : 1080165556567846915\n",
      "2022-11-17 18:48:59.383981 Process 9 current : 1080484080104427520\n",
      "2022-11-17 18:48:59.760617 Process 9 current : 1080644225186914305\n",
      "2022-11-17 18:49:00.333822 Process 9 current : 1080908005913358336\n",
      "2022-11-17 18:49:04.572167 Process 9 current : 1080921150060933121\n",
      "2022-11-17 18:49:05.519133 Process 9 current : 1081273978272940032\n",
      "2022-11-17 18:49:05.929534 Process 9 current : 1081647932242305025\n"
     ]
    },
    {
     "name": "stderr",
     "output_type": "stream",
     "text": [
      "Rate limit exceeded. Sleeping for 887 seconds.\n"
     ]
    },
    {
     "name": "stdout",
     "output_type": "stream",
     "text": [
      "2022-11-17 18:49:06.825344 Process 9 current : 1081733708972023808\n",
      "2022-11-17 18:49:07.755697 Process 9 current : 1083048107577954305\n",
      "2022-11-17 18:49:08.146802 Process 9 current : 1083439627799674880\n",
      "2022-11-17 18:49:08.667092 Process 9 current : 1083870112984162304\n"
     ]
    },
    {
     "name": "stderr",
     "output_type": "stream",
     "text": [
      "Rate limit exceeded. Sleeping for 891 seconds.\n"
     ]
    },
    {
     "name": "stdout",
     "output_type": "stream",
     "text": [
      "2022-11-17 18:52:30.965027 Process 6 current : 4560567675\n",
      "2022-11-17 18:52:31.892620 Process 6 current : 4560761905\n",
      "2022-11-17 18:52:33.656302 Process 6 current : 4568936352\n",
      "2022-11-17 18:52:36.064751 Process 6 current : 4571702295\n"
     ]
    },
    {
     "name": "stderr",
     "output_type": "stream",
     "text": [
      "Rate limit exceeded. Sleeping for 889 seconds.\n"
     ]
    },
    {
     "name": "stdout",
     "output_type": "stream",
     "text": [
      "2022-11-17 18:55:22.858116 Process 2 current : 252353889\n",
      "2022-11-17 18:55:25.544222 Process 1 current : 71934826\n",
      "2022-11-17 18:55:27.159673 Process 2 current : 252681980\n",
      "2022-11-17 18:55:27.336957 Process 1 current : 71969051\n",
      "2022-11-17 18:55:28.136947 Process 2 current : 252985252\n",
      "2022-11-17 18:55:29.063814 Process 2 current : 253110749\n",
      "2022-11-17 18:55:31.328582 Process 2 current : 253647516\n",
      "2022-11-17 18:55:31.610096 Process 1 current : 71977357\n",
      "2022-11-17 18:55:33.359808 Process 1 current : 72070979\n"
     ]
    },
    {
     "name": "stderr",
     "output_type": "stream",
     "text": [
      "Rate limit exceeded. Sleeping for 888 seconds.\n",
      "Rate limit exceeded. Sleeping for 891 seconds.\n"
     ]
    },
    {
     "name": "stdout",
     "output_type": "stream",
     "text": [
      "2022-11-17 18:55:37.420909 Process 11 current : 1367128803181547521\n",
      "2022-11-17 18:55:38.145242 Process 11 current : 1367147446405648385\n",
      "2022-11-17 18:55:38.606982 Process 11 current : 1367217098468958209\n",
      "2022-11-17 18:55:38.940907 Process 11 current : 1367242454387339269\n",
      "2022-11-17 18:55:39.369542 Process 11 current : 1367298094816260097\n"
     ]
    },
    {
     "name": "stderr",
     "output_type": "stream",
     "text": [
      "Rate limit exceeded. Sleeping for 893 seconds.\n"
     ]
    },
    {
     "name": "stdout",
     "output_type": "stream",
     "text": [
      "2022-11-17 19:03:04.214153 Process 7 current : 796377107148447744\n",
      "2022-11-17 19:03:05.003001 Process 7 current : 796378903409491970\n",
      "2022-11-17 19:03:05.906834 Process 7 current : 796455753984987139\n",
      "2022-11-17 19:03:06.479297 Process 7 current : 796461123738497026\n",
      "2022-11-17 19:03:08.925033 Process 3 current : 499690112\n",
      "2022-11-17 19:03:10.216444 Process 7 current : 796473629617819652\n",
      "2022-11-17 19:03:10.303576 Process 5 current : 2322726146\n",
      "2022-11-17 19:03:10.708625 Process 3 current : 500468818\n",
      "2022-11-17 19:03:11.070569 Process 5 current : 2323604950\n",
      "2022-11-17 19:03:11.182165 Process 3 current : 500773568\n",
      "2022-11-17 19:03:11.652901 Process 3 current : 501397421\n",
      "2022-11-17 19:03:11.938448 Process 7 current : 796508892679274496\n"
     ]
    },
    {
     "name": "stderr",
     "output_type": "stream",
     "text": [
      "Rate limit exceeded. Sleeping for 894 seconds.\n"
     ]
    },
    {
     "name": "stdout",
     "output_type": "stream",
     "text": [
      "2022-11-17 19:03:12.436388 Process 5 current : 2324322164\n",
      "2022-11-17 19:03:13.827830 Process 5 current : 2324379750\n"
     ]
    },
    {
     "name": "stderr",
     "output_type": "stream",
     "text": [
      "Rate limit exceeded. Sleeping for 894 seconds.\n",
      "Rate limit exceeded. Sleeping for 889 seconds.\n"
     ]
    },
    {
     "name": "stdout",
     "output_type": "stream",
     "text": [
      "2022-11-17 19:03:15.414036 Process 8 current : 928095560783093762\n",
      "2022-11-17 19:03:16.246184 Process 8 current : 928173146502463488\n",
      "2022-11-17 19:03:17.060429 Process 8 current : 929557683304361985\n",
      "2022-11-17 19:03:18.744672 Process 8 current : 929573638507917312\n"
     ]
    },
    {
     "name": "stderr",
     "output_type": "stream",
     "text": [
      "Rate limit exceeded. Sleeping for 890 seconds.\n"
     ]
    },
    {
     "name": "stdout",
     "output_type": "stream",
     "text": [
      "2022-11-17 19:03:22.101594 Process 8 current : 929777583817928704\n"
     ]
    },
    {
     "name": "stderr",
     "output_type": "stream",
     "text": [
      "Rate limit exceeded. Sleeping for 888 seconds.\n"
     ]
    },
    {
     "name": "stdout",
     "output_type": "stream",
     "text": [
      "2022-11-17 19:03:59.720280 Process 4 current : 954481765\n",
      "2022-11-17 19:04:00.490660 Process 9 current : 1084169956584030210\n",
      "2022-11-17 19:04:00.584180 Process 4 current : 954540156\n",
      "2022-11-17 19:04:01.273388 Process 9 current : 1084438080315117568\n",
      "2022-11-17 19:04:01.411399 Process 4 current : 956482158\n",
      "2022-11-17 19:04:01.799436 Process 9 current : 1084526637956227072\n",
      "2022-11-17 19:04:02.344849 Process 9 current : 1084565021068279808\n",
      "2022-11-17 19:04:03.636289 Process 4 current : 956566580\n",
      "2022-11-17 19:04:04.496752 Process 4 current : 956724517\n",
      "2022-11-17 19:04:04.818632 Process 9 current : 1084984854096289793\n"
     ]
    },
    {
     "name": "stderr",
     "output_type": "stream",
     "text": [
      "Rate limit exceeded. Sleeping for 888 seconds.\n"
     ]
    },
    {
     "name": "stdout",
     "output_type": "stream",
     "text": [
      "2022-11-17 19:04:11.172192 Process 9 current : 1085018411585945605\n"
     ]
    },
    {
     "name": "stderr",
     "output_type": "stream",
     "text": [
      "Rate limit exceeded. Sleeping for 889 seconds.\n"
     ]
    },
    {
     "name": "stdout",
     "output_type": "stream",
     "text": [
      "2022-11-17 19:07:36.484709 Process 6 current : 4584067461\n",
      "2022-11-17 19:07:38.223291 Process 6 current : 4585173374\n",
      "2022-11-17 19:07:38.717208 Process 6 current : 4585400173\n",
      "2022-11-17 19:07:39.126928 Process 6 current : 4589147716\n",
      "2022-11-17 19:07:39.573503 Process 6 current : 4606518792\n"
     ]
    },
    {
     "name": "stderr",
     "output_type": "stream",
     "text": [
      "Rate limit exceeded. Sleeping for 890 seconds.\n"
     ]
    },
    {
     "name": "stdout",
     "output_type": "stream",
     "text": [
      "2022-11-17 19:10:25.291273 Process 2 current : 253830702\n",
      "2022-11-17 19:10:26.768475 Process 1 current : 72143828\n",
      "2022-11-17 19:10:27.309718 Process 1 current : 72356948\n",
      "2022-11-17 19:10:28.918867 Process 1 current : 72578711\n",
      "2022-11-17 19:10:29.816155 Process 1 current : 72708013\n",
      "2022-11-17 19:10:30.334611 Process 1 current : 72717049\n",
      "2022-11-17 19:10:30.880359 Process 2 current : 253862503\n",
      "2022-11-17 19:10:31.265965 Process 2 current : 254316768\n",
      "2022-11-17 19:10:31.551875 Process 2 current : 254406180\n",
      "2022-11-17 19:10:31.967475 Process 2 current : 254782044\n"
     ]
    },
    {
     "name": "stderr",
     "output_type": "stream",
     "text": [
      "Rate limit exceeded. Sleeping for 889 seconds.\n",
      "Rate limit exceeded. Sleeping for 890 seconds.\n",
      "Rate limit exceeded. Sleeping for 892 seconds.\n"
     ]
    },
    {
     "name": "stdout",
     "output_type": "stream",
     "text": [
      "2022-11-17 19:18:06.263532 Process 7 current : 796517072079638528\n",
      "2022-11-17 19:18:06.765063 Process 7 current : 796545680806449152\n",
      "2022-11-17 19:18:07.617937 Process 7 current : 796749575675609088\n",
      "2022-11-17 19:18:08.378113 Process 7 current : 796807918121259010\n",
      "2022-11-17 19:18:10.719462 Process 5 current : 2326080877\n",
      "2022-11-17 19:18:11.160718 Process 5 current : 2327171521\n",
      "2022-11-17 19:18:11.601889 Process 5 current : 2327404376\n",
      "2022-11-17 19:18:12.887261 Process 8 current : 929868173184323584\n"
     ]
    },
    {
     "name": "stderr",
     "output_type": "stream",
     "text": [
      "Rate limit exceeded. Sleeping for 894 seconds.\n"
     ]
    },
    {
     "name": "stdout",
     "output_type": "stream",
     "text": [
      "2022-11-17 19:18:13.787415 Process 8 current : 929891291911151618\n",
      "2022-11-17 19:18:14.811372 Process 5 current : 2327603924\n",
      "2022-11-17 19:18:15.227820 Process 7 current : 796828641556594688\n",
      "2022-11-17 19:18:15.300972 Process 5 current : 2328126524\n"
     ]
    },
    {
     "name": "stderr",
     "output_type": "stream",
     "text": [
      "Rate limit exceeded. Sleeping for 890 seconds.\n",
      "Rate limit exceeded. Sleeping for 895 seconds.\n"
     ]
    },
    {
     "name": "stdout",
     "output_type": "stream",
     "text": [
      "2022-11-17 19:18:19.174937 Process 8 current : 929919099303530497\n",
      "2022-11-17 19:18:19.699164 Process 3 current : 502339347\n"
     ]
    },
    {
     "name": "stderr",
     "output_type": "stream",
     "text": [
      "Rate limit exceeded. Sleeping for 891 seconds.\n"
     ]
    },
    {
     "name": "stdout",
     "output_type": "stream",
     "text": [
      "2022-11-17 19:18:20.012428 Process 8 current : 930282753756749824\n",
      "2022-11-17 19:18:20.905402 Process 8 current : 930415257176170496\n",
      "2022-11-17 19:18:21.370733 Process 8 current : 930437667879374849\n",
      "2022-11-17 19:18:21.788576 Process 8 current : 930546152830840832\n",
      "2022-11-17 19:18:23.538359 Process 8 current : 930909207318188037\n"
     ]
    },
    {
     "name": "stderr",
     "output_type": "stream",
     "text": [
      "Rate limit exceeded. Sleeping for 890 seconds.\n"
     ]
    },
    {
     "name": "stdout",
     "output_type": "stream",
     "text": [
      "2022-11-17 19:18:58.838151 Process 4 current : 958523863\n",
      "2022-11-17 19:19:00.566190 Process 4 current : 959128364\n",
      "2022-11-17 19:19:01.292095 Process 4 current : 960464432\n",
      "2022-11-17 19:19:01.651181 Process 4 current : 961307053\n",
      "2022-11-17 19:19:02.019254 Process 9 current : 1085280016320073731\n",
      "2022-11-17 19:19:02.040884 Process 4 current : 961387592\n",
      "2022-11-17 19:19:02.413163 Process 9 current : 1085348698308005888\n",
      "2022-11-17 19:19:02.870661 Process 4 current : 961820048\n",
      "2022-11-17 19:19:03.266752 Process 4 current : 962567604\n",
      "2022-11-17 19:19:03.766156 Process 4 current : 962654210\n",
      "2022-11-17 19:19:03.997223 Process 9 current : 1085570818875289600\n",
      "2022-11-17 19:19:04.737344 Process 9 current : 1085597531168522241\n",
      "2022-11-17 19:19:05.029507 Process 9 current : 1085610572685737984\n",
      "2022-11-17 19:19:05.489119 Process 9 current : 1085679674544541703\n"
     ]
    },
    {
     "name": "stderr",
     "output_type": "stream",
     "text": [
      "Rate limit exceeded. Sleeping for 890 seconds.\n"
     ]
    },
    {
     "name": "stdout",
     "output_type": "stream",
     "text": [
      "2022-11-17 19:19:05.879875 Process 9 current : 1086299312156536834\n",
      "2022-11-17 19:19:06.400702 Process 9 current : 1086456339193196544\n",
      "2022-11-17 19:19:07.242846 Process 9 current : 1086658787371597825\n",
      "2022-11-17 19:19:07.587825 Process 9 current : 1086678538219147264\n",
      "2022-11-17 19:19:08.043160 Process 9 current : 1086707588916527104\n",
      "2022-11-17 19:19:09.021327 Process 9 current : 1086777310152482817\n",
      "2022-11-17 19:19:09.874896 Process 9 current : 1086835054376976384\n"
     ]
    },
    {
     "name": "stderr",
     "output_type": "stream",
     "text": [
      "Rate limit exceeded. Sleeping for 891 seconds.\n"
     ]
    },
    {
     "name": "stdout",
     "output_type": "stream",
     "text": [
      "2022-11-17 19:22:35.419731 Process 6 current : 4628794878\n",
      "2022-11-17 19:22:35.896141 Process 6 current : 4633933514\n"
     ]
    },
    {
     "name": "stderr",
     "output_type": "stream",
     "text": [
      "Rate limit exceeded. Sleeping for 890 seconds.\n"
     ]
    },
    {
     "name": "stdout",
     "output_type": "stream",
     "text": [
      "2022-11-17 19:25:24.706233 Process 2 current : 254871020\n",
      "2022-11-17 19:25:25.303438 Process 2 current : 255238781\n",
      "2022-11-17 19:25:28.060762 Process 2 current : 255369302\n",
      "2022-11-17 19:25:29.533048 Process 2 current : 255576985\n",
      "2022-11-17 19:25:29.986512 Process 2 current : 255584407\n"
     ]
    },
    {
     "name": "stderr",
     "output_type": "stream",
     "text": [
      "Rate limit exceeded. Sleeping for 889 seconds.\n"
     ]
    },
    {
     "name": "stdout",
     "output_type": "stream",
     "text": [
      "2022-11-17 19:25:39.248203 Process 1 current : 72731772\n"
     ]
    },
    {
     "name": "stderr",
     "output_type": "stream",
     "text": [
      "Rate limit exceeded. Sleeping for 887 seconds.\n",
      "Rate limit exceeded. Sleeping for 892 seconds.\n"
     ]
    },
    {
     "name": "stdout",
     "output_type": "stream",
     "text": [
      "2022-11-17 19:33:06.068089 Process 7 current : 796886964997853184\n",
      "2022-11-17 19:33:10.406208 Process 7 current : 796908651697029120\n",
      "2022-11-17 19:33:11.909943 Process 3 current : 502659401\n",
      "2022-11-17 19:33:12.377586 Process 3 current : 503279480\n"
     ]
    },
    {
     "name": "stderr",
     "output_type": "stream",
     "text": [
      "Rate limit exceeded. Sleeping for 894 seconds.\n"
     ]
    },
    {
     "name": "stdout",
     "output_type": "stream",
     "text": [
      "2022-11-17 19:33:15.042324 Process 8 current : 931685875280482305\n",
      "2022-11-17 19:33:15.057432 Process 3 current : 503415347\n"
     ]
    },
    {
     "name": "stderr",
     "output_type": "stream",
     "text": [
      "Rate limit exceeded. Sleeping for 891 seconds.\n"
     ]
    },
    {
     "name": "stdout",
     "output_type": "stream",
     "text": [
      "2022-11-17 19:33:15.841950 Process 3 current : 503789953\n",
      "2022-11-17 19:33:18.932900 Process 8 current : 931691625885175809\n",
      "2022-11-17 19:33:19.151162 Process 5 current : 2328427459\n"
     ]
    },
    {
     "name": "stderr",
     "output_type": "stream",
     "text": [
      "Rate limit exceeded. Sleeping for 892 seconds.\n"
     ]
    },
    {
     "name": "stdout",
     "output_type": "stream",
     "text": [
      "2022-11-17 19:33:19.390541 Process 8 current : 931884565446131712\n",
      "2022-11-17 19:33:19.924742 Process 8 current : 931960226345095168\n",
      "2022-11-17 19:33:20.313253 Process 3 current : 503832892\n",
      "2022-11-17 19:33:20.727476 Process 3 current : 503890730\n",
      "2022-11-17 19:33:20.740188 Process 8 current : 932104233469562880\n"
     ]
    },
    {
     "name": "stderr",
     "output_type": "stream",
     "text": [
      "Rate limit exceeded. Sleeping for 892 seconds.\n"
     ]
    },
    {
     "name": "stdout",
     "output_type": "stream",
     "text": [
      "2022-11-17 19:33:23.695497 Process 8 current : 932720717392687105\n",
      "2022-11-17 19:33:24.231190 Process 8 current : 933062019225391105\n",
      "2022-11-17 19:33:24.868340 Process 8 current : 933399041576116224\n",
      "2022-11-17 19:33:25.829570 Process 8 current : 934193565449752576\n"
     ]
    },
    {
     "name": "stderr",
     "output_type": "stream",
     "text": [
      "Rate limit exceeded. Sleeping for 889 seconds.\n"
     ]
    },
    {
     "name": "stdout",
     "output_type": "stream",
     "text": [
      "2022-11-17 19:34:04.874133 Process 9 current : 1086976130819809280\n",
      "2022-11-17 19:34:05.949827 Process 4 current : 962836140\n",
      "2022-11-17 19:34:06.398164 Process 4 current : 963460488\n",
      "2022-11-17 19:34:06.818894 Process 4 current : 964708969\n",
      "2022-11-17 19:34:07.674013 Process 4 current : 968616252\n",
      "2022-11-17 19:34:08.167271 Process 4 current : 968675821\n"
     ]
    },
    {
     "name": "stderr",
     "output_type": "stream",
     "text": [
      "Rate limit exceeded. Sleeping for 889 seconds.\n",
      "Rate limit exceeded. Sleeping for 887 seconds.\n"
     ]
    },
    {
     "name": "stdout",
     "output_type": "stream",
     "text": [
      "2022-11-17 19:37:40.605375 Process 6 current : 4636567715\n",
      "2022-11-17 19:37:43.257375 Process 6 current : 4644170814\n"
     ]
    },
    {
     "name": "stderr",
     "output_type": "stream",
     "text": [
      "Rate limit exceeded. Sleeping for 893 seconds.\n"
     ]
    },
    {
     "name": "stdout",
     "output_type": "stream",
     "text": [
      "2022-11-17 19:40:26.814956 Process 2 current : 255667282\n",
      "2022-11-17 19:40:27.224644 Process 1 current : 72740030\n",
      "2022-11-17 19:40:27.761506 Process 2 current : 256285408\n",
      "2022-11-17 19:40:28.152115 Process 1 current : 72846479\n"
     ]
    },
    {
     "name": "stderr",
     "output_type": "stream",
     "text": [
      "Rate limit exceeded. Sleeping for 889 seconds.\n"
     ]
    },
    {
     "name": "stdout",
     "output_type": "stream",
     "text": [
      "2022-11-17 19:40:36.398328 Process 1 current : 72852231\n",
      "2022-11-17 19:40:36.819630 Process 1 current : 72866190\n",
      "2022-11-17 19:40:37.345200 Process 1 current : 73124948\n"
     ]
    },
    {
     "name": "stderr",
     "output_type": "stream",
     "text": [
      "Rate limit exceeded. Sleeping for 889 seconds.\n"
     ]
    },
    {
     "name": "stdout",
     "output_type": "stream",
     "text": [
      "2022-11-17 19:40:47.288138 Process 11 current : 1367364196711694338\n"
     ]
    },
    {
     "name": "stderr",
     "output_type": "stream",
     "text": [
      "Rate limit exceeded. Sleeping for 891 seconds.\n"
     ]
    },
    {
     "name": "stdout",
     "output_type": "stream",
     "text": [
      "2022-11-17 19:48:08.053751 Process 7 current : 796924524860153856\n",
      "2022-11-17 19:48:10.969063 Process 7 current : 796930492486430720\n",
      "2022-11-17 19:48:12.622930 Process 5 current : 2328637353\n",
      "2022-11-17 19:48:12.807813 Process 7 current : 796943042943086592\n",
      "2022-11-17 19:48:13.268678 Process 7 current : 796945841407885313\n",
      "2022-11-17 19:48:13.610202 Process 3 current : 505114929\n",
      "2022-11-17 19:48:13.641372 Process 7 current : 796959288879120384\n",
      "2022-11-17 19:48:13.908961 Process 3 current : 505947492\n"
     ]
    },
    {
     "name": "stderr",
     "output_type": "stream",
     "text": [
      "Rate limit exceeded. Sleeping for 895 seconds.\n"
     ]
    },
    {
     "name": "stdout",
     "output_type": "stream",
     "text": [
      "2022-11-17 19:48:16.107358 Process 7 current : 797081348267798528\n",
      "2022-11-17 19:48:16.323902 Process 5 current : 2328829518\n"
     ]
    },
    {
     "name": "stderr",
     "output_type": "stream",
     "text": [
      "Rate limit exceeded. Sleeping for 890 seconds.\n",
      "Rate limit exceeded. Sleeping for 894 seconds.\n"
     ]
    },
    {
     "name": "stdout",
     "output_type": "stream",
     "text": [
      "2022-11-17 19:48:18.523106 Process 3 current : 506309482\n",
      "2022-11-17 19:48:19.007000 Process 3 current : 506905283\n",
      "2022-11-17 19:48:19.048634 Process 8 current : 934458085778886656\n"
     ]
    },
    {
     "name": "stderr",
     "output_type": "stream",
     "text": [
      "Rate limit exceeded. Sleeping for 895 seconds.\n"
     ]
    },
    {
     "name": "stdout",
     "output_type": "stream",
     "text": [
      "2022-11-17 19:48:19.905290 Process 8 current : 934626289004167168\n",
      "2022-11-17 19:48:20.775073 Process 8 current : 934775802868256768\n",
      "2022-11-17 19:48:21.743139 Process 8 current : 934934273559289857\n"
     ]
    },
    {
     "name": "stderr",
     "output_type": "stream",
     "text": [
      "Rate limit exceeded. Sleeping for 888 seconds.\n"
     ]
    },
    {
     "name": "stdout",
     "output_type": "stream",
     "text": [
      "2022-11-17 19:48:57.983510 Process 4 current : 968892402\n",
      "2022-11-17 19:48:59.480895 Process 4 current : 969126109\n",
      "2022-11-17 19:49:00.863032 Process 4 current : 969132404\n",
      "2022-11-17 19:49:01.703187 Process 4 current : 970357369\n",
      "2022-11-17 19:49:02.575029 Process 4 current : 972238189\n",
      "2022-11-17 19:49:07.466260 Process 9 current : 1086995199199531008\n",
      "2022-11-17 19:49:07.659747 Process 4 current : 973893878\n",
      "2022-11-17 19:49:08.334818 Process 9 current : 1087056017039544321\n",
      "2022-11-17 19:49:09.055805 Process 4 current : 974379740\n",
      "2022-11-17 19:49:09.120259 Process 9 current : 1087119417878687746\n"
     ]
    },
    {
     "name": "stderr",
     "output_type": "stream",
     "text": [
      "Rate limit exceeded. Sleeping for 889 seconds.\n"
     ]
    },
    {
     "name": "stdout",
     "output_type": "stream",
     "text": [
      "2022-11-17 19:49:09.536255 Process 9 current : 1087477086363832320\n",
      "2022-11-17 19:49:13.127304 Process 9 current : 1087835114032246784\n",
      "2022-11-17 19:49:13.419979 Process 9 current : 1087904778586411009\n",
      "2022-11-17 19:49:13.848934 Process 9 current : 1088019121445445633\n",
      "2022-11-17 19:49:14.176654 Process 9 current : 1088096065558102017\n"
     ]
    },
    {
     "name": "stderr",
     "output_type": "stream",
     "text": [
      "Rate limit exceeded. Sleeping for 890 seconds.\n",
      "Rate limit exceeded. Sleeping for 889 seconds.\n"
     ]
    },
    {
     "name": "stdout",
     "output_type": "stream",
     "text": [
      "2022-11-17 19:55:30.056220 Process 1 current : 73227909\n",
      "2022-11-17 19:55:30.923462 Process 1 current : 73243173\n",
      "2022-11-17 19:55:31.435995 Process 1 current : 73279373\n",
      "2022-11-17 19:55:31.917536 Process 1 current : 73484048\n",
      "2022-11-17 19:55:32.437161 Process 1 current : 73537202\n"
     ]
    },
    {
     "name": "stderr",
     "output_type": "stream",
     "text": [
      "Rate limit exceeded. Sleeping for 890 seconds.\n",
      "Rate limit exceeded. Sleeping for 888 seconds.\n"
     ]
    },
    {
     "name": "stdout",
     "output_type": "stream",
     "text": [
      "2022-11-17 19:55:39.167286 Process 11 current : 1367474651467833348\n",
      "2022-11-17 19:55:39.620049 Process 11 current : 1367524106149785602\n",
      "2022-11-17 19:55:39.940253 Process 11 current : 1368035227969318914\n",
      "2022-11-17 19:55:40.326782 Process 11 current : 1368212810245750788\n",
      "2022-11-17 19:55:40.669945 Process 11 current : 1368235399953313797\n",
      "2022-11-17 19:55:45.535620 Process 11 current : 1368370312493080578\n",
      "2022-11-17 19:55:45.962942 Process 11 current : 1368453123811999745\n",
      "2022-11-17 19:55:46.378087 Process 11 current : 1368784818608214020\n"
     ]
    },
    {
     "name": "stderr",
     "output_type": "stream",
     "text": [
      "Rate limit exceeded. Sleeping for 891 seconds.\n"
     ]
    },
    {
     "name": "stdout",
     "output_type": "stream",
     "text": [
      "2022-11-17 20:03:08.404750 Process 7 current : 797149631725633536\n",
      "2022-11-17 20:03:08.807393 Process 7 current : 797154187905761280\n",
      "2022-11-17 20:03:09.371304 Process 7 current : 797167239615184896\n",
      "2022-11-17 20:03:10.917840 Process 7 current : 797442530438692864\n",
      "2022-11-17 20:03:12.371851 Process 7 current : 797443878781587456\n",
      "2022-11-17 20:03:13.176268 Process 7 current : 797586997409943553\n",
      "2022-11-17 20:03:13.637128 Process 7 current : 797608760109694976\n"
     ]
    },
    {
     "name": "stderr",
     "output_type": "stream",
     "text": [
      "Rate limit exceeded. Sleeping for 894 seconds.\n"
     ]
    },
    {
     "name": "stdout",
     "output_type": "stream",
     "text": [
      "2022-11-17 20:03:15.079074 Process 3 current : 507026819\n",
      "2022-11-17 20:03:16.930696 Process 3 current : 507502253\n",
      "2022-11-17 20:03:17.381888 Process 3 current : 508114128\n"
     ]
    },
    {
     "name": "stderr",
     "output_type": "stream",
     "text": [
      "Rate limit exceeded. Sleeping for 895 seconds.\n"
     ]
    },
    {
     "name": "stdout",
     "output_type": "stream",
     "text": [
      "2022-11-17 20:03:18.222347 Process 3 current : 508300996\n",
      "2022-11-17 20:03:18.960717 Process 3 current : 509519125\n",
      "2022-11-17 20:03:19.124432 Process 5 current : 2329071189\n",
      "2022-11-17 20:03:19.841958 Process 3 current : 509798276\n",
      "2022-11-17 20:03:19.959243 Process 5 current : 2330682637\n"
     ]
    },
    {
     "name": "stderr",
     "output_type": "stream",
     "text": [
      "Rate limit exceeded. Sleeping for 893 seconds.\n",
      "Rate limit exceeded. Sleeping for 895 seconds.\n",
      "Rate limit exceeded. Sleeping for 888 seconds.\n"
     ]
    },
    {
     "name": "stdout",
     "output_type": "stream",
     "text": [
      "2022-11-17 20:04:00.926212 Process 4 current : 974633478\n",
      "2022-11-17 20:04:07.313925 Process 9 current : 1088503948842029057\n",
      "2022-11-17 20:04:07.817592 Process 4 current : 976369614\n",
      "2022-11-17 20:04:08.012702 Process 9 current : 1088576824915812352\n",
      "2022-11-17 20:04:08.321057 Process 4 current : 977619834\n",
      "2022-11-17 20:04:10.071408 Process 4 current : 977746172\n",
      "2022-11-17 20:04:11.570510 Process 9 current : 1088653099814801408\n",
      "2022-11-17 20:04:12.031815 Process 9 current : 1088940438290132992\n"
     ]
    },
    {
     "name": "stderr",
     "output_type": "stream",
     "text": [
      "Rate limit exceeded. Sleeping for 887 seconds.\n"
     ]
    },
    {
     "name": "stdout",
     "output_type": "stream",
     "text": [
      "2022-11-17 20:04:17.780883 Process 9 current : 1089766324887265280\n",
      "2022-11-17 20:04:18.646743 Process 9 current : 1091480400868843521\n"
     ]
    },
    {
     "name": "stderr",
     "output_type": "stream",
     "text": [
      "Rate limit exceeded. Sleeping for 888 seconds.\n"
     ]
    },
    {
     "name": "stdout",
     "output_type": "stream",
     "text": [
      "2022-11-17 20:07:43.539990 Process 6 current : 4644285188\n",
      "2022-11-17 20:07:43.957649 Process 6 current : 4644757823\n",
      "2022-11-17 20:07:44.351729 Process 6 current : 4650231256\n"
     ]
    },
    {
     "name": "stderr",
     "output_type": "stream",
     "text": [
      "Rate limit exceeded. Sleeping for 891 seconds.\n"
     ]
    },
    {
     "name": "stdout",
     "output_type": "stream",
     "text": [
      "2022-11-17 20:10:29.267547 Process 2 current : 256343422\n",
      "2022-11-17 20:10:30.101605 Process 2 current : 257086746\n",
      "2022-11-17 20:10:33.776800 Process 2 current : 257131489\n",
      "2022-11-17 20:10:34.226280 Process 2 current : 257231249\n",
      "2022-11-17 20:10:34.820322 Process 2 current : 257244522\n",
      "2022-11-17 20:10:36.270524 Process 2 current : 257357266\n",
      "2022-11-17 20:10:36.797527 Process 2 current : 257442482\n"
     ]
    },
    {
     "name": "stderr",
     "output_type": "stream",
     "text": [
      "Rate limit exceeded. Sleeping for 891 seconds.\n",
      "Rate limit exceeded. Sleeping for 889 seconds.\n"
     ]
    },
    {
     "name": "stdout",
     "output_type": "stream",
     "text": [
      "2022-11-17 20:10:43.768960 Process 11 current : 1368799567190237188\n"
     ]
    },
    {
     "name": "stderr",
     "output_type": "stream",
     "text": [
      "Rate limit exceeded. Sleeping for 888 seconds.\n"
     ]
    },
    {
     "name": "stdout",
     "output_type": "stream",
     "text": [
      "2022-11-17 20:18:13.725674 Process 5 current : 2332366470\n",
      "2022-11-17 20:18:16.624634 Process 5 current : 2332793078\n",
      "2022-11-17 20:18:16.959399 Process 5 current : 2333599362\n",
      "2022-11-17 20:18:17.307326 Process 5 current : 2334260190\n",
      "2022-11-17 20:18:18.092438 Process 3 current : 510783329\n",
      "2022-11-17 20:18:18.128436 Process 5 current : 2334534529\n",
      "2022-11-17 20:18:18.482599 Process 5 current : 2335134282\n",
      "2022-11-17 20:18:18.794035 Process 5 current : 2335665432\n",
      "2022-11-17 20:18:19.626671 Process 5 current : 2336674833\n"
     ]
    },
    {
     "name": "stderr",
     "output_type": "stream",
     "text": [
      "Rate limit exceeded. Sleeping for 895 seconds.\n",
      "Rate limit exceeded. Sleeping for 894 seconds.\n",
      "Rate limit exceeded. Sleeping for 890 seconds.\n"
     ]
    },
    {
     "name": "stdout",
     "output_type": "stream",
     "text": [
      "2022-11-17 20:18:20.541322 Process 3 current : 512169624\n",
      "2022-11-17 20:18:21.959345 Process 3 current : 512467606\n"
     ]
    },
    {
     "name": "stderr",
     "output_type": "stream",
     "text": [
      "Rate limit exceeded. Sleeping for 894 seconds.\n"
     ]
    },
    {
     "name": "stdout",
     "output_type": "stream",
     "text": [
      "2022-11-17 20:18:23.928586 Process 8 current : 934949407996362752\n",
      "2022-11-17 20:18:24.384788 Process 8 current : 935077986436599808\n",
      "2022-11-17 20:18:24.883315 Process 8 current : 935379386286723073\n",
      "2022-11-17 20:18:25.297546 Process 8 current : 935506095778516992\n",
      "2022-11-17 20:18:29.954823 Process 8 current : 935616702745804800\n"
     ]
    },
    {
     "name": "stderr",
     "output_type": "stream",
     "text": [
      "Rate limit exceeded. Sleeping for 889 seconds.\n"
     ]
    },
    {
     "name": "stdout",
     "output_type": "stream",
     "text": [
      "2022-11-17 20:19:03.028797 Process 4 current : 978355454\n",
      "2022-11-17 20:19:03.582150 Process 4 current : 978956582\n",
      "2022-11-17 20:19:05.301579 Process 4 current : 979020416\n",
      "2022-11-17 20:19:05.683187 Process 4 current : 980841944\n",
      "2022-11-17 20:19:06.484310 Process 4 current : 981105529\n",
      "2022-11-17 20:19:06.979923 Process 4 current : 981670711\n",
      "2022-11-17 20:19:07.510423 Process 9 current : 1091729695056515072\n",
      "2022-11-17 20:19:08.926715 Process 9 current : 1091904027317678085\n",
      "2022-11-17 20:19:10.361699 Process 9 current : 1092237107249274880\n",
      "2022-11-17 20:19:11.332391 Process 4 current : 981688074\n"
     ]
    },
    {
     "name": "stderr",
     "output_type": "stream",
     "text": [
      "Rate limit exceeded. Sleeping for 889 seconds.\n"
     ]
    },
    {
     "name": "stdout",
     "output_type": "stream",
     "text": [
      "2022-11-17 20:19:13.222363 Process 9 current : 1092242415790899200\n",
      "2022-11-17 20:19:15.199617 Process 9 current : 1092520670121152513\n",
      "2022-11-17 20:19:17.869079 Process 9 current : 1092863863370833920\n"
     ]
    },
    {
     "name": "stderr",
     "output_type": "stream",
     "text": [
      "Rate limit exceeded. Sleeping for 888 seconds.\n",
      "Rate limit exceeded. Sleeping for 890 seconds.\n"
     ]
    },
    {
     "name": "stdout",
     "output_type": "stream",
     "text": [
      "2022-11-17 20:25:28.978747 Process 2 current : 257760604\n",
      "2022-11-17 20:25:30.866052 Process 2 current : 258290848\n",
      "2022-11-17 20:25:31.761895 Process 2 current : 258510719\n",
      "2022-11-17 20:25:33.189237 Process 2 current : 258616024\n",
      "2022-11-17 20:25:33.608208 Process 2 current : 258741909\n"
     ]
    },
    {
     "name": "stderr",
     "output_type": "stream",
     "text": [
      "Rate limit exceeded. Sleeping for 893 seconds.\n",
      "Rate limit exceeded. Sleeping for 890 seconds.\n"
     ]
    },
    {
     "name": "stdout",
     "output_type": "stream",
     "text": [
      "2022-11-17 20:25:46.390636 Process 11 current : 1368890185598054401\n",
      "2022-11-17 20:25:46.833214 Process 11 current : 1369428689306402822\n",
      "2022-11-17 20:25:47.436152 Process 11 current : 1369484013140901888\n",
      "2022-11-17 20:25:47.782241 Process 11 current : 1370046545903689729\n"
     ]
    },
    {
     "name": "stderr",
     "output_type": "stream",
     "text": [
      "Rate limit exceeded. Sleeping for 890 seconds.\n"
     ]
    },
    {
     "name": "stdout",
     "output_type": "stream",
     "text": [
      "2022-11-17 20:33:15.832611 Process 5 current : 2337154618\n",
      "2022-11-17 20:33:16.259454 Process 5 current : 2337375098\n",
      "2022-11-17 20:33:16.560556 Process 5 current : 2337446900\n",
      "2022-11-17 20:33:17.247515 Process 7 current : 797664322612645888\n",
      "2022-11-17 20:33:17.695218 Process 7 current : 797788753062461440\n",
      "2022-11-17 20:33:18.839418 Process 3 current : 512608908\n",
      "2022-11-17 20:33:19.137601 Process 5 current : 2337797882\n",
      "2022-11-17 20:33:19.508178 Process 5 current : 2339922402\n",
      "2022-11-17 20:33:20.080297 Process 7 current : 797845766089875456\n",
      "2022-11-17 20:33:20.493407 Process 7 current : 797894544448692224\n",
      "2022-11-17 20:33:20.783518 Process 8 current : 935686561362010112\n"
     ]
    },
    {
     "name": "stderr",
     "output_type": "stream",
     "text": [
      "Rate limit exceeded. Sleeping for 896 seconds.\n",
      "Rate limit exceeded. Sleeping for 894 seconds.\n",
      "Rate limit exceeded. Sleeping for 890 seconds.\n"
     ]
    },
    {
     "name": "stdout",
     "output_type": "stream",
     "text": [
      "2022-11-17 20:33:24.327623 Process 8 current : 935858964415373312\n",
      "2022-11-17 20:33:24.696489 Process 8 current : 935916564490178560\n",
      "2022-11-17 20:33:25.544927 Process 8 current : 935930506973151232\n"
     ]
    },
    {
     "name": "stderr",
     "output_type": "stream",
     "text": [
      "Rate limit exceeded. Sleeping for 892 seconds.\n"
     ]
    },
    {
     "name": "stdout",
     "output_type": "stream",
     "text": [
      "2022-11-17 20:33:26.173881 Process 8 current : 935984731249938432\n",
      "2022-11-17 20:33:26.628933 Process 8 current : 936015884685942784\n",
      "2022-11-17 20:33:27.384861 Process 8 current : 936259546456006656\n"
     ]
    },
    {
     "name": "stderr",
     "output_type": "stream",
     "text": [
      "Rate limit exceeded. Sleeping for 893 seconds.\n"
     ]
    },
    {
     "name": "stdout",
     "output_type": "stream",
     "text": [
      "2022-11-17 20:34:01.235326 Process 4 current : 982623739\n",
      "2022-11-17 20:34:02.229619 Process 4 current : 983062994\n",
      "2022-11-17 20:34:03.572875 Process 4 current : 985359865\n",
      "2022-11-17 20:34:04.179945 Process 4 current : 985779272\n",
      "2022-11-17 20:34:04.620848 Process 4 current : 986723371\n",
      "2022-11-17 20:34:06.479041 Process 4 current : 986787018\n",
      "2022-11-17 20:34:07.316399 Process 4 current : 987085602\n",
      "2022-11-17 20:34:07.789625 Process 4 current : 987252752\n"
     ]
    },
    {
     "name": "stderr",
     "output_type": "stream",
     "text": [
      "Rate limit exceeded. Sleeping for 889 seconds.\n"
     ]
    },
    {
     "name": "stdout",
     "output_type": "stream",
     "text": [
      "2022-11-17 20:34:13.004752 Process 9 current : 1092871881655488515\n",
      "2022-11-17 20:34:13.518127 Process 9 current : 1092999122527895552\n",
      "2022-11-17 20:34:14.074647 Process 9 current : 1093216882046300160\n"
     ]
    },
    {
     "name": "stderr",
     "output_type": "stream",
     "text": [
      "Rate limit exceeded. Sleeping for 888 seconds.\n"
     ]
    },
    {
     "name": "stdout",
     "output_type": "stream",
     "text": [
      "2022-11-17 20:37:43.763936 Process 6 current : 4653525972\n",
      "2022-11-17 20:37:44.194951 Process 6 current : 4653654021\n",
      "2022-11-17 20:37:45.035935 Process 6 current : 4657622112\n",
      "2022-11-17 20:37:45.520543 Process 6 current : 4669021332\n",
      "2022-11-17 20:37:46.439880 Process 6 current : 4672007292\n",
      "2022-11-17 20:37:46.808321 Process 6 current : 4675263566\n",
      "2022-11-17 20:37:50.010151 Process 6 current : 4683536953\n"
     ]
    },
    {
     "name": "stderr",
     "output_type": "stream",
     "text": [
      "Rate limit exceeded. Sleeping for 890 seconds.\n"
     ]
    },
    {
     "name": "stdout",
     "output_type": "stream",
     "text": [
      "2022-11-17 20:40:34.174038 Process 2 current : 258788589\n",
      "2022-11-17 20:40:37.034692 Process 2 current : 258852792\n",
      "2022-11-17 20:40:37.502224 Process 2 current : 258921238\n",
      "2022-11-17 20:40:38.081276 Process 2 current : 258965682\n"
     ]
    },
    {
     "name": "stderr",
     "output_type": "stream",
     "text": [
      "Rate limit exceeded. Sleeping for 892 seconds.\n",
      "Rate limit exceeded. Sleeping for 888 seconds.\n"
     ]
    },
    {
     "name": "stdout",
     "output_type": "stream",
     "text": [
      "2022-11-17 20:40:50.673647 Process 11 current : 1370207429896601600\n",
      "2022-11-17 20:40:51.121430 Process 11 current : 1370412669300215814\n",
      "2022-11-17 20:40:51.616147 Process 11 current : 1370713862513729537\n",
      "2022-11-17 20:40:52.461534 Process 11 current : 1371154399293214722\n",
      "2022-11-17 20:40:53.375786 Process 11 current : 1371217780293394433\n",
      "2022-11-17 20:40:53.678590 Process 11 current : 1371297580781608961\n",
      "2022-11-17 20:40:54.173527 Process 11 current : 1371569830910861313\n"
     ]
    },
    {
     "name": "stderr",
     "output_type": "stream",
     "text": [
      "Rate limit exceeded. Sleeping for 890 seconds.\n"
     ]
    },
    {
     "name": "stdout",
     "output_type": "stream",
     "text": [
      "2022-11-17 20:48:12.792704 Process 7 current : 797912217714913280\n",
      "2022-11-17 20:48:15.558871 Process 7 current : 797932204168876032\n",
      "2022-11-17 20:48:17.454366 Process 5 current : 2340477589\n",
      "2022-11-17 20:48:18.568981 Process 7 current : 797961378149650432\n",
      "2022-11-17 20:48:18.768985 Process 3 current : 512764218\n",
      "2022-11-17 20:48:18.847862 Process 7 current : 797995330428174336\n",
      "2022-11-17 20:48:19.206095 Process 7 current : 797999688456740864\n",
      "2022-11-17 20:48:19.334368 Process 3 current : 512830524\n",
      "2022-11-17 20:48:21.099686 Process 5 current : 2340642072\n"
     ]
    },
    {
     "name": "stderr",
     "output_type": "stream",
     "text": [
      "Rate limit exceeded. Sleeping for 892 seconds.\n"
     ]
    },
    {
     "name": "stdout",
     "output_type": "stream",
     "text": [
      "2022-11-17 20:48:21.517783 Process 5 current : 2341044211\n",
      "2022-11-17 20:48:22.632353 Process 3 current : 513045568\n",
      "2022-11-17 20:48:22.830409 Process 5 current : 2342750647\n",
      "2022-11-17 20:48:22.909745 Process 3 current : 513051520\n"
     ]
    },
    {
     "name": "stderr",
     "output_type": "stream",
     "text": [
      "Rate limit exceeded. Sleeping for 894 seconds.\n"
     ]
    },
    {
     "name": "stdout",
     "output_type": "stream",
     "text": [
      "2022-11-17 20:48:23.286205 Process 5 current : 2347804910\n",
      "2022-11-17 20:48:23.610780 Process 5 current : 2349018425\n"
     ]
    },
    {
     "name": "stderr",
     "output_type": "stream",
     "text": [
      "Rate limit exceeded. Sleeping for 895 seconds.\n"
     ]
    },
    {
     "name": "stdout",
     "output_type": "stream",
     "text": [
      "2022-11-17 20:48:24.506509 Process 8 current : 936593675563470849\n",
      "2022-11-17 20:48:26.224959 Process 3 current : 513309961\n",
      "2022-11-17 20:48:28.243327 Process 8 current : 936624174067433472\n"
     ]
    },
    {
     "name": "stderr",
     "output_type": "stream",
     "text": [
      "Rate limit exceeded. Sleeping for 891 seconds.\n"
     ]
    },
    {
     "name": "stdout",
     "output_type": "stream",
     "text": [
      "2022-11-17 20:48:28.729476 Process 8 current : 936672230821462017\n",
      "2022-11-17 20:48:29.328955 Process 8 current : 936685568242737153\n"
     ]
    },
    {
     "name": "stderr",
     "output_type": "stream",
     "text": [
      "Rate limit exceeded. Sleeping for 892 seconds.\n"
     ]
    },
    {
     "name": "stdout",
     "output_type": "stream",
     "text": [
      "2022-11-17 20:49:12.827323 Process 4 current : 987633210\n",
      "2022-11-17 20:49:13.338302 Process 4 current : 987698184\n"
     ]
    },
    {
     "name": "stderr",
     "output_type": "stream",
     "text": [
      "Rate limit exceeded. Sleeping for 888 seconds.\n"
     ]
    },
    {
     "name": "stdout",
     "output_type": "stream",
     "text": [
      "2022-11-17 20:49:21.587930 Process 9 current : 1093243963467857933\n",
      "2022-11-17 20:49:22.440657 Process 9 current : 1093646391509901312\n",
      "2022-11-17 20:49:23.293238 Process 9 current : 1093717891180941312\n"
     ]
    },
    {
     "name": "stderr",
     "output_type": "stream",
     "text": [
      "Rate limit exceeded. Sleeping for 888 seconds.\n",
      "Rate limit exceeded. Sleeping for 888 seconds.\n"
     ]
    },
    {
     "name": "stdout",
     "output_type": "stream",
     "text": [
      "2022-11-17 20:55:32.477038 Process 2 current : 258974455\n",
      "2022-11-17 20:55:34.057279 Process 2 current : 259082423\n",
      "2022-11-17 20:55:34.622217 Process 2 current : 259446371\n",
      "2022-11-17 20:55:36.647399 Process 2 current : 259462741\n"
     ]
    },
    {
     "name": "stderr",
     "output_type": "stream",
     "text": [
      "Rate limit exceeded. Sleeping for 893 seconds.\n",
      "Rate limit exceeded. Sleeping for 891 seconds.\n"
     ]
    },
    {
     "name": "stdout",
     "output_type": "stream",
     "text": [
      "2022-11-17 20:55:52.243190 Process 11 current : 1372345408761044992\n",
      "2022-11-17 20:55:52.596660 Process 11 current : 1372640972849381376\n",
      "2022-11-17 20:55:54.007233 Process 11 current : 1372741945215291394\n",
      "2022-11-17 20:55:54.576188 Process 11 current : 1373041290397421568\n",
      "2022-11-17 20:55:55.422458 Process 11 current : 1373647643545583624\n"
     ]
    },
    {
     "name": "stderr",
     "output_type": "stream",
     "text": [
      "Rate limit exceeded. Sleeping for 889 seconds.\n"
     ]
    },
    {
     "name": "stdout",
     "output_type": "stream",
     "text": [
      "2022-11-17 21:03:14.480528 Process 7 current : 798019437278461952\n",
      "2022-11-17 21:03:14.959209 Process 7 current : 798248575448793088\n",
      "2022-11-17 21:03:15.361057 Process 7 current : 798300135277154304\n",
      "2022-11-17 21:03:17.368173 Process 7 current : 798307092947931136\n",
      "2022-11-17 21:03:18.130628 Process 7 current : 798333767492333568\n",
      "2022-11-17 21:03:18.466909 Process 7 current : 798365442603503616\n",
      "2022-11-17 21:03:19.049206 Process 7 current : 798571397085855744\n",
      "2022-11-17 21:03:19.386719 Process 7 current : 798598268888481792\n",
      "2022-11-17 21:03:19.697293 Process 5 current : 2351164724\n",
      "2022-11-17 21:03:19.770355 Process 7 current : 798710201226555396\n",
      "2022-11-17 21:03:20.099185 Process 3 current : 513326424\n",
      "2022-11-17 21:03:20.170696 Process 7 current : 798747248167223297\n",
      "2022-11-17 21:03:20.990735 Process 3 current : 513340316\n",
      "2022-11-17 21:03:21.055897 Process 5 current : 2353721839\n",
      "2022-11-17 21:03:21.090603 Process 7 current : 798761112917262336\n",
      "2022-11-17 21:03:21.552836 Process 7 current : 798786310001463296\n",
      "2022-11-17 21:03:21.586512 Process 3 current : 513654649\n"
     ]
    },
    {
     "name": "stderr",
     "output_type": "stream",
     "text": [
      "Rate limit exceeded. Sleeping for 893 seconds.\n"
     ]
    },
    {
     "name": "stdout",
     "output_type": "stream",
     "text": [
      "2022-11-17 21:03:24.092699 Process 3 current : 513734825\n"
     ]
    },
    {
     "name": "stderr",
     "output_type": "stream",
     "text": [
      "Rate limit exceeded. Sleeping for 893 seconds.\n"
     ]
    },
    {
     "name": "stdout",
     "output_type": "stream",
     "text": [
      "2022-11-17 21:03:25.052837 Process 3 current : 513813366\n"
     ]
    },
    {
     "name": "stderr",
     "output_type": "stream",
     "text": [
      "Rate limit exceeded. Sleeping for 894 seconds.\n"
     ]
    },
    {
     "name": "stdout",
     "output_type": "stream",
     "text": [
      "2022-11-17 21:03:26.959586 Process 3 current : 514453109\n",
      "2022-11-17 21:03:26.997870 Process 8 current : 936774070552498181\n",
      "2022-11-17 21:03:27.412964 Process 3 current : 515098734\n",
      "2022-11-17 21:03:29.389842 Process 8 current : 936802800083898368\n"
     ]
    },
    {
     "name": "stderr",
     "output_type": "stream",
     "text": [
      "Rate limit exceeded. Sleeping for 893 seconds.\n"
     ]
    },
    {
     "name": "stdout",
     "output_type": "stream",
     "text": [
      "2022-11-17 21:03:30.340969 Process 3 current : 515594603\n"
     ]
    },
    {
     "name": "stderr",
     "output_type": "stream",
     "text": [
      "Rate limit exceeded. Sleeping for 890 seconds.\n"
     ]
    },
    {
     "name": "stdout",
     "output_type": "stream",
     "text": [
      "2022-11-17 21:04:04.166170 Process 4 current : 988130365\n",
      "2022-11-17 21:04:04.563622 Process 4 current : 988226695\n",
      "2022-11-17 21:04:09.970471 Process 4 current : 988988929\n",
      "2022-11-17 21:04:12.341828 Process 4 current : 991432225\n",
      "2022-11-17 21:04:12.917167 Process 4 current : 991539960\n",
      "2022-11-17 21:04:13.707487 Process 4 current : 991783146\n",
      "2022-11-17 21:04:14.118620 Process 4 current : 991824054\n"
     ]
    },
    {
     "name": "stderr",
     "output_type": "stream",
     "text": [
      "Rate limit exceeded. Sleeping for 889 seconds.\n"
     ]
    },
    {
     "name": "stdout",
     "output_type": "stream",
     "text": [
      "2022-11-17 21:04:16.235893 Process 9 current : 1093876249011867649\n",
      "2022-11-17 21:04:17.866343 Process 9 current : 1093939600328929280\n",
      "2022-11-17 21:04:18.277804 Process 9 current : 1093940100923191296\n",
      "2022-11-17 21:04:18.788924 Process 9 current : 1094027680138313728\n",
      "2022-11-17 21:04:22.495705 Process 9 current : 1094211006270713856\n",
      "2022-11-17 21:04:24.401692 Process 9 current : 1094703368986013696\n"
     ]
    },
    {
     "name": "stderr",
     "output_type": "stream",
     "text": [
      "Rate limit exceeded. Sleeping for 888 seconds.\n",
      "Rate limit exceeded. Sleeping for 888 seconds.\n"
     ]
    },
    {
     "name": "stdout",
     "output_type": "stream",
     "text": [
      "2022-11-17 21:10:36.257460 Process 2 current : 259509146\n",
      "2022-11-17 21:10:36.695863 Process 2 current : 259920872\n",
      "2022-11-17 21:10:38.369991 Process 2 current : 260016950\n"
     ]
    },
    {
     "name": "stderr",
     "output_type": "stream",
     "text": [
      "Rate limit exceeded. Sleeping for 893 seconds.\n",
      "Rate limit exceeded. Sleeping for 888 seconds.\n"
     ]
    },
    {
     "name": "stdout",
     "output_type": "stream",
     "text": [
      "2022-11-17 21:10:47.316247 Process 11 current : 1374041962823700481\n",
      "2022-11-17 21:10:47.791537 Process 11 current : 1374485289217892352\n",
      "2022-11-17 21:10:48.159031 Process 11 current : 1375162959081562114\n",
      "2022-11-17 21:10:48.511689 Process 11 current : 1375226773097623553\n",
      "2022-11-17 21:10:49.466550 Process 11 current : 1375543444609847298\n",
      "2022-11-17 21:10:50.533480 Process 11 current : 1375680707981422593\n",
      "2022-11-17 21:10:50.915364 Process 11 current : 1375782356376780803\n",
      "2022-11-17 21:10:51.441696 Process 11 current : 1375799909220298753\n",
      "2022-11-17 21:10:52.176493 Process 11 current : 1376149476684001284\n",
      "2022-11-17 21:10:53.012807 Process 11 current : 1376174417533800448\n"
     ]
    },
    {
     "name": "stderr",
     "output_type": "stream",
     "text": [
      "Rate limit exceeded. Sleeping for 891 seconds.\n"
     ]
    },
    {
     "name": "stdout",
     "output_type": "stream",
     "text": [
      "2022-11-17 21:18:15.883245 Process 7 current : 798885441344774144\n",
      "2022-11-17 21:18:16.433446 Process 7 current : 798914402451943424\n",
      "2022-11-17 21:18:17.324354 Process 7 current : 798932221142790144\n",
      "2022-11-17 21:18:20.227160 Process 7 current : 799016726574661633\n",
      "2022-11-17 21:18:21.692862 Process 3 current : 515663946\n",
      "2022-11-17 21:18:22.015415 Process 7 current : 799137152865079296\n",
      "2022-11-17 21:18:22.203324 Process 3 current : 516868876\n",
      "2022-11-17 21:18:22.473861 Process 7 current : 799259312828850178\n",
      "2022-11-17 21:18:23.733107 Process 8 current : 937138207098994688\n",
      "2022-11-17 21:18:24.867266 Process 5 current : 2353971600\n",
      "2022-11-17 21:18:25.125905 Process 8 current : 937151090901925888\n",
      "2022-11-17 21:18:25.521051 Process 8 current : 937341487133573121\n",
      "2022-11-17 21:18:25.635407 Process 5 current : 2355260054\n"
     ]
    },
    {
     "name": "stderr",
     "output_type": "stream",
     "text": [
      "Rate limit exceeded. Sleeping for 894 seconds.\n"
     ]
    },
    {
     "name": "stdout",
     "output_type": "stream",
     "text": [
      "2022-11-17 21:18:26.033926 Process 8 current : 937396788851441666\n",
      "2022-11-17 21:18:26.073466 Process 3 current : 516913440\n",
      "2022-11-17 21:18:26.410085 Process 3 current : 517163481\n"
     ]
    },
    {
     "name": "stderr",
     "output_type": "stream",
     "text": [
      "Rate limit exceeded. Sleeping for 890 seconds.\n"
     ]
    },
    {
     "name": "stdout",
     "output_type": "stream",
     "text": [
      "2022-11-17 21:18:26.897970 Process 8 current : 937412110090424321\n",
      "2022-11-17 21:18:27.285104 Process 3 current : 2022-11-17 21:18:27.287349517895696\n",
      " Process 5 current : 2355326888\n",
      "2022-11-17 21:18:27.540313 Process 8 current : 937420641212526597\n",
      "2022-11-17 21:18:27.810569 Process 5 current : 2357131388\n"
     ]
    },
    {
     "name": "stderr",
     "output_type": "stream",
     "text": [
      "Rate limit exceeded. Sleeping for 893 seconds.\n"
     ]
    },
    {
     "name": "stdout",
     "output_type": "stream",
     "text": [
      "2022-11-17 21:18:29.128584 Process 3 current : 518087018\n",
      "2022-11-17 21:18:29.631940 Process 3 current : 518248468\n"
     ]
    },
    {
     "name": "stderr",
     "output_type": "stream",
     "text": [
      "Rate limit exceeded. Sleeping for 892 seconds.\n",
      "Rate limit exceeded. Sleeping for 890 seconds.\n"
     ]
    },
    {
     "name": "stdout",
     "output_type": "stream",
     "text": [
      "2022-11-17 21:19:07.066293 Process 4 current : 991862588\n",
      "2022-11-17 21:19:07.872453 Process 4 current : 991992463\n",
      "2022-11-17 21:19:08.639574 Process 4 current : 992108550\n",
      "2022-11-17 21:19:09.059402 Process 4 current : 994025486\n",
      "2022-11-17 21:19:09.947345 Process 4 current : 996028028\n",
      "2022-11-17 21:19:13.524787 Process 9 current : 1095351065158008833\n",
      "2022-11-17 21:19:13.940367 Process 9 current : 1095425102848634880\n",
      "2022-11-17 21:19:14.348741 Process 9 current : 1095434411376562181\n",
      "2022-11-17 21:19:14.766383 Process 9 current : 1095750300353417216\n",
      "2022-11-17 21:19:14.801940 Process 4 current : 996626748\n",
      "2022-11-17 21:19:15.270446 Process 9 current : 1096193019907194880\n",
      "2022-11-17 21:19:15.637972 Process 9 current : 1096565844312678400\n",
      "2022-11-17 21:19:17.116733 Process 4 current : 999418970\n"
     ]
    },
    {
     "name": "stderr",
     "output_type": "stream",
     "text": [
      "Rate limit exceeded. Sleeping for 888 seconds.\n"
     ]
    },
    {
     "name": "stdout",
     "output_type": "stream",
     "text": [
      "2022-11-17 21:19:19.134865 Process 9 current : 1096702146643443712\n",
      "2022-11-17 21:19:19.573240 Process 9 current : 1097666417585999872\n"
     ]
    },
    {
     "name": "stderr",
     "output_type": "stream",
     "text": [
      "Rate limit exceeded. Sleeping for 890 seconds.\n"
     ]
    },
    {
     "name": "stdout",
     "output_type": "stream",
     "text": [
      "2022-11-17 21:22:53.470821 Process 6 current : 4685858534\n",
      "2022-11-17 21:22:54.790431 Process 6 current : 4686763100\n",
      "2022-11-17 21:22:55.267244 Process 6 current : 4690107504\n"
     ]
    },
    {
     "name": "stderr",
     "output_type": "stream",
     "text": [
      "Rate limit exceeded. Sleeping for 890 seconds.\n"
     ]
    },
    {
     "name": "stdout",
     "output_type": "stream",
     "text": [
      "2022-11-17 21:25:36.971459 Process 2 current : 260090357\n",
      "2022-11-17 21:25:37.560066 Process 2 current : 260399410\n",
      "2022-11-17 21:25:37.858887 Process 2 current : 260511256\n",
      "2022-11-17 21:25:38.288107 Process 2 current : 260511975\n"
     ]
    },
    {
     "name": "stderr",
     "output_type": "stream",
     "text": [
      "Rate limit exceeded. Sleeping for 892 seconds.\n",
      "Rate limit exceeded. Sleeping for 888 seconds.\n"
     ]
    },
    {
     "name": "stdout",
     "output_type": "stream",
     "text": [
      "2022-11-17 21:25:47.306603 Process 11 current : 1376197618049675271\n"
     ]
    },
    {
     "name": "stderr",
     "output_type": "stream",
     "text": [
      "Rate limit exceeded. Sleeping for 887 seconds.\n"
     ]
    },
    {
     "name": "stdout",
     "output_type": "stream",
     "text": [
      "2022-11-17 21:33:21.698787 Process 5 current : 2358299761\n",
      "2022-11-17 21:33:22.350249 Process 5 current : 2358357278\n",
      "2022-11-17 21:33:22.799582 Process 5 current : 2358618762\n",
      "2022-11-17 21:33:23.280591 Process 5 current : 2358789079\n",
      "2022-11-17 21:33:24.828633 Process 5 current : 2359180352\n"
     ]
    },
    {
     "name": "stderr",
     "output_type": "stream",
     "text": [
      "Rate limit exceeded. Sleeping for 893 seconds.\n"
     ]
    },
    {
     "name": "stdout",
     "output_type": "stream",
     "text": [
      "2022-11-17 21:33:25.943319 Process 8 current : 937474183486775296\n",
      "2022-11-17 21:33:26.587296 Process 5 current : 2359537176\n"
     ]
    },
    {
     "name": "stderr",
     "output_type": "stream",
     "text": [
      "Rate limit exceeded. Sleeping for 893 seconds.\n",
      "Rate limit exceeded. Sleeping for 894 seconds.\n",
      "Rate limit exceeded. Sleeping for 893 seconds.\n"
     ]
    },
    {
     "name": "stdout",
     "output_type": "stream",
     "text": [
      "2022-11-17 21:33:38.199228 Process 8 current : 937477308956528642\n",
      "2022-11-17 21:33:38.553514 Process 8 current : 937553000129740800\n"
     ]
    },
    {
     "name": "stderr",
     "output_type": "stream",
     "text": [
      "Rate limit exceeded. Sleeping for 887 seconds.\n"
     ]
    },
    {
     "name": "stdout",
     "output_type": "stream",
     "text": [
      "2022-11-17 21:34:06.106064 Process 4 current : 1004425142\n",
      "2022-11-17 21:34:08.398596 Process 4 current : 1004965908\n",
      "2022-11-17 21:34:09.948043 Process 4 current : 1005675566\n",
      "2022-11-17 21:34:12.921934 Process 4 current : 1006335829\n",
      "2022-11-17 21:34:13.452167 Process 4 current : 1006366477\n",
      "2022-11-17 21:34:13.961824 Process 4 current : 1007432814\n",
      "2022-11-17 21:34:14.429876 Process 4 current : 1010326561\n",
      "2022-11-17 21:34:17.211314 Process 4 current : 1010463242\n"
     ]
    },
    {
     "name": "stderr",
     "output_type": "stream",
     "text": [
      "Rate limit exceeded. Sleeping for 889 seconds.\n"
     ]
    },
    {
     "name": "stdout",
     "output_type": "stream",
     "text": [
      "2022-11-17 21:34:20.841314 Process 9 current : 1098215656665812994\n",
      "2022-11-17 21:34:21.279172 Process 9 current : 1099360767663579136\n",
      "2022-11-17 21:34:24.748696 Process 9 current : 1099412704291377153\n",
      "2022-11-17 21:34:25.552640 Process 9 current : 1099450872784797696\n"
     ]
    },
    {
     "name": "stderr",
     "output_type": "stream",
     "text": [
      "Rate limit exceeded. Sleeping for 887 seconds.\n"
     ]
    },
    {
     "name": "stdout",
     "output_type": "stream",
     "text": [
      "2022-11-17 21:37:52.376911 Process 6 current : 4696370132\n",
      "2022-11-17 21:37:52.869824 Process 6 current : 4698913274\n",
      "2022-11-17 21:37:53.226656 Process 6 current : 4700419050\n",
      "2022-11-17 21:37:55.148648 Process 6 current : 4700669963\n",
      "2022-11-17 21:37:57.001172 Process 6 current : 4707468799\n"
     ]
    },
    {
     "name": "stderr",
     "output_type": "stream",
     "text": [
      "Rate limit exceeded. Sleeping for 887 seconds.\n"
     ]
    },
    {
     "name": "stdout",
     "output_type": "stream",
     "text": [
      "2022-11-17 21:40:36.902954 Process 2 current : 260634501\n",
      "2022-11-17 21:40:48.304113 Process 1 current : 73576055\n"
     ]
    },
    {
     "name": "stderr",
     "output_type": "stream",
     "text": [
      "Rate limit exceeded. Sleeping for 887 seconds.\n"
     ]
    },
    {
     "name": "stdout",
     "output_type": "stream",
     "text": [
      "2022-11-17 21:40:48.906154 Process 1 current : 73694027\n"
     ]
    },
    {
     "name": "stderr",
     "output_type": "stream",
     "text": [
      "Rate limit exceeded. Sleeping for 886 seconds.\n",
      "Rate limit exceeded. Sleeping for 887 seconds.\n"
     ]
    },
    {
     "name": "stdout",
     "output_type": "stream",
     "text": [
      "2022-11-17 21:48:26.422406 Process 3 current : 518889840\n",
      "2022-11-17 21:48:26.788203 Process 3 current : 519208070\n",
      "2022-11-17 21:48:26.961439 Process 8 current : 938191874711588864\n"
     ]
    },
    {
     "name": "stderr",
     "output_type": "stream",
     "text": [
      "Rate limit exceeded. Sleeping for 892 seconds.\n"
     ]
    },
    {
     "name": "stdout",
     "output_type": "stream",
     "text": [
      "2022-11-17 21:48:27.499407 Process 8 current : 938479923467087872\n"
     ]
    },
    {
     "name": "stderr",
     "output_type": "stream",
     "text": [
      "Rate limit exceeded. Sleeping for 893 seconds.\n",
      "Rate limit exceeded. Sleeping for 893 seconds.\n"
     ]
    },
    {
     "name": "stdout",
     "output_type": "stream",
     "text": [
      "2022-11-17 21:48:32.777768 Process 3 current : 519750535\n",
      "2022-11-17 21:48:33.399399 Process 3 current : 519864996\n"
     ]
    },
    {
     "name": "stderr",
     "output_type": "stream",
     "text": [
      "Rate limit exceeded. Sleeping for 891 seconds.\n"
     ]
    },
    {
     "name": "stdout",
     "output_type": "stream",
     "text": [
      "2022-11-17 21:48:34.417359 Process 8 current : 938574887802802176\n",
      "2022-11-17 21:48:35.275129 Process 8 current : 938807633183629312\n",
      "2022-11-17 21:48:35.706390 Process 8 current : 938879160910602240\n",
      "2022-11-17 21:48:37.227085 Process 8 current : 938986117398872065\n",
      "2022-11-17 21:48:37.690389 Process 8 current : 939485563282972674\n"
     ]
    },
    {
     "name": "stderr",
     "output_type": "stream",
     "text": [
      "Rate limit exceeded. Sleeping for 890 seconds.\n"
     ]
    },
    {
     "name": "stdout",
     "output_type": "stream",
     "text": [
      "2022-11-17 21:49:07.130104 Process 4 current : 1010807215\n",
      "2022-11-17 21:49:09.326053 Process 4 current : 1014525721\n",
      "2022-11-17 21:49:09.934622 Process 4 current : 1016020430\n",
      "2022-11-17 21:49:10.793200 Process 4 current : 1016240815\n",
      "2022-11-17 21:49:11.097332 Process 4 current : 1017962856\n",
      "2022-11-17 21:49:13.764969 Process 4 current : 1018037413\n",
      "2022-11-17 21:49:14.720966 Process 4 current : 1018143415\n",
      "2022-11-17 21:49:15.902632 Process 9 current : 1099485578289135616\n",
      "2022-11-17 21:49:16.338803 Process 9 current : 1099489652719996928\n",
      "2022-11-17 21:49:16.418490 Process 4 current : 1020564176\n",
      "2022-11-17 21:49:17.288873 Process 9 current : 1099759302137372673\n",
      "2022-11-17 21:49:19.216826 Process 9 current : 1100033629198184448\n",
      "2022-11-17 21:49:19.662230 Process 9 current : 1100218578501095426\n"
     ]
    },
    {
     "name": "stderr",
     "output_type": "stream",
     "text": [
      "Rate limit exceeded. Sleeping for 887 seconds.\n"
     ]
    },
    {
     "name": "stdout",
     "output_type": "stream",
     "text": [
      "2022-11-17 21:49:20.633664 Process 9 current : 1100425713008676866\n",
      "2022-11-17 21:49:27.502377 Process 9 current : 1100441995015741440\n",
      "2022-11-17 21:49:27.857236 Process 9 current : 1100485183713665024\n"
     ]
    },
    {
     "name": "stderr",
     "output_type": "stream",
     "text": [
      "Rate limit exceeded. Sleeping for 887 seconds.\n",
      "Rate limit exceeded. Sleeping for 887 seconds.\n"
     ]
    },
    {
     "name": "stdout",
     "output_type": "stream",
     "text": [
      "2022-11-17 21:55:38.119517 Process 1 current : 74153712\n",
      "2022-11-17 21:55:38.544786 Process 1 current : 74169610\n",
      "2022-11-17 21:55:38.998150 Process 1 current : 74247064\n",
      "2022-11-17 21:55:39.628799 Process 1 current : 74476167\n"
     ]
    },
    {
     "name": "stderr",
     "output_type": "stream",
     "text": [
      "Rate limit exceeded. Sleeping for 889 seconds.\n",
      "Rate limit exceeded. Sleeping for 885 seconds.\n",
      "Rate limit exceeded. Sleeping for 886 seconds.\n"
     ]
    },
    {
     "name": "stdout",
     "output_type": "stream",
     "text": [
      "2022-11-17 22:03:25.372560 Process 3 current : 520018112\n",
      "2022-11-17 22:03:28.669605 Process 8 current : 939571170365591552\n"
     ]
    },
    {
     "name": "stderr",
     "output_type": "stream",
     "text": [
      "Rate limit exceeded. Sleeping for 892 seconds.\n",
      "Rate limit exceeded. Sleeping for 888 seconds.\n"
     ]
    },
    {
     "name": "stdout",
     "output_type": "stream",
     "text": [
      "2022-11-17 22:03:33.423581 Process 3 current : 520592476\n",
      "2022-11-17 22:03:33.895580 Process 3 current : 520779141\n",
      "2022-11-17 22:03:34.066773 Process 8 current : 939769330337804288\n",
      "2022-11-17 22:03:34.609261 Process 8 current : 939975720444579840\n"
     ]
    },
    {
     "name": "stderr",
     "output_type": "stream",
     "text": [
      "Rate limit exceeded. Sleeping for 891 seconds.\n"
     ]
    },
    {
     "name": "stdout",
     "output_type": "stream",
     "text": [
      "2022-11-17 22:03:35.016398 Process 8 current : 940142567047532544\n",
      "2022-11-17 22:03:35.499121 Process 3 current : 520857798\n"
     ]
    },
    {
     "name": "stderr",
     "output_type": "stream",
     "text": [
      "Rate limit exceeded. Sleeping for 889 seconds.\n",
      "Rate limit exceeded. Sleeping for 887 seconds.\n"
     ]
    },
    {
     "name": "stdout",
     "output_type": "stream",
     "text": [
      "2022-11-17 22:04:20.222833 Process 9 current : 1100661687697342465\n",
      "2022-11-17 22:04:20.719017 Process 9 current : 1100808652871659524\n",
      "2022-11-17 22:04:21.571177 Process 9 current : 1100914498574143488\n"
     ]
    },
    {
     "name": "stderr",
     "output_type": "stream",
     "text": [
      "Rate limit exceeded. Sleeping for 885 seconds.\n"
     ]
    },
    {
     "name": "stdout",
     "output_type": "stream",
     "text": [
      "2022-11-17 22:04:26.170236 Process 9 current : 1101484425588736000\n",
      "2022-11-17 22:04:29.739560 Process 9 current : 1101602163795677185\n"
     ]
    },
    {
     "name": "stderr",
     "output_type": "stream",
     "text": [
      "Rate limit exceeded. Sleeping for 888 seconds.\n"
     ]
    },
    {
     "name": "stdout",
     "output_type": "stream",
     "text": [
      "2022-11-17 22:07:50.541811 Process 6 current : 4711179674\n",
      "2022-11-17 22:07:51.006819 Process 6 current : 4713575707\n",
      "2022-11-17 22:07:55.226114 Process 6 current : 4716024562\n",
      "2022-11-17 22:07:55.662415 Process 6 current : 4716230311\n",
      "2022-11-17 22:07:56.488795 Process 6 current : 4735036513\n",
      "2022-11-17 22:07:57.149322 Process 6 current : 4739018516\n"
     ]
    },
    {
     "name": "stderr",
     "output_type": "stream",
     "text": [
      "Rate limit exceeded. Sleeping for 890 seconds.\n",
      "Rate limit exceeded. Sleeping for 886 seconds.\n",
      "Rate limit exceeded. Sleeping for 885 seconds.\n"
     ]
    },
    {
     "name": "stdout",
     "output_type": "stream",
     "text": [
      "2022-11-17 22:10:54.880770 Process 11 current : 1376222270713122817\n",
      "2022-11-17 22:10:56.753609 Process 11 current : 1376311004200644626\n",
      "2022-11-17 22:10:57.747736 Process 11 current : 1376531968096108552\n",
      "2022-11-17 22:10:58.178933 Process 11 current : 1376660818583027712\n",
      "2022-11-17 22:10:58.721807 Process 11 current : 1376944019561971713\n",
      "2022-11-17 22:11:05.698638 Process 11 current : 1376999280666423296\n"
     ]
    },
    {
     "name": "stderr",
     "output_type": "stream",
     "text": [
      "Rate limit exceeded. Sleeping for 887 seconds.\n"
     ]
    },
    {
     "name": "stdout",
     "output_type": "stream",
     "text": [
      "2022-11-17 22:18:21.128210 Process 7 current : 799608443355144192\n",
      "2022-11-17 22:18:22.177920 Process 7 current : 799650796199694336\n",
      "2022-11-17 22:18:25.335086 Process 7 current : 799668799012122624\n",
      "2022-11-17 22:18:26.701099 Process 7 current : 799753953697099777\n",
      "2022-11-17 22:18:27.463535 Process 7 current : 799873725441024000\n",
      "2022-11-17 22:18:27.909336 Process 7 current : 799992957571047424\n"
     ]
    },
    {
     "name": "stderr",
     "output_type": "stream",
     "text": [
      "Rate limit exceeded. Sleeping for 893 seconds.\n",
      "Rate limit exceeded. Sleeping for 894 seconds.\n"
     ]
    },
    {
     "name": "stdout",
     "output_type": "stream",
     "text": [
      "2022-11-17 22:18:31.121164 Process 5 current : 2360117222\n"
     ]
    },
    {
     "name": "stderr",
     "output_type": "stream",
     "text": [
      "Rate limit exceeded. Sleeping for 894 seconds.\n",
      "Rate limit exceeded. Sleeping for 892 seconds.\n",
      "Rate limit exceeded. Sleeping for 892 seconds.\n"
     ]
    },
    {
     "name": "stdout",
     "output_type": "stream",
     "text": [
      "2022-11-17 22:19:20.605619 Process 9 current : 1101644879950737408\n",
      "2022-11-17 22:19:21.193970 Process 9 current : 1101964070385844225\n",
      "2022-11-17 22:19:21.708271 Process 9 current : 1102232108259516416\n",
      "2022-11-17 22:19:22.177920 Process 9 current : 1102249083610251264\n",
      "2022-11-17 22:19:22.625394 Process 9 current : 1102412395262156800\n",
      "2022-11-17 22:19:23.049134 Process 9 current : 1102427900303892480\n",
      "2022-11-17 22:19:23.539081 Process 9 current : 1102429203453173761\n",
      "2022-11-17 22:19:23.981134 Process 9 current : 1102840387977207808\n",
      "2022-11-17 22:19:25.271648 Process 9 current : 1102891297457623040\n",
      "2022-11-17 22:19:25.649293 Process 9 current : 1102983978464825345\n"
     ]
    },
    {
     "name": "stderr",
     "output_type": "stream",
     "text": [
      "Rate limit exceeded. Sleeping for 884 seconds.\n"
     ]
    },
    {
     "name": "stdout",
     "output_type": "stream",
     "text": [
      "2022-11-17 22:19:26.076855 Process 9 current : 1103199807445913601\n",
      "2022-11-17 22:19:26.944176 Process 9 current : 1103297391501955072\n",
      "2022-11-17 22:19:27.310577 Process 9 current : 1103379190504599557\n"
     ]
    },
    {
     "name": "stderr",
     "output_type": "stream",
     "text": [
      "Rate limit exceeded. Sleeping for 892 seconds.\n"
     ]
    },
    {
     "name": "stdout",
     "output_type": "stream",
     "text": [
      "2022-11-17 22:22:51.332822 Process 6 current : 4750473576\n",
      "2022-11-17 22:22:51.923406 Process 6 current : 4768830455\n",
      "2022-11-17 22:22:52.269623 Process 6 current : 4771610420\n",
      "2022-11-17 22:22:55.258228 Process 6 current : 4771801823\n",
      "2022-11-17 22:22:55.600850 Process 6 current : 4779274581\n",
      "2022-11-17 22:22:56.462966 Process 6 current : 4779406304\n",
      "2022-11-17 22:22:58.151245 Process 6 current : 4786609514\n",
      "2022-11-17 22:22:58.667719 Process 6 current : 4789918822\n"
     ]
    },
    {
     "name": "stderr",
     "output_type": "stream",
     "text": [
      "Rate limit exceeded. Sleeping for 889 seconds.\n"
     ]
    },
    {
     "name": "stdout",
     "output_type": "stream",
     "text": [
      "2022-11-17 22:25:48.655140 Process 2 current : 260721998\n",
      "2022-11-17 22:25:50.475339 Process 1 current : 74524361\n",
      "2022-11-17 22:25:51.061002 Process 1 current : 74543849\n"
     ]
    },
    {
     "name": "stderr",
     "output_type": "stream",
     "text": [
      "Rate limit exceeded. Sleeping for 887 seconds.\n"
     ]
    },
    {
     "name": "stdout",
     "output_type": "stream",
     "text": [
      "2022-11-17 22:25:51.908535 Process 1 current : 74750311\n"
     ]
    },
    {
     "name": "stderr",
     "output_type": "stream",
     "text": [
      "Rate limit exceeded. Sleeping for 886 seconds.\n"
     ]
    },
    {
     "name": "stdout",
     "output_type": "stream",
     "text": [
      "2022-11-17 22:25:53.532780 Process 11 current : 1377107812321357826\n",
      "2022-11-17 22:25:53.966518 Process 11 current : 1377272773224071171\n",
      "2022-11-17 22:25:55.012885 Process 11 current : 1377448363675721729\n",
      "2022-11-17 22:25:55.466080 Process 11 current : 1377589502949031936\n",
      "2022-11-17 22:25:55.886369 Process 11 current : 1377598601094967296\n",
      "2022-11-17 22:25:56.926923 Process 11 current : 1377695532915728385\n",
      "2022-11-17 22:25:57.350739 Process 11 current : 1377761386340696064\n",
      "2022-11-17 22:25:58.390471 Process 11 current : 1378356290351738884\n",
      "2022-11-17 22:26:01.378646 Process 11 current : 1378468103147950080\n",
      "2022-11-17 22:26:01.670932 Process 11 current : 1378755235418681344\n",
      "2022-11-17 22:26:02.271102 Process 11 current : 1378756785905930240\n",
      "2022-11-17 22:26:02.757965 Process 11 current : 1378819749782687752\n"
     ]
    },
    {
     "name": "stderr",
     "output_type": "stream",
     "text": [
      "Rate limit exceeded. Sleeping for 892 seconds.\n"
     ]
    },
    {
     "name": "stdout",
     "output_type": "stream",
     "text": [
      "2022-11-17 22:33:23.425094 Process 7 current : 800038832443891712\n",
      "2022-11-17 22:33:23.737608 Process 7 current : 800041033161703424\n",
      "2022-11-17 22:33:25.149336 Process 7 current : 800194642977271808\n",
      "2022-11-17 22:33:28.430672 Process 5 current : 2361000704\n"
     ]
    },
    {
     "name": "stderr",
     "output_type": "stream",
     "text": [
      "Rate limit exceeded. Sleeping for 894 seconds.\n"
     ]
    },
    {
     "name": "stdout",
     "output_type": "stream",
     "text": [
      "2022-11-17 22:33:30.326047 Process 5 current : 2361481063\n",
      "2022-11-17 22:33:30.888147 Process 3 current : 521343911\n"
     ]
    },
    {
     "name": "stderr",
     "output_type": "stream",
     "text": [
      "Rate limit exceeded. Sleeping for 894 seconds.\n"
     ]
    },
    {
     "name": "stdout",
     "output_type": "stream",
     "text": [
      "2022-11-17 22:33:31.910325 Process 3 current : 521742408\n"
     ]
    },
    {
     "name": "stderr",
     "output_type": "stream",
     "text": [
      "Rate limit exceeded. Sleeping for 893 seconds.\n"
     ]
    },
    {
     "name": "stdout",
     "output_type": "stream",
     "text": [
      "2022-11-17 22:33:36.048115 Process 3 current : 522318494\n",
      "2022-11-17 22:33:36.676305 Process 3 current : 522598789\n",
      "2022-11-17 22:33:37.158497 Process 3 current : 522711762\n",
      "2022-11-17 22:33:37.769964 Process 3 current : 522808717\n",
      "2022-11-17 22:33:39.004474 Process 3 current : 523791976\n"
     ]
    },
    {
     "name": "stderr",
     "output_type": "stream",
     "text": [
      "Rate limit exceeded. Sleeping for 891 seconds.\n",
      "Rate limit exceeded. Sleeping for 890 seconds.\n"
     ]
    },
    {
     "name": "stdout",
     "output_type": "stream",
     "text": [
      "2022-11-17 22:34:20.310175 Process 9 current : 1103393680021434368\n",
      "2022-11-17 22:34:21.259340 Process 9 current : 1103423340411318273\n",
      "2022-11-17 22:34:21.888522 Process 9 current : 1103840046380142592\n",
      "2022-11-17 22:34:22.354015 Process 9 current : 1104445950439968773\n",
      "2022-11-17 22:34:22.884360 Process 9 current : 1104494971950751745\n",
      "2022-11-17 22:34:23.452173 Process 9 current : 1104639513530232832\n",
      "2022-11-17 22:34:23.922883 Process 9 current : 1104767178086195200\n",
      "2022-11-17 22:34:24.446153 Process 9 current : 1104843098234998784\n",
      "2022-11-17 22:34:24.863089 Process 9 current : 1105494869462544385\n",
      "2022-11-17 22:34:25.287557 Process 9 current : 1105872747463364610\n"
     ]
    },
    {
     "name": "stderr",
     "output_type": "stream",
     "text": [
      "Rate limit exceeded. Sleeping for 885 seconds.\n",
      "Rate limit exceeded. Sleeping for 890 seconds.\n"
     ]
    },
    {
     "name": "stdout",
     "output_type": "stream",
     "text": [
      "2022-11-17 22:37:52.690836 Process 6 current : 4790363794\n",
      "2022-11-17 22:37:54.265299 Process 6 current : 4799092515\n",
      "2022-11-17 22:37:59.183678 Process 6 current : 4819843066\n",
      "2022-11-17 22:38:02.401367 Process 6 current : 4824127323\n",
      "2022-11-17 22:38:02.927836 Process 6 current : 4824293398\n"
     ]
    },
    {
     "name": "stderr",
     "output_type": "stream",
     "text": [
      "Rate limit exceeded. Sleeping for 888 seconds.\n"
     ]
    },
    {
     "name": "stdout",
     "output_type": "stream",
     "text": [
      "2022-11-17 22:40:40.816067 Process 1 current : 74772716\n",
      "2022-11-17 22:40:43.030211 Process 2 current : 260730469\n",
      "2022-11-17 22:40:43.619287 Process 2 current : 260828564\n",
      "2022-11-17 22:40:44.456675 Process 2 current : 260885616\n",
      "2022-11-17 22:40:47.529318 Process 2 current : 260887564\n"
     ]
    },
    {
     "name": "stderr",
     "output_type": "stream",
     "text": [
      "Rate limit exceeded. Sleeping for 891 seconds.\n",
      "Rate limit exceeded. Sleeping for 886 seconds.\n"
     ]
    },
    {
     "name": "stdout",
     "output_type": "stream",
     "text": [
      "2022-11-17 22:40:55.644917 Process 11 current : 1379144882095280128\n",
      "2022-11-17 22:41:00.140927 Process 11 current : 1379427506235834370\n",
      "2022-11-17 22:41:00.588148 Process 11 current : 1379683554276298759\n",
      "2022-11-17 22:41:01.013318 Process 11 current : 1380310349765877767\n",
      "2022-11-17 22:41:01.716052 Process 11 current : 1380376516933128193\n",
      "2022-11-17 22:41:02.091231 Process 11 current : 1381050581905719298\n"
     ]
    },
    {
     "name": "stderr",
     "output_type": "stream",
     "text": [
      "Rate limit exceeded. Sleeping for 894 seconds.\n"
     ]
    },
    {
     "name": "stdout",
     "output_type": "stream",
     "text": [
      "2022-11-17 22:48:23.975924 Process 7 current : 800353829858353152\n",
      "2022-11-17 22:48:27.191050 Process 7 current : 800398566153854976\n",
      "2022-11-17 22:48:28.431433 Process 7 current : 800464303887237120\n",
      "2022-11-17 22:48:29.342845 Process 5 current : 2361623269\n",
      "2022-11-17 22:48:29.627633 Process 7 current : 800528971649560576\n",
      "2022-11-17 22:48:30.627875 Process 7 current : 800543430455660544\n",
      "2022-11-17 22:48:31.273102 Process 7 current : 800570658929262592\n"
     ]
    },
    {
     "name": "stderr",
     "output_type": "stream",
     "text": [
      "Rate limit exceeded. Sleeping for 893 seconds.\n",
      "Rate limit exceeded. Sleeping for 890 seconds.\n"
     ]
    },
    {
     "name": "stdout",
     "output_type": "stream",
     "text": [
      "2022-11-17 22:48:35.195482 Process 3 current : 523841218\n"
     ]
    },
    {
     "name": "stderr",
     "output_type": "stream",
     "text": [
      "Rate limit exceeded. Sleeping for 893 seconds.\n",
      "Rate limit exceeded. Sleeping for 891 seconds.\n",
      "Rate limit exceeded. Sleeping for 886 seconds.\n"
     ]
    },
    {
     "name": "stdout",
     "output_type": "stream",
     "text": [
      "2022-11-17 22:49:23.579936 Process 9 current : 1105889401018580992\n",
      "2022-11-17 22:49:25.818442 Process 9 current : 1105998534220894210\n",
      "2022-11-17 22:49:26.188841 Process 4 current : 1020590508\n",
      "2022-11-17 22:49:26.203010 Process 9 current : 1107143226664910849\n",
      "2022-11-17 22:49:26.700914 Process 9 current : 1107703088079687680\n"
     ]
    },
    {
     "name": "stderr",
     "output_type": "stream",
     "text": [
      "Rate limit exceeded. Sleeping for 885 seconds.\n"
     ]
    },
    {
     "name": "stdout",
     "output_type": "stream",
     "text": [
      "2022-11-17 22:49:28.564708 Process 9 current : 1107805439591354368\n",
      "2022-11-17 22:49:29.178128 Process 9 current : 1107992860404707328\n",
      "2022-11-17 22:49:29.702489 Process 9 current : 1108409631334793216\n",
      "2022-11-17 22:49:31.655324 Process 9 current : 1108675035886170112\n",
      "2022-11-17 22:49:33.354413 Process 9 current : 1109111430257823744\n"
     ]
    },
    {
     "name": "stderr",
     "output_type": "stream",
     "text": [
      "Rate limit exceeded. Sleeping for 888 seconds.\n"
     ]
    },
    {
     "name": "stdout",
     "output_type": "stream",
     "text": [
      "2022-11-17 22:52:51.837349 Process 6 current : 4824717933\n",
      "2022-11-17 22:52:52.379688 Process 6 current : 4826806872\n",
      "2022-11-17 22:52:52.844103 Process 6 current : 4826849096\n",
      "2022-11-17 22:52:53.387880 Process 6 current : 4827705102\n",
      "2022-11-17 22:52:57.933873 Process 6 current : 4827935894\n",
      "2022-11-17 22:52:59.033289 Process 6 current : 4829781017\n",
      "2022-11-17 22:52:59.542701 Process 6 current : 4833240020\n",
      "2022-11-17 22:53:01.204043 Process 6 current : 4833738532\n"
     ]
    },
    {
     "name": "stderr",
     "output_type": "stream",
     "text": [
      "Rate limit exceeded. Sleeping for 889 seconds.\n"
     ]
    },
    {
     "name": "stdout",
     "output_type": "stream",
     "text": [
      "2022-11-17 22:55:42.509019 Process 1 current : 74933567\n",
      "2022-11-17 22:55:42.830876 Process 2 current : 260936473\n",
      "2022-11-17 22:55:43.375817 Process 2 current : 260981899\n",
      "2022-11-17 22:55:43.491714 Process 1 current : 75006506\n",
      "2022-11-17 22:55:43.916136 Process 1 current : 75118422\n",
      "2022-11-17 22:55:44.859551 Process 1 current : 75157962\n",
      "2022-11-17 22:55:45.806730 Process 1 current : 75208108\n",
      "2022-11-17 22:55:46.345093 Process 1 current : 75388406\n",
      "2022-11-17 22:55:46.804891 Process 1 current : 75397833\n",
      "2022-11-17 22:55:47.409244 Process 1 current : 75649353\n"
     ]
    },
    {
     "name": "stderr",
     "output_type": "stream",
     "text": [
      "Rate limit exceeded. Sleeping for 893 seconds.\n",
      "Rate limit exceeded. Sleeping for 886 seconds.\n"
     ]
    },
    {
     "name": "stdout",
     "output_type": "stream",
     "text": [
      "2022-11-17 22:55:57.587476 Process 11 current : 1381055448418295810\n",
      "2022-11-17 22:56:00.173850 Process 11 current : 1381238814337863683\n",
      "2022-11-17 22:56:00.799255 Process 11 current : 1381650043950800898\n",
      "2022-11-17 22:56:01.168080 Process 11 current : 1381699931698823169\n",
      "2022-11-17 22:56:01.801381 Process 11 current : 1381760269681102850\n",
      "2022-11-17 22:56:02.271057 Process 11 current : 1382014754969976836\n",
      "2022-11-17 22:56:02.780174 Process 11 current : 1382060484325691395\n"
     ]
    },
    {
     "name": "stderr",
     "output_type": "stream",
     "text": [
      "Rate limit exceeded. Sleeping for 893 seconds.\n"
     ]
    },
    {
     "name": "stdout",
     "output_type": "stream",
     "text": [
      "2022-11-17 23:03:31.012985 Process 5 current : 2361735703\n",
      "2022-11-17 23:03:31.462003 Process 5 current : 2361964183\n",
      "2022-11-17 23:03:31.891603 Process 5 current : 2363281723\n",
      "2022-11-17 23:03:31.966251 Process 3 current : 524241076\n",
      "2022-11-17 23:03:32.300396 Process 5 current : 2363677627\n",
      "2022-11-17 23:03:33.032630 Process 5 current : 2364766740\n",
      "2022-11-17 23:03:33.084183 Process 3 current : 524515818\n"
     ]
    },
    {
     "name": "stderr",
     "output_type": "stream",
     "text": [
      "Rate limit exceeded. Sleeping for 894 seconds.\n"
     ]
    },
    {
     "name": "stdout",
     "output_type": "stream",
     "text": [
      "2022-11-17 23:03:34.019689 Process 3 current : 525349174\n",
      "2022-11-17 23:03:34.779066 Process 3 current : 525582601\n"
     ]
    },
    {
     "name": "stderr",
     "output_type": "stream",
     "text": [
      "Rate limit exceeded. Sleeping for 890 seconds.\n"
     ]
    },
    {
     "name": "stdout",
     "output_type": "stream",
     "text": [
      "2022-11-17 23:03:35.653551 Process 3 current : 525738895\n",
      "2022-11-17 23:03:36.169379 Process 3 current : 525979603\n"
     ]
    },
    {
     "name": "stderr",
     "output_type": "stream",
     "text": [
      "Rate limit exceeded. Sleeping for 894 seconds.\n"
     ]
    },
    {
     "name": "stdout",
     "output_type": "stream",
     "text": [
      "2022-11-17 23:03:36.732637 Process 3 current : 525995067\n",
      "2022-11-17 23:03:37.392673 Process 8 current : 940361293701287938\n",
      "2022-11-17 23:03:37.789635 Process 3 current : 526453706\n",
      "2022-11-17 23:03:37.882409 Process 8 current : 940461862218375168\n",
      "2022-11-17 23:03:38.287263 Process 3 current : 526780652\n",
      "2022-11-17 23:03:38.770726 Process 3 current : 527696658\n",
      "2022-11-17 23:03:39.229152 Process 3 current : 528098872\n"
     ]
    },
    {
     "name": "stderr",
     "output_type": "stream",
     "text": [
      "Rate limit exceeded. Sleeping for 893 seconds.\n"
     ]
    },
    {
     "name": "stdout",
     "output_type": "stream",
     "text": [
      "2022-11-17 23:03:42.723030 Process 8 current : 940639255373721600\n"
     ]
    },
    {
     "name": "stderr",
     "output_type": "stream",
     "text": [
      "Rate limit exceeded. Sleeping for 892 seconds.\n"
     ]
    },
    {
     "name": "stdout",
     "output_type": "stream",
     "text": [
      "2022-11-17 23:04:13.597075 Process 4 current : 1021335715\n",
      "2022-11-17 23:04:14.087767 Process 4 current : 1022513226\n",
      "2022-11-17 23:04:14.864759 Process 4 current : 1022962176\n",
      "2022-11-17 23:04:16.256110 Process 4 current : 1023270758\n",
      "2022-11-17 23:04:16.851726 Process 4 current : 1023330984\n",
      "2022-11-17 23:04:17.374920 Process 4 current : 1024502700\n",
      "2022-11-17 23:04:18.281895 Process 4 current : 1024744160\n",
      "2022-11-17 23:04:20.204755 Process 4 current : 1025364470\n",
      "2022-11-17 23:04:21.952829 Process 4 current : 1027414980\n",
      "2022-11-17 23:04:22.859713 Process 9 current : 1109155924722085888\n",
      "2022-11-17 23:04:24.802812 Process 4 current : 1027443792\n"
     ]
    },
    {
     "name": "stderr",
     "output_type": "stream",
     "text": [
      "Rate limit exceeded. Sleeping for 888 seconds.\n"
     ]
    },
    {
     "name": "stdout",
     "output_type": "stream",
     "text": [
      "2022-11-17 23:04:28.604271 Process 9 current : 1109285243100516352\n",
      "2022-11-17 23:04:29.103975 Process 9 current : 1109461342111571968\n",
      "2022-11-17 23:04:29.956961 Process 9 current : 1109875612381052929\n",
      "2022-11-17 23:04:30.377447 Process 9 current : 1109894199032328192\n",
      "2022-11-17 23:04:30.873505 Process 9 current : 1110417447859838976\n",
      "2022-11-17 23:04:31.387697 Process 9 current : 1110428503009198082\n",
      "2022-11-17 23:04:31.923676 Process 9 current : 1110498895514218497\n",
      "2022-11-17 23:04:33.555690 Process 9 current : 1110661720995815425\n"
     ]
    },
    {
     "name": "stderr",
     "output_type": "stream",
     "text": [
      "Rate limit exceeded. Sleeping for 889 seconds.\n",
      "Rate limit exceeded. Sleeping for 889 seconds.\n"
     ]
    },
    {
     "name": "stdout",
     "output_type": "stream",
     "text": [
      "2022-11-17 23:10:42.239323 Process 1 current : 75651331\n",
      "2022-11-17 23:10:43.417386 Process 2 current : 261054799\n",
      "2022-11-17 23:10:43.876676 Process 2 current : 261134811\n",
      "2022-11-17 23:10:43.978935 Process 1 current : 75916306\n",
      "2022-11-17 23:10:45.411386 Process 1 current : 76366495\n",
      "2022-11-17 23:10:45.953611 Process 1 current : 76387825\n",
      "2022-11-17 23:10:47.332219 Process 2 current : 261422694\n",
      "2022-11-17 23:10:49.616460 Process 2 current : 261434036\n"
     ]
    },
    {
     "name": "stderr",
     "output_type": "stream",
     "text": [
      "Rate limit exceeded. Sleeping for 892 seconds.\n"
     ]
    },
    {
     "name": "stdout",
     "output_type": "stream",
     "text": [
      "2022-11-17 23:10:50.535456 Process 2 current : 261452510\n",
      "2022-11-17 23:10:50.970368 Process 2 current : 261879201\n"
     ]
    },
    {
     "name": "stderr",
     "output_type": "stream",
     "text": [
      "Rate limit exceeded. Sleeping for 889 seconds.\n"
     ]
    },
    {
     "name": "stdout",
     "output_type": "stream",
     "text": [
      "2022-11-17 23:10:58.148788 Process 11 current : 1382074929735163912\n",
      "2022-11-17 23:10:58.667778 Process 11 current : 1382527928680935426\n",
      "2022-11-17 23:10:59.065993 Process 11 current : 1382548899802468354\n",
      "2022-11-17 23:11:04.358667 Process 11 current : 1382655215535599620\n",
      "2022-11-17 23:11:05.229536 Process 11 current : 1382756953231872000\n",
      "2022-11-17 23:11:05.647010 Process 11 current : 1382897080415363072\n",
      "2022-11-17 23:11:05.982208 Process 11 current : 1382983397572755456\n",
      "2022-11-17 23:11:06.343553 Process 11 current : 1383043646367395840\n",
      "2022-11-17 23:11:06.839126 Process 11 current : 1383119035022282753\n"
     ]
    },
    {
     "name": "stderr",
     "output_type": "stream",
     "text": [
      "Rate limit exceeded. Sleeping for 891 seconds.\n"
     ]
    },
    {
     "name": "stdout",
     "output_type": "stream",
     "text": [
      "2022-11-17 23:18:33.201283 Process 5 current : 2365160321\n"
     ]
    },
    {
     "name": "stderr",
     "output_type": "stream",
     "text": [
      "Rate limit exceeded. Sleeping for 893 seconds.\n",
      "Rate limit exceeded. Sleeping for 894 seconds.\n"
     ]
    },
    {
     "name": "stdout",
     "output_type": "stream",
     "text": [
      "2022-11-17 23:18:35.419450 Process 5 current : 2367458396\n",
      "2022-11-17 23:18:36.002344 Process 5 current : 2367642810\n",
      "2022-11-17 23:18:36.435968 Process 5 current : 2369285449\n",
      "2022-11-17 23:18:36.627681 Process 3 current : 528967949\n",
      "2022-11-17 23:18:36.818280 Process 5 current : 2369658721\n"
     ]
    },
    {
     "name": "stderr",
     "output_type": "stream",
     "text": [
      "Rate limit exceeded. Sleeping for 894 seconds.\n"
     ]
    },
    {
     "name": "stdout",
     "output_type": "stream",
     "text": [
      "2022-11-17 23:18:37.219518 Process 3 current : 528990081\n",
      "2022-11-17 23:18:37.732791 Process 3 current : 529735441\n",
      "2022-11-17 23:18:40.671678 Process 3 current : 529847529\n"
     ]
    },
    {
     "name": "stderr",
     "output_type": "stream",
     "text": [
      "Rate limit exceeded. Sleeping for 893 seconds.\n"
     ]
    },
    {
     "name": "stdout",
     "output_type": "stream",
     "text": [
      "2022-11-17 23:18:41.966642 Process 8 current : 940702792775229440\n",
      "2022-11-17 23:18:42.407422 Process 8 current : 940951044971937794\n",
      "2022-11-17 23:18:43.339472 Process 8 current : 940970571889823745\n",
      "2022-11-17 23:18:43.786431 Process 8 current : 941059751302938624\n",
      "2022-11-17 23:18:44.167253 Process 8 current : 941097879040610305\n",
      "2022-11-17 23:18:44.520862 Process 8 current : 941106853035077633\n"
     ]
    },
    {
     "name": "stderr",
     "output_type": "stream",
     "text": [
      "Rate limit exceeded. Sleeping for 892 seconds.\n"
     ]
    },
    {
     "name": "stdout",
     "output_type": "stream",
     "text": [
      "2022-11-17 23:19:13.689564 Process 4 current : 1027539745\n",
      "2022-11-17 23:19:16.354400 Process 4 current : 1029396254\n",
      "2022-11-17 23:19:17.141929 Process 4 current : 1031358764\n",
      "2022-11-17 23:19:17.576070 Process 4 current : 1033500907\n",
      "2022-11-17 23:19:17.931514 Process 4 current : 1033943323\n",
      "2022-11-17 23:19:19.616553 Process 4 current : 1036276542\n",
      "2022-11-17 23:19:21.042005 Process 4 current : 1036315393\n",
      "2022-11-17 23:19:21.466694 Process 4 current : 1038112380\n",
      "2022-11-17 23:19:21.843702 Process 4 current : 1038313206\n",
      "2022-11-17 23:19:22.405706 Process 4 current : 1038823279\n",
      "2022-11-17 23:19:23.235902 Process 9 current : 1111224867129483265\n",
      "2022-11-17 23:19:23.352940 Process 4 current : 1041167624\n"
     ]
    },
    {
     "name": "stderr",
     "output_type": "stream",
     "text": [
      "Rate limit exceeded. Sleeping for 891 seconds.\n"
     ]
    },
    {
     "name": "stdout",
     "output_type": "stream",
     "text": [
      "2022-11-17 23:19:23.637383 Process 9 current : 1111320399583731712\n",
      "2022-11-17 23:19:24.476317 Process 9 current : 1111353379807072256\n",
      "2022-11-17 23:19:24.914154 Process 9 current : 1111354011406475264\n",
      "2022-11-17 23:19:26.646045 Process 9 current : 1111390831150284800\n",
      "2022-11-17 23:19:29.304043 Process 9 current : 1111419488308736000\n",
      "2022-11-17 23:19:31.533935 Process 9 current : 1111434851079675904\n",
      "2022-11-17 23:19:32.815236 Process 9 current : 1111469567828807680\n"
     ]
    },
    {
     "name": "stderr",
     "output_type": "stream",
     "text": [
      "Rate limit exceeded. Sleeping for 891 seconds.\n"
     ]
    },
    {
     "name": "stdout",
     "output_type": "stream",
     "text": [
      "2022-11-17 23:22:57.267267 Process 6 current : 4833750077\n",
      "2022-11-17 23:22:57.762558 Process 6 current : 4835168615\n",
      "2022-11-17 23:22:58.628100 Process 6 current : 4835533666\n",
      "2022-11-17 23:23:02.723873 Process 6 current : 4837060487\n",
      "2022-11-17 23:23:04.239298 Process 6 current : 4838743006\n"
     ]
    },
    {
     "name": "stderr",
     "output_type": "stream",
     "text": [
      "Rate limit exceeded. Sleeping for 889 seconds.\n"
     ]
    },
    {
     "name": "stdout",
     "output_type": "stream",
     "text": [
      "2022-11-17 23:25:42.077751 Process 2 current : 262172683\n",
      "2022-11-17 23:25:42.553386 Process 2 current : 262379551\n",
      "2022-11-17 23:25:43.018827 Process 2 current : 262445219\n",
      "2022-11-17 23:25:43.461092 Process 2 current : 262759653\n",
      "2022-11-17 23:25:45.361272 Process 1 current : 76471879\n",
      "2022-11-17 23:25:51.122542 Process 2 current : 262845489\n"
     ]
    },
    {
     "name": "stderr",
     "output_type": "stream",
     "text": [
      "Rate limit exceeded. Sleeping for 889 seconds.\n"
     ]
    },
    {
     "name": "stdout",
     "output_type": "stream",
     "text": [
      "2022-11-17 23:25:53.351190 Process 1 current : 76713592\n"
     ]
    },
    {
     "name": "stderr",
     "output_type": "stream",
     "text": [
      "Rate limit exceeded. Sleeping for 890 seconds.\n"
     ]
    },
    {
     "name": "stdout",
     "output_type": "stream",
     "text": [
      "2022-11-17 23:25:58.574577 Process 11 current : 1383128071524421632\n",
      "2022-11-17 23:26:00.026975 Process 11 current : 1383133816060010504\n",
      "2022-11-17 23:26:01.400330 Process 11 current : 1383179810806059010\n",
      "2022-11-17 23:26:02.923033 Process 11 current : 1384128760895606789\n",
      "2022-11-17 23:26:03.375412 Process 11 current : 1384507887398146050\n",
      "2022-11-17 23:26:03.702394 Process 11 current : 1384645400502673409\n",
      "2022-11-17 23:26:04.173438 Process 11 current : 1384846752734384131\n",
      "2022-11-17 23:26:04.489692 Process 11 current : 1384998271861460993\n",
      "2022-11-17 23:26:04.987436 Process 11 current : 1385007985701830656\n"
     ]
    },
    {
     "name": "stderr",
     "output_type": "stream",
     "text": [
      "Rate limit exceeded. Sleeping for 893 seconds.\n"
     ]
    },
    {
     "name": "stdout",
     "output_type": "stream",
     "text": [
      "2022-11-17 23:33:31.605327 Process 5 current : 2369800783\n",
      "2022-11-17 23:33:32.437272 Process 7 current : 800592312610889728\n",
      "2022-11-17 23:33:32.510359 Process 5 current : 2370026108\n",
      "2022-11-17 23:33:33.361887 Process 5 current : 2370214398\n"
     ]
    },
    {
     "name": "stderr",
     "output_type": "stream",
     "text": [
      "Rate limit exceeded. Sleeping for 895 seconds.\n"
     ]
    },
    {
     "name": "stdout",
     "output_type": "stream",
     "text": [
      "2022-11-17 23:33:33.779771 Process 5 current : 2371064395\n",
      "2022-11-17 23:33:34.534039 Process 3 current : 531343630\n",
      "2022-11-17 23:33:35.051743 Process 3 current : 531578411\n",
      "2022-11-17 23:33:35.502535 Process 3 current : 531640269\n",
      "2022-11-17 23:33:35.952280 Process 3 current : 532494575\n",
      "2022-11-17 23:33:36.442593 Process 3 current : 532629146\n"
     ]
    },
    {
     "name": "stderr",
     "output_type": "stream",
     "text": [
      "Rate limit exceeded. Sleeping for 894 seconds.\n"
     ]
    },
    {
     "name": "stdout",
     "output_type": "stream",
     "text": [
      "2022-11-17 23:33:37.023402 Process 3 current : 532722125\n",
      "2022-11-17 23:33:37.384736 Process 3 current : 533348309\n",
      "2022-11-17 23:33:37.753811 Process 3 current : 533495194\n"
     ]
    },
    {
     "name": "stderr",
     "output_type": "stream",
     "text": [
      "Rate limit exceeded. Sleeping for 893 seconds.\n",
      "Rate limit exceeded. Sleeping for 896 seconds.\n"
     ]
    },
    {
     "name": "stdout",
     "output_type": "stream",
     "text": [
      "2022-11-17 23:33:39.927653 Process 8 current : 941140933583585280\n",
      "2022-11-17 23:33:43.620529 Process 8 current : 941363983952613382\n",
      "2022-11-17 23:33:44.011111 Process 8 current : 941495409050046465\n",
      "2022-11-17 23:33:49.946246 Process 8 current : 941692523193311232\n",
      "2022-11-17 23:33:50.446154 Process 8 current : 941714418391535616\n"
     ]
    },
    {
     "name": "stderr",
     "output_type": "stream",
     "text": [
      "Rate limit exceeded. Sleeping for 889 seconds.\n"
     ]
    },
    {
     "name": "stdout",
     "output_type": "stream",
     "text": [
      "2022-11-17 23:34:16.288209 Process 4 current : 1045053296\n",
      "2022-11-17 23:34:16.610239 Process 4 current : 1045127893\n",
      "2022-11-17 23:34:16.964676 Process 4 current : 1045554716\n",
      "2022-11-17 23:34:17.409924 Process 4 current : 1045713782\n"
     ]
    },
    {
     "name": "stderr",
     "output_type": "stream",
     "text": [
      "Rate limit exceeded. Sleeping for 889 seconds.\n"
     ]
    },
    {
     "name": "stdout",
     "output_type": "stream",
     "text": [
      "2022-11-17 23:34:26.987710 Process 9 current : 1111474909992140800\n"
     ]
    },
    {
     "name": "stderr",
     "output_type": "stream",
     "text": [
      "Rate limit exceeded. Sleeping for 888 seconds.\n"
     ]
    },
    {
     "name": "stdout",
     "output_type": "stream",
     "text": [
      "2022-11-17 23:38:07.442339 Process 6 current : 4839351859\n"
     ]
    },
    {
     "name": "stderr",
     "output_type": "stream",
     "text": [
      "Rate limit exceeded. Sleeping for 888 seconds.\n"
     ]
    },
    {
     "name": "stdout",
     "output_type": "stream",
     "text": [
      "2022-11-17 23:40:45.911791 Process 2 current : 263098174\n",
      "2022-11-17 23:40:47.285873 Process 1 current : 76726287\n",
      "2022-11-17 23:40:47.666686 Process 2 current : 263164345\n",
      "2022-11-17 23:40:47.726153 Process 1 current : 76735153\n",
      "2022-11-17 23:40:48.298751 Process 1 current : 76946779\n",
      "2022-11-17 23:40:48.653125 Process 2 current : 263228479\n",
      "2022-11-17 23:40:48.757200 Process 1 current : 77007129\n",
      "2022-11-17 23:40:49.053576 Process 2 current : 263267726\n",
      "2022-11-17 23:40:49.310417 Process 1 current : 77007257\n",
      "2022-11-17 23:40:49.666376 Process 2 current : 263504949\n",
      "2022-11-17 23:40:50.507752 Process 2 current : 263906698\n",
      "2022-11-17 23:40:53.442251 Process 2 current : 263908469\n",
      "2022-11-17 23:40:53.855744 Process 2 current : 263939135\n"
     ]
    },
    {
     "name": "stderr",
     "output_type": "stream",
     "text": [
      "Rate limit exceeded. Sleeping for 889 seconds.\n"
     ]
    },
    {
     "name": "stdout",
     "output_type": "stream",
     "text": [
      "2022-11-17 23:40:54.978430 Process 1 current : 77024058\n"
     ]
    },
    {
     "name": "stderr",
     "output_type": "stream",
     "text": [
      "Rate limit exceeded. Sleeping for 889 seconds.\n",
      "Rate limit exceeded. Sleeping for 888 seconds.\n"
     ]
    },
    {
     "name": "stdout",
     "output_type": "stream",
     "text": [
      "2022-11-17 23:48:30.627559 Process 7 current : 800733495744032768\n",
      "2022-11-17 23:48:31.024722 Process 7 current : 800783792428302336\n",
      "2022-11-17 23:48:32.587897 Process 7 current : 800835736144662534\n",
      "2022-11-17 23:48:35.336512 Process 7 current : 801065214267523072\n"
     ]
    },
    {
     "name": "stderr",
     "output_type": "stream",
     "text": [
      "Rate limit exceeded. Sleeping for 894 seconds.\n"
     ]
    },
    {
     "name": "stdout",
     "output_type": "stream",
     "text": [
      "2022-11-17 23:48:37.167077 Process 3 current : 533645813\n"
     ]
    },
    {
     "name": "stderr",
     "output_type": "stream",
     "text": [
      "Rate limit exceeded. Sleeping for 894 seconds.\n"
     ]
    },
    {
     "name": "stdout",
     "output_type": "stream",
     "text": [
      "2022-11-17 23:48:37.730822 Process 3 current : 534587420\n",
      "2022-11-17 23:48:38.511681 Process 3 current : 534630009\n"
     ]
    },
    {
     "name": "stderr",
     "output_type": "stream",
     "text": [
      "Rate limit exceeded. Sleeping for 893 seconds.\n",
      "Rate limit exceeded. Sleeping for 892 seconds.\n"
     ]
    },
    {
     "name": "stdout",
     "output_type": "stream",
     "text": [
      "2022-11-17 23:48:47.532870 Process 8 current : 941791585448218624\n",
      "2022-11-17 23:48:50.219265 Process 8 current : 941815081784020993\n",
      "2022-11-17 23:48:50.723744 Process 8 current : 941846643573477382\n"
     ]
    },
    {
     "name": "stderr",
     "output_type": "stream",
     "text": [
      "Rate limit exceeded. Sleeping for 892 seconds.\n"
     ]
    },
    {
     "name": "stdout",
     "output_type": "stream",
     "text": [
      "2022-11-17 23:49:19.817461 Process 4 current : 1046648216\n",
      "2022-11-17 23:49:20.534778 Process 4 current : 1049212730\n"
     ]
    },
    {
     "name": "stderr",
     "output_type": "stream",
     "text": [
      "Rate limit exceeded. Sleeping for 888 seconds.\n"
     ]
    },
    {
     "name": "stdout",
     "output_type": "stream",
     "text": [
      "2022-11-17 23:49:32.885797 Process 9 current : 1112128377153093632\n",
      "2022-11-17 23:49:33.225433 Process 9 current : 1112150395307073538\n",
      "2022-11-17 23:49:33.983819 Process 9 current : 1112461305250643968\n",
      "2022-11-17 23:49:34.777690 Process 9 current : 1112533464941805570\n",
      "2022-11-17 23:49:35.203056 Process 9 current : 1112845655842701312\n",
      "2022-11-17 23:49:35.751018 Process 9 current : 1113159183946452993\n",
      "2022-11-17 23:49:36.496060 Process 9 current : 1113450409056645120\n"
     ]
    },
    {
     "name": "stderr",
     "output_type": "stream",
     "text": [
      "Rate limit exceeded. Sleeping for 890 seconds.\n"
     ]
    },
    {
     "name": "stdout",
     "output_type": "stream",
     "text": [
      "2022-11-17 23:53:00.134209 Process 6 current : 4841179036\n",
      "2022-11-17 23:53:01.590048 Process 6 current : 4842389406\n",
      "2022-11-17 23:53:01.972010 Process 6 current : 4843459366\n",
      "2022-11-17 23:53:03.230616 Process 6 current : 4843940806\n"
     ]
    },
    {
     "name": "stderr",
     "output_type": "stream",
     "text": [
      "Rate limit exceeded. Sleeping for 890 seconds.\n"
     ]
    },
    {
     "name": "stdout",
     "output_type": "stream",
     "text": [
      "2022-11-17 23:55:43.795894 Process 2 current : 263944134\n",
      "2022-11-17 23:55:44.231572 Process 2 current : 264026647\n",
      "2022-11-17 23:55:45.087728 Process 2 current : 264203612\n",
      "2022-11-17 23:55:45.952662 Process 1 current : 77244409\n",
      "2022-11-17 23:55:47.512412 Process 2 current : 264261919\n",
      "2022-11-17 23:55:47.981636 Process 2 current : 264327172\n",
      "2022-11-17 23:55:48.385025 Process 2 current : 264343007\n",
      "2022-11-17 23:55:50.305061 Process 1 current : 77458093\n",
      "2022-11-17 23:55:50.335255 Process 2 current : 264389283\n",
      "2022-11-17 23:55:51.961674 Process 2 current : 264451340\n"
     ]
    },
    {
     "name": "stderr",
     "output_type": "stream",
     "text": [
      "Rate limit exceeded. Sleeping for 890 seconds.\n",
      "Rate limit exceeded. Sleeping for 888 seconds.\n"
     ]
    },
    {
     "name": "stdout",
     "output_type": "stream",
     "text": [
      "2022-11-17 23:56:06.901121 Process 11 current : 1385041147278643207\n",
      "2022-11-17 23:56:07.468932 Process 11 current : 1385278105367900165\n",
      "2022-11-17 23:56:08.210620 Process 11 current : 1385409410248232961\n",
      "2022-11-17 23:56:08.981699 Process 11 current : 1385432502894940161\n",
      "2022-11-17 23:56:09.523906 Process 11 current : 1385664812068257796\n",
      "2022-11-17 23:56:12.939621 Process 11 current : 1386011909770596358\n"
     ]
    },
    {
     "name": "stderr",
     "output_type": "stream",
     "text": [
      "Rate limit exceeded. Sleeping for 889 seconds.\n"
     ]
    },
    {
     "name": "stdout",
     "output_type": "stream",
     "text": [
      "2022-11-18 00:03:30.788579 Process 7 current : 801146726954442752\n",
      "2022-11-18 00:03:33.237713 Process 7 current : 801178821172920320\n"
     ]
    },
    {
     "name": "stderr",
     "output_type": "stream",
     "text": [
      "Rate limit exceeded. Sleeping for 893 seconds.\n",
      "Rate limit exceeded. Sleeping for 893 seconds.\n"
     ]
    },
    {
     "name": "stdout",
     "output_type": "stream",
     "text": [
      "2022-11-18 00:03:41.542166 Process 3 current : 534720794\n"
     ]
    },
    {
     "name": "stderr",
     "output_type": "stream",
     "text": [
      "Rate limit exceeded. Sleeping for 893 seconds.\n"
     ]
    },
    {
     "name": "stdout",
     "output_type": "stream",
     "text": [
      "2022-11-18 00:03:43.718484 Process 8 current : 941956434459275266\n",
      "2022-11-18 00:03:46.064438 Process 3 current : 534813331\n",
      "2022-11-18 00:03:46.646841 Process 8 current : 942163383079407616\n",
      "2022-11-18 00:03:47.541926 Process 8 current : 942512521336053761\n",
      "2022-11-18 00:03:48.360477 Process 3 current : 534870442\n"
     ]
    },
    {
     "name": "stderr",
     "output_type": "stream",
     "text": [
      "Rate limit exceeded. Sleeping for 890 seconds.\n"
     ]
    },
    {
     "name": "stdout",
     "output_type": "stream",
     "text": [
      "2022-11-18 00:03:49.355337 Process 8 current : 942602546379722752\n",
      "2022-11-18 00:03:50.927917 Process 8 current : 942766261888577536\n",
      "2022-11-18 00:03:51.254134 Process 8 current : 942919627511881729\n",
      "2022-11-18 00:03:51.679663 Process 8 current : 942951967982276608\n",
      "2022-11-18 00:03:52.696000 Process 8 current : 943269805083189248\n"
     ]
    },
    {
     "name": "stderr",
     "output_type": "stream",
     "text": [
      "Rate limit exceeded. Sleeping for 890 seconds.\n"
     ]
    },
    {
     "name": "stdout",
     "output_type": "stream",
     "text": [
      "2022-11-18 00:04:27.777068 Process 4 current : 1049560369\n"
     ]
    },
    {
     "name": "stderr",
     "output_type": "stream",
     "text": [
      "Rate limit exceeded. Sleeping for 888 seconds.\n"
     ]
    },
    {
     "name": "stdout",
     "output_type": "stream",
     "text": [
      "2022-11-18 00:04:36.056577 Process 9 current : 1113464672152358913\n",
      "2022-11-18 00:04:38.700310 Process 9 current : 1113867279371055106\n",
      "2022-11-18 00:04:39.014939 Process 9 current : 1113894301816250369\n",
      "2022-11-18 00:04:39.780211 Process 9 current : 1114244750121398272\n",
      "2022-11-18 00:04:40.150203 Process 9 current : 1114316620409835521\n",
      "2022-11-18 00:04:40.512487 Process 9 current : 1114481686828462080\n"
     ]
    },
    {
     "name": "stderr",
     "output_type": "stream",
     "text": [
      "Rate limit exceeded. Sleeping for 889 seconds.\n"
     ]
    },
    {
     "name": "stdout",
     "output_type": "stream",
     "text": [
      "2022-11-18 00:08:00.009135 Process 6 current : 4846211980\n",
      "2022-11-18 00:08:00.843142 Process 6 current : 4848929877\n",
      "2022-11-18 00:08:02.207309 Process 6 current : 4849115746\n",
      "2022-11-18 00:08:02.669997 Process 6 current : 4849401974\n",
      "2022-11-18 00:08:03.057457 Process 6 current : 4851261952\n"
     ]
    },
    {
     "name": "stderr",
     "output_type": "stream",
     "text": [
      "Rate limit exceeded. Sleeping for 893 seconds.\n"
     ]
    },
    {
     "name": "stdout",
     "output_type": "stream",
     "text": [
      "2022-11-18 00:10:46.880558 Process 2 current : 264558228\n",
      "2022-11-18 00:10:47.785899 Process 2 current : 264644898\n",
      "2022-11-18 00:10:48.156676 Process 2 current : 264673317\n",
      "2022-11-18 00:10:48.691219 Process 2 current : 264861120\n",
      "2022-11-18 00:10:51.990346 Process 1 current : 77481782\n",
      "2022-11-18 00:10:53.465666 Process 1 current : 77538832\n",
      "2022-11-18 00:10:54.342030 Process 1 current : 77751388\n",
      "2022-11-18 00:10:54.441666 Process 2 current : 264912061\n"
     ]
    },
    {
     "name": "stderr",
     "output_type": "stream",
     "text": [
      "Rate limit exceeded. Sleeping for 892 seconds.\n"
     ]
    },
    {
     "name": "stdout",
     "output_type": "stream",
     "text": [
      "2022-11-18 00:10:55.811982 Process 2 current : 264935358\n"
     ]
    },
    {
     "name": "stderr",
     "output_type": "stream",
     "text": [
      "Rate limit exceeded. Sleeping for 889 seconds.\n",
      "Rate limit exceeded. Sleeping for 887 seconds.\n"
     ]
    },
    {
     "name": "stdout",
     "output_type": "stream",
     "text": [
      "2022-11-18 00:18:36.590309 Process 7 current : 801229034470440962\n",
      "2022-11-18 00:18:37.012287 Process 7 current : 801242439885422593\n",
      "2022-11-18 00:18:37.676962 Process 5 current : 2371284973\n",
      "2022-11-18 00:18:38.419952 Process 7 current : 801245571466067968\n",
      "2022-11-18 00:18:38.468231 Process 5 current : 2372162220\n",
      "2022-11-18 00:18:38.850301 Process 7 current : 801311070254170112\n"
     ]
    },
    {
     "name": "stderr",
     "output_type": "stream",
     "text": [
      "Rate limit exceeded. Sleeping for 894 seconds.\n"
     ]
    },
    {
     "name": "stdout",
     "output_type": "stream",
     "text": [
      "2022-11-18 00:18:39.339769 Process 7 current : 801467965019488256\n"
     ]
    },
    {
     "name": "stderr",
     "output_type": "stream",
     "text": [
      "Rate limit exceeded. Sleeping for 892 seconds.\n"
     ]
    },
    {
     "name": "stdout",
     "output_type": "stream",
     "text": [
      "2022-11-18 00:18:39.811734 Process 3 current : 535584647\n",
      "2022-11-18 00:18:40.141850 Process 3 current : 535674843\n",
      "2022-11-18 00:18:40.476259 Process 3 current : 535837061\n",
      "2022-11-18 00:18:42.407538 Process 3 current : 536944479\n",
      "2022-11-18 00:18:42.790154 Process 3 current : 537005382\n",
      "2022-11-18 00:18:43.254083 Process 3 current : 537442146\n",
      "2022-11-18 00:18:43.719984 Process 3 current : 537837123\n"
     ]
    },
    {
     "name": "stderr",
     "output_type": "stream",
     "text": [
      "Rate limit exceeded. Sleeping for 893 seconds.\n",
      "Rate limit exceeded. Sleeping for 894 seconds.\n"
     ]
    },
    {
     "name": "stdout",
     "output_type": "stream",
     "text": [
      "2022-11-18 00:18:55.699285 Process 8 current : 943300458470260736\n"
     ]
    },
    {
     "name": "stderr",
     "output_type": "stream",
     "text": [
      "Rate limit exceeded. Sleeping for 888 seconds.\n"
     ]
    },
    {
     "name": "stdout",
     "output_type": "stream",
     "text": [
      "2022-11-18 00:19:23.299562 Process 4 current : 1053274502\n",
      "2022-11-18 00:19:23.656929 Process 4 current : 1055279328\n",
      "2022-11-18 00:19:24.479046 Process 4 current : 1055956190\n",
      "2022-11-18 00:19:25.321144 Process 4 current : 1056072667\n",
      "2022-11-18 00:19:27.527224 Process 4 current : 1056632036\n",
      "2022-11-18 00:19:28.028750 Process 4 current : 1056650696\n",
      "2022-11-18 00:19:30.811910 Process 9 current : 1114761930818895872\n"
     ]
    },
    {
     "name": "stderr",
     "output_type": "stream",
     "text": [
      "Rate limit exceeded. Sleeping for 888 seconds.\n"
     ]
    },
    {
     "name": "stdout",
     "output_type": "stream",
     "text": [
      "2022-11-18 00:19:31.289600 Process 9 current : 1114906616011350018\n",
      "2022-11-18 00:19:35.236566 Process 9 current : 1116846852228419584\n",
      "2022-11-18 00:19:38.384917 Process 9 current : 1117545887155146753\n",
      "2022-11-18 00:19:38.898500 Process 9 current : 1117779728839192577\n",
      "2022-11-18 00:19:39.361844 Process 9 current : 1118148802433683457\n",
      "2022-11-18 00:19:40.558514 Process 9 current : 1118633617389957120\n"
     ]
    },
    {
     "name": "stderr",
     "output_type": "stream",
     "text": [
      "Rate limit exceeded. Sleeping for 891 seconds.\n"
     ]
    },
    {
     "name": "stdout",
     "output_type": "stream",
     "text": [
      "2022-11-18 00:23:00.575856 Process 6 current : 4852429895\n"
     ]
    },
    {
     "name": "stderr",
     "output_type": "stream",
     "text": [
      "Rate limit exceeded. Sleeping for 891 seconds.\n"
     ]
    },
    {
     "name": "stdout",
     "output_type": "stream",
     "text": [
      "2022-11-18 00:25:45.754226 Process 2 current : 265108546\n",
      "2022-11-18 00:25:47.216322 Process 1 current : 77826056\n",
      "2022-11-18 00:25:47.737182 Process 1 current : 77908436\n",
      "2022-11-18 00:25:48.008238 Process 1 current : 78001994\n",
      "2022-11-18 00:25:50.148086 Process 2 current : 265176960\n",
      "2022-11-18 00:25:52.319283 Process 2 current : 265198656\n",
      "2022-11-18 00:25:52.761735 Process 2 current : 265384380\n"
     ]
    },
    {
     "name": "stderr",
     "output_type": "stream",
     "text": [
      "Rate limit exceeded. Sleeping for 893 seconds.\n",
      "Rate limit exceeded. Sleeping for 892 seconds.\n"
     ]
    },
    {
     "name": "stdout",
     "output_type": "stream",
     "text": [
      "2022-11-18 00:26:07.278477 Process 11 current : 1386085658993774594\n",
      "2022-11-18 00:26:07.781126 Process 11 current : 1386586380399087618\n",
      "2022-11-18 00:26:08.132016 Process 11 current : 1386671144770621442\n",
      "2022-11-18 00:26:08.558081 Process 11 current : 1386674019454365700\n",
      "2022-11-18 00:26:09.113787 Process 11 current : 1386722091165159429\n",
      "2022-11-18 00:26:10.625332 Process 11 current : 1386735681326702600\n"
     ]
    },
    {
     "name": "stderr",
     "output_type": "stream",
     "text": [
      "Rate limit exceeded. Sleeping for 891 seconds.\n"
     ]
    },
    {
     "name": "stdout",
     "output_type": "stream",
     "text": [
      "2022-11-18 00:33:32.665543 Process 7 current : 801468014285754368\n",
      "2022-11-18 00:33:33.553282 Process 7 current : 801527731275976704\n",
      "2022-11-18 00:33:33.994028 Process 7 current : 801900879393660928\n",
      "2022-11-18 00:33:34.367614 Process 7 current : 802000177544515584\n"
     ]
    },
    {
     "name": "stderr",
     "output_type": "stream",
     "text": [
      "Rate limit exceeded. Sleeping for 893 seconds.\n"
     ]
    },
    {
     "name": "stdout",
     "output_type": "stream",
     "text": [
      "2022-11-18 00:33:39.372151 Process 5 current : 2372352906\n"
     ]
    },
    {
     "name": "stderr",
     "output_type": "stream",
     "text": [
      "Rate limit exceeded. Sleeping for 894 seconds.\n"
     ]
    },
    {
     "name": "stdout",
     "output_type": "stream",
     "text": [
      "2022-11-18 00:33:41.074926 Process 3 current : 538202974\n",
      "2022-11-18 00:33:42.525139 Process 3 current : 538467434\n"
     ]
    },
    {
     "name": "stderr",
     "output_type": "stream",
     "text": [
      "Rate limit exceeded. Sleeping for 894 seconds.\n"
     ]
    },
    {
     "name": "stdout",
     "output_type": "stream",
     "text": [
      "2022-11-18 00:33:47.678629 Process 8 current : 943360129449316352\n",
      "2022-11-18 00:33:50.447597 Process 8 current : 943589089244319744\n"
     ]
    },
    {
     "name": "stderr",
     "output_type": "stream",
     "text": [
      "Rate limit exceeded. Sleeping for 891 seconds.\n"
     ]
    },
    {
     "name": "stdout",
     "output_type": "stream",
     "text": [
      "2022-11-18 00:33:51.773202 Process 8 current : 943721934239485952\n",
      "2022-11-18 00:33:52.206862 Process 8 current : 943869816045277186\n",
      "2022-11-18 00:33:53.107192 Process 8 current : 943949821718675456\n",
      "2022-11-18 00:33:54.168628 Process 8 current : 944307684739862530\n",
      "2022-11-18 00:33:54.652719 Process 8 current : 945494109858525184\n"
     ]
    },
    {
     "name": "stderr",
     "output_type": "stream",
     "text": [
      "Rate limit exceeded. Sleeping for 894 seconds.\n"
     ]
    },
    {
     "name": "stdout",
     "output_type": "stream",
     "text": [
      "2022-11-18 00:34:22.684748 Process 4 current : 1056716616\n",
      "2022-11-18 00:34:32.518186 Process 9 current : 1118927625043320832\n"
     ]
    },
    {
     "name": "stderr",
     "output_type": "stream",
     "text": [
      "Rate limit exceeded. Sleeping for 888 seconds.\n"
     ]
    },
    {
     "name": "stdout",
     "output_type": "stream",
     "text": [
      "2022-11-18 00:34:34.352169 Process 9 current : 1118948943914782721\n",
      "2022-11-18 00:34:34.735717 Process 9 current : 1119005558223273985\n",
      "2022-11-18 00:34:37.322625 Process 9 current : 1119014143590305797\n"
     ]
    },
    {
     "name": "stderr",
     "output_type": "stream",
     "text": [
      "Rate limit exceeded. Sleeping for 889 seconds.\n"
     ]
    },
    {
     "name": "stdout",
     "output_type": "stream",
     "text": [
      "2022-11-18 00:38:03.440744 Process 6 current : 4854701547\n",
      "2022-11-18 00:38:03.819440 Process 6 current : 4857438269\n",
      "2022-11-18 00:38:05.466051 Process 6 current : 4857537145\n",
      "2022-11-18 00:38:07.926683 Process 6 current : 4861249686\n",
      "2022-11-18 00:38:08.706176 Process 6 current : 4864321997\n",
      "2022-11-18 00:38:10.312720 Process 6 current : 4866773151\n",
      "2022-11-18 00:38:11.598434 Process 6 current : 4867094525\n"
     ]
    },
    {
     "name": "stderr",
     "output_type": "stream",
     "text": [
      "Rate limit exceeded. Sleeping for 890 seconds.\n"
     ]
    },
    {
     "name": "stdout",
     "output_type": "stream",
     "text": [
      "2022-11-18 00:40:48.083214 Process 2 current : 265568924\n",
      "2022-11-18 00:40:50.610281 Process 2 current : 265897633\n",
      "2022-11-18 00:40:51.461088 Process 2 current : 265930460\n",
      "2022-11-18 00:40:54.376709 Process 2 current : 266090930\n",
      "2022-11-18 00:40:54.978548 Process 2 current : 266326338\n"
     ]
    },
    {
     "name": "stderr",
     "output_type": "stream",
     "text": [
      "Rate limit exceeded. Sleeping for 888 seconds.\n",
      "Rate limit exceeded. Sleeping for 888 seconds.\n"
     ]
    },
    {
     "name": "stdout",
     "output_type": "stream",
     "text": [
      "2022-11-18 00:41:09.133943 Process 11 current : 1386774198656376833\n",
      "2022-11-18 00:41:09.696210 Process 11 current : 1387084955436470275\n",
      "2022-11-18 00:41:10.111481 Process 11 current : 1387143248465047554\n",
      "2022-11-18 00:41:13.336926 Process 11 current : 1387452259718492161\n",
      "2022-11-18 00:41:13.760600 Process 11 current : 1387491895220256771\n",
      "2022-11-18 00:41:14.071612 Process 11 current : 1387888643025551362\n",
      "2022-11-18 00:41:14.475480 Process 11 current : 1388215142895194115\n",
      "2022-11-18 00:41:14.945765 Process 11 current : 1388321817169993730\n"
     ]
    },
    {
     "name": "stderr",
     "output_type": "stream",
     "text": [
      "Rate limit exceeded. Sleeping for 891 seconds.\n"
     ]
    },
    {
     "name": "stdout",
     "output_type": "stream",
     "text": [
      "2022-11-18 00:48:33.815558 Process 7 current : 802014200457412608\n",
      "2022-11-18 00:48:34.698993 Process 7 current : 802275837319880704\n",
      "2022-11-18 00:48:36.130835 Process 7 current : 802285783063392260\n"
     ]
    },
    {
     "name": "stderr",
     "output_type": "stream",
     "text": [
      "Rate limit exceeded. Sleeping for 893 seconds.\n",
      "Rate limit exceeded. Sleeping for 894 seconds.\n",
      "Rate limit exceeded. Sleeping for 895 seconds.\n"
     ]
    },
    {
     "name": "stdout",
     "output_type": "stream",
     "text": [
      "2022-11-18 00:48:49.607604 Process 8 current : 945739553633009664\n"
     ]
    },
    {
     "name": "stderr",
     "output_type": "stream",
     "text": [
      "Rate limit exceeded. Sleeping for 893 seconds.\n"
     ]
    },
    {
     "name": "stdout",
     "output_type": "stream",
     "text": [
      "2022-11-18 00:48:50.348698 Process 8 current : 945750692068765697\n",
      "2022-11-18 00:48:51.325192 Process 8 current : 946094039283089411\n",
      "2022-11-18 00:48:51.910043 Process 8 current : 946292250669142017\n",
      "2022-11-18 00:48:52.478125 Process 8 current : 946403628692180993\n",
      "2022-11-18 00:48:53.244092 Process 8 current : 946522099178405888\n",
      "2022-11-18 00:48:55.026361 Process 8 current : 946542248883380224\n",
      "2022-11-18 00:48:56.807043 Process 8 current : 946557196740960257\n",
      "2022-11-18 00:48:57.710999 Process 8 current : 947040306213535744\n",
      "2022-11-18 00:48:59.159579 Process 8 current : 947554938271469568\n"
     ]
    },
    {
     "name": "stderr",
     "output_type": "stream",
     "text": [
      "Rate limit exceeded. Sleeping for 890 seconds.\n"
     ]
    },
    {
     "name": "stdout",
     "output_type": "stream",
     "text": [
      "2022-11-18 00:49:22.178717 Process 4 current : 1058005226\n",
      "2022-11-18 00:49:24.346064 Process 4 current : 1058015808\n",
      "2022-11-18 00:49:26.718084 Process 4 current : 1059064171\n",
      "2022-11-18 00:49:27.130694 Process 4 current : 1063810429\n",
      "2022-11-18 00:49:27.629529 Process 4 current : 1064780736\n",
      "2022-11-18 00:49:28.407569 Process 4 current : 1069289706\n",
      "2022-11-18 00:49:31.072606 Process 4 current : 1072651464\n"
     ]
    },
    {
     "name": "stderr",
     "output_type": "stream",
     "text": [
      "Rate limit exceeded. Sleeping for 889 seconds.\n"
     ]
    },
    {
     "name": "stdout",
     "output_type": "stream",
     "text": [
      "2022-11-18 00:49:40.541549 Process 9 current : 1119237475837325314\n",
      "2022-11-18 00:49:43.094411 Process 9 current : 1119318824975831040\n",
      "2022-11-18 00:49:43.606817 Process 9 current : 1119378291121475584\n",
      "2022-11-18 00:49:43.958827 Process 9 current : 1120505236559409154\n",
      "2022-11-18 00:49:45.667649 Process 9 current : 1120513798048292864\n"
     ]
    },
    {
     "name": "stderr",
     "output_type": "stream",
     "text": [
      "Rate limit exceeded. Sleeping for 889 seconds.\n"
     ]
    },
    {
     "name": "stdout",
     "output_type": "stream",
     "text": [
      "2022-11-18 00:53:02.575408 Process 6 current : 4868688743\n"
     ]
    },
    {
     "name": "stderr",
     "output_type": "stream",
     "text": [
      "Rate limit exceeded. Sleeping for 889 seconds.\n",
      "Rate limit exceeded. Sleeping for 892 seconds.\n",
      "Rate limit exceeded. Sleeping for 887 seconds.\n"
     ]
    },
    {
     "name": "stdout",
     "output_type": "stream",
     "text": [
      "2022-11-18 00:56:10.151088 Process 11 current : 1389000105613615104\n",
      "2022-11-18 00:56:10.627517 Process 11 current : 1389089402287050752\n",
      "2022-11-18 00:56:11.189603 Process 11 current : 1389403141859201025\n",
      "2022-11-18 00:56:11.902521 Process 11 current : 1389612908120887300\n",
      "2022-11-18 00:56:14.842971 Process 11 current : 1389740270632128512\n",
      "2022-11-18 00:56:15.303667 Process 11 current : 1390336876742066176\n",
      "2022-11-18 00:56:15.714772 Process 11 current : 1390677032317693954\n",
      "2022-11-18 00:56:16.147856 Process 11 current : 1390732471965085700\n"
     ]
    },
    {
     "name": "stderr",
     "output_type": "stream",
     "text": [
      "Rate limit exceeded. Sleeping for 890 seconds.\n"
     ]
    },
    {
     "name": "stdout",
     "output_type": "stream",
     "text": [
      "2022-11-18 01:03:38.913116 Process 7 current : 802325442682355712\n",
      "2022-11-18 01:03:40.274024 Process 7 current : 802516986504695808\n"
     ]
    },
    {
     "name": "stderr",
     "output_type": "stream",
     "text": [
      "Rate limit exceeded. Sleeping for 893 seconds.\n",
      "Rate limit exceeded. Sleeping for 894 seconds.\n"
     ]
    },
    {
     "name": "stdout",
     "output_type": "stream",
     "text": [
      "2022-11-18 01:03:46.693099 Process 5 current : 2372973380\n"
     ]
    },
    {
     "name": "stderr",
     "output_type": "stream",
     "text": [
      "Rate limit exceeded. Sleeping for 895 seconds.\n",
      "Rate limit exceeded. Sleeping for 892 seconds.\n"
     ]
    },
    {
     "name": "stdout",
     "output_type": "stream",
     "text": [
      "2022-11-18 01:03:53.043362 Process 8 current : 947580333175791617\n",
      "2022-11-18 01:03:53.495400 Process 8 current : 947588165782654976\n",
      "2022-11-18 01:03:54.291736 Process 8 current : 947589047588982785\n",
      "2022-11-18 01:03:56.754241 Process 8 current : 947605809596334080\n",
      "2022-11-18 01:03:59.164610 Process 8 current : 947671356623040512\n",
      "2022-11-18 01:03:59.669531 Process 8 current : 947955321493786624\n",
      "2022-11-18 01:04:01.416916 Process 8 current : 948183540222578688\n"
     ]
    },
    {
     "name": "stderr",
     "output_type": "stream",
     "text": [
      "Rate limit exceeded. Sleeping for 890 seconds.\n"
     ]
    },
    {
     "name": "stdout",
     "output_type": "stream",
     "text": [
      "2022-11-18 01:04:23.199631 Process 4 current : 1072693081\n",
      "2022-11-18 01:04:23.641109 Process 4 current : 1074649698\n",
      "2022-11-18 01:04:25.058042 Process 4 current : 1075357561\n",
      "2022-11-18 01:04:25.542978 Process 4 current : 1078621903\n",
      "2022-11-18 01:04:26.114975 Process 4 current : 1079939678\n",
      "2022-11-18 01:04:31.908865 Process 4 current : 1080500190\n"
     ]
    },
    {
     "name": "stderr",
     "output_type": "stream",
     "text": [
      "Rate limit exceeded. Sleeping for 890 seconds.\n"
     ]
    },
    {
     "name": "stdout",
     "output_type": "stream",
     "text": [
      "2022-11-18 01:04:37.435138 Process 9 current : 1120757476016709632\n",
      "2022-11-18 01:04:39.698868 Process 9 current : 1120867089575743494\n",
      "2022-11-18 01:04:40.101528 Process 9 current : 1121132559914631170\n",
      "2022-11-18 01:04:40.625228 Process 9 current : 1121299391816654848\n",
      "2022-11-18 01:04:42.272139 Process 9 current : 1121362688423100416\n",
      "2022-11-18 01:04:43.036974 Process 9 current : 1121365340733227008\n",
      "2022-11-18 01:04:44.348932 Process 9 current : 1121425371763761152\n"
     ]
    },
    {
     "name": "stderr",
     "output_type": "stream",
     "text": [
      "Rate limit exceeded. Sleeping for 890 seconds.\n"
     ]
    },
    {
     "name": "stdout",
     "output_type": "stream",
     "text": [
      "2022-11-18 01:08:14.119438 Process 6 current : 4868844340\n"
     ]
    },
    {
     "name": "stderr",
     "output_type": "stream",
     "text": [
      "Rate limit exceeded. Sleeping for 889 seconds.\n"
     ]
    },
    {
     "name": "stdout",
     "output_type": "stream",
     "text": [
      "2022-11-18 01:10:53.258724 Process 2 current : 266373518\n",
      "2022-11-18 01:10:57.110842 Process 1 current : 78054961\n",
      "2022-11-18 01:10:57.592253 Process 1 current : 78293409\n",
      "2022-11-18 01:10:58.043278 Process 1 current : 78391688\n"
     ]
    },
    {
     "name": "stderr",
     "output_type": "stream",
     "text": [
      "Rate limit exceeded. Sleeping for 891 seconds.\n",
      "Rate limit exceeded. Sleeping for 891 seconds.\n"
     ]
    },
    {
     "name": "stdout",
     "output_type": "stream",
     "text": [
      "2022-11-18 01:11:09.842331 Process 11 current : 1390774823907901446\n",
      "2022-11-18 01:11:13.439213 Process 11 current : 1390814785541971972\n",
      "2022-11-18 01:11:14.225615 Process 11 current : 1390839747401109515\n",
      "2022-11-18 01:11:14.491068 Process 11 current : 1391069765624471552\n",
      "2022-11-18 01:11:15.279985 Process 11 current : 1391540576651157505\n"
     ]
    },
    {
     "name": "stderr",
     "output_type": "stream",
     "text": [
      "Rate limit exceeded. Sleeping for 893 seconds.\n"
     ]
    },
    {
     "name": "stdout",
     "output_type": "stream",
     "text": [
      "2022-11-18 01:18:37.272362 Process 7 current : 802579152364650496\n",
      "2022-11-18 01:18:37.631315 Process 7 current : 802609024332140544\n",
      "2022-11-18 01:18:38.477383 Process 7 current : 802649176299466752\n"
     ]
    },
    {
     "name": "stderr",
     "output_type": "stream",
     "text": [
      "Rate limit exceeded. Sleeping for 894 seconds.\n"
     ]
    },
    {
     "name": "stdout",
     "output_type": "stream",
     "text": [
      "2022-11-18 01:18:42.900531 Process 5 current : 2375147314\n"
     ]
    },
    {
     "name": "stderr",
     "output_type": "stream",
     "text": [
      "Rate limit exceeded. Sleeping for 894 seconds.\n",
      "Rate limit exceeded. Sleeping for 893 seconds.\n"
     ]
    },
    {
     "name": "stdout",
     "output_type": "stream",
     "text": [
      "2022-11-18 01:18:52.222251 Process 8 current : 948309516038307841\n"
     ]
    },
    {
     "name": "stderr",
     "output_type": "stream",
     "text": [
      "Rate limit exceeded. Sleeping for 892 seconds.\n"
     ]
    },
    {
     "name": "stdout",
     "output_type": "stream",
     "text": [
      "2022-11-18 01:18:55.961257 Process 8 current : 948354755600019456\n",
      "2022-11-18 01:18:58.956676 Process 8 current : 948528037674569728\n",
      "2022-11-18 01:19:00.097537 Process 8 current : 948534726351925248\n",
      "2022-11-18 01:19:00.861298 Process 8 current : 948717082836963329\n",
      "2022-11-18 01:19:01.419282 Process 8 current : 948740944614100992\n",
      "2022-11-18 01:19:01.802428 Process 8 current : 948982348657385477\n"
     ]
    },
    {
     "name": "stderr",
     "output_type": "stream",
     "text": [
      "Rate limit exceeded. Sleeping for 888 seconds.\n"
     ]
    },
    {
     "name": "stdout",
     "output_type": "stream",
     "text": [
      "2022-11-18 01:19:28.993090 Process 4 current : 1081819903\n"
     ]
    },
    {
     "name": "stderr",
     "output_type": "stream",
     "text": [
      "Rate limit exceeded. Sleeping for 888 seconds.\n"
     ]
    },
    {
     "name": "stdout",
     "output_type": "stream",
     "text": [
      "2022-11-18 01:19:38.365288 Process 9 current : 1121892911208108032\n",
      "2022-11-18 01:19:46.280890 Process 9 current : 1122337995594653696\n",
      "2022-11-18 01:19:50.207000 Process 9 current : 1122907600465608706\n"
     ]
    },
    {
     "name": "stderr",
     "output_type": "stream",
     "text": [
      "Rate limit exceeded. Sleeping for 888 seconds.\n"
     ]
    },
    {
     "name": "stdout",
     "output_type": "stream",
     "text": [
      "2022-11-18 01:23:05.861521 Process 6 current : 4870478255\n"
     ]
    },
    {
     "name": "stderr",
     "output_type": "stream",
     "text": [
      "Rate limit exceeded. Sleeping for 889 seconds.\n"
     ]
    },
    {
     "name": "stdout",
     "output_type": "stream",
     "text": [
      "2022-11-18 01:25:53.827823 Process 1 current : 78444488\n",
      "2022-11-18 01:25:54.665466 Process 1 current : 78455847\n",
      "2022-11-18 01:25:56.544048 Process 1 current : 78778106\n",
      "2022-11-18 01:25:59.859348 Process 1 current : 78960026\n",
      "2022-11-18 01:26:00.635159 Process 1 current : 79072972\n",
      "2022-11-18 01:26:02.055780 Process 1 current : 79569980\n",
      "2022-11-18 01:26:02.331701 Process 1 current : 79591327\n"
     ]
    },
    {
     "name": "stderr",
     "output_type": "stream",
     "text": [
      "Rate limit exceeded. Sleeping for 890 seconds.\n",
      "Rate limit exceeded. Sleeping for 889 seconds.\n"
     ]
    },
    {
     "name": "stdout",
     "output_type": "stream",
     "text": [
      "2022-11-18 01:26:09.152067 Process 11 current : 1391827449952964608\n",
      "2022-11-18 01:26:10.475788 Process 11 current : 1391877727288918019\n",
      "2022-11-18 01:26:10.843750 Process 11 current : 1392462430899515395\n",
      "2022-11-18 01:26:11.360502 Process 11 current : 1392485395397480451\n",
      "2022-11-18 01:26:11.836651 Process 11 current : 1392534879141781506\n",
      "2022-11-18 01:26:12.187135 Process 11 current : 1392622228081160193\n",
      "2022-11-18 01:26:12.888715 Process 11 current : 1393004763097223174\n",
      "2022-11-18 01:26:13.264445 Process 11 current : 1393105077792124931\n"
     ]
    },
    {
     "name": "stderr",
     "output_type": "stream",
     "text": [
      "Rate limit exceeded. Sleeping for 894 seconds.\n",
      "Rate limit exceeded. Sleeping for 895 seconds.\n",
      "Rate limit exceeded. Sleeping for 894 seconds.\n"
     ]
    },
    {
     "name": "stdout",
     "output_type": "stream",
     "text": [
      "2022-11-18 01:33:46.196029 Process 5 current : 2376072049\n",
      "2022-11-18 01:33:50.709769 Process 5 current : 2376573780\n"
     ]
    },
    {
     "name": "stderr",
     "output_type": "stream",
     "text": [
      "Rate limit exceeded. Sleeping for 894 seconds.\n",
      "Rate limit exceeded. Sleeping for 892 seconds.\n"
     ]
    },
    {
     "name": "stdout",
     "output_type": "stream",
     "text": [
      "2022-11-18 01:33:54.203754 Process 8 current : 949014038285037570\n",
      "2022-11-18 01:33:55.003349 Process 8 current : 949022565665787909\n",
      "2022-11-18 01:33:55.917456 Process 8 current : 949247274735022080\n",
      "2022-11-18 01:33:56.701076 Process 8 current : 949481353791221760\n",
      "2022-11-18 01:34:00.103764 Process 8 current : 949692936614285312\n"
     ]
    },
    {
     "name": "stderr",
     "output_type": "stream",
     "text": [
      "Rate limit exceeded. Sleeping for 888 seconds.\n"
     ]
    },
    {
     "name": "stdout",
     "output_type": "stream",
     "text": [
      "2022-11-18 01:34:26.732645 Process 4 current : 1084139348\n",
      "2022-11-18 01:34:30.203561 Process 4 current : 1090729710\n",
      "2022-11-18 01:34:31.580769 Process 4 current : 1090825045\n",
      "2022-11-18 01:34:32.071724 Process 4 current : 1095704359\n",
      "2022-11-18 01:34:32.492106 Process 4 current : 1095901676\n",
      "2022-11-18 01:34:35.043296 Process 4 current : 1096509752\n"
     ]
    },
    {
     "name": "stderr",
     "output_type": "stream",
     "text": [
      "Rate limit exceeded. Sleeping for 889 seconds.\n"
     ]
    },
    {
     "name": "stdout",
     "output_type": "stream",
     "text": [
      "2022-11-18 01:34:41.246604 Process 9 current : 1122951720940789760\n",
      "2022-11-18 01:34:42.117403 Process 9 current : 1123578316735299584\n",
      "2022-11-18 01:34:42.530171 Process 9 current : 1123719719851298816\n",
      "2022-11-18 01:34:42.923603 Process 9 current : 1124318440821600256\n",
      "2022-11-18 01:34:43.725156 Process 9 current : 1124513489710723072\n",
      "2022-11-18 01:34:48.794310 Process 9 current : 1124666744507858945\n",
      "2022-11-18 01:34:49.087359 Process 9 current : 1124782534217191424\n",
      "2022-11-18 01:34:49.536360 Process 9 current : 1125418890656247808\n"
     ]
    },
    {
     "name": "stderr",
     "output_type": "stream",
     "text": [
      "Rate limit exceeded. Sleeping for 890 seconds.\n",
      "Rate limit exceeded. Sleeping for 889 seconds.\n"
     ]
    },
    {
     "name": "stdout",
     "output_type": "stream",
     "text": [
      "2022-11-18 01:40:53.437118 Process 1 current : 79597075\n",
      "2022-11-18 01:40:55.030701 Process 1 current : 79598071\n",
      "2022-11-18 01:40:55.402304 Process 1 current : 79628884\n",
      "2022-11-18 01:40:56.332683 Process 1 current : 79666189\n",
      "2022-11-18 01:40:56.837313 Process 1 current : 79794924\n",
      "2022-11-18 01:41:02.747074 Process 1 current : 80097292\n"
     ]
    },
    {
     "name": "stderr",
     "output_type": "stream",
     "text": [
      "Rate limit exceeded. Sleeping for 891 seconds.\n"
     ]
    },
    {
     "name": "stdout",
     "output_type": "stream",
     "text": [
      "2022-11-18 01:41:03.536148 Process 1 current : 80113567\n"
     ]
    },
    {
     "name": "stderr",
     "output_type": "stream",
     "text": [
      "Rate limit exceeded. Sleeping for 890 seconds.\n"
     ]
    },
    {
     "name": "stdout",
     "output_type": "stream",
     "text": [
      "2022-11-18 01:41:09.988234 Process 11 current : 1393219747018264577\n",
      "2022-11-18 01:41:10.368272 Process 11 current : 1393329615318433794\n",
      "2022-11-18 01:41:11.249986 Process 11 current : 1393926783695822856\n",
      "2022-11-18 01:41:13.942891 Process 11 current : 1394102598458765313\n",
      "2022-11-18 01:41:14.419508 Process 11 current : 1394620561263718401\n",
      "2022-11-18 01:41:14.833523 Process 11 current : 1394720874603896836\n",
      "2022-11-18 01:41:15.214063 Process 11 current : 1395118187226750979\n",
      "2022-11-18 01:41:15.729691 Process 11 current : 1395254219213615105\n",
      "2022-11-18 01:41:16.195183 Process 11 current : 1395386306071498768\n"
     ]
    },
    {
     "name": "stderr",
     "output_type": "stream",
     "text": [
      "Rate limit exceeded. Sleeping for 894 seconds.\n",
      "Rate limit exceeded. Sleeping for 895 seconds.\n"
     ]
    },
    {
     "name": "stdout",
     "output_type": "stream",
     "text": [
      "2022-11-18 01:48:45.698739 Process 5 current : 2377832484\n"
     ]
    },
    {
     "name": "stderr",
     "output_type": "stream",
     "text": [
      "Rate limit exceeded. Sleeping for 895 seconds.\n"
     ]
    },
    {
     "name": "stdout",
     "output_type": "stream",
     "text": [
      "2022-11-18 01:48:46.036455 Process 5 current : 2377892710\n",
      "2022-11-18 01:48:46.827230 Process 5 current : 2378324935\n"
     ]
    },
    {
     "name": "stderr",
     "output_type": "stream",
     "text": [
      "Rate limit exceeded. Sleeping for 894 seconds.\n"
     ]
    },
    {
     "name": "stdout",
     "output_type": "stream",
     "text": [
      "2022-11-18 01:48:57.166178 Process 8 current : 949799855530041349\n"
     ]
    },
    {
     "name": "stderr",
     "output_type": "stream",
     "text": [
      "Rate limit exceeded. Sleeping for 888 seconds.\n"
     ]
    },
    {
     "name": "stdout",
     "output_type": "stream",
     "text": [
      "2022-11-18 01:48:58.760648 Process 8 current : 949868074328641536\n",
      "2022-11-18 01:48:59.352180 Process 8 current : 950031923988127745\n",
      "2022-11-18 01:48:59.742949 Process 8 current : 950036178773987329\n",
      "2022-11-18 01:49:02.108297 Process 8 current : 950069407530668033\n"
     ]
    },
    {
     "name": "stderr",
     "output_type": "stream",
     "text": [
      "Rate limit exceeded. Sleeping for 891 seconds.\n"
     ]
    },
    {
     "name": "stdout",
     "output_type": "stream",
     "text": [
      "2022-11-18 01:49:25.916753 Process 4 current : 1098787968\n",
      "2022-11-18 01:49:28.138527 Process 4 current : 1102234586\n",
      "2022-11-18 01:49:28.507302 Process 4 current : 1102296601\n",
      "2022-11-18 01:49:29.837438 Process 4 current : 1102519453\n",
      "2022-11-18 01:49:30.242226 Process 4 current : 1103718276\n",
      "2022-11-18 01:49:30.757401 Process 4 current : 1104187718\n",
      "2022-11-18 01:49:31.239032 Process 4 current : 1104310938\n",
      "2022-11-18 01:49:31.615746 Process 4 current : 1104772680\n",
      "2022-11-18 01:49:32.088523 Process 4 current : 1104959191\n"
     ]
    },
    {
     "name": "stderr",
     "output_type": "stream",
     "text": [
      "Rate limit exceeded. Sleeping for 891 seconds.\n"
     ]
    },
    {
     "name": "stdout",
     "output_type": "stream",
     "text": [
      "2022-11-18 01:49:40.449145 Process 9 current : 1125770911116922880\n",
      "2022-11-18 01:49:41.190050 Process 9 current : 1125938864097460224\n",
      "2022-11-18 01:49:43.724817 Process 9 current : 1125946437261512704\n",
      "2022-11-18 01:49:45.935741 Process 9 current : 1125976653488742400\n",
      "2022-11-18 01:49:49.190774 Process 9 current : 1126825725284241408\n",
      "2022-11-18 01:49:49.597271 Process 9 current : 1126958241097895936\n",
      "2022-11-18 01:49:50.419395 Process 9 current : 1126979828035440640\n"
     ]
    },
    {
     "name": "stderr",
     "output_type": "stream",
     "text": [
      "Rate limit exceeded. Sleeping for 890 seconds.\n"
     ]
    },
    {
     "name": "stdout",
     "output_type": "stream",
     "text": [
      "2022-11-18 01:53:07.749431 Process 6 current : 4870822997\n",
      "2022-11-18 01:53:08.138599 Process 6 current : 4872463871\n",
      "2022-11-18 01:53:08.630324 Process 6 current : 4872635380\n",
      "2022-11-18 01:53:16.504753 Process 6 current : 4883691221\n"
     ]
    },
    {
     "name": "stderr",
     "output_type": "stream",
     "text": [
      "Rate limit exceeded. Sleeping for 890 seconds.\n"
     ]
    },
    {
     "name": "stdout",
     "output_type": "stream",
     "text": [
      "2022-11-18 01:56:04.759414 Process 1 current : 80149583\n",
      "2022-11-18 01:56:05.321392 Process 1 current : 80883208\n",
      "2022-11-18 01:56:05.722958 Process 1 current : 80901413\n"
     ]
    },
    {
     "name": "stderr",
     "output_type": "stream",
     "text": [
      "Rate limit exceeded. Sleeping for 890 seconds.\n",
      "Rate limit exceeded. Sleeping for 888 seconds.\n"
     ]
    },
    {
     "name": "stdout",
     "output_type": "stream",
     "text": [
      "2022-11-18 01:56:11.063113 Process 11 current : 1396233338222952448\n",
      "2022-11-18 01:56:12.153651 Process 11 current : 1396420074899083268\n",
      "2022-11-18 01:56:12.594600 Process 11 current : 1396904268427264004\n",
      "2022-11-18 01:56:12.944452 Process 11 current : 1397358089758781443\n",
      "2022-11-18 01:56:13.774630 Process 11 current : 1397857559017529344\n",
      "2022-11-18 01:56:16.476398 Process 11 current : 1397980097156550663\n"
     ]
    },
    {
     "name": "stderr",
     "output_type": "stream",
     "text": [
      "Rate limit exceeded. Sleeping for 893 seconds.\n",
      "Rate limit exceeded. Sleeping for 895 seconds.\n",
      "Rate limit exceeded. Sleeping for 895 seconds.\n",
      "Rate limit exceeded. Sleeping for 893 seconds.\n"
     ]
    },
    {
     "name": "stdout",
     "output_type": "stream",
     "text": [
      "2022-11-18 02:03:56.297627 Process 8 current : 950380857545646080\n",
      "2022-11-18 02:03:56.793583 Process 8 current : 950421583063023618\n"
     ]
    },
    {
     "name": "stderr",
     "output_type": "stream",
     "text": [
      "Rate limit exceeded. Sleeping for 890 seconds.\n"
     ]
    },
    {
     "name": "stdout",
     "output_type": "stream",
     "text": [
      "2022-11-18 02:03:59.145949 Process 8 current : 950447005301485569\n",
      "2022-11-18 02:03:59.606922 Process 8 current : 950909285734801408\n"
     ]
    },
    {
     "name": "stderr",
     "output_type": "stream",
     "text": [
      "Rate limit exceeded. Sleeping for 889 seconds.\n"
     ]
    },
    {
     "name": "stdout",
     "output_type": "stream",
     "text": [
      "2022-11-18 02:04:27.911699 Process 4 current : 1106321251\n",
      "2022-11-18 02:04:28.730194 Process 4 current : 1107363032\n",
      "2022-11-18 02:04:29.551673 Process 4 current : 1107601056\n",
      "2022-11-18 02:04:29.944661 Process 4 current : 1108193156\n",
      "2022-11-18 02:04:30.664181 Process 4 current : 1110037842\n",
      "2022-11-18 02:04:31.109081 Process 4 current : 1111269409\n",
      "2022-11-18 02:04:33.631996 Process 4 current : 1112486646\n",
      "2022-11-18 02:04:37.612182 Process 4 current : 1113241537\n"
     ]
    },
    {
     "name": "stderr",
     "output_type": "stream",
     "text": [
      "Rate limit exceeded. Sleeping for 890 seconds.\n"
     ]
    },
    {
     "name": "stdout",
     "output_type": "stream",
     "text": [
      "2022-11-18 02:04:46.166124 Process 9 current : 1127347059676385280\n",
      "2022-11-18 02:04:52.197650 Process 9 current : 1127899815684317184\n",
      "2022-11-18 02:04:52.523002 Process 9 current : 1128399637197406208\n",
      "2022-11-18 02:04:52.875518 Process 9 current : 1128461218186956802\n"
     ]
    },
    {
     "name": "stderr",
     "output_type": "stream",
     "text": [
      "Rate limit exceeded. Sleeping for 889 seconds.\n"
     ]
    },
    {
     "name": "stdout",
     "output_type": "stream",
     "text": [
      "2022-11-18 02:08:12.773625 Process 6 current : 4883706370\n",
      "2022-11-18 02:08:14.459080 Process 6 current : 4885465670\n",
      "2022-11-18 02:08:15.787195 Process 6 current : 4885765338\n",
      "2022-11-18 02:08:18.102387 Process 6 current : 4896504503\n",
      "2022-11-18 02:08:18.853327 Process 6 current : 4898071876\n"
     ]
    },
    {
     "name": "stderr",
     "output_type": "stream",
     "text": [
      "Rate limit exceeded. Sleeping for 890 seconds.\n",
      "Rate limit exceeded. Sleeping for 888 seconds.\n",
      "Rate limit exceeded. Sleeping for 888 seconds.\n"
     ]
    },
    {
     "name": "stdout",
     "output_type": "stream",
     "text": [
      "2022-11-18 02:11:14.762042 Process 11 current : 1397981052145123333\n",
      "2022-11-18 02:11:16.175979 Process 11 current : 1398007766690770948\n",
      "2022-11-18 02:11:16.709027 Process 11 current : 1398116358643240963\n",
      "2022-11-18 02:11:17.102690 Process 11 current : 1398324611654336513\n",
      "2022-11-18 02:11:17.532698 Process 11 current : 1398358267454136323\n"
     ]
    },
    {
     "name": "stderr",
     "output_type": "stream",
     "text": [
      "Rate limit exceeded. Sleeping for 894 seconds.\n",
      "Rate limit exceeded. Sleeping for 895 seconds.\n",
      "Rate limit exceeded. Sleeping for 893 seconds.\n"
     ]
    },
    {
     "name": "stdout",
     "output_type": "stream",
     "text": [
      "2022-11-18 02:18:53.194318 Process 5 current : 2378611644\n"
     ]
    },
    {
     "name": "stderr",
     "output_type": "stream",
     "text": [
      "Rate limit exceeded. Sleeping for 894 seconds.\n",
      "Rate limit exceeded. Sleeping for 890 seconds.\n",
      "Rate limit exceeded. Sleeping for 887 seconds.\n"
     ]
    },
    {
     "name": "stdout",
     "output_type": "stream",
     "text": [
      "2022-11-18 02:19:28.339446 Process 4 current : 1113259788\n"
     ]
    },
    {
     "name": "stderr",
     "output_type": "stream",
     "text": [
      "Rate limit exceeded. Sleeping for 889 seconds.\n"
     ]
    },
    {
     "name": "stdout",
     "output_type": "stream",
     "text": [
      "2022-11-18 02:19:46.785609 Process 9 current : 1128984849543507969\n",
      "2022-11-18 02:19:47.622283 Process 9 current : 1129116049117523969\n",
      "2022-11-18 02:19:50.242758 Process 9 current : 1129204655777603585\n",
      "2022-11-18 02:19:50.931352 Process 9 current : 1129351184962248704\n",
      "2022-11-18 02:19:53.712637 Process 9 current : 1129496285415919616\n",
      "2022-11-18 02:19:54.601449 Process 9 current : 1129810854466248709\n",
      "2022-11-18 02:19:55.002966 Process 9 current : 1129848229963681792\n",
      "2022-11-18 02:19:55.386863 Process 9 current : 1129892544291196929\n"
     ]
    },
    {
     "name": "stderr",
     "output_type": "stream",
     "text": [
      "Rate limit exceeded. Sleeping for 889 seconds.\n"
     ]
    },
    {
     "name": "stdout",
     "output_type": "stream",
     "text": [
      "2022-11-18 02:23:11.900686 Process 6 current : 4899093045\n",
      "2022-11-18 02:23:13.065806 Process 6 current : 4900890843\n",
      "2022-11-18 02:23:16.488532 Process 6 current : 4904183289\n",
      "2022-11-18 02:23:17.227169 Process 6 current : 4904828950\n",
      "2022-11-18 02:23:17.685106 Process 6 current : 4915718896\n",
      "2022-11-18 02:23:19.094499 Process 6 current : 4917335678\n",
      "2022-11-18 02:23:19.595871 Process 6 current : 4918513802\n"
     ]
    },
    {
     "name": "stderr",
     "output_type": "stream",
     "text": [
      "Rate limit exceeded. Sleeping for 891 seconds.\n"
     ]
    },
    {
     "name": "stdout",
     "output_type": "stream",
     "text": [
      "2022-11-18 02:26:00.806385 Process 2 current : 266427904\n",
      "2022-11-18 02:26:01.261793 Process 2 current : 266603641\n",
      "2022-11-18 02:26:01.714508 Process 2 current : 266775348\n",
      "2022-11-18 02:26:03.757051 Process 2 current : 266867338\n"
     ]
    },
    {
     "name": "stderr",
     "output_type": "stream",
     "text": [
      "Rate limit exceeded. Sleeping for 894 seconds.\n",
      "Rate limit exceeded. Sleeping for 893 seconds.\n"
     ]
    },
    {
     "name": "stdout",
     "output_type": "stream",
     "text": [
      "2022-11-18 02:26:15.912605 Process 11 current : 1398387144809500673\n",
      "2022-11-18 02:26:16.660378 Process 11 current : 1398472272835457025\n",
      "2022-11-18 02:26:17.535409 Process 11 current : 1399036333855760390\n",
      "2022-11-18 02:26:19.042812 Process 11 current : 1399095901663211522\n",
      "2022-11-18 02:26:19.969120 Process 11 current : 1399141615055343617\n",
      "2022-11-18 02:26:20.400668 Process 11 current : 1399347333263921158\n",
      "2022-11-18 02:26:21.197699 Process 11 current : 1399623491159199744\n",
      "2022-11-18 02:26:21.553921 Process 11 current : 1399885182971351042\n"
     ]
    },
    {
     "name": "stderr",
     "output_type": "stream",
     "text": [
      "Rate limit exceeded. Sleeping for 894 seconds.\n",
      "Rate limit exceeded. Sleeping for 894 seconds.\n",
      "Rate limit exceeded. Sleeping for 895 seconds.\n"
     ]
    },
    {
     "name": "stdout",
     "output_type": "stream",
     "text": [
      "2022-11-18 02:33:51.736144 Process 5 current : 2378933798\n",
      "2022-11-18 02:33:52.199847 Process 5 current : 2381603959\n"
     ]
    },
    {
     "name": "stderr",
     "output_type": "stream",
     "text": [
      "Rate limit exceeded. Sleeping for 895 seconds.\n",
      "Rate limit exceeded. Sleeping for 893 seconds.\n"
     ]
    },
    {
     "name": "stdout",
     "output_type": "stream",
     "text": [
      "2022-11-18 02:33:57.663701 Process 8 current : 951424135736975360\n",
      "2022-11-18 02:33:58.000739 Process 8 current : 951479298283651072\n",
      "2022-11-18 02:33:58.838197 Process 8 current : 952194271746158596\n",
      "2022-11-18 02:34:03.046084 Process 8 current : 952204842080112640\n"
     ]
    },
    {
     "name": "stderr",
     "output_type": "stream",
     "text": [
      "Rate limit exceeded. Sleeping for 890 seconds.\n",
      "Rate limit exceeded. Sleeping for 889 seconds.\n"
     ]
    },
    {
     "name": "stdout",
     "output_type": "stream",
     "text": [
      "2022-11-18 02:34:46.489246 Process 9 current : 1130157807486087173\n",
      "2022-11-18 02:34:47.193626 Process 9 current : 1130647042253045761\n",
      "2022-11-18 02:34:47.660942 Process 9 current : 1130688711820079106\n",
      "2022-11-18 02:34:48.546741 Process 9 current : 1130930169764429824\n",
      "2022-11-18 02:34:52.266375 Process 9 current : 1131157876901318656\n",
      "2022-11-18 02:34:52.647600 Process 9 current : 1131851043350798336\n",
      "2022-11-18 02:34:53.499829 Process 9 current : 1131893401220190208\n",
      "2022-11-18 02:34:53.945083 Process 9 current : 1132055364365574144\n",
      "2022-11-18 02:34:54.685716 Process 9 current : 1132078157966659586\n",
      "2022-11-18 02:34:55.525652 Process 9 current : 1132178790761869312\n"
     ]
    },
    {
     "name": "stderr",
     "output_type": "stream",
     "text": [
      "Rate limit exceeded. Sleeping for 890 seconds.\n"
     ]
    },
    {
     "name": "stdout",
     "output_type": "stream",
     "text": [
      "2022-11-18 02:38:12.353832 Process 6 current : 4920185501\n",
      "2022-11-18 02:38:12.741032 Process 6 current : 4920815799\n",
      "2022-11-18 02:38:13.155640 Process 6 current : 4921143381\n",
      "2022-11-18 02:38:16.132230 Process 6 current : 4924646211\n",
      "2022-11-18 02:38:16.516280 Process 6 current : 698708621056552960\n",
      "2022-11-18 02:38:21.688588 Process 6 current : 700310109306523649\n"
     ]
    },
    {
     "name": "stderr",
     "output_type": "stream",
     "text": [
      "Rate limit exceeded. Sleeping for 891 seconds.\n"
     ]
    },
    {
     "name": "stdout",
     "output_type": "stream",
     "text": [
      "2022-11-18 02:41:04.259241 Process 2 current : 266983946\n",
      "2022-11-18 02:41:06.593696 Process 2 current : 266999028\n",
      "2022-11-18 02:41:07.358409 Process 2 current : 267331713\n",
      "2022-11-18 02:41:08.153152 Process 2 current : 268761792\n"
     ]
    },
    {
     "name": "stderr",
     "output_type": "stream",
     "text": [
      "Rate limit exceeded. Sleeping for 892 seconds.\n",
      "Rate limit exceeded. Sleeping for 890 seconds.\n",
      "Rate limit exceeded. Sleeping for 889 seconds.\n"
     ]
    },
    {
     "name": "stdout",
     "output_type": "stream",
     "text": [
      "2022-11-18 02:48:52.596755 Process 5 current : 2381634200\n"
     ]
    },
    {
     "name": "stderr",
     "output_type": "stream",
     "text": [
      "Rate limit exceeded. Sleeping for 893 seconds.\n",
      "Rate limit exceeded. Sleeping for 895 seconds.\n",
      "Rate limit exceeded. Sleeping for 895 seconds.\n"
     ]
    },
    {
     "name": "stdout",
     "output_type": "stream",
     "text": [
      "2022-11-18 02:48:59.466138 Process 8 current : 952325603641847808\n",
      "2022-11-18 02:48:59.881926 Process 8 current : 952597573491154944\n"
     ]
    },
    {
     "name": "stderr",
     "output_type": "stream",
     "text": [
      "Rate limit exceeded. Sleeping for 889 seconds.\n"
     ]
    },
    {
     "name": "stdout",
     "output_type": "stream",
     "text": [
      "2022-11-18 02:49:09.551516 Process 8 current : 952603438432555009\n",
      "2022-11-18 02:49:10.067708 Process 8 current : 952618262294159361\n"
     ]
    },
    {
     "name": "stderr",
     "output_type": "stream",
     "text": [
      "Rate limit exceeded. Sleeping for 888 seconds.\n",
      "Rate limit exceeded. Sleeping for 888 seconds.\n"
     ]
    },
    {
     "name": "stdout",
     "output_type": "stream",
     "text": [
      "2022-11-18 02:49:46.402417 Process 9 current : 1133482315902930945\n",
      "2022-11-18 02:49:47.202706 Process 9 current : 1133574386215280641\n",
      "2022-11-18 02:49:51.508716 Process 9 current : 1134072870995447808\n",
      "2022-11-18 02:49:51.864868 Process 9 current : 1134152253353447424\n"
     ]
    },
    {
     "name": "stderr",
     "output_type": "stream",
     "text": [
      "Rate limit exceeded. Sleeping for 889 seconds.\n"
     ]
    },
    {
     "name": "stdout",
     "output_type": "stream",
     "text": [
      "2022-11-18 02:53:13.468114 Process 6 current : 700462359672819713\n",
      "2022-11-18 02:53:14.351889 Process 6 current : 700857938324254720\n",
      "2022-11-18 02:53:16.525942 Process 6 current : 701070097918648326\n",
      "2022-11-18 02:53:16.828436 Process 6 current : 701074879278407681\n",
      "2022-11-18 02:53:17.431875 Process 6 current : 701087495262490631\n",
      "2022-11-18 02:53:20.005680 Process 6 current : 701566043374940161\n"
     ]
    },
    {
     "name": "stderr",
     "output_type": "stream",
     "text": [
      "Rate limit exceeded. Sleeping for 894 seconds.\n"
     ]
    },
    {
     "name": "stdout",
     "output_type": "stream",
     "text": [
      "2022-11-18 02:56:04.330065 Process 2 current : 268794479\n",
      "2022-11-18 02:56:05.696055 Process 2 current : 268808422\n",
      "2022-11-18 02:56:07.408070 Process 2 current : 268995887\n",
      "2022-11-18 02:56:08.066405 Process 1 current : 81106832\n",
      "2022-11-18 02:56:09.034719 Process 1 current : 81120503\n"
     ]
    },
    {
     "name": "stderr",
     "output_type": "stream",
     "text": [
      "Rate limit exceeded. Sleeping for 892 seconds.\n"
     ]
    },
    {
     "name": "stdout",
     "output_type": "stream",
     "text": [
      "2022-11-18 02:56:09.760974 Process 2 current : 268998600\n"
     ]
    },
    {
     "name": "stderr",
     "output_type": "stream",
     "text": [
      "Rate limit exceeded. Sleeping for 890 seconds.\n"
     ]
    },
    {
     "name": "stdout",
     "output_type": "stream",
     "text": [
      "2022-11-18 02:56:27.634564 Process 11 current : 1400378807446650882\n",
      "2022-11-18 02:56:28.550810 Process 11 current : 1400597756054487045\n",
      "2022-11-18 02:56:29.382239 Process 11 current : 1400770229907636224\n"
     ]
    },
    {
     "name": "stderr",
     "output_type": "stream",
     "text": [
      "Rate limit exceeded. Sleeping for 888 seconds.\n",
      "Rate limit exceeded. Sleeping for 892 seconds.\n",
      "Rate limit exceeded. Sleeping for 894 seconds.\n"
     ]
    },
    {
     "name": "stdout",
     "output_type": "stream",
     "text": [
      "2022-11-18 03:03:55.643193 Process 5 current : 2382387968\n",
      "2022-11-18 03:03:57.305928 Process 5 current : 2382985722\n",
      "2022-11-18 03:03:57.978678 Process 5 current : 2383532915\n"
     ]
    },
    {
     "name": "stderr",
     "output_type": "stream",
     "text": [
      "Rate limit exceeded. Sleeping for 894 seconds.\n"
     ]
    },
    {
     "name": "stdout",
     "output_type": "stream",
     "text": [
      "2022-11-18 03:03:59.065294 Process 8 current : 953573644122447877\n",
      "2022-11-18 03:04:01.297990 Process 8 current : 953680019620028416\n",
      "2022-11-18 03:04:02.143532 Process 8 current : 953959712655118337\n"
     ]
    },
    {
     "name": "stderr",
     "output_type": "stream",
     "text": [
      "Rate limit exceeded. Sleeping for 889 seconds.\n"
     ]
    },
    {
     "name": "stdout",
     "output_type": "stream",
     "text": [
      "2022-11-18 03:04:02.993171 Process 8 current : 954117910657667073\n",
      "2022-11-18 03:04:03.566489 Process 8 current : 954126001780518914\n",
      "2022-11-18 03:04:04.427769 Process 8 current : 954679116069994496\n",
      "2022-11-18 03:04:04.800940 Process 8 current : 954751635124727808\n",
      "2022-11-18 03:04:05.243533 Process 8 current : 954929399379480576\n",
      "2022-11-18 03:04:08.251873 Process 8 current : 955117333659430912\n",
      "2022-11-18 03:04:08.662539 Process 8 current : 955125455031484416\n"
     ]
    },
    {
     "name": "stderr",
     "output_type": "stream",
     "text": [
      "Rate limit exceeded. Sleeping for 891 seconds.\n",
      "Rate limit exceeded. Sleeping for 887 seconds.\n",
      "Rate limit exceeded. Sleeping for 888 seconds.\n"
     ]
    },
    {
     "name": "stdout",
     "output_type": "stream",
     "text": [
      "2022-11-18 03:08:17.583310 Process 6 current : 701776759692386307\n",
      "2022-11-18 03:08:18.009592 Process 6 current : 701851916876251137\n"
     ]
    },
    {
     "name": "stderr",
     "output_type": "stream",
     "text": [
      "Rate limit exceeded. Sleeping for 893 seconds.\n"
     ]
    },
    {
     "name": "stdout",
     "output_type": "stream",
     "text": [
      "2022-11-18 03:11:01.175704 Process 2 current : 269129754\n",
      "2022-11-18 03:11:01.682356 Process 2 current : 269581983\n",
      "2022-11-18 03:11:02.480654 Process 2 current : 270068926\n",
      "2022-11-18 03:11:07.265827 Process 1 current : 81180865\n",
      "2022-11-18 03:11:08.816563 Process 1 current : 81193820\n"
     ]
    },
    {
     "name": "stderr",
     "output_type": "stream",
     "text": [
      "Rate limit exceeded. Sleeping for 893 seconds.\n",
      "Rate limit exceeded. Sleeping for 889 seconds.\n"
     ]
    },
    {
     "name": "stdout",
     "output_type": "stream",
     "text": [
      "2022-11-18 03:11:19.535917 Process 11 current : 1401550806873149443\n",
      "2022-11-18 03:11:23.675798 Process 11 current : 1401680947993530372\n",
      "2022-11-18 03:11:24.160441 Process 11 current : 1402061529550360579\n",
      "2022-11-18 03:11:24.971304 Process 11 current : 1402068706361069576\n",
      "2022-11-18 03:11:26.347937 Process 11 current : 1402927176828305408\n",
      "2022-11-18 03:11:28.721585 Process 11 current : 1402983088217485316\n",
      "2022-11-18 03:11:29.136232 Process 11 current : 1403037273738842112\n"
     ]
    },
    {
     "name": "stderr",
     "output_type": "stream",
     "text": [
      "Rate limit exceeded. Sleeping for 890 seconds.\n"
     ]
    },
    {
     "name": "stdout",
     "output_type": "stream",
     "text": [
      "2022-11-18 03:18:52.806566 Process 5 current : 2384589829\n",
      "2022-11-18 03:18:53.592899 Process 5 current : 2386059399\n"
     ]
    },
    {
     "name": "stderr",
     "output_type": "stream",
     "text": [
      "Rate limit exceeded. Sleeping for 893 seconds.\n",
      "Rate limit exceeded. Sleeping for 893 seconds.\n",
      "Rate limit exceeded. Sleeping for 894 seconds.\n"
     ]
    },
    {
     "name": "stdout",
     "output_type": "stream",
     "text": [
      "2022-11-18 03:19:00.519503 Process 8 current : 955174472083849216\n"
     ]
    },
    {
     "name": "stderr",
     "output_type": "stream",
     "text": [
      "Rate limit exceeded. Sleeping for 891 seconds.\n",
      "Rate limit exceeded. Sleeping for 889 seconds.\n",
      "Rate limit exceeded. Sleeping for 889 seconds.\n",
      "Rate limit exceeded. Sleeping for 888 seconds.\n"
     ]
    },
    {
     "name": "stdout",
     "output_type": "stream",
     "text": [
      "2022-11-18 03:23:16.165284 Process 6 current : 702484163597770753\n",
      "2022-11-18 03:23:17.010475 Process 6 current : 702579908522987520\n",
      "2022-11-18 03:23:17.464684 Process 6 current : 702619269339717632\n",
      "2022-11-18 03:23:17.931604 Process 6 current : 702925612848062465\n",
      "2022-11-18 03:23:21.663608 Process 6 current : 703056298359783424\n",
      "2022-11-18 03:23:22.424810 Process 6 current : 703075116326871040\n"
     ]
    },
    {
     "name": "stderr",
     "output_type": "stream",
     "text": [
      "Rate limit exceeded. Sleeping for 894 seconds.\n"
     ]
    },
    {
     "name": "stdout",
     "output_type": "stream",
     "text": [
      "2022-11-18 03:26:05.425538 Process 1 current : 81222876\n",
      "2022-11-18 03:26:07.386951 Process 1 current : 81263152\n",
      "2022-11-18 03:26:07.771121 Process 1 current : 81266405\n",
      "2022-11-18 03:26:10.149546 Process 1 current : 81417217\n",
      "2022-11-18 03:26:10.582789 Process 1 current : 81624524\n"
     ]
    },
    {
     "name": "stderr",
     "output_type": "stream",
     "text": [
      "Rate limit exceeded. Sleeping for 894 seconds.\n",
      "Rate limit exceeded. Sleeping for 892 seconds.\n"
     ]
    },
    {
     "name": "stdout",
     "output_type": "stream",
     "text": [
      "2022-11-18 03:26:20.274862 Process 11 current : 1403086946520473605\n",
      "2022-11-18 03:26:20.748695 Process 11 current : 1403540780111831042\n",
      "2022-11-18 03:26:22.606609 Process 11 current : 1403763771617660932\n",
      "2022-11-18 03:26:25.001170 Process 11 current : 1405268334485065731\n",
      "2022-11-18 03:26:26.472068 Process 11 current : 1405526667041202184\n",
      "2022-11-18 03:26:27.231324 Process 11 current : 1405837522006122496\n",
      "2022-11-18 03:26:27.595696 Process 11 current : 1405966426205196290\n",
      "2022-11-18 03:26:28.404836 Process 11 current : 1405989060427096067\n",
      "2022-11-18 03:26:28.765626 Process 11 current : 1406012982971219970\n"
     ]
    },
    {
     "name": "stderr",
     "output_type": "stream",
     "text": [
      "Rate limit exceeded. Sleeping for 892 seconds.\n",
      "Rate limit exceeded. Sleeping for 894 seconds.\n",
      "Rate limit exceeded. Sleeping for 891 seconds.\n",
      "Rate limit exceeded. Sleeping for 894 seconds.\n",
      "Rate limit exceeded. Sleeping for 892 seconds.\n"
     ]
    },
    {
     "name": "stdout",
     "output_type": "stream",
     "text": [
      "2022-11-18 03:34:04.026343 Process 8 current : 955415052147920896\n",
      "2022-11-18 03:34:05.551924 Process 8 current : 955443367747317760\n",
      "2022-11-18 03:34:07.741343 Process 8 current : 955450873823416322\n"
     ]
    },
    {
     "name": "stderr",
     "output_type": "stream",
     "text": [
      "Rate limit exceeded. Sleeping for 893 seconds.\n",
      "Rate limit exceeded. Sleeping for 889 seconds.\n",
      "Rate limit exceeded. Sleeping for 888 seconds.\n"
     ]
    },
    {
     "name": "stdout",
     "output_type": "stream",
     "text": [
      "2022-11-18 03:38:17.411698 Process 6 current : 703197196963827712\n",
      "2022-11-18 03:41:05.334524 Process 1 current : 81721136\n",
      "2022-11-18 03:41:06.101595 Process 1 current : 81723137\n",
      "2022-11-18 03:41:07.555289 Process 1 current : 81821096\n"
     ]
    },
    {
     "name": "stderr",
     "output_type": "stream",
     "text": [
      "Rate limit exceeded. Sleeping for 893 seconds.\n",
      "Rate limit exceeded. Sleeping for 892 seconds.\n"
     ]
    },
    {
     "name": "stdout",
     "output_type": "stream",
     "text": [
      "2022-11-18 03:41:21.681998 Process 11 current : 1406208139230257152\n",
      "2022-11-18 03:41:22.100981 Process 11 current : 1406290116419719177\n",
      "2022-11-18 03:41:22.580313 Process 11 current : 1406510370236338177\n",
      "2022-11-18 03:41:22.971013 Process 11 current : 1406606112846233602\n",
      "2022-11-18 03:41:23.788064 Process 11 current : 1406686368965795851\n",
      "2022-11-18 03:41:25.508946 Process 11 current : 1406949339822497795\n",
      "2022-11-18 03:41:25.848273 Process 11 current : 1407571124150472705\n",
      "2022-11-18 03:41:26.180793 Process 11 current : 1407830986218524680\n",
      "2022-11-18 03:41:27.190154 Process 11 current : 1408068712960167947\n",
      "2022-11-18 03:41:27.666943 Process 11 current : 1408088734776582151\n",
      "2022-11-18 03:41:28.130702 Process 11 current : 1408248857079664645\n",
      "2022-11-18 03:41:28.527629 Process 11 current : 1408589484246011909\n",
      "2022-11-18 03:41:28.845829 Process 11 current : 1408813335399727105\n"
     ]
    },
    {
     "name": "stderr",
     "output_type": "stream",
     "text": [
      "Rate limit exceeded. Sleeping for 893 seconds.\n",
      "Rate limit exceeded. Sleeping for 895 seconds.\n",
      "Rate limit exceeded. Sleeping for 891 seconds.\n"
     ]
    },
    {
     "name": "stdout",
     "output_type": "stream",
     "text": [
      "2022-11-18 03:49:00.868937 Process 5 current : 2387140830\n",
      "2022-11-18 03:49:02.557290 Process 5 current : 2389183325\n"
     ]
    },
    {
     "name": "stderr",
     "output_type": "stream",
     "text": [
      "Rate limit exceeded. Sleeping for 894 seconds.\n"
     ]
    },
    {
     "name": "stdout",
     "output_type": "stream",
     "text": [
      "2022-11-18 03:49:05.524359 Process 8 current : 955520994118119426\n"
     ]
    },
    {
     "name": "stderr",
     "output_type": "stream",
     "text": [
      "Rate limit exceeded. Sleeping for 889 seconds.\n",
      "Rate limit exceeded. Sleeping for 888 seconds.\n"
     ]
    },
    {
     "name": "stdout",
     "output_type": "stream",
     "text": [
      "2022-11-18 03:49:46.082111 Process 4 current : 1113993134\n",
      "2022-11-18 03:49:49.098810 Process 4 current : 1114746523\n"
     ]
    },
    {
     "name": "stderr",
     "output_type": "stream",
     "text": [
      "Rate limit exceeded. Sleeping for 889 seconds.\n"
     ]
    },
    {
     "name": "stdout",
     "output_type": "stream",
     "text": [
      "2022-11-18 03:49:57.337122 Process 9 current : 1134279894383374337\n",
      "2022-11-18 03:49:59.521874 Process 9 current : 1134399264422027265\n",
      "2022-11-18 03:49:59.849339 Process 9 current : 1134489443002454018\n",
      "2022-11-18 03:50:00.189235 Process 9 current : 1134593639546609664\n",
      "2022-11-18 03:50:00.707046 Process 9 current : 1135020167661006849\n",
      "2022-11-18 03:50:01.188833 Process 9 current : 1135148083598188544\n"
     ]
    },
    {
     "name": "stderr",
     "output_type": "stream",
     "text": [
      "Rate limit exceeded. Sleeping for 891 seconds.\n",
      "Rate limit exceeded. Sleeping for 892 seconds.\n",
      "Rate limit exceeded. Sleeping for 888 seconds.\n"
     ]
    },
    {
     "name": "stdout",
     "output_type": "stream",
     "text": [
      "2022-11-18 03:56:22.674337 Process 11 current : 1408830634542485510\n",
      "2022-11-18 03:56:24.218356 Process 11 current : 1409171016224550922\n",
      "2022-11-18 03:56:25.837337 Process 11 current : 1409643877213028354\n"
     ]
    },
    {
     "name": "stderr",
     "output_type": "stream",
     "text": [
      "Rate limit exceeded. Sleeping for 889 seconds.\n"
     ]
    },
    {
     "name": "stdout",
     "output_type": "stream",
     "text": [
      "2022-11-18 04:03:58.336046 Process 5 current : 2389271474\n",
      "2022-11-18 04:03:58.735718 Process 5 current : 2389738746\n"
     ]
    },
    {
     "name": "stderr",
     "output_type": "stream",
     "text": [
      "Rate limit exceeded. Sleeping for 893 seconds.\n",
      "Rate limit exceeded. Sleeping for 894 seconds.\n"
     ]
    },
    {
     "name": "stdout",
     "output_type": "stream",
     "text": [
      "2022-11-18 04:04:01.740383 Process 5 current : 2391479712\n"
     ]
    },
    {
     "name": "stderr",
     "output_type": "stream",
     "text": [
      "Rate limit exceeded. Sleeping for 895 seconds.\n",
      "Rate limit exceeded. Sleeping for 889 seconds.\n"
     ]
    },
    {
     "name": "stdout",
     "output_type": "stream",
     "text": [
      "2022-11-18 04:04:07.845874 Process 8 current : 955977506388979712\n",
      "2022-11-18 04:04:08.646388 Process 8 current : 956179261903089664\n",
      "2022-11-18 04:04:08.998127 Process 8 current : 956209593398546433\n",
      "2022-11-18 04:04:12.186536 Process 8 current : 956605642369888256\n"
     ]
    },
    {
     "name": "stderr",
     "output_type": "stream",
     "text": [
      "Rate limit exceeded. Sleeping for 893 seconds.\n"
     ]
    },
    {
     "name": "stdout",
     "output_type": "stream",
     "text": [
      "2022-11-18 04:04:39.806283 Process 4 current : 1114886305\n",
      "2022-11-18 04:04:50.612126 Process 4 current : 1114913286\n",
      "2022-11-18 04:04:50.915396 Process 4 current : 1115137584\n"
     ]
    },
    {
     "name": "stderr",
     "output_type": "stream",
     "text": [
      "Rate limit exceeded. Sleeping for 889 seconds.\n"
     ]
    },
    {
     "name": "stdout",
     "output_type": "stream",
     "text": [
      "2022-11-18 04:04:53.486108 Process 9 current : 1135191897423732736\n",
      "2022-11-18 04:04:54.296995 Process 9 current : 1135305925596725248\n",
      "2022-11-18 04:04:55.093927 Process 9 current : 1135323173870755840\n",
      "2022-11-18 04:04:55.505458 Process 9 current : 1135574630985543683\n",
      "2022-11-18 04:04:56.004721 Process 9 current : 1136001576517152768\n",
      "2022-11-18 04:05:03.273746 Process 9 current : 1136017534405111808\n"
     ]
    },
    {
     "name": "stderr",
     "output_type": "stream",
     "text": [
      "Rate limit exceeded. Sleeping for 889 seconds.\n"
     ]
    },
    {
     "name": "stdout",
     "output_type": "stream",
     "text": [
      "2022-11-18 04:11:11.154901 Process 1 current : 82114401\n",
      "2022-11-18 04:11:12.053035 Process 1 current : 82374201\n",
      "2022-11-18 04:11:13.365687 Process 1 current : 82448827\n",
      "2022-11-18 04:11:13.897822 Process 1 current : 82754730\n",
      "2022-11-18 04:11:14.764729 Process 1 current : 82766376\n",
      "2022-11-18 04:11:15.288749 Process 1 current : 82825318\n"
     ]
    },
    {
     "name": "stderr",
     "output_type": "stream",
     "text": [
      "Rate limit exceeded. Sleeping for 893 seconds.\n",
      "Rate limit exceeded. Sleeping for 888 seconds.\n",
      "Rate limit exceeded. Sleeping for 888 seconds.\n"
     ]
    },
    {
     "name": "stdout",
     "output_type": "stream",
     "text": [
      "2022-11-18 04:18:59.759918 Process 5 current : 2391614580\n",
      "2022-11-18 04:19:01.499724 Process 5 current : 2392428215\n"
     ]
    },
    {
     "name": "stderr",
     "output_type": "stream",
     "text": [
      "Rate limit exceeded. Sleeping for 892 seconds.\n"
     ]
    },
    {
     "name": "stdout",
     "output_type": "stream",
     "text": [
      "2022-11-18 04:19:01.949738 Process 5 current : 2392922635\n",
      "2022-11-18 04:19:02.309078 Process 5 current : 2393001308\n"
     ]
    },
    {
     "name": "stderr",
     "output_type": "stream",
     "text": [
      "Rate limit exceeded. Sleeping for 894 seconds.\n",
      "Rate limit exceeded. Sleeping for 895 seconds.\n"
     ]
    },
    {
     "name": "stdout",
     "output_type": "stream",
     "text": [
      "2022-11-18 04:19:09.387312 Process 8 current : 956736588368637953\n",
      "2022-11-18 04:19:09.739172 Process 8 current : 957048155014443008\n"
     ]
    },
    {
     "name": "stderr",
     "output_type": "stream",
     "text": [
      "Rate limit exceeded. Sleeping for 888 seconds.\n"
     ]
    },
    {
     "name": "stdout",
     "output_type": "stream",
     "text": [
      "2022-11-18 04:19:10.316660 Process 8 current : 957295800773574656\n",
      "2022-11-18 04:19:10.746807 Process 8 current : 957392807961952256\n",
      "2022-11-18 04:19:11.573810 Process 8 current : 957404878606880769\n",
      "2022-11-18 04:19:13.916056 Process 8 current : 957520045399314433\n",
      "2022-11-18 04:19:14.330441 Process 8 current : 957644130611531776\n",
      "2022-11-18 04:19:16.227799 Process 8 current : 957707510051467264\n"
     ]
    },
    {
     "name": "stderr",
     "output_type": "stream",
     "text": [
      "Rate limit exceeded. Sleeping for 890 seconds.\n"
     ]
    },
    {
     "name": "stdout",
     "output_type": "stream",
     "text": [
      "2022-11-18 04:19:40.833560 Process 4 current : 1117494560\n",
      "2022-11-18 04:19:41.217863 Process 4 current : 1117969862\n",
      "2022-11-18 04:19:44.339935 Process 4 current : 1119413712\n",
      "2022-11-18 04:19:44.864858 Process 4 current : 1120323655\n",
      "2022-11-18 04:19:46.438372 Process 4 current : 1120537310\n",
      "2022-11-18 04:19:48.919241 Process 4 current : 1122139278\n",
      "2022-11-18 04:19:49.731512 Process 4 current : 1122156056\n",
      "2022-11-18 04:19:50.133939 Process 4 current : 1122859796\n",
      "2022-11-18 04:19:50.560766 Process 4 current : 1125134418\n"
     ]
    },
    {
     "name": "stderr",
     "output_type": "stream",
     "text": [
      "Rate limit exceeded. Sleeping for 891 seconds.\n"
     ]
    },
    {
     "name": "stdout",
     "output_type": "stream",
     "text": [
      "2022-11-18 04:19:56.692943 Process 9 current : 1136166056609796096\n",
      "2022-11-18 04:19:57.181260 Process 9 current : 1136283799447322624\n",
      "2022-11-18 04:19:58.572916 Process 9 current : 1136709925567180805\n",
      "2022-11-18 04:19:59.087541 Process 9 current : 1136929287011880961\n",
      "2022-11-18 04:20:00.463073 Process 9 current : 1136997917816791040\n",
      "2022-11-18 04:20:00.900130 Process 9 current : 1137123597431037954\n",
      "2022-11-18 04:20:02.693424 Process 9 current : 1137207180032061440\n",
      "2022-11-18 04:20:03.019844 Process 9 current : 1137570248532647936\n",
      "2022-11-18 04:20:03.862011 Process 9 current : 1137713455891460096\n"
     ]
    },
    {
     "name": "stderr",
     "output_type": "stream",
     "text": [
      "Rate limit exceeded. Sleeping for 890 seconds.\n",
      "Rate limit exceeded. Sleeping for 892 seconds.\n",
      "Rate limit exceeded. Sleeping for 889 seconds.\n"
     ]
    },
    {
     "name": "stdout",
     "output_type": "stream",
     "text": [
      "2022-11-18 04:26:31.651471 Process 11 current : 1409770461098020864\n",
      "2022-11-18 04:26:32.445879 Process 11 current : 1410023965339312131\n",
      "2022-11-18 04:26:32.856472 Process 11 current : 1410047890702151685\n",
      "2022-11-18 04:26:35.090722 Process 11 current : 1410393278298603521\n"
     ]
    },
    {
     "name": "stderr",
     "output_type": "stream",
     "text": [
      "Rate limit exceeded. Sleeping for 889 seconds.\n"
     ]
    },
    {
     "name": "stdout",
     "output_type": "stream",
     "text": [
      "2022-11-18 04:33:58.643417 Process 7 current : 802868663095279616\n",
      "2022-11-18 04:34:03.655820 Process 7 current : 802997335580024832\n",
      "2022-11-18 04:34:03.746998 Process 5 current : 2395029378\n",
      "2022-11-18 04:34:04.086716 Process 7 current : 803009244924624896\n"
     ]
    },
    {
     "name": "stderr",
     "output_type": "stream",
     "text": [
      "Rate limit exceeded. Sleeping for 894 seconds.\n"
     ]
    },
    {
     "name": "stdout",
     "output_type": "stream",
     "text": [
      "2022-11-18 04:34:04.163876 Process 5 current : 2395739449\n"
     ]
    },
    {
     "name": "stderr",
     "output_type": "stream",
     "text": [
      "Rate limit exceeded. Sleeping for 890 seconds.\n"
     ]
    },
    {
     "name": "stdout",
     "output_type": "stream",
     "text": [
      "2022-11-18 04:34:06.344581 Process 5 current : 2396861304\n"
     ]
    },
    {
     "name": "stderr",
     "output_type": "stream",
     "text": [
      "Rate limit exceeded. Sleeping for 893 seconds.\n"
     ]
    },
    {
     "name": "stdout",
     "output_type": "stream",
     "text": [
      "2022-11-18 04:34:06.689401 Process 5 current : 2397134131\n",
      "2022-11-18 04:34:07.084061 Process 5 current : 2397396445\n"
     ]
    },
    {
     "name": "stderr",
     "output_type": "stream",
     "text": [
      "Rate limit exceeded. Sleeping for 894 seconds.\n"
     ]
    },
    {
     "name": "stdout",
     "output_type": "stream",
     "text": [
      "2022-11-18 04:34:08.401892 Process 8 current : 957730223243583489\n",
      "2022-11-18 04:34:10.301443 Process 8 current : 957808962983755776\n",
      "2022-11-18 04:34:10.845449 Process 8 current : 957831788293836800\n",
      "2022-11-18 04:34:11.822401 Process 8 current : 958027161193115648\n",
      "2022-11-18 04:34:12.213313 Process 8 current : 958052745130446848\n",
      "2022-11-18 04:34:12.665983 Process 8 current : 958710124830384128\n",
      "2022-11-18 04:34:14.321716 Process 8 current : 959204855192702976\n"
     ]
    },
    {
     "name": "stderr",
     "output_type": "stream",
     "text": [
      "Rate limit exceeded. Sleeping for 890 seconds.\n"
     ]
    },
    {
     "name": "stdout",
     "output_type": "stream",
     "text": [
      "2022-11-18 04:34:42.568209 Process 4 current : 1125341580\n",
      "2022-11-18 04:34:43.856011 Process 4 current : 1129476228\n",
      "2022-11-18 04:34:45.204727 Process 4 current : 1134354048\n",
      "2022-11-18 04:34:45.610357 Process 4 current : 1135261376\n",
      "2022-11-18 04:34:47.759071 Process 4 current : 1135452404\n",
      "2022-11-18 04:34:48.539706 Process 4 current : 1139893699\n",
      "2022-11-18 04:34:48.978611 Process 4 current : 1144214172\n",
      "2022-11-18 04:34:50.300638 Process 4 current : 1145856668\n"
     ]
    },
    {
     "name": "stderr",
     "output_type": "stream",
     "text": [
      "Rate limit exceeded. Sleeping for 891 seconds.\n"
     ]
    },
    {
     "name": "stdout",
     "output_type": "stream",
     "text": [
      "2022-11-18 04:34:54.693947 Process 9 current : 1139329079302377472\n",
      "2022-11-18 04:34:55.061963 Process 9 current : 1139412187573673986\n",
      "2022-11-18 04:34:55.954035 Process 9 current : 1139509812901941249\n",
      "2022-11-18 04:34:58.472533 Process 9 current : 1139586981447553025\n",
      "2022-11-18 04:34:58.873805 Process 9 current : 1139918116538978304\n",
      "2022-11-18 04:34:59.255473 Process 9 current : 1139928426683469824\n",
      "2022-11-18 04:35:01.736809 Process 9 current : 1140040607911616513\n",
      "2022-11-18 04:35:02.147389 Process 9 current : 1140725219050577922\n"
     ]
    },
    {
     "name": "stderr",
     "output_type": "stream",
     "text": [
      "Rate limit exceeded. Sleeping for 891 seconds.\n"
     ]
    },
    {
     "name": "stdout",
     "output_type": "stream",
     "text": [
      "2022-11-18 04:41:10.260332 Process 1 current : 83257754\n",
      "2022-11-18 04:41:10.799331 Process 1 current : 83279220\n",
      "2022-11-18 04:41:11.229335 Process 1 current : 83289018\n",
      "2022-11-18 04:41:11.555465 Process 1 current : 83366598\n",
      "2022-11-18 04:41:12.005176 Process 1 current : 83679311\n",
      "2022-11-18 04:41:13.871947 Process 1 current : 83810350\n",
      "2022-11-18 04:41:16.615949 Process 1 current : 83950543\n"
     ]
    },
    {
     "name": "stderr",
     "output_type": "stream",
     "text": [
      "Rate limit exceeded. Sleeping for 894 seconds.\n",
      "Rate limit exceeded. Sleeping for 892 seconds.\n"
     ]
    },
    {
     "name": "stdout",
     "output_type": "stream",
     "text": [
      "2022-11-18 04:41:35.587926 Process 11 current : 1410421074785886213\n",
      "2022-11-18 04:41:37.416692 Process 11 current : 1410452418865860608\n"
     ]
    },
    {
     "name": "stderr",
     "output_type": "stream",
     "text": [
      "Rate limit exceeded. Sleeping for 888 seconds.\n"
     ]
    },
    {
     "name": "stdout",
     "output_type": "stream",
     "text": [
      "2022-11-18 04:48:58.038730 Process 7 current : 803034471616364544\n",
      "2022-11-18 04:48:58.846147 Process 7 current : 803074388031631360\n",
      "2022-11-18 04:48:59.272479 Process 7 current : 803091707361251328\n",
      "2022-11-18 04:49:02.119403 Process 7 current : 803422101923196928\n",
      "2022-11-18 04:49:02.387634 Process 5 current : 2397641382\n",
      "2022-11-18 04:49:03.154501 Process 5 current : 2400621848\n",
      "2022-11-18 04:49:03.428129 Process 7 current : 803632522592555009\n",
      "2022-11-18 04:49:03.934985 Process 5 current : 2403403360\n",
      "2022-11-18 04:49:04.321006 Process 5 current : 2403746399\n"
     ]
    },
    {
     "name": "stderr",
     "output_type": "stream",
     "text": [
      "Rate limit exceeded. Sleeping for 892 seconds.\n"
     ]
    },
    {
     "name": "stdout",
     "output_type": "stream",
     "text": [
      "2022-11-18 04:49:04.703596 Process 5 current : 2405600349\n"
     ]
    },
    {
     "name": "stderr",
     "output_type": "stream",
     "text": [
      "Rate limit exceeded. Sleeping for 893 seconds.\n",
      "Rate limit exceeded. Sleeping for 894 seconds.\n"
     ]
    },
    {
     "name": "stdout",
     "output_type": "stream",
     "text": [
      "2022-11-18 04:49:11.015027 Process 3 current : 538682413\n"
     ]
    },
    {
     "name": "stderr",
     "output_type": "stream",
     "text": [
      "Rate limit exceeded. Sleeping for 889 seconds.\n",
      "Rate limit exceeded. Sleeping for 888 seconds.\n"
     ]
    },
    {
     "name": "stdout",
     "output_type": "stream",
     "text": [
      "2022-11-18 04:49:51.694878 Process 4 current : 1146303572\n",
      "2022-11-18 04:49:53.265123 Process 4 current : 1148385722\n"
     ]
    },
    {
     "name": "stderr",
     "output_type": "stream",
     "text": [
      "Rate limit exceeded. Sleeping for 889 seconds.\n"
     ]
    },
    {
     "name": "stdout",
     "output_type": "stream",
     "text": [
      "2022-11-18 04:49:57.208470 Process 9 current : 1141011406239752193\n",
      "2022-11-18 04:49:57.744128 Process 9 current : 1141107075289948162\n",
      "2022-11-18 04:50:05.584310 Process 9 current : 1141469098020364294\n",
      "2022-11-18 04:50:08.131880 Process 9 current : 1141886020281085953\n"
     ]
    },
    {
     "name": "stderr",
     "output_type": "stream",
     "text": [
      "Rate limit exceeded. Sleeping for 889 seconds.\n"
     ]
    },
    {
     "name": "stdout",
     "output_type": "stream",
     "text": [
      "2022-11-18 04:56:11.437657 Process 1 current : 83960345\n",
      "2022-11-18 04:56:13.723625 Process 2 current : 270191230\n",
      "2022-11-18 04:56:14.307642 Process 2 current : 270717589\n"
     ]
    },
    {
     "name": "stderr",
     "output_type": "stream",
     "text": [
      "Rate limit exceeded. Sleeping for 893 seconds.\n",
      "Rate limit exceeded. Sleeping for 893 seconds.\n"
     ]
    },
    {
     "name": "stdout",
     "output_type": "stream",
     "text": [
      "2022-11-18 04:56:29.664866 Process 11 current : 1410755996046217217\n",
      "2022-11-18 04:56:30.004146 Process 11 current : 1410921455135514626\n",
      "2022-11-18 04:56:30.447307 Process 11 current : 1411052140328624129\n",
      "2022-11-18 04:56:30.845966 Process 11 current : 1411739764252975104\n",
      "2022-11-18 04:56:31.398369 Process 11 current : 1412099221029724165\n",
      "2022-11-18 04:56:34.698036 Process 11 current : 1412165220387147777\n",
      "2022-11-18 04:56:35.218577 Process 11 current : 1412459182758916098\n",
      "2022-11-18 04:56:35.546944 Process 11 current : 1412626677335683072\n",
      "2022-11-18 04:56:35.983696 Process 11 current : 1412780141093306372\n"
     ]
    },
    {
     "name": "stderr",
     "output_type": "stream",
     "text": [
      "Rate limit exceeded. Sleeping for 891 seconds.\n"
     ]
    },
    {
     "name": "stdout",
     "output_type": "stream",
     "text": [
      "2022-11-18 05:03:58.131645 Process 7 current : 803645967043940352\n",
      "2022-11-18 05:03:58.912755 Process 7 current : 803717167611080704\n",
      "2022-11-18 05:03:59.340276 Process 7 current : 803748518301007872\n",
      "2022-11-18 05:03:59.809702 Process 7 current : 803962332317556737\n",
      "2022-11-18 05:04:00.515204 Process 7 current : 803990517516222464\n",
      "2022-11-18 05:04:03.916399 Process 7 current : 804044976871112710\n",
      "2022-11-18 05:04:04.303250 Process 7 current : 804047193707606016\n"
     ]
    },
    {
     "name": "stderr",
     "output_type": "stream",
     "text": [
      "Rate limit exceeded. Sleeping for 894 seconds.\n",
      "Rate limit exceeded. Sleeping for 891 seconds.\n"
     ]
    },
    {
     "name": "stdout",
     "output_type": "stream",
     "text": [
      "2022-11-18 05:04:07.031210 Process 3 current : 539142666\n"
     ]
    },
    {
     "name": "stderr",
     "output_type": "stream",
     "text": [
      "Rate limit exceeded. Sleeping for 895 seconds.\n",
      "Rate limit exceeded. Sleeping for 890 seconds.\n"
     ]
    },
    {
     "name": "stdout",
     "output_type": "stream",
     "text": [
      "2022-11-18 05:04:12.812840 Process 8 current : 959305093802729472\n",
      "2022-11-18 05:04:13.702998 Process 8 current : 959344946322051072\n",
      "2022-11-18 05:04:15.097064 Process 8 current : 959910611068047360\n",
      "2022-11-18 05:04:15.471528 Process 8 current : 960235544168009728\n",
      "2022-11-18 05:04:16.021922 Process 8 current : 960249131821387777\n"
     ]
    },
    {
     "name": "stderr",
     "output_type": "stream",
     "text": [
      "Rate limit exceeded. Sleeping for 893 seconds.\n"
     ]
    },
    {
     "name": "stdout",
     "output_type": "stream",
     "text": [
      "2022-11-18 05:04:57.223233 Process 4 current : 1148408072\n"
     ]
    },
    {
     "name": "stderr",
     "output_type": "stream",
     "text": [
      "Rate limit exceeded. Sleeping for 889 seconds.\n"
     ]
    },
    {
     "name": "stdout",
     "output_type": "stream",
     "text": [
      "2022-11-18 05:05:01.683260 Process 9 current : 1141887278819577856\n",
      "2022-11-18 05:05:02.390333 Process 9 current : 1141903590425948160\n",
      "2022-11-18 05:05:03.070338 Process 9 current : 1142527337344512001\n",
      "2022-11-18 05:05:05.202369 Process 9 current : 1143256193001033734\n",
      "2022-11-18 05:05:06.481913 Process 9 current : 1143296723638337536\n"
     ]
    },
    {
     "name": "stderr",
     "output_type": "stream",
     "text": [
      "Rate limit exceeded. Sleeping for 889 seconds.\n"
     ]
    },
    {
     "name": "stdout",
     "output_type": "stream",
     "text": [
      "2022-11-18 05:11:14.250874 Process 1 current : 83965075\n",
      "2022-11-18 05:11:14.659582 Process 1 current : 83967276\n",
      "2022-11-18 05:11:15.666969 Process 2 current : 270725238\n",
      "2022-11-18 05:11:17.163789 Process 2 current : 270728306\n",
      "2022-11-18 05:11:17.530377 Process 2 current : 271211110\n",
      "2022-11-18 05:11:17.967072 Process 2 current : 271243110\n",
      "2022-11-18 05:11:18.408705 Process 2 current : 271554334\n",
      "2022-11-18 05:11:18.706659 Process 2 current : 271639768\n",
      "2022-11-18 05:11:19.557248 Process 2 current : 271811467\n",
      "2022-11-18 05:11:19.973024 Process 2 current : 271926412\n",
      "2022-11-18 05:11:20.524970 Process 2 current : 272046568\n"
     ]
    },
    {
     "name": "stderr",
     "output_type": "stream",
     "text": [
      "Rate limit exceeded. Sleeping for 893 seconds.\n",
      "Rate limit exceeded. Sleeping for 892 seconds.\n"
     ]
    },
    {
     "name": "stdout",
     "output_type": "stream",
     "text": [
      "2022-11-18 05:11:27.868405 Process 11 current : 1414043794526425098\n"
     ]
    },
    {
     "name": "stderr",
     "output_type": "stream",
     "text": [
      "Rate limit exceeded. Sleeping for 893 seconds.\n"
     ]
    },
    {
     "name": "stdout",
     "output_type": "stream",
     "text": [
      "2022-11-18 05:18:58.502363 Process 7 current : 804076373362941952\n",
      "2022-11-18 05:18:58.993270 Process 7 current : 804110391903223812\n",
      "2022-11-18 05:18:59.312676 Process 7 current : 804136622153498624\n",
      "2022-11-18 05:19:00.181379 Process 7 current : 804159853484769280\n",
      "2022-11-18 05:19:00.582602 Process 7 current : 804162663785730048\n",
      "2022-11-18 05:19:01.501216 Process 7 current : 804333872523739140\n",
      "2022-11-18 05:19:01.818374 Process 7 current : 804395535989952513\n",
      "2022-11-18 05:19:02.272705 Process 7 current : 804658401351450624\n",
      "2022-11-18 05:19:02.745721 Process 7 current : 805492078490873861\n",
      "2022-11-18 05:19:03.525092 Process 7 current : 805514415860633600\n",
      "2022-11-18 05:19:03.957321 Process 3 current : 539699081\n",
      "2022-11-18 05:19:06.137530 Process 7 current : 805526198163935232\n"
     ]
    },
    {
     "name": "stderr",
     "output_type": "stream",
     "text": [
      "Rate limit exceeded. Sleeping for 892 seconds.\n",
      "Rate limit exceeded. Sleeping for 894 seconds.\n"
     ]
    },
    {
     "name": "stdout",
     "output_type": "stream",
     "text": [
      "2022-11-18 05:19:09.818499 Process 5 current : 2407610924\n",
      "2022-11-18 05:19:10.156109 Process 5 current : 2408302898\n",
      "2022-11-18 05:19:10.550498 Process 5 current : 2409414559\n"
     ]
    },
    {
     "name": "stderr",
     "output_type": "stream",
     "text": [
      "Rate limit exceeded. Sleeping for 894 seconds.\n"
     ]
    },
    {
     "name": "stdout",
     "output_type": "stream",
     "text": [
      "2022-11-18 05:19:11.525832 Process 3 current : 540166083\n"
     ]
    },
    {
     "name": "stderr",
     "output_type": "stream",
     "text": [
      "Rate limit exceeded. Sleeping for 889 seconds.\n"
     ]
    },
    {
     "name": "stdout",
     "output_type": "stream",
     "text": [
      "2022-11-18 05:19:18.042477 Process 8 current : 960758882007068672\n",
      "2022-11-18 05:19:18.847620 Process 8 current : 960909140985024513\n"
     ]
    },
    {
     "name": "stderr",
     "output_type": "stream",
     "text": [
      "Rate limit exceeded. Sleeping for 889 seconds.\n"
     ]
    },
    {
     "name": "stdout",
     "output_type": "stream",
     "text": [
      "2022-11-18 05:19:52.993390 Process 4 current : 1149747295\n",
      "2022-11-18 05:19:54.779837 Process 4 current : 1152381547\n",
      "2022-11-18 05:19:55.583418 Process 4 current : 1155192156\n"
     ]
    },
    {
     "name": "stderr",
     "output_type": "stream",
     "text": [
      "Rate limit exceeded. Sleeping for 888 seconds.\n",
      "Rate limit exceeded. Sleeping for 888 seconds.\n"
     ]
    },
    {
     "name": "stdout",
     "output_type": "stream",
     "text": [
      "2022-11-18 05:26:14.596894 Process 2 current : 272076230\n",
      "2022-11-18 05:26:14.867245 Process 1 current : 84076903\n",
      "2022-11-18 05:26:17.174463 Process 2 current : 272105233\n",
      "2022-11-18 05:26:18.106934 Process 2 current : 272143974\n",
      "2022-11-18 05:26:18.646145 Process 2 current : 272152883\n"
     ]
    },
    {
     "name": "stderr",
     "output_type": "stream",
     "text": [
      "Rate limit exceeded. Sleeping for 893 seconds.\n"
     ]
    },
    {
     "name": "stdout",
     "output_type": "stream",
     "text": [
      "2022-11-18 05:26:22.805256 Process 2 current : 272505552\n",
      "2022-11-18 05:26:23.307345 Process 2 current : 272688720\n"
     ]
    },
    {
     "name": "stderr",
     "output_type": "stream",
     "text": [
      "Rate limit exceeded. Sleeping for 890 seconds.\n"
     ]
    },
    {
     "name": "stdout",
     "output_type": "stream",
     "text": [
      "2022-11-18 05:26:30.168539 Process 11 current : 1414257577064419332\n",
      "2022-11-18 05:26:30.719671 Process 11 current : 1414595899683008519\n",
      "2022-11-18 05:26:31.073278 Process 11 current : 1414670761424420866\n",
      "2022-11-18 05:26:32.148660 Process 11 current : 1415081999266566145\n",
      "2022-11-18 05:26:32.688202 Process 11 current : 1415520461098823680\n",
      "2022-11-18 05:26:33.035790 Process 11 current : 1415880652302344193\n",
      "2022-11-18 05:26:33.426603 Process 11 current : 1415912432451694599\n",
      "2022-11-18 05:26:33.860557 Process 11 current : 1416506592334340099\n",
      "2022-11-18 05:26:34.358335 Process 11 current : 1416550766924288000\n",
      "2022-11-18 05:26:34.868373 Process 11 current : 1416645926874140673\n",
      "2022-11-18 05:26:35.319380 Process 11 current : 1416882310473916416\n"
     ]
    },
    {
     "name": "stderr",
     "output_type": "stream",
     "text": [
      "Rate limit exceeded. Sleeping for 895 seconds.\n"
     ]
    },
    {
     "name": "stdout",
     "output_type": "stream",
     "text": [
      "2022-11-18 05:34:00.333143 Process 7 current : 805528640184287238\n",
      "2022-11-18 05:34:03.523627 Process 0 current : 14160558\n",
      "2022-11-18 05:34:03.531049 Process 7 current : 805561209403637760\n",
      "2022-11-18 05:34:03.885680 Process 7 current : 805597485498593280\n",
      "2022-11-18 05:34:04.398545 Process 0 current : 14184492\n",
      "2022-11-18 05:34:04.730083 Process 0 current : 14204921\n"
     ]
    },
    {
     "name": "stderr",
     "output_type": "stream",
     "text": [
      "Rate limit exceeded. Sleeping for 894 seconds.\n"
     ]
    },
    {
     "name": "stdout",
     "output_type": "stream",
     "text": [
      "2022-11-18 05:34:06.368116 Process 0 current : 14206286\n",
      "2022-11-18 05:34:06.848418 Process 0 current : 14229632\n",
      "2022-11-18 05:34:07.365496 Process 3 current : 540869067\n"
     ]
    },
    {
     "name": "stderr",
     "output_type": "stream",
     "text": [
      "Rate limit exceeded. Sleeping for 896 seconds.\n"
     ]
    },
    {
     "name": "stdout",
     "output_type": "stream",
     "text": [
      "2022-11-18 05:34:08.389506 Process 5 current : 2409576158\n",
      "2022-11-18 05:34:09.794133 Process 5 current : 2409793477\n",
      "2022-11-18 05:34:11.315939 Process 5 current : 2410955018\n"
     ]
    },
    {
     "name": "stderr",
     "output_type": "stream",
     "text": [
      "Rate limit exceeded. Sleeping for 895 seconds.\n"
     ]
    },
    {
     "name": "stdout",
     "output_type": "stream",
     "text": [
      "2022-11-18 05:34:14.762280 Process 3 current : 541192334\n"
     ]
    },
    {
     "name": "stderr",
     "output_type": "stream",
     "text": [
      "Rate limit exceeded. Sleeping for 889 seconds.\n"
     ]
    },
    {
     "name": "stdout",
     "output_type": "stream",
     "text": [
      "2022-11-18 05:34:47.787165 Process 4 current : 1155402679\n",
      "2022-11-18 05:34:56.952678 Process 4 current : 1155445662\n",
      "2022-11-18 05:34:57.298216 Process 4 current : 1155948366\n",
      "2022-11-18 05:34:58.064125 Process 4 current : 1160001120\n",
      "2022-11-18 05:34:58.464942 Process 4 current : 1160351922\n"
     ]
    },
    {
     "name": "stderr",
     "output_type": "stream",
     "text": [
      "Rate limit exceeded. Sleeping for 890 seconds.\n",
      "Rate limit exceeded. Sleeping for 888 seconds.\n"
     ]
    },
    {
     "name": "stdout",
     "output_type": "stream",
     "text": [
      "2022-11-18 05:41:15.760026 Process 2 current : 272766130\n",
      "2022-11-18 05:41:16.600948 Process 1 current : 84324212\n",
      "2022-11-18 05:41:18.416122 Process 1 current : 84649463\n",
      "2022-11-18 05:41:18.874318 Process 1 current : 85014108\n",
      "2022-11-18 05:41:19.724459 Process 1 current : 85143600\n",
      "2022-11-18 05:41:21.664908 Process 2 current : 273052690\n",
      "2022-11-18 05:41:21.668850 Process 1 current : 85219527\n",
      "2022-11-18 05:41:22.508644 Process 2 current : 273158526\n",
      "2022-11-18 05:41:22.851005 Process 2 current : 273465530\n",
      "2022-11-18 05:41:24.039468 Process 1 current : 85291311\n"
     ]
    },
    {
     "name": "stderr",
     "output_type": "stream",
     "text": [
      "Rate limit exceeded. Sleeping for 893 seconds.\n"
     ]
    },
    {
     "name": "stdout",
     "output_type": "stream",
     "text": [
      "2022-11-18 05:41:25.721812 Process 2 current : 273571402\n",
      "2022-11-18 05:41:27.147457 Process 2 current : 273602996\n"
     ]
    },
    {
     "name": "stderr",
     "output_type": "stream",
     "text": [
      "Rate limit exceeded. Sleeping for 888 seconds.\n"
     ]
    },
    {
     "name": "stdout",
     "output_type": "stream",
     "text": [
      "2022-11-18 05:41:32.370892 Process 11 current : 1417137406629847047\n",
      "2022-11-18 05:41:32.820372 Process 11 current : 1417291166224207872\n",
      "2022-11-18 05:41:39.791611 Process 11 current : 1417577133652811785\n",
      "2022-11-18 05:41:40.526650 Process 11 current : 1417887351838322694\n",
      "2022-11-18 05:41:40.878624 Process 11 current : 1417895286882504704\n",
      "2022-11-18 05:41:41.748902 Process 11 current : 1418535365887987712\n"
     ]
    },
    {
     "name": "stderr",
     "output_type": "stream",
     "text": [
      "Rate limit exceeded. Sleeping for 890 seconds.\n"
     ]
    },
    {
     "name": "stdout",
     "output_type": "stream",
     "text": [
      "2022-11-18 05:49:01.012212 Process 7 current : 805790503652511744\n",
      "2022-11-18 05:49:01.364642 Process 7 current : 805907138228928518\n",
      "2022-11-18 05:49:03.867712 Process 7 current : 805960683024052224\n",
      "2022-11-18 05:49:04.365837 Process 7 current : 805975748267962368\n",
      "2022-11-18 05:49:04.725291 Process 7 current : 806222129649721344\n",
      "2022-11-18 05:49:05.705429 Process 3 current : 541494547\n",
      "2022-11-18 05:49:05.989426 Process 3 current : 542605425\n",
      "2022-11-18 05:49:06.547470 Process 3 current : 542845380\n"
     ]
    },
    {
     "name": "stderr",
     "output_type": "stream",
     "text": [
      "Rate limit exceeded. Sleeping for 895 seconds.\n"
     ]
    },
    {
     "name": "stdout",
     "output_type": "stream",
     "text": [
      "2022-11-18 05:49:07.155871 Process 5 current : 2411534628\n",
      "2022-11-18 05:49:07.467104 Process 5 current : 2412317408\n",
      "2022-11-18 05:49:07.821811 Process 5 current : 2412610304\n",
      "2022-11-18 05:49:08.224192 Process 5 current : 2413023128\n",
      "2022-11-18 05:49:08.626762 Process 5 current : 2416263080\n",
      "2022-11-18 05:49:09.073658 Process 5 current : 2416320581\n",
      "2022-11-18 05:49:09.479290 Process 5 current : 2416987094\n",
      "2022-11-18 05:49:09.736920 Process 5 current : 2418205489\n",
      "2022-11-18 05:49:09.867776 Process 0 current : 14240832\n",
      "2022-11-18 05:49:10.197571 Process 0 current : 14245232\n",
      "2022-11-18 05:49:10.387994 Process 3 current : 543585452\n"
     ]
    },
    {
     "name": "stderr",
     "output_type": "stream",
     "text": [
      "Rate limit exceeded. Sleeping for 895 seconds.\n"
     ]
    },
    {
     "name": "stdout",
     "output_type": "stream",
     "text": [
      "2022-11-18 05:49:11.004503 Process 5 current : 2421041893\n",
      "2022-11-18 05:49:11.148891 Process 3 current : 543662614\n"
     ]
    },
    {
     "name": "stderr",
     "output_type": "stream",
     "text": [
      "Rate limit exceeded. Sleeping for 895 seconds.\n"
     ]
    },
    {
     "name": "stdout",
     "output_type": "stream",
     "text": [
      "2022-11-18 05:49:12.156690 Process 3 current : 545801629\n",
      "2022-11-18 05:49:12.910481 Process 3 current : 546799268\n",
      "2022-11-18 05:49:13.693804 Process 3 current : 546864892\n"
     ]
    },
    {
     "name": "stderr",
     "output_type": "stream",
     "text": [
      "Rate limit exceeded. Sleeping for 891 seconds.\n"
     ]
    },
    {
     "name": "stdout",
     "output_type": "stream",
     "text": [
      "2022-11-18 05:49:49.681911 Process 4 current : 1161737178\n",
      "2022-11-18 05:49:50.415590 Process 4 current : 1162246946\n",
      "2022-11-18 05:49:52.552823 Process 4 current : 1163517230\n",
      "2022-11-18 05:49:53.065392 Process 4 current : 1164129972\n",
      "2022-11-18 05:49:53.427252 Process 4 current : 1164934344\n",
      "2022-11-18 05:49:54.170661 Process 4 current : 1167501800\n",
      "2022-11-18 05:49:55.454279 Process 4 current : 1167762434\n",
      "2022-11-18 05:49:56.857012 Process 4 current : 1168572306\n"
     ]
    },
    {
     "name": "stderr",
     "output_type": "stream",
     "text": [
      "Rate limit exceeded. Sleeping for 890 seconds.\n"
     ]
    },
    {
     "name": "stdout",
     "output_type": "stream",
     "text": [
      "2022-11-18 05:50:13.682042 Process 9 current : 1143508800898387968\n"
     ]
    },
    {
     "name": "stderr",
     "output_type": "stream",
     "text": [
      "Rate limit exceeded. Sleeping for 889 seconds.\n"
     ]
    },
    {
     "name": "stdout",
     "output_type": "stream",
     "text": [
      "2022-11-18 05:56:15.917050 Process 2 current : 273679752\n",
      "2022-11-18 05:56:17.860796 Process 2 current : 273819343\n",
      "2022-11-18 05:56:18.035282 Process 1 current : 85387358\n",
      "2022-11-18 05:56:18.475513 Process 1 current : 85628850\n",
      "2022-11-18 05:56:18.718802 Process 2 current : 273975554\n",
      "2022-11-18 05:56:18.868004 Process 1 current : 85693971\n",
      "2022-11-18 05:56:20.142397 Process 2 current : 273979210\n",
      "2022-11-18 05:56:20.619848 Process 2 current : 274143121\n",
      "2022-11-18 05:56:24.120891 Process 1 current : 85782875\n"
     ]
    },
    {
     "name": "stderr",
     "output_type": "stream",
     "text": [
      "Rate limit exceeded. Sleeping for 892 seconds.\n"
     ]
    },
    {
     "name": "stdout",
     "output_type": "stream",
     "text": [
      "2022-11-18 05:56:25.121300 Process 1 current : 85813935\n"
     ]
    },
    {
     "name": "stderr",
     "output_type": "stream",
     "text": [
      "Rate limit exceeded. Sleeping for 893 seconds.\n",
      "Rate limit exceeded. Sleeping for 888 seconds.\n"
     ]
    },
    {
     "name": "stdout",
     "output_type": "stream",
     "text": [
      "2022-11-18 06:04:06.541845 Process 0 current : 14263856\n",
      "2022-11-18 06:04:07.009104 Process 0 current : 14270447\n",
      "2022-11-18 06:04:07.600127 Process 7 current : 806302842399195140\n",
      "2022-11-18 06:04:08.035285 Process 7 current : 806313197569507329\n"
     ]
    },
    {
     "name": "stderr",
     "output_type": "stream",
     "text": [
      "Rate limit exceeded. Sleeping for 895 seconds.\n"
     ]
    },
    {
     "name": "stdout",
     "output_type": "stream",
     "text": [
      "2022-11-18 06:04:08.388388 Process 0 current : 14280640\n",
      "2022-11-18 06:04:08.684567 Process 5 current : 2421044982\n",
      "2022-11-18 06:04:08.881425 Process 0 current : 14315961\n",
      "2022-11-18 06:04:09.117808 Process 5 current : 2421228369\n",
      "2022-11-18 06:04:09.821814 Process 0 current : 14369845\n",
      "2022-11-18 06:04:10.396000 Process 5 current : 2421284814\n",
      "2022-11-18 06:04:10.627272 Process 0 current : 14383128\n"
     ]
    },
    {
     "name": "stderr",
     "output_type": "stream",
     "text": [
      "Rate limit exceeded. Sleeping for 895 seconds.\n"
     ]
    },
    {
     "name": "stdout",
     "output_type": "stream",
     "text": [
      "2022-11-18 06:04:13.035231 Process 3 current : 546998239\n"
     ]
    },
    {
     "name": "stderr",
     "output_type": "stream",
     "text": [
      "Rate limit exceeded. Sleeping for 895 seconds.\n"
     ]
    },
    {
     "name": "stdout",
     "output_type": "stream",
     "text": [
      "2022-11-18 06:04:13.551388 Process 3 current : 547145690\n",
      "2022-11-18 06:04:14.953466 Process 3 current : 547155318\n",
      "2022-11-18 06:04:17.229921 Process 3 current : 547184768\n"
     ]
    },
    {
     "name": "stderr",
     "output_type": "stream",
     "text": [
      "Rate limit exceeded. Sleeping for 891 seconds.\n"
     ]
    },
    {
     "name": "stdout",
     "output_type": "stream",
     "text": [
      "2022-11-18 06:04:50.516450 Process 4 current : 1170451458\n",
      "2022-11-18 06:04:54.096039 Process 4 current : 1170590786\n",
      "2022-11-18 06:04:54.836825 Process 4 current : 1171814654\n",
      "2022-11-18 06:04:56.589043 Process 4 current : 1172955426\n",
      "2022-11-18 06:04:57.071918 Process 4 current : 1173434690\n",
      "2022-11-18 06:04:57.583248 Process 4 current : 1174071553\n",
      "2022-11-18 06:04:58.967445 Process 4 current : 1179769604\n",
      "2022-11-18 06:04:59.387121 Process 4 current : 1182764336\n",
      "2022-11-18 06:04:59.838497 Process 4 current : 1187170200\n",
      "2022-11-18 06:05:00.305464 Process 4 current : 1188838260\n"
     ]
    },
    {
     "name": "stderr",
     "output_type": "stream",
     "text": [
      "Rate limit exceeded. Sleeping for 891 seconds.\n"
     ]
    },
    {
     "name": "stdout",
     "output_type": "stream",
     "text": [
      "2022-11-18 06:05:03.525809 Process 9 current : 1143726018126946309\n",
      "2022-11-18 06:05:05.041540 Process 9 current : 1143982424348643328\n",
      "2022-11-18 06:05:07.239424 Process 9 current : 1143983115603468288\n",
      "2022-11-18 06:05:08.098822 Process 9 current : 1144180039736446978\n",
      "2022-11-18 06:05:08.508790 Process 9 current : 1144411637971132417\n"
     ]
    },
    {
     "name": "stderr",
     "output_type": "stream",
     "text": [
      "Rate limit exceeded. Sleeping for 890 seconds.\n"
     ]
    },
    {
     "name": "stdout",
     "output_type": "stream",
     "text": [
      "2022-11-18 06:11:17.609226 Process 2 current : 274276740\n",
      "2022-11-18 06:11:18.007244 Process 2 current : 274290761\n",
      "2022-11-18 06:11:18.447090 Process 2 current : 274369575\n",
      "2022-11-18 06:11:20.192222 Process 1 current : 86656422\n",
      "2022-11-18 06:11:20.615169 Process 1 current : 86758998\n",
      "2022-11-18 06:11:21.448139 Process 1 current : 86850567\n",
      "2022-11-18 06:11:22.245895 Process 1 current : 86969345\n",
      "2022-11-18 06:11:22.568867 Process 2 current : 274566888\n",
      "2022-11-18 06:11:22.941706 Process 2 current : 274653482\n",
      "2022-11-18 06:11:23.334483 Process 1 current : 87102437\n",
      "2022-11-18 06:11:27.098207 Process 2 current : 274720683\n"
     ]
    },
    {
     "name": "stderr",
     "output_type": "stream",
     "text": [
      "Rate limit exceeded. Sleeping for 892 seconds.\n",
      "Rate limit exceeded. Sleeping for 890 seconds.\n",
      "Rate limit exceeded. Sleeping for 888 seconds.\n"
     ]
    },
    {
     "name": "stdout",
     "output_type": "stream",
     "text": [
      "2022-11-18 06:19:03.857132 Process 7 current : 806316097825865728\n",
      "2022-11-18 06:19:04.446886 Process 7 current : 806329473826074625\n",
      "2022-11-18 06:19:04.841597 Process 7 current : 806585617651888128\n",
      "2022-11-18 06:19:09.165800 Process 3 current : 547618485\n",
      "2022-11-18 06:19:10.248671 Process 0 current : 14445487\n",
      "2022-11-18 06:19:11.085266 Process 7 current : 806610852971429888\n"
     ]
    },
    {
     "name": "stderr",
     "output_type": "stream",
     "text": [
      "Rate limit exceeded. Sleeping for 893 seconds.\n"
     ]
    },
    {
     "name": "stdout",
     "output_type": "stream",
     "text": [
      "2022-11-18 06:19:12.473181 Process 5 current : 2421391446\n",
      "2022-11-18 06:19:12.817078 Process 0 current : 14456422\n"
     ]
    },
    {
     "name": "stderr",
     "output_type": "stream",
     "text": [
      "Rate limit exceeded. Sleeping for 895 seconds.\n"
     ]
    },
    {
     "name": "stdout",
     "output_type": "stream",
     "text": [
      "2022-11-18 06:19:13.860263 Process 5 current : 2426177804\n",
      "2022-11-18 06:19:14.550095 Process 5 current : 2427414296\n",
      "2022-11-18 06:19:15.068995 Process 5 current : 2428060536\n"
     ]
    },
    {
     "name": "stderr",
     "output_type": "stream",
     "text": [
      "Rate limit exceeded. Sleeping for 894 seconds.\n",
      "Rate limit exceeded. Sleeping for 893 seconds.\n"
     ]
    },
    {
     "name": "stdout",
     "output_type": "stream",
     "text": [
      "2022-11-18 06:19:52.178855 Process 4 current : 1194445398\n",
      "2022-11-18 06:19:52.577751 Process 4 current : 1195519586\n",
      "2022-11-18 06:19:53.009539 Process 4 current : 1195546008\n",
      "2022-11-18 06:19:53.295380 Process 4 current : 1195697102\n",
      "2022-11-18 06:19:55.409468 Process 4 current : 1199499115\n",
      "2022-11-18 06:19:56.196537 Process 4 current : 1202637164\n",
      "2022-11-18 06:19:57.672598 Process 4 current : 1202949996\n",
      "2022-11-18 06:19:58.044970 Process 4 current : 1205550085\n",
      "2022-11-18 06:19:58.817404 Process 4 current : 1206797599\n",
      "2022-11-18 06:19:59.268047 Process 4 current : 1208761680\n",
      "2022-11-18 06:19:59.753542 Process 4 current : 1209041552\n"
     ]
    },
    {
     "name": "stderr",
     "output_type": "stream",
     "text": [
      "Rate limit exceeded. Sleeping for 892 seconds.\n"
     ]
    },
    {
     "name": "stdout",
     "output_type": "stream",
     "text": [
      "2022-11-18 06:20:17.066225 Process 9 current : 1144495430400479232\n",
      "2022-11-18 06:20:18.058480 Process 9 current : 1144799004972257287\n"
     ]
    },
    {
     "name": "stderr",
     "output_type": "stream",
     "text": [
      "Rate limit exceeded. Sleeping for 888 seconds.\n"
     ]
    },
    {
     "name": "stdout",
     "output_type": "stream",
     "text": [
      "2022-11-18 06:26:25.029220 Process 1 current : 87179430\n",
      "2022-11-18 06:26:25.538392 Process 1 current : 87624170\n",
      "2022-11-18 06:26:26.506864 Process 1 current : 87755130\n",
      "2022-11-18 06:26:27.114872 Process 1 current : 87782174\n",
      "2022-11-18 06:26:27.527337 Process 1 current : 87809474\n",
      "2022-11-18 06:26:28.806482 Process 2 current : 274732203\n",
      "2022-11-18 06:26:28.873444 Process 1 current : 87832714\n"
     ]
    },
    {
     "name": "stderr",
     "output_type": "stream",
     "text": [
      "Rate limit exceeded. Sleeping for 889 seconds.\n",
      "Rate limit exceeded. Sleeping for 889 seconds.\n",
      "Rate limit exceeded. Sleeping for 887 seconds.\n"
     ]
    },
    {
     "name": "stdout",
     "output_type": "stream",
     "text": [
      "2022-11-18 06:34:05.269127 Process 7 current : 806894886322577408\n",
      "2022-11-18 06:34:09.935725 Process 5 current : 2429366460\n",
      "2022-11-18 06:34:10.234961 Process 5 current : 2429579405\n",
      "2022-11-18 06:34:10.667986 Process 5 current : 2429612832\n",
      "2022-11-18 06:34:13.736057 Process 0 current : 14464980\n"
     ]
    },
    {
     "name": "stderr",
     "output_type": "stream",
     "text": [
      "Rate limit exceeded. Sleeping for 895 seconds.\n",
      "Rate limit exceeded. Sleeping for 894 seconds.\n",
      "Rate limit exceeded. Sleeping for 889 seconds.\n",
      "Rate limit exceeded. Sleeping for 892 seconds.\n"
     ]
    },
    {
     "name": "stdout",
     "output_type": "stream",
     "text": [
      "2022-11-18 06:35:01.823630 Process 4 current : 1209158540\n",
      "2022-11-18 06:35:02.168050 Process 4 current : 1210213363\n"
     ]
    },
    {
     "name": "stderr",
     "output_type": "stream",
     "text": [
      "Rate limit exceeded. Sleeping for 888 seconds.\n"
     ]
    },
    {
     "name": "stdout",
     "output_type": "stream",
     "text": [
      "2022-11-18 06:35:09.452068 Process 9 current : 1145094997760512000\n",
      "2022-11-18 06:35:09.905737 Process 9 current : 1145234754272452608\n",
      "2022-11-18 06:35:10.765708 Process 9 current : 1145639455048572928\n"
     ]
    },
    {
     "name": "stderr",
     "output_type": "stream",
     "text": [
      "Rate limit exceeded. Sleeping for 889 seconds.\n"
     ]
    },
    {
     "name": "stdout",
     "output_type": "stream",
     "text": [
      "2022-11-18 06:41:18.665864 Process 2 current : 274782867\n",
      "2022-11-18 06:41:19.224234 Process 2 current : 275116541\n",
      "2022-11-18 06:41:19.617984 Process 2 current : 275174862\n",
      "2022-11-18 06:41:20.108261 Process 2 current : 275390760\n",
      "2022-11-18 06:41:21.722863 Process 2 current : 275735030\n",
      "2022-11-18 06:41:22.609847 Process 1 current : 87956778\n",
      "2022-11-18 06:41:23.299014 Process 2 current : 275907720\n",
      "2022-11-18 06:41:23.490433 Process 1 current : 87983041\n",
      "2022-11-18 06:41:25.205922 Process 2 current : 275942684\n",
      "2022-11-18 06:41:27.616121 Process 2 current : 276095098\n"
     ]
    },
    {
     "name": "stderr",
     "output_type": "stream",
     "text": [
      "Rate limit exceeded. Sleeping for 892 seconds.\n",
      "Rate limit exceeded. Sleeping for 889 seconds.\n"
     ]
    },
    {
     "name": "stdout",
     "output_type": "stream",
     "text": [
      "2022-11-18 06:41:42.637756 Process 11 current : 1418560992905203717\n",
      "2022-11-18 06:41:43.067613 Process 11 current : 1418620535798435842\n",
      "2022-11-18 06:41:43.538252 Process 11 current : 1418677667231150082\n",
      "2022-11-18 06:41:44.028670 Process 11 current : 1418929977605586945\n",
      "2022-11-18 06:41:44.351655 Process 11 current : 1419359793123368962\n",
      "2022-11-18 06:41:46.045235 Process 11 current : 1419367633497985024\n"
     ]
    },
    {
     "name": "stderr",
     "output_type": "stream",
     "text": [
      "Rate limit exceeded. Sleeping for 890 seconds.\n"
     ]
    },
    {
     "name": "stdout",
     "output_type": "stream",
     "text": [
      "2022-11-18 06:49:12.357285 Process 7 current : 806895739565576197\n",
      "2022-11-18 06:49:13.262565 Process 7 current : 806984790574559232\n",
      "2022-11-18 06:49:14.113534 Process 7 current : 807234758010949633\n",
      "2022-11-18 06:49:14.524658 Process 7 current : 807237994348482562\n",
      "2022-11-18 06:49:15.973507 Process 5 current : 2432031750\n"
     ]
    },
    {
     "name": "stderr",
     "output_type": "stream",
     "text": [
      "Rate limit exceeded. Sleeping for 890 seconds.\n",
      "Rate limit exceeded. Sleeping for 894 seconds.\n",
      "Rate limit exceeded. Sleeping for 894 seconds.\n",
      "Rate limit exceeded. Sleeping for 893 seconds.\n"
     ]
    },
    {
     "name": "stdout",
     "output_type": "stream",
     "text": [
      "2022-11-18 06:50:00.996882 Process 4 current : 1212183889\n",
      "2022-11-18 06:50:01.478214 Process 4 current : 1212285512\n",
      "2022-11-18 06:50:01.903374 Process 4 current : 1213508102\n",
      "2022-11-18 06:50:02.400856 Process 4 current : 1213954045\n",
      "2022-11-18 06:50:03.957995 Process 4 current : 1214044146\n",
      "2022-11-18 06:50:04.685781 Process 4 current : 1216926248\n",
      "2022-11-18 06:50:05.409327 Process 4 current : 1216955486\n",
      "2022-11-18 06:50:05.817061 Process 4 current : 1217142877\n"
     ]
    },
    {
     "name": "stderr",
     "output_type": "stream",
     "text": [
      "Rate limit exceeded. Sleeping for 890 seconds.\n"
     ]
    },
    {
     "name": "stdout",
     "output_type": "stream",
     "text": [
      "2022-11-18 06:50:11.918614 Process 9 current : 1145782911418937347\n",
      "2022-11-18 06:50:13.544242 Process 9 current : 1145879930779160576\n",
      "2022-11-18 06:50:13.859546 Process 9 current : 1146215779701907456\n"
     ]
    },
    {
     "name": "stderr",
     "output_type": "stream",
     "text": [
      "Rate limit exceeded. Sleeping for 889 seconds.\n"
     ]
    },
    {
     "name": "stdout",
     "output_type": "stream",
     "text": [
      "2022-11-18 06:56:21.012298 Process 2 current : 276207099\n",
      "2022-11-18 06:56:23.564400 Process 2 current : 276367849\n",
      "2022-11-18 06:56:25.208683 Process 2 current : 276481294\n",
      "2022-11-18 06:56:25.720285 Process 2 current : 276524634\n",
      "2022-11-18 06:56:32.314481 Process 2 current : 276652642\n"
     ]
    },
    {
     "name": "stderr",
     "output_type": "stream",
     "text": [
      "Rate limit exceeded. Sleeping for 889 seconds.\n",
      "Rate limit exceeded. Sleeping for 890 seconds.\n"
     ]
    },
    {
     "name": "stdout",
     "output_type": "stream",
     "text": [
      "2022-11-18 06:56:37.997650 Process 11 current : 1419701333800722432\n",
      "2022-11-18 06:56:38.863883 Process 11 current : 1419982881271676930\n",
      "2022-11-18 06:56:39.380188 Process 11 current : 1420038308940419076\n",
      "2022-11-18 06:56:39.896984 Process 11 current : 1420723975294910464\n",
      "2022-11-18 06:56:40.328147 Process 11 current : 1420811240599736321\n",
      "2022-11-18 06:56:40.824835 Process 11 current : 1421167375957831682\n",
      "2022-11-18 06:56:44.714132 Process 11 current : 1421238376154509314\n",
      "2022-11-18 06:56:45.131327 Process 11 current : 1421364930188562432\n",
      "2022-11-18 06:56:46.639563 Process 11 current : 1421547837117108226\n",
      "2022-11-18 06:56:47.065942 Process 11 current : 1422007823362297858\n"
     ]
    },
    {
     "name": "stderr",
     "output_type": "stream",
     "text": [
      "Rate limit exceeded. Sleeping for 891 seconds.\n"
     ]
    },
    {
     "name": "stdout",
     "output_type": "stream",
     "text": [
      "2022-11-18 07:04:09.275879 Process 7 current : 807302367423168512\n",
      "2022-11-18 07:04:09.586942 Process 7 current : 807328039847612416\n",
      "2022-11-18 07:04:11.018333 Process 7 current : 807618911881412608\n",
      "2022-11-18 07:04:11.428073 Process 7 current : 807685182664876032\n",
      "2022-11-18 07:04:11.698642 Process 5 current : 2432608640\n",
      "2022-11-18 07:04:12.266410 Process 7 current : 807710489312722944\n",
      "2022-11-18 07:04:12.608864 Process 5 current : 2434162616\n",
      "2022-11-18 07:04:13.708252 Process 0 current : 14471686\n",
      "2022-11-18 07:04:13.984255 Process 0 current : 14555282\n",
      "2022-11-18 07:04:14.122674 Process 7 current : 807736606882955268\n",
      "2022-11-18 07:04:14.166564 Process 5 current : 2435958930\n",
      "2022-11-18 07:04:14.452390 Process 0 current : 14557674\n",
      "2022-11-18 07:04:14.598983 Process 7 current : 807744947021611008\n",
      "2022-11-18 07:04:14.638633 Process 5 current : 2435968164\n",
      "2022-11-18 07:04:15.038699 Process 7 current : 807782838351237120\n",
      "2022-11-18 07:04:15.307265 Process 5 current : 2436313400\n",
      "2022-11-18 07:04:15.755385 Process 5 current : 2436342428\n",
      "2022-11-18 07:04:15.960740 Process 0 current : 14640193\n"
     ]
    },
    {
     "name": "stderr",
     "output_type": "stream",
     "text": [
      "Rate limit exceeded. Sleeping for 891 seconds.\n"
     ]
    },
    {
     "name": "stdout",
     "output_type": "stream",
     "text": [
      "2022-11-18 07:04:16.420645 Process 0 current : 14680568\n",
      "2022-11-18 07:04:16.909673 Process 0 current : 14734712\n",
      "2022-11-18 07:04:17.071932 Process 5 current : 2436589053\n"
     ]
    },
    {
     "name": "stderr",
     "output_type": "stream",
     "text": [
      "Rate limit exceeded. Sleeping for 895 seconds.\n"
     ]
    },
    {
     "name": "stdout",
     "output_type": "stream",
     "text": [
      "2022-11-18 07:04:17.541043 Process 0 current : 14745875\n"
     ]
    },
    {
     "name": "stderr",
     "output_type": "stream",
     "text": [
      "Rate limit exceeded. Sleeping for 895 seconds.\n",
      "Rate limit exceeded. Sleeping for 892 seconds.\n"
     ]
    },
    {
     "name": "stdout",
     "output_type": "stream",
     "text": [
      "2022-11-18 07:04:56.689234 Process 4 current : 1219573280\n",
      "2022-11-18 07:04:57.597301 Process 4 current : 1222263013\n",
      "2022-11-18 07:04:58.101328 Process 4 current : 1223111233\n",
      "2022-11-18 07:04:58.434640 Process 4 current : 1223180924\n",
      "2022-11-18 07:04:58.816339 Process 4 current : 1223300244\n",
      "2022-11-18 07:05:06.361230 Process 4 current : 1224406298\n"
     ]
    },
    {
     "name": "stderr",
     "output_type": "stream",
     "text": [
      "Rate limit exceeded. Sleeping for 890 seconds.\n",
      "Rate limit exceeded. Sleeping for 888 seconds.\n"
     ]
    },
    {
     "name": "stdout",
     "output_type": "stream",
     "text": [
      "2022-11-18 07:11:22.154998 Process 2 current : 276695591\n",
      "2022-11-18 07:11:27.645387 Process 2 current : 276948267\n",
      "2022-11-18 07:11:28.450685 Process 2 current : 277039542\n",
      "2022-11-18 07:11:29.364199 Process 2 current : 277049262\n"
     ]
    },
    {
     "name": "stderr",
     "output_type": "stream",
     "text": [
      "Rate limit exceeded. Sleeping for 892 seconds.\n",
      "Rate limit exceeded. Sleeping for 888 seconds.\n"
     ]
    },
    {
     "name": "stdout",
     "output_type": "stream",
     "text": [
      "2022-11-18 07:11:46.334489 Process 11 current : 1422124073367351300\n",
      "2022-11-18 07:11:46.721061 Process 11 current : 1422498590396764160\n",
      "2022-11-18 07:11:47.173850 Process 11 current : 1422621275235700741\n",
      "2022-11-18 07:11:47.590931 Process 11 current : 1422989313915064323\n",
      "2022-11-18 07:11:48.028260 Process 11 current : 1423085095137722369\n",
      "2022-11-18 07:11:48.415220 Process 11 current : 1423118779995856896\n"
     ]
    },
    {
     "name": "stderr",
     "output_type": "stream",
     "text": [
      "Rate limit exceeded. Sleeping for 891 seconds.\n"
     ]
    },
    {
     "name": "stdout",
     "output_type": "stream",
     "text": [
      "2022-11-18 07:19:12.928909 Process 5 current : 2437114425\n",
      "2022-11-18 07:19:14.345951 Process 5 current : 2437505616\n",
      "2022-11-18 07:19:15.215421 Process 0 current : 14752191\n",
      "2022-11-18 07:19:15.619269 Process 0 current : 14758527\n"
     ]
    },
    {
     "name": "stderr",
     "output_type": "stream",
     "text": [
      "Rate limit exceeded. Sleeping for 892 seconds.\n"
     ]
    },
    {
     "name": "stdout",
     "output_type": "stream",
     "text": [
      "2022-11-18 07:19:16.598670 Process 5 current : 2437748545\n",
      "2022-11-18 07:19:17.421013 Process 0 current : 14763503\n",
      "2022-11-18 07:19:17.928995 Process 0 current : 14774513\n",
      "2022-11-18 07:19:18.156204 Process 3 current : 547647442\n",
      "2022-11-18 07:19:18.670827 Process 5 current : 2437761697\n"
     ]
    },
    {
     "name": "stderr",
     "output_type": "stream",
     "text": [
      "Rate limit exceeded. Sleeping for 895 seconds.\n"
     ]
    },
    {
     "name": "stdout",
     "output_type": "stream",
     "text": [
      "2022-11-18 07:19:19.092617 Process 5 current : 2437945656\n"
     ]
    },
    {
     "name": "stderr",
     "output_type": "stream",
     "text": [
      "Rate limit exceeded. Sleeping for 894 seconds.\n"
     ]
    },
    {
     "name": "stdout",
     "output_type": "stream",
     "text": [
      "2022-11-18 07:19:19.504534 Process 3 current : 547851967\n",
      "2022-11-18 07:19:20.059471 Process 3 current : 547856285\n",
      "2022-11-18 07:19:21.019173 Process 3 current : 548211376\n"
     ]
    },
    {
     "name": "stderr",
     "output_type": "stream",
     "text": [
      "Rate limit exceeded. Sleeping for 894 seconds.\n",
      "Rate limit exceeded. Sleeping for 887 seconds.\n"
     ]
    },
    {
     "name": "stdout",
     "output_type": "stream",
     "text": [
      "2022-11-18 07:20:13.298159 Process 9 current : 1146532338567929857\n",
      "2022-11-18 07:20:14.034335 Process 9 current : 1146605385148579840\n",
      "2022-11-18 07:20:14.453085 Process 9 current : 1146837711740817408\n",
      "2022-11-18 07:20:14.864783 Process 9 current : 1146901975847579648\n",
      "2022-11-18 07:20:15.296525 Process 9 current : 1147192769347235842\n",
      "2022-11-18 07:20:15.590210 Process 9 current : 1147527179204485123\n",
      "2022-11-18 07:20:16.499420 Process 9 current : 1147545336195379200\n",
      "2022-11-18 07:20:16.940725 Process 9 current : 1147682328925356064\n",
      "2022-11-18 07:20:18.653109 Process 9 current : 1147880567037284352\n",
      "2022-11-18 07:20:19.403332 Process 9 current : 1148065432563154945\n",
      "2022-11-18 07:20:21.021768 Process 9 current : 1148374192586481664\n"
     ]
    },
    {
     "name": "stderr",
     "output_type": "stream",
     "text": [
      "Rate limit exceeded. Sleeping for 890 seconds.\n"
     ]
    },
    {
     "name": "stdout",
     "output_type": "stream",
     "text": [
      "2022-11-18 07:26:23.347499 Process 2 current : 277143694\n",
      "2022-11-18 07:26:24.185552 Process 2 current : 277231533\n",
      "2022-11-18 07:26:26.693479 Process 2 current : 277263274\n",
      "2022-11-18 07:26:28.486644 Process 2 current : 277821276\n",
      "2022-11-18 07:26:32.946292 Process 2 current : 278038424\n"
     ]
    },
    {
     "name": "stderr",
     "output_type": "stream",
     "text": [
      "Rate limit exceeded. Sleeping for 890 seconds.\n",
      "Rate limit exceeded. Sleeping for 888 seconds.\n"
     ]
    },
    {
     "name": "stdout",
     "output_type": "stream",
     "text": [
      "2022-11-18 07:26:43.384982 Process 11 current : 1423262690588430337\n",
      "2022-11-18 07:26:43.881582 Process 11 current : 1423267027716878337\n",
      "2022-11-18 07:26:44.356650 Process 11 current : 1423314229696864258\n",
      "2022-11-18 07:26:44.873446 Process 11 current : 1423331346685079556\n",
      "2022-11-18 07:26:48.675975 Process 11 current : 1423356215279583234\n",
      "2022-11-18 07:26:48.987461 Process 11 current : 1424519161980538881\n",
      "2022-11-18 07:26:49.434326 Process 11 current : 1424704771773108227\n",
      "2022-11-18 07:26:49.936185 Process 11 current : 1424886092780744706\n"
     ]
    },
    {
     "name": "stderr",
     "output_type": "stream",
     "text": [
      "Rate limit exceeded. Sleeping for 890 seconds.\n"
     ]
    },
    {
     "name": "stdout",
     "output_type": "stream",
     "text": [
      "2022-11-18 07:34:13.863020 Process 5 current : 2438222132\n",
      "2022-11-18 07:34:14.594030 Process 0 current : 14808213\n",
      "2022-11-18 07:34:15.963753 Process 3 current : 548733719\n",
      "2022-11-18 07:34:17.100241 Process 0 current : 14827639\n",
      "2022-11-18 07:34:17.458640 Process 0 current : 14834573\n",
      "2022-11-18 07:34:17.488059 Process 3 current : 549367327\n",
      "2022-11-18 07:34:17.759425 Process 5 current : 2438723591\n",
      "2022-11-18 07:34:17.995558 Process 3 current : 549403424\n"
     ]
    },
    {
     "name": "stderr",
     "output_type": "stream",
     "text": [
      "Rate limit exceeded. Sleeping for 891 seconds.\n"
     ]
    },
    {
     "name": "stdout",
     "output_type": "stream",
     "text": [
      "2022-11-18 07:34:18.383922 Process 3 current : 549646503\n",
      "2022-11-18 07:34:18.550508 Process 5 current : 2438945557\n",
      "2022-11-18 07:34:19.240009 Process 3 current : 550605163\n",
      "2022-11-18 07:34:19.293442 Process 0 current : 14836055\n"
     ]
    },
    {
     "name": "stderr",
     "output_type": "stream",
     "text": [
      "Rate limit exceeded. Sleeping for 894 seconds.\n",
      "Rate limit exceeded. Sleeping for 894 seconds.\n",
      "Rate limit exceeded. Sleeping for 894 seconds.\n"
     ]
    },
    {
     "name": "stdout",
     "output_type": "stream",
     "text": [
      "2022-11-18 07:35:02.990192 Process 4 current : 1227890923\n",
      "2022-11-18 07:35:03.736570 Process 4 current : 1230151986\n",
      "2022-11-18 07:35:05.633054 Process 4 current : 1230369878\n",
      "2022-11-18 07:35:06.087307 Process 4 current : 1230722216\n",
      "2022-11-18 07:35:07.466415 Process 4 current : 1231369177\n",
      "2022-11-18 07:35:08.004231 Process 4 current : 1231851956\n",
      "2022-11-18 07:35:09.366023 Process 4 current : 1237666292\n",
      "2022-11-18 07:35:09.812938 Process 4 current : 1239206473\n"
     ]
    },
    {
     "name": "stderr",
     "output_type": "stream",
     "text": [
      "Rate limit exceeded. Sleeping for 889 seconds.\n"
     ]
    },
    {
     "name": "stdout",
     "output_type": "stream",
     "text": [
      "2022-11-18 07:35:12.246705 Process 9 current : 1148681802086846464\n",
      "2022-11-18 07:35:12.564537 Process 9 current : 1148951598594428928\n",
      "2022-11-18 07:35:13.058025 Process 9 current : 1149026282920914944\n",
      "2022-11-18 07:35:13.504532 Process 9 current : 1149048026801090561\n",
      "2022-11-18 07:35:13.894000 Process 9 current : 1149362922059182080\n",
      "2022-11-18 07:35:14.204975 Process 9 current : 1149660575141638144\n",
      "2022-11-18 07:35:14.622786 Process 9 current : 1149785501894946822\n",
      "2022-11-18 07:35:16.022592 Process 9 current : 1150194566802202624\n",
      "2022-11-18 07:35:16.791496 Process 9 current : 1150801171357011968\n"
     ]
    },
    {
     "name": "stderr",
     "output_type": "stream",
     "text": [
      "Rate limit exceeded. Sleeping for 891 seconds.\n"
     ]
    },
    {
     "name": "stdout",
     "output_type": "stream",
     "text": [
      "2022-11-18 07:41:24.248831 Process 2 current : 278198392\n",
      "2022-11-18 07:41:24.802421 Process 2 current : 278221740\n",
      "2022-11-18 07:41:25.734164 Process 2 current : 278264531\n",
      "2022-11-18 07:41:27.209458 Process 2 current : 278315777\n"
     ]
    },
    {
     "name": "stderr",
     "output_type": "stream",
     "text": [
      "Rate limit exceeded. Sleeping for 889 seconds.\n",
      "Rate limit exceeded. Sleeping for 887 seconds.\n"
     ]
    },
    {
     "name": "stdout",
     "output_type": "stream",
     "text": [
      "2022-11-18 07:41:40.702644 Process 11 current : 1425121220018819073\n",
      "2022-11-18 07:41:41.613926 Process 11 current : 1425166525128867844\n",
      "2022-11-18 07:41:42.075008 Process 11 current : 1425508764489289734\n",
      "2022-11-18 07:41:43.682808 Process 11 current : 1425644758576345089\n",
      "2022-11-18 07:41:44.034327 Process 11 current : 1425884697087954947\n",
      "2022-11-18 07:41:44.488906 Process 11 current : 1425962112149426178\n",
      "2022-11-18 07:41:44.942216 Process 11 current : 1426485330534862849\n",
      "2022-11-18 07:41:45.384089 Process 11 current : 1426635792621916168\n",
      "2022-11-18 07:41:45.776606 Process 11 current : 1427063924084576259\n",
      "2022-11-18 07:41:47.242971 Process 11 current : 1427245411375398912\n",
      "2022-11-18 07:41:47.741762 Process 11 current : 1427312366354587648\n",
      "2022-11-18 07:41:48.268658 Process 11 current : 1427318178649198592\n"
     ]
    },
    {
     "name": "stderr",
     "output_type": "stream",
     "text": [
      "Rate limit exceeded. Sleeping for 893 seconds.\n"
     ]
    },
    {
     "name": "stdout",
     "output_type": "stream",
     "text": [
      "2022-11-18 07:49:17.514033 Process 0 current : 14876283\n",
      "2022-11-18 07:49:17.829479 Process 5 current : 2441385866\n",
      "2022-11-18 07:49:18.380768 Process 0 current : 14930782\n",
      "2022-11-18 07:49:18.822008 Process 0 current : 14944543\n",
      "2022-11-18 07:49:20.332907 Process 3 current : 550742760\n"
     ]
    },
    {
     "name": "stderr",
     "output_type": "stream",
     "text": [
      "Rate limit exceeded. Sleeping for 889 seconds.\n",
      "Rate limit exceeded. Sleeping for 895 seconds.\n"
     ]
    },
    {
     "name": "stdout",
     "output_type": "stream",
     "text": [
      "2022-11-18 07:49:21.933162 Process 3 current : 551169747\n"
     ]
    },
    {
     "name": "stderr",
     "output_type": "stream",
     "text": [
      "Rate limit exceeded. Sleeping for 893 seconds.\n"
     ]
    },
    {
     "name": "stdout",
     "output_type": "stream",
     "text": [
      "2022-11-18 07:49:22.768850 Process 3 current : 551514827\n",
      "2022-11-18 07:49:23.248957 Process 3 current : 551523459\n",
      "2022-11-18 07:49:25.567376 Process 3 current : 551774335\n",
      "2022-11-18 07:49:25.948016 Process 3 current : 552045666\n",
      "2022-11-18 07:49:26.313882 Process 3 current : 552347983\n"
     ]
    },
    {
     "name": "stderr",
     "output_type": "stream",
     "text": [
      "Rate limit exceeded. Sleeping for 891 seconds.\n"
     ]
    },
    {
     "name": "stdout",
     "output_type": "stream",
     "text": [
      "2022-11-18 07:49:59.627532 Process 4 current : 1240467534\n",
      "2022-11-18 07:49:59.976165 Process 4 current : 1242110101\n",
      "2022-11-18 07:50:00.380362 Process 4 current : 1244385912\n",
      "2022-11-18 07:50:00.746156 Process 4 current : 1244648678\n",
      "2022-11-18 07:50:01.148873 Process 4 current : 1244970163\n",
      "2022-11-18 07:50:02.014296 Process 4 current : 1244973554\n",
      "2022-11-18 07:50:03.277994 Process 4 current : 1245140450\n",
      "2022-11-18 07:50:05.662007 Process 4 current : 1245801074\n",
      "2022-11-18 07:50:06.150861 Process 4 current : 1247370534\n"
     ]
    },
    {
     "name": "stderr",
     "output_type": "stream",
     "text": [
      "Rate limit exceeded. Sleeping for 892 seconds.\n",
      "Rate limit exceeded. Sleeping for 887 seconds.\n"
     ]
    },
    {
     "name": "stdout",
     "output_type": "stream",
     "text": [
      "2022-11-18 07:56:28.651202 Process 2 current : 278642216\n"
     ]
    },
    {
     "name": "stderr",
     "output_type": "stream",
     "text": [
      "Rate limit exceeded. Sleeping for 893 seconds.\n",
      "Rate limit exceeded. Sleeping for 892 seconds.\n"
     ]
    },
    {
     "name": "stdout",
     "output_type": "stream",
     "text": [
      "2022-11-18 07:56:42.171288 Process 11 current : 1427432694389133312\n",
      "2022-11-18 07:56:42.575162 Process 11 current : 1427488540024352776\n",
      "2022-11-18 07:56:44.070581 Process 11 current : 1427528768143314946\n",
      "2022-11-18 07:56:44.393504 Process 11 current : 1427692245822681098\n",
      "2022-11-18 07:56:48.506520 Process 11 current : 1427837418032574466\n",
      "2022-11-18 07:56:48.944150 Process 11 current : 1427846149851910151\n",
      "2022-11-18 07:56:49.311526 Process 11 current : 1428357830076076039\n",
      "2022-11-18 07:56:49.705727 Process 11 current : 1428537258664251406\n",
      "2022-11-18 07:56:50.149615 Process 11 current : 1428745505329356805\n"
     ]
    },
    {
     "name": "stderr",
     "output_type": "stream",
     "text": [
      "Rate limit exceeded. Sleeping for 892 seconds.\n"
     ]
    },
    {
     "name": "stdout",
     "output_type": "stream",
     "text": [
      "2022-11-18 08:04:18.176494 Process 3 current : 552592042\n",
      "2022-11-18 08:04:18.621334 Process 3 current : 552949589\n",
      "2022-11-18 08:04:18.827547 Process 7 current : 808115854210715648\n"
     ]
    },
    {
     "name": "stderr",
     "output_type": "stream",
     "text": [
      "Rate limit exceeded. Sleeping for 892 seconds.\n"
     ]
    },
    {
     "name": "stdout",
     "output_type": "stream",
     "text": [
      "2022-11-18 08:04:19.485624 Process 3 current : 553033876\n",
      "2022-11-18 08:04:19.960960 Process 3 current : 553658994\n",
      "2022-11-18 08:04:20.407523 Process 3 current : 553951853\n",
      "2022-11-18 08:04:20.798523 Process 3 current : 553966601\n",
      "2022-11-18 08:04:22.394003 Process 3 current : 554758317\n",
      "2022-11-18 08:04:22.670506 Process 3 current : 554769313\n"
     ]
    },
    {
     "name": "stderr",
     "output_type": "stream",
     "text": [
      "Rate limit exceeded. Sleeping for 894 seconds.\n"
     ]
    },
    {
     "name": "stdout",
     "output_type": "stream",
     "text": [
      "2022-11-18 08:04:23.164411 Process 3 current : 555431921\n"
     ]
    },
    {
     "name": "stderr",
     "output_type": "stream",
     "text": [
      "Rate limit exceeded. Sleeping for 894 seconds.\n"
     ]
    },
    {
     "name": "stdout",
     "output_type": "stream",
     "text": [
      "2022-11-18 08:04:25.008259 Process 3 current : 556155553\n"
     ]
    },
    {
     "name": "stderr",
     "output_type": "stream",
     "text": [
      "Rate limit exceeded. Sleeping for 892 seconds.\n"
     ]
    },
    {
     "name": "stdout",
     "output_type": "stream",
     "text": [
      "2022-11-18 08:05:02.153263 Process 4 current : 1247822936\n",
      "2022-11-18 08:05:05.600135 Process 4 current : 1249379726\n",
      "2022-11-18 08:05:08.288276 Process 4 current : 1252589996\n",
      "2022-11-18 08:05:10.100321 Process 4 current : 1252907875\n",
      "2022-11-18 08:05:12.753031 Process 4 current : 1254369686\n",
      "2022-11-18 08:05:13.122263 Process 4 current : 1256252216\n",
      "2022-11-18 08:05:13.484104 Process 4 current : 1257060032\n"
     ]
    },
    {
     "name": "stderr",
     "output_type": "stream",
     "text": [
      "Rate limit exceeded. Sleeping for 889 seconds.\n"
     ]
    },
    {
     "name": "stdout",
     "output_type": "stream",
     "text": [
      "2022-11-18 08:05:16.706641 Process 9 current : 1150933296706048000\n",
      "2022-11-18 08:05:17.416939 Process 9 current : 1150938103848349696\n",
      "2022-11-18 08:05:21.658528 Process 9 current : 1150965290236284928\n",
      "2022-11-18 08:05:22.063791 Process 9 current : 1151118460665159680\n",
      "2022-11-18 08:05:22.944531 Process 9 current : 1151172056865792001\n",
      "2022-11-18 08:05:23.346001 Process 9 current : 1151681254657581068\n",
      "2022-11-18 08:05:25.118031 Process 9 current : 1151925304816001024\n"
     ]
    },
    {
     "name": "stderr",
     "output_type": "stream",
     "text": [
      "Rate limit exceeded. Sleeping for 889 seconds.\n"
     ]
    },
    {
     "name": "stdout",
     "output_type": "stream",
     "text": [
      "2022-11-18 08:11:33.221853 Process 2 current : 278741684\n",
      "2022-11-18 08:11:33.770644 Process 2 current : 278782119\n"
     ]
    },
    {
     "name": "stderr",
     "output_type": "stream",
     "text": [
      "Rate limit exceeded. Sleeping for 893 seconds.\n",
      "Rate limit exceeded. Sleeping for 892 seconds.\n"
     ]
    },
    {
     "name": "stdout",
     "output_type": "stream",
     "text": [
      "2022-11-18 08:11:43.009785 Process 11 current : 1428966063375482880\n",
      "2022-11-18 08:11:43.453448 Process 11 current : 1429163931810078731\n",
      "2022-11-18 08:11:43.818191 Process 11 current : 1429191105908822016\n",
      "2022-11-18 08:11:44.154999 Process 11 current : 1429355662119784449\n",
      "2022-11-18 08:11:44.589047 Process 11 current : 1429447365887467523\n",
      "2022-11-18 08:11:45.007818 Process 11 current : 1429687503485865991\n",
      "2022-11-18 08:11:45.452224 Process 11 current : 1429921449595351040\n",
      "2022-11-18 08:11:45.921260 Process 11 current : 1430015426193362959\n",
      "2022-11-18 08:11:46.867340 Process 11 current : 1430296201308434433\n",
      "2022-11-18 08:11:47.617593 Process 11 current : 1430296598500806666\n",
      "2022-11-18 08:11:48.520770 Process 11 current : 1430353192332767235\n",
      "2022-11-18 08:11:49.056398 Process 11 current : 1430363429756354562\n"
     ]
    },
    {
     "name": "stderr",
     "output_type": "stream",
     "text": [
      "Rate limit exceeded. Sleeping for 893 seconds.\n"
     ]
    },
    {
     "name": "stdout",
     "output_type": "stream",
     "text": [
      "2022-11-18 08:19:13.074193 Process 7 current : 808368249146642432\n",
      "2022-11-18 08:19:14.009114 Process 7 current : 808434984512065536\n",
      "2022-11-18 08:19:15.732873 Process 7 current : 809203845670834176\n",
      "2022-11-18 08:19:16.134138 Process 7 current : 809235361033424897\n",
      "2022-11-18 08:19:17.347985 Process 5 current : 2444716760\n"
     ]
    },
    {
     "name": "stderr",
     "output_type": "stream",
     "text": [
      "Rate limit exceeded. Sleeping for 893 seconds.\n"
     ]
    },
    {
     "name": "stdout",
     "output_type": "stream",
     "text": [
      "2022-11-18 08:19:19.217479 Process 5 current : 2446912200\n",
      "2022-11-18 08:19:19.649234 Process 5 current : 2448652183\n",
      "2022-11-18 08:19:21.157250 Process 0 current : 14956358\n",
      "2022-11-18 08:19:21.407162 Process 5 current : 2449479324\n",
      "2022-11-18 08:19:21.866256 Process 5 current : 2450777665\n",
      "2022-11-18 08:19:22.233308 Process 5 current : 2453679894\n",
      "2022-11-18 08:19:22.665072 Process 5 current : 2453844450\n",
      "2022-11-18 08:19:23.196833 Process 5 current : 2455220539\n"
     ]
    },
    {
     "name": "stderr",
     "output_type": "stream",
     "text": [
      "Rate limit exceeded. Sleeping for 895 seconds.\n"
     ]
    },
    {
     "name": "stdout",
     "output_type": "stream",
     "text": [
      "2022-11-18 08:19:24.463671 Process 0 current : 14956411\n"
     ]
    },
    {
     "name": "stderr",
     "output_type": "stream",
     "text": [
      "Rate limit exceeded. Sleeping for 894 seconds.\n",
      "Rate limit exceeded. Sleeping for 892 seconds.\n"
     ]
    },
    {
     "name": "stdout",
     "output_type": "stream",
     "text": [
      "2022-11-18 08:20:03.367913 Process 4 current : 1257300048\n",
      "2022-11-18 08:20:08.292524 Process 4 current : 1257448178\n",
      "2022-11-18 08:20:08.686614 Process 4 current : 1257711468\n"
     ]
    },
    {
     "name": "stderr",
     "output_type": "stream",
     "text": [
      "Rate limit exceeded. Sleeping for 889 seconds.\n"
     ]
    },
    {
     "name": "stdout",
     "output_type": "stream",
     "text": [
      "2022-11-18 08:20:18.143370 Process 9 current : 1152782295712948225\n",
      "2022-11-18 08:20:18.971820 Process 9 current : 1153066669142679552\n",
      "2022-11-18 08:20:21.341138 Process 9 current : 1153268933769748480\n",
      "2022-11-18 08:20:23.139597 Process 9 current : 1153412617840594945\n",
      "2022-11-18 08:20:24.031432 Process 9 current : 1153773471207497728\n",
      "2022-11-18 08:20:24.811549 Process 9 current : 1154082511254937601\n",
      "2022-11-18 08:20:25.159016 Process 9 current : 1154160283943759872\n",
      "2022-11-18 08:20:25.616905 Process 9 current : 1154177424550191107\n",
      "2022-11-18 08:20:26.077337 Process 9 current : 1154191426000809985\n"
     ]
    },
    {
     "name": "stderr",
     "output_type": "stream",
     "text": [
      "Rate limit exceeded. Sleeping for 889 seconds.\n"
     ]
    },
    {
     "name": "stdout",
     "output_type": "stream",
     "text": [
      "2022-11-18 08:26:28.581829 Process 2 current : 278871750\n",
      "2022-11-18 08:26:28.992265 Process 2 current : 278893199\n",
      "2022-11-18 08:26:34.685046 Process 2 current : 279102772\n"
     ]
    },
    {
     "name": "stderr",
     "output_type": "stream",
     "text": [
      "Rate limit exceeded. Sleeping for 894 seconds.\n",
      "Rate limit exceeded. Sleeping for 892 seconds.\n"
     ]
    },
    {
     "name": "stdout",
     "output_type": "stream",
     "text": [
      "2022-11-18 08:26:44.911229 Process 11 current : 1430571267325894660\n",
      "2022-11-18 08:26:45.283094 Process 11 current : 1430622970502803458\n",
      "2022-11-18 08:26:45.677488 Process 11 current : 1430969252761280518\n",
      "2022-11-18 08:26:45.977141 Process 11 current : 1431070739436904451\n",
      "2022-11-18 08:26:46.485156 Process 11 current : 1431075611527757826\n",
      "2022-11-18 08:26:47.392876 Process 11 current : 1431077756863922180\n",
      "2022-11-18 08:26:48.242061 Process 11 current : 1431119804107132930\n",
      "2022-11-18 08:26:48.622582 Process 11 current : 1431253726476390403\n",
      "2022-11-18 08:26:49.016098 Process 11 current : 1431338791650820099\n",
      "2022-11-18 08:26:49.526920 Process 11 current : 1431674008479674376\n",
      "2022-11-18 08:26:49.932647 Process 11 current : 1431676128960434178\n",
      "2022-11-18 08:26:50.588154 Process 11 current : 1431739673647407164\n",
      "2022-11-18 08:26:50.911796 Process 11 current : 1431765114965872646\n"
     ]
    },
    {
     "name": "stderr",
     "output_type": "stream",
     "text": [
      "Rate limit exceeded. Sleeping for 893 seconds.\n"
     ]
    },
    {
     "name": "stdout",
     "output_type": "stream",
     "text": [
      "2022-11-18 08:34:19.091760 Process 5 current : 2457231271\n",
      "2022-11-18 08:34:19.507744 Process 5 current : 2457527204\n",
      "2022-11-18 08:34:19.956743 Process 5 current : 2458142803\n",
      "2022-11-18 08:34:20.319412 Process 3 current : 556514694\n",
      "2022-11-18 08:34:21.182690 Process 0 current : 14987807\n",
      "2022-11-18 08:34:21.204465 Process 5 current : 2458449612\n",
      "2022-11-18 08:34:21.699402 Process 0 current : 15004791\n",
      "2022-11-18 08:34:22.444292 Process 7 current : 809577988798824448\n"
     ]
    },
    {
     "name": "stderr",
     "output_type": "stream",
     "text": [
      "Rate limit exceeded. Sleeping for 890 seconds.\n"
     ]
    },
    {
     "name": "stdout",
     "output_type": "stream",
     "text": [
      "2022-11-18 08:34:23.880575 Process 3 current : 557175261\n",
      "2022-11-18 08:34:24.212471 Process 0 current : 15006157\n",
      "2022-11-18 08:34:24.660018 Process 0 current : 15011153\n",
      "2022-11-18 08:34:25.061257 Process 0 current : 15021056\n"
     ]
    },
    {
     "name": "stderr",
     "output_type": "stream",
     "text": [
      "Rate limit exceeded. Sleeping for 894 seconds.\n",
      "Rate limit exceeded. Sleeping for 894 seconds.\n"
     ]
    },
    {
     "name": "stdout",
     "output_type": "stream",
     "text": [
      "2022-11-18 08:34:27.220746 Process 3 current : 557194226\n"
     ]
    },
    {
     "name": "stderr",
     "output_type": "stream",
     "text": [
      "Rate limit exceeded. Sleeping for 893 seconds.\n"
     ]
    },
    {
     "name": "stdout",
     "output_type": "stream",
     "text": [
      "2022-11-18 08:35:09.155696 Process 4 current : 1258355988\n",
      "2022-11-18 08:35:10.579011 Process 4 current : 1260676292\n",
      "2022-11-18 08:35:11.345051 Process 4 current : 1261927339\n",
      "2022-11-18 08:35:14.397806 Process 4 current : 1262195210\n"
     ]
    },
    {
     "name": "stderr",
     "output_type": "stream",
     "text": [
      "Rate limit exceeded. Sleeping for 889 seconds.\n",
      "Rate limit exceeded. Sleeping for 888 seconds.\n"
     ]
    },
    {
     "name": "stdout",
     "output_type": "stream",
     "text": [
      "2022-11-18 08:41:31.605445 Process 2 current : 279598938\n",
      "2022-11-18 08:41:32.192345 Process 2 current : 279704551\n",
      "2022-11-18 08:41:33.123779 Process 2 current : 279863727\n",
      "2022-11-18 08:41:33.551218 Process 2 current : 280167639\n",
      "2022-11-18 08:41:34.377516 Process 2 current : 280172113\n",
      "2022-11-18 08:41:36.440060 Process 2 current : 280296013\n",
      "2022-11-18 08:41:36.972019 Process 2 current : 280506132\n",
      "2022-11-18 08:41:37.391963 Process 2 current : 280572263\n"
     ]
    },
    {
     "name": "stderr",
     "output_type": "stream",
     "text": [
      "Rate limit exceeded. Sleeping for 894 seconds.\n",
      "Rate limit exceeded. Sleeping for 892 seconds.\n"
     ]
    },
    {
     "name": "stdout",
     "output_type": "stream",
     "text": [
      "2022-11-18 08:41:44.722317 Process 11 current : 1431803024679317505\n",
      "2022-11-18 08:41:45.130344 Process 11 current : 1431865727934341128\n",
      "2022-11-18 08:41:45.469702 Process 11 current : 1431973895943245826\n",
      "2022-11-18 08:41:45.884214 Process 11 current : 1432279996454817793\n",
      "2022-11-18 08:41:46.311864 Process 11 current : 1432429431533056000\n",
      "2022-11-18 08:41:47.034391 Process 11 current : 1432871250003701768\n",
      "2022-11-18 08:41:48.345671 Process 11 current : 1432933629060018177\n",
      "2022-11-18 08:41:48.727593 Process 11 current : 1433093544755990530\n",
      "2022-11-18 08:41:49.168075 Process 11 current : 1433132212694704129\n",
      "2022-11-18 08:41:49.934132 Process 11 current : 1433163562722242560\n",
      "2022-11-18 08:41:50.399465 Process 11 current : 1433636962196287490\n",
      "2022-11-18 08:41:50.751459 Process 11 current : 1433756997212585986\n",
      "2022-11-18 08:41:51.186965 Process 11 current : 1433855885739270157\n"
     ]
    },
    {
     "name": "stderr",
     "output_type": "stream",
     "text": [
      "Rate limit exceeded. Sleeping for 894 seconds.\n"
     ]
    },
    {
     "name": "stdout",
     "output_type": "stream",
     "text": [
      "2022-11-18 08:49:15.171261 Process 7 current : 809617631162445824\n",
      "2022-11-18 08:49:18.630092 Process 7 current : 809799215304085504\n",
      "2022-11-18 08:49:19.828345 Process 5 current : 2458921466\n",
      "2022-11-18 08:49:20.894543 Process 0 current : 15035209\n",
      "2022-11-18 08:49:21.041752 Process 3 current : 557587100\n",
      "2022-11-18 08:49:22.038300 Process 7 current : 809895662712188929\n",
      "2022-11-18 08:49:22.461210 Process 7 current : 809970499853828096\n"
     ]
    },
    {
     "name": "stderr",
     "output_type": "stream",
     "text": [
      "Rate limit exceeded. Sleeping for 892 seconds.\n"
     ]
    },
    {
     "name": "stdout",
     "output_type": "stream",
     "text": [
      "2022-11-18 08:49:23.409895 Process 0 current : 15053754\n",
      "2022-11-18 08:49:23.526400 Process 3 current : 557664745\n",
      "2022-11-18 08:49:23.899846 Process 3 current : 557813372\n",
      "2022-11-18 08:49:24.366711 Process 3 current : 558207176\n",
      "2022-11-18 08:49:25.344750 Process 5 current : 2459008796\n",
      "2022-11-18 08:49:26.280958 Process 5 current : 2459122094\n"
     ]
    },
    {
     "name": "stderr",
     "output_type": "stream",
     "text": [
      "Rate limit exceeded. Sleeping for 895 seconds.\n",
      "Rate limit exceeded. Sleeping for 893 seconds.\n"
     ]
    },
    {
     "name": "stdout",
     "output_type": "stream",
     "text": [
      "2022-11-18 08:49:27.730113 Process 3 current : 558293436\n"
     ]
    },
    {
     "name": "stderr",
     "output_type": "stream",
     "text": [
      "Rate limit exceeded. Sleeping for 894 seconds.\n"
     ]
    },
    {
     "name": "stdout",
     "output_type": "stream",
     "text": [
      "2022-11-18 08:50:09.886053 Process 4 current : 1264568815\n",
      "2022-11-18 08:50:16.768232 Process 4 current : 1265089868\n",
      "2022-11-18 08:50:17.336248 Process 4 current : 1265291700\n",
      "2022-11-18 08:50:18.181025 Process 4 current : 1267875560\n"
     ]
    },
    {
     "name": "stderr",
     "output_type": "stream",
     "text": [
      "Rate limit exceeded. Sleeping for 888 seconds.\n",
      "Rate limit exceeded. Sleeping for 888 seconds.\n"
     ]
    },
    {
     "name": "stdout",
     "output_type": "stream",
     "text": [
      "2022-11-18 08:56:32.792346 Process 2 current : 280716572\n",
      "2022-11-18 08:56:33.178980 Process 2 current : 280716827\n",
      "2022-11-18 08:56:35.496889 Process 2 current : 280779114\n",
      "2022-11-18 08:56:37.572964 Process 2 current : 280884877\n",
      "2022-11-18 08:56:38.074357 Process 2 current : 281071098\n",
      "2022-11-18 08:56:39.535748 Process 2 current : 281327485\n"
     ]
    },
    {
     "name": "stderr",
     "output_type": "stream",
     "text": [
      "Rate limit exceeded. Sleeping for 891 seconds.\n",
      "Rate limit exceeded. Sleeping for 890 seconds.\n"
     ]
    },
    {
     "name": "stdout",
     "output_type": "stream",
     "text": [
      "2022-11-18 08:56:46.029404 Process 11 current : 1433861113385418757\n",
      "2022-11-18 08:56:46.521762 Process 11 current : 1433890961319514113\n",
      "2022-11-18 08:56:46.969586 Process 11 current : 1434362801997455361\n",
      "2022-11-18 08:56:47.532143 Process 11 current : 1434545823099072514\n",
      "2022-11-18 08:56:48.898231 Process 11 current : 1434674817970720768\n",
      "2022-11-18 08:56:49.374006 Process 11 current : 1434724015352975361\n",
      "2022-11-18 08:56:49.761752 Process 11 current : 1435013595042025473\n",
      "2022-11-18 08:56:50.143473 Process 11 current : 1435029138864328706\n",
      "2022-11-18 08:56:50.878631 Process 11 current : 1435080461185806341\n",
      "2022-11-18 08:56:51.323027 Process 11 current : 1435244157623316485\n",
      "2022-11-18 08:56:51.737740 Process 11 current : 1435304655144243201\n",
      "2022-11-18 08:56:52.228618 Process 11 current : 1435429442596360199\n",
      "2022-11-18 08:56:52.617312 Process 11 current : 1435833467254689793\n"
     ]
    },
    {
     "name": "stderr",
     "output_type": "stream",
     "text": [
      "Rate limit exceeded. Sleeping for 894 seconds.\n"
     ]
    },
    {
     "name": "stdout",
     "output_type": "stream",
     "text": [
      "2022-11-18 09:04:16.770385 Process 7 current : 810302458895286273\n",
      "2022-11-18 09:04:22.004083 Process 7 current : 810628088874684416\n",
      "2022-11-18 09:04:22.487233 Process 7 current : 810639135694356480\n"
     ]
    },
    {
     "name": "stderr",
     "output_type": "stream",
     "text": [
      "Rate limit exceeded. Sleeping for 891 seconds.\n",
      "Rate limit exceeded. Sleeping for 893 seconds.\n",
      "Rate limit exceeded. Sleeping for 894 seconds.\n",
      "Rate limit exceeded. Sleeping for 892 seconds.\n"
     ]
    },
    {
     "name": "stdout",
     "output_type": "stream",
     "text": [
      "2022-11-18 09:05:06.987177 Process 4 current : 1270656248\n",
      "2022-11-18 09:05:07.386726 Process 4 current : 1270694778\n",
      "2022-11-18 09:05:08.423043 Process 4 current : 1270989426\n",
      "2022-11-18 09:05:12.544956 Process 4 current : 1271219846\n",
      "2022-11-18 09:05:13.309138 Process 4 current : 1276124900\n",
      "2022-11-18 09:05:15.101602 Process 4 current : 1276559760\n",
      "2022-11-18 09:05:15.566563 Process 4 current : 1276701954\n",
      "2022-11-18 09:05:15.962228 Process 4 current : 1279388760\n",
      "2022-11-18 09:05:16.353127 Process 4 current : 1281461714\n",
      "2022-11-18 09:05:16.800151 Process 4 current : 1281821707\n"
     ]
    },
    {
     "name": "stderr",
     "output_type": "stream",
     "text": [
      "Rate limit exceeded. Sleeping for 890 seconds.\n"
     ]
    },
    {
     "name": "stdout",
     "output_type": "stream",
     "text": [
      "2022-11-18 09:05:29.136046 Process 9 current : 1154418572476768257\n",
      "2022-11-18 09:05:29.563042 Process 9 current : 1154481306916409344\n",
      "2022-11-18 09:05:30.937166 Process 9 current : 1154498633053724673\n"
     ]
    },
    {
     "name": "stderr",
     "output_type": "stream",
     "text": [
      "Rate limit exceeded. Sleeping for 888 seconds.\n"
     ]
    },
    {
     "name": "stdout",
     "output_type": "stream",
     "text": [
      "2022-11-18 09:11:33.712973 Process 2 current : 281383605\n",
      "2022-11-18 09:11:37.678177 Process 2 current : 281573793\n",
      "2022-11-18 09:11:38.258760 Process 2 current : 281591495\n",
      "2022-11-18 09:11:40.881388 Process 2 current : 281687769\n",
      "2022-11-18 09:11:42.472529 Process 2 current : 282190835\n",
      "2022-11-18 09:11:43.046770 Process 2 current : 282311572\n"
     ]
    },
    {
     "name": "stderr",
     "output_type": "stream",
     "text": [
      "Rate limit exceeded. Sleeping for 890 seconds.\n",
      "Rate limit exceeded. Sleeping for 888 seconds.\n"
     ]
    },
    {
     "name": "stdout",
     "output_type": "stream",
     "text": [
      "2022-11-18 09:11:47.441061 Process 11 current : 1435836708495499271\n",
      "2022-11-18 09:11:47.825282 Process 11 current : 1436020056106930181\n",
      "2022-11-18 09:11:48.214797 Process 11 current : 1436026193652944903\n",
      "2022-11-18 09:11:48.645253 Process 11 current : 1436039309728038913\n",
      "2022-11-18 09:11:49.029162 Process 11 current : 1436067782500634624\n",
      "2022-11-18 09:11:49.816160 Process 11 current : 1436075851226001410\n"
     ]
    },
    {
     "name": "stderr",
     "output_type": "stream",
     "text": [
      "Rate limit exceeded. Sleeping for 895 seconds.\n"
     ]
    },
    {
     "name": "stdout",
     "output_type": "stream",
     "text": [
      "2022-11-18 09:19:23.789801 Process 5 current : 2459851813\n",
      "2022-11-18 09:19:24.256248 Process 5 current : 2461252626\n",
      "2022-11-18 09:19:24.682153 Process 5 current : 2463434401\n",
      "2022-11-18 09:19:25.973689 Process 5 current : 2464790496\n",
      "2022-11-18 09:19:26.801599 Process 5 current : 2465246300\n",
      "2022-11-18 09:19:27.273633 Process 5 current : 2465788384\n",
      "2022-11-18 09:19:27.684865 Process 5 current : 2466595837\n"
     ]
    },
    {
     "name": "stderr",
     "output_type": "stream",
     "text": [
      "Rate limit exceeded. Sleeping for 895 seconds.\n"
     ]
    },
    {
     "name": "stdout",
     "output_type": "stream",
     "text": [
      "2022-11-18 09:19:29.888245 Process 3 current : 558301390\n"
     ]
    },
    {
     "name": "stderr",
     "output_type": "stream",
     "text": [
      "Rate limit exceeded. Sleeping for 889 seconds.\n",
      "Rate limit exceeded. Sleeping for 894 seconds.\n"
     ]
    },
    {
     "name": "stdout",
     "output_type": "stream",
     "text": [
      "2022-11-18 09:19:31.782520 Process 3 current : 558383523\n",
      "2022-11-18 09:19:32.141782 Process 3 current : 558978451\n",
      "2022-11-18 09:19:33.626299 Process 3 current : 559870034\n",
      "2022-11-18 09:19:34.178011 Process 3 current : 560114150\n"
     ]
    },
    {
     "name": "stderr",
     "output_type": "stream",
     "text": [
      "Rate limit exceeded. Sleeping for 890 seconds.\n"
     ]
    },
    {
     "name": "stdout",
     "output_type": "stream",
     "text": [
      "2022-11-18 09:20:07.637633 Process 4 current : 1282201926\n",
      "2022-11-18 09:20:09.405394 Process 4 current : 1283499631\n",
      "2022-11-18 09:20:10.797328 Process 4 current : 1284723594\n",
      "2022-11-18 09:20:11.694830 Process 4 current : 1286048444\n",
      "2022-11-18 09:20:14.834466 Process 4 current : 1286905933\n",
      "2022-11-18 09:20:17.932727 Process 4 current : 1287751867\n",
      "2022-11-18 09:20:18.436412 Process 4 current : 1289079086\n"
     ]
    },
    {
     "name": "stderr",
     "output_type": "stream",
     "text": [
      "Rate limit exceeded. Sleeping for 890 seconds.\n"
     ]
    },
    {
     "name": "stdout",
     "output_type": "stream",
     "text": [
      "2022-11-18 09:20:19.895580 Process 9 current : 1154757770635284482\n",
      "2022-11-18 09:20:21.367576 Process 9 current : 1154894599204290560\n",
      "2022-11-18 09:20:25.605281 Process 9 current : 1155237053551927296\n",
      "2022-11-18 09:20:26.478178 Process 9 current : 1155461826005688321\n",
      "2022-11-18 09:20:26.877245 Process 9 current : 1155553224688046080\n",
      "2022-11-18 09:20:27.808034 Process 9 current : 1155559175872757760\n",
      "2022-11-18 09:20:28.275507 Process 9 current : 1155655978244640768\n"
     ]
    },
    {
     "name": "stderr",
     "output_type": "stream",
     "text": [
      "Rate limit exceeded. Sleeping for 889 seconds.\n"
     ]
    },
    {
     "name": "stdout",
     "output_type": "stream",
     "text": [
      "2022-11-18 09:26:34.448013 Process 2 current : 282434445\n",
      "2022-11-18 09:26:35.900207 Process 2 current : 282633104\n",
      "2022-11-18 09:26:38.192230 Process 2 current : 282680916\n",
      "2022-11-18 09:26:38.569896 Process 2 current : 282837048\n",
      "2022-11-18 09:26:42.346180 Process 2 current : 283080534\n"
     ]
    },
    {
     "name": "stderr",
     "output_type": "stream",
     "text": [
      "Rate limit exceeded. Sleeping for 892 seconds.\n",
      "Rate limit exceeded. Sleeping for 888 seconds.\n",
      "Rate limit exceeded. Sleeping for 887 seconds.\n"
     ]
    },
    {
     "name": "stdout",
     "output_type": "stream",
     "text": [
      "2022-11-18 09:34:21.012977 Process 7 current : 810654457096785920\n",
      "2022-11-18 09:34:24.411717 Process 5 current : 2467898994\n",
      "2022-11-18 09:34:25.070021 Process 3 current : 560196769\n",
      "2022-11-18 09:34:25.087818 Process 5 current : 2469717942\n",
      "2022-11-18 09:34:25.906877 Process 3 current : 560507396\n",
      "2022-11-18 09:34:26.558709 Process 5 current : 2470055959\n"
     ]
    },
    {
     "name": "stderr",
     "output_type": "stream",
     "text": [
      "Rate limit exceeded. Sleeping for 894 seconds.\n",
      "Rate limit exceeded. Sleeping for 894 seconds.\n",
      "Rate limit exceeded. Sleeping for 885 seconds.\n",
      "Rate limit exceeded. Sleeping for 890 seconds.\n"
     ]
    },
    {
     "name": "stdout",
     "output_type": "stream",
     "text": [
      "2022-11-18 09:35:09.450080 Process 4 current : 1291747182\n",
      "2022-11-18 09:35:09.978610 Process 4 current : 1292296454\n",
      "2022-11-18 09:35:10.506097 Process 4 current : 1299335678\n",
      "2022-11-18 09:35:10.982038 Process 4 current : 1302548802\n",
      "2022-11-18 09:35:11.472788 Process 4 current : 1305481604\n",
      "2022-11-18 09:35:16.439265 Process 4 current : 1308583176\n",
      "2022-11-18 09:35:16.774525 Process 4 current : 1308914460\n",
      "2022-11-18 09:35:17.139668 Process 4 current : 1309572962\n",
      "2022-11-18 09:35:17.431468 Process 4 current : 1309982478\n"
     ]
    },
    {
     "name": "stderr",
     "output_type": "stream",
     "text": [
      "Rate limit exceeded. Sleeping for 892 seconds.\n"
     ]
    },
    {
     "name": "stdout",
     "output_type": "stream",
     "text": [
      "2022-11-18 09:35:22.068643 Process 9 current : 1155849763193053184\n",
      "2022-11-18 09:35:22.984279 Process 9 current : 1155943108011593728\n",
      "2022-11-18 09:35:30.633548 Process 9 current : 1156163288985681920\n",
      "2022-11-18 09:35:31.109611 Process 9 current : 1156385316837740544\n",
      "2022-11-18 09:35:31.693714 Process 9 current : 1157287685544792064\n"
     ]
    },
    {
     "name": "stderr",
     "output_type": "stream",
     "text": [
      "Rate limit exceeded. Sleeping for 884 seconds.\n",
      "Rate limit exceeded. Sleeping for 887 seconds.\n",
      "Rate limit exceeded. Sleeping for 888 seconds.\n"
     ]
    },
    {
     "name": "stdout",
     "output_type": "stream",
     "text": [
      "2022-11-18 09:41:51.176678 Process 11 current : 1436115153616089090\n",
      "2022-11-18 09:41:51.503786 Process 11 current : 1436185226389049348\n",
      "2022-11-18 09:41:51.984199 Process 11 current : 1436365972454232065\n",
      "2022-11-18 09:41:57.103983 Process 11 current : 1436544744864169985\n",
      "2022-11-18 09:41:57.670511 Process 11 current : 1436707256356253703\n",
      "2022-11-18 09:42:00.340860 Process 11 current : 1436715881577521154\n",
      "2022-11-18 09:42:00.835379 Process 11 current : 1436744517856546816\n"
     ]
    },
    {
     "name": "stderr",
     "output_type": "stream",
     "text": [
      "Rate limit exceeded. Sleeping for 890 seconds.\n"
     ]
    },
    {
     "name": "stdout",
     "output_type": "stream",
     "text": [
      "2022-11-18 09:49:24.995385 Process 7 current : 810663025212530689\n",
      "2022-11-18 09:49:25.417691 Process 7 current : 810669271873449985\n",
      "2022-11-18 09:49:25.856975 Process 7 current : 810850789119918080\n"
     ]
    },
    {
     "name": "stderr",
     "output_type": "stream",
     "text": [
      "Rate limit exceeded. Sleeping for 895 seconds.\n"
     ]
    },
    {
     "name": "stdout",
     "output_type": "stream",
     "text": [
      "2022-11-18 09:49:27.521966 Process 5 current : 2470097834\n",
      "2022-11-18 09:49:27.917327 Process 5 current : 2470246449\n",
      "2022-11-18 09:49:29.511904 Process 5 current : 2470710932\n"
     ]
    },
    {
     "name": "stderr",
     "output_type": "stream",
     "text": [
      "Rate limit exceeded. Sleeping for 893 seconds.\n",
      "Rate limit exceeded. Sleeping for 894 seconds.\n",
      "Rate limit exceeded. Sleeping for 889 seconds.\n"
     ]
    },
    {
     "name": "stdout",
     "output_type": "stream",
     "text": [
      "2022-11-18 09:50:19.306804 Process 4 current : 1312428798\n",
      "2022-11-18 09:50:19.623059 Process 4 current : 1315423322\n",
      "2022-11-18 09:50:20.332471 Process 4 current : 1315514498\n",
      "2022-11-18 09:50:20.715316 Process 4 current : 1317276487\n",
      "2022-11-18 09:50:21.991138 Process 9 current : 1157354136641462272\n",
      "2022-11-18 09:50:22.144382 Process 4 current : 1318122715\n"
     ]
    },
    {
     "name": "stderr",
     "output_type": "stream",
     "text": [
      "Rate limit exceeded. Sleeping for 889 seconds.\n"
     ]
    },
    {
     "name": "stdout",
     "output_type": "stream",
     "text": [
      "2022-11-18 09:50:22.754323 Process 9 current : 1157404795776487429\n",
      "2022-11-18 09:50:23.178492 Process 9 current : 1157478287356174336\n",
      "2022-11-18 09:50:23.633514 Process 9 current : 1157841993378254848\n"
     ]
    },
    {
     "name": "stderr",
     "output_type": "stream",
     "text": [
      "Rate limit exceeded. Sleeping for 889 seconds.\n"
     ]
    },
    {
     "name": "stdout",
     "output_type": "stream",
     "text": [
      "2022-11-18 09:56:41.379187 Process 2 current : 283171635\n",
      "2022-11-18 09:56:41.739926 Process 2 current : 283583065\n",
      "2022-11-18 09:56:42.171234 Process 2 current : 283613996\n",
      "2022-11-18 09:56:46.744882 Process 2 current : 283708433\n",
      "2022-11-18 09:56:47.559111 Process 2 current : 283827806\n"
     ]
    },
    {
     "name": "stderr",
     "output_type": "stream",
     "text": [
      "Rate limit exceeded. Sleeping for 890 seconds.\n",
      "Rate limit exceeded. Sleeping for 889 seconds.\n"
     ]
    },
    {
     "name": "stdout",
     "output_type": "stream",
     "text": [
      "2022-11-18 09:56:51.735497 Process 11 current : 1436815298510954498\n",
      "2022-11-18 09:56:52.700234 Process 11 current : 1436885116513660928\n",
      "2022-11-18 09:56:53.189086 Process 11 current : 1437195527058333699\n",
      "2022-11-18 09:56:53.592418 Process 11 current : 1437456283930558466\n",
      "2022-11-18 09:56:54.052927 Process 11 current : 1437501186119245837\n",
      "2022-11-18 09:56:55.841933 Process 11 current : 1437527552860557323\n",
      "2022-11-18 09:56:59.116173 Process 11 current : 1437863981704753154\n",
      "2022-11-18 09:56:59.619296 Process 11 current : 1437897856183062542\n"
     ]
    },
    {
     "name": "stderr",
     "output_type": "stream",
     "text": [
      "Rate limit exceeded. Sleeping for 891 seconds.\n"
     ]
    },
    {
     "name": "stdout",
     "output_type": "stream",
     "text": [
      "2022-11-18 10:04:24.585301 Process 7 current : 810907071927316480\n",
      "2022-11-18 10:04:25.110648 Process 7 current : 810908522670161924\n",
      "2022-11-18 10:04:26.826053 Process 5 current : 2471227616\n",
      "2022-11-18 10:04:27.612425 Process 5 current : 2471332608\n",
      "2022-11-18 10:04:27.947745 Process 7 current : 810965151218368513\n",
      "2022-11-18 10:04:28.354036 Process 7 current : 811200443334279168\n",
      "2022-11-18 10:04:29.003916 Process 5 current : 2471936916\n",
      "2022-11-18 10:04:30.983860 Process 7 current : 811215353183424513\n"
     ]
    },
    {
     "name": "stderr",
     "output_type": "stream",
     "text": [
      "Rate limit exceeded. Sleeping for 891 seconds.\n"
     ]
    },
    {
     "name": "stdout",
     "output_type": "stream",
     "text": [
      "2022-11-18 10:04:32.431860 Process 5 current : 2473015189\n",
      "2022-11-18 10:04:32.751576 Process 5 current : 2476658245\n"
     ]
    },
    {
     "name": "stderr",
     "output_type": "stream",
     "text": [
      "Rate limit exceeded. Sleeping for 894 seconds.\n",
      "Rate limit exceeded. Sleeping for 894 seconds.\n",
      "Rate limit exceeded. Sleeping for 891 seconds.\n"
     ]
    },
    {
     "name": "stdout",
     "output_type": "stream",
     "text": [
      "2022-11-18 10:05:12.560323 Process 4 current : 1318487442\n",
      "2022-11-18 10:05:14.293989 Process 4 current : 1318626637\n",
      "2022-11-18 10:05:15.048544 Process 4 current : 1319102736\n",
      "2022-11-18 10:05:15.610464 Process 4 current : 1320891505\n",
      "2022-11-18 10:05:17.395994 Process 4 current : 1321683974\n",
      "2022-11-18 10:05:17.947388 Process 4 current : 1321812391\n",
      "2022-11-18 10:05:18.448041 Process 4 current : 1321918538\n",
      "2022-11-18 10:05:19.746511 Process 4 current : 1323088465\n",
      "2022-11-18 10:05:20.221827 Process 4 current : 1323214644\n"
     ]
    },
    {
     "name": "stderr",
     "output_type": "stream",
     "text": [
      "Rate limit exceeded. Sleeping for 889 seconds.\n"
     ]
    },
    {
     "name": "stdout",
     "output_type": "stream",
     "text": [
      "2022-11-18 10:05:26.503952 Process 9 current : 1158283656286351360\n",
      "2022-11-18 10:05:26.910846 Process 9 current : 1158391977412648961\n",
      "2022-11-18 10:05:31.100290 Process 9 current : 1158435890655399936\n",
      "2022-11-18 10:05:31.436863 Process 9 current : 1158501429360939009\n",
      "2022-11-18 10:05:31.866697 Process 9 current : 1158562636113440768\n"
     ]
    },
    {
     "name": "stderr",
     "output_type": "stream",
     "text": [
      "Rate limit exceeded. Sleeping for 889 seconds.\n"
     ]
    },
    {
     "name": "stdout",
     "output_type": "stream",
     "text": [
      "2022-11-18 10:11:38.544369 Process 2 current : 284173948\n",
      "2022-11-18 10:11:42.121042 Process 2 current : 284180046\n",
      "2022-11-18 10:11:42.565563 Process 2 current : 284333944\n",
      "2022-11-18 10:11:42.945137 Process 2 current : 284559613\n",
      "2022-11-18 10:11:43.250017 Process 2 current : 284607464\n",
      "2022-11-18 10:11:44.660024 Process 2 current : 284648028\n",
      "2022-11-18 10:11:46.425649 Process 2 current : 284986748\n"
     ]
    },
    {
     "name": "stderr",
     "output_type": "stream",
     "text": [
      "Rate limit exceeded. Sleeping for 892 seconds.\n",
      "Rate limit exceeded. Sleeping for 892 seconds.\n"
     ]
    },
    {
     "name": "stdout",
     "output_type": "stream",
     "text": [
      "2022-11-18 10:11:53.838132 Process 11 current : 1437922081581244425\n",
      "2022-11-18 10:11:54.293321 Process 11 current : 1437980750889037826\n",
      "2022-11-18 10:11:55.053894 Process 11 current : 1438019835531862018\n",
      "2022-11-18 10:11:55.416177 Process 11 current : 1438190040916496385\n",
      "2022-11-18 10:11:55.793707 Process 11 current : 1438211065301585930\n",
      "2022-11-18 10:11:56.160804 Process 11 current : 1438215391969521665\n",
      "2022-11-18 10:11:56.584229 Process 11 current : 1438226673166598144\n",
      "2022-11-18 10:11:57.482312 Process 11 current : 1438263592915279873\n",
      "2022-11-18 10:11:59.837685 Process 11 current : 1438311156825968643\n",
      "2022-11-18 10:12:00.291587 Process 11 current : 1438320316296704001\n"
     ]
    },
    {
     "name": "stderr",
     "output_type": "stream",
     "text": [
      "Rate limit exceeded. Sleeping for 892 seconds.\n"
     ]
    },
    {
     "name": "stdout",
     "output_type": "stream",
     "text": [
      "2022-11-18 10:19:25.151608 Process 7 current : 811287162998161409\n",
      "2022-11-18 10:19:25.594643 Process 7 current : 811538128213254146\n",
      "2022-11-18 10:19:30.055558 Process 5 current : 2477276641\n"
     ]
    },
    {
     "name": "stderr",
     "output_type": "stream",
     "text": [
      "Rate limit exceeded. Sleeping for 892 seconds.\n"
     ]
    },
    {
     "name": "stdout",
     "output_type": "stream",
     "text": [
      "2022-11-18 10:19:32.827159 Process 5 current : 2478258428\n",
      "2022-11-18 10:19:33.237456 Process 5 current : 2478922478\n"
     ]
    },
    {
     "name": "stderr",
     "output_type": "stream",
     "text": [
      "Rate limit exceeded. Sleeping for 894 seconds.\n",
      "Rate limit exceeded. Sleeping for 894 seconds.\n",
      "Rate limit exceeded. Sleeping for 893 seconds.\n"
     ]
    },
    {
     "name": "stdout",
     "output_type": "stream",
     "text": [
      "2022-11-18 10:20:25.586216 Process 9 current : 1158676480882348032\n",
      "2022-11-18 10:20:25.938549 Process 9 current : 1158785872537370625\n"
     ]
    },
    {
     "name": "stderr",
     "output_type": "stream",
     "text": [
      "Rate limit exceeded. Sleeping for 887 seconds.\n"
     ]
    },
    {
     "name": "stdout",
     "output_type": "stream",
     "text": [
      "2022-11-18 10:20:26.374200 Process 9 current : 1158809814757191681\n",
      "2022-11-18 10:20:35.012369 Process 9 current : 1158927627521888256\n",
      "2022-11-18 10:20:35.405448 Process 9 current : 1158932056338030592\n"
     ]
    },
    {
     "name": "stderr",
     "output_type": "stream",
     "text": [
      "Rate limit exceeded. Sleeping for 890 seconds.\n"
     ]
    },
    {
     "name": "stdout",
     "output_type": "stream",
     "text": [
      "2022-11-18 10:26:40.931555 Process 2 current : 285076545\n",
      "2022-11-18 10:26:44.587479 Process 2 current : 285104989\n",
      "2022-11-18 10:26:45.152582 Process 2 current : 285225325\n",
      "2022-11-18 10:26:46.532486 Process 2 current : 285450464\n",
      "2022-11-18 10:26:47.142635 Process 2 current : 285723181\n",
      "2022-11-18 10:26:49.846617 Process 2 current : 285802933\n"
     ]
    },
    {
     "name": "stderr",
     "output_type": "stream",
     "text": [
      "Rate limit exceeded. Sleeping for 890 seconds.\n",
      "Rate limit exceeded. Sleeping for 890 seconds.\n"
     ]
    },
    {
     "name": "stdout",
     "output_type": "stream",
     "text": [
      "2022-11-18 10:26:55.036546 Process 11 current : 1438382589098827778\n",
      "2022-11-18 10:26:55.511252 Process 11 current : 1438465408328163328\n",
      "2022-11-18 10:26:55.889758 Process 11 current : 1438552054327353349\n",
      "2022-11-18 10:26:59.613652 Process 11 current : 1438747527931518978\n",
      "2022-11-18 10:27:00.000706 Process 11 current : 1438955950375936009\n",
      "2022-11-18 10:27:00.769945 Process 11 current : 1439002991265304577\n",
      "2022-11-18 10:27:01.558033 Process 11 current : 1439019970437001220\n"
     ]
    },
    {
     "name": "stderr",
     "output_type": "stream",
     "text": [
      "Rate limit exceeded. Sleeping for 893 seconds.\n"
     ]
    },
    {
     "name": "stdout",
     "output_type": "stream",
     "text": [
      "2022-11-18 10:34:30.348701 Process 5 current : 2479159384\n",
      "2022-11-18 10:34:31.033955 Process 0 current : 15072414\n",
      "2022-11-18 10:34:31.855206 Process 0 current : 15110123\n",
      "2022-11-18 10:34:32.871207 Process 3 current : 560817896\n",
      "2022-11-18 10:34:35.445902 Process 0 current : 15114186\n",
      "2022-11-18 10:34:36.063218 Process 0 current : 15115280\n",
      "2022-11-18 10:34:36.277928 Process 5 current : 2479669219\n"
     ]
    },
    {
     "name": "stderr",
     "output_type": "stream",
     "text": [
      "Rate limit exceeded. Sleeping for 895 seconds.\n",
      "Rate limit exceeded. Sleeping for 893 seconds.\n",
      "Rate limit exceeded. Sleeping for 889 seconds.\n",
      "Rate limit exceeded. Sleeping for 891 seconds.\n",
      "Rate limit exceeded. Sleeping for 888 seconds.\n"
     ]
    },
    {
     "name": "stdout",
     "output_type": "stream",
     "text": [
      "2022-11-18 10:35:26.651950 Process 9 current : 1158994587291021312\n",
      "2022-11-18 10:35:27.159466 Process 9 current : 1159058331320901633\n",
      "2022-11-18 10:35:27.738167 Process 9 current : 1159169100800757760\n",
      "2022-11-18 10:35:28.062507 Process 9 current : 1159239528307200005\n",
      "2022-11-18 10:35:28.489552 Process 9 current : 1159257782299836417\n",
      "2022-11-18 10:35:28.956602 Process 9 current : 1159309877648535552\n",
      "2022-11-18 10:35:30.098138 Process 9 current : 1159393215855976449\n",
      "2022-11-18 10:35:30.710430 Process 9 current : 1159439056947830784\n",
      "2022-11-18 10:35:31.175698 Process 9 current : 1159453521173000194\n",
      "2022-11-18 10:35:31.569677 Process 9 current : 1159605186064715776\n",
      "2022-11-18 10:35:31.954349 Process 9 current : 1159613345953144833\n",
      "2022-11-18 10:35:32.823815 Process 9 current : 1159793992722190336\n",
      "2022-11-18 10:35:33.328299 Process 9 current : 1159981402114396160\n",
      "2022-11-18 10:35:34.750933 Process 9 current : 1160047156952092672\n",
      "2022-11-18 10:35:36.107933 Process 9 current : 1160136193297674240\n"
     ]
    },
    {
     "name": "stderr",
     "output_type": "stream",
     "text": [
      "Rate limit exceeded. Sleeping for 891 seconds.\n"
     ]
    },
    {
     "name": "stdout",
     "output_type": "stream",
     "text": [
      "2022-11-18 10:41:46.524364 Process 2 current : 285835193\n",
      "2022-11-18 10:41:47.029074 Process 2 current : 285897679\n",
      "2022-11-18 10:41:47.605547 Process 2 current : 285918059\n",
      "2022-11-18 10:41:49.923888 Process 2 current : 286320383\n",
      "2022-11-18 10:41:53.316879 Process 2 current : 286496548\n",
      "2022-11-18 10:41:54.577755 Process 2 current : 286840556\n"
     ]
    },
    {
     "name": "stderr",
     "output_type": "stream",
     "text": [
      "Rate limit exceeded. Sleeping for 887 seconds.\n",
      "Rate limit exceeded. Sleeping for 886 seconds.\n"
     ]
    },
    {
     "name": "stdout",
     "output_type": "stream",
     "text": [
      "2022-11-18 10:42:00.649968 Process 11 current : 1439682927118454785\n"
     ]
    },
    {
     "name": "stderr",
     "output_type": "stream",
     "text": [
      "Rate limit exceeded. Sleeping for 893 seconds.\n"
     ]
    },
    {
     "name": "stdout",
     "output_type": "stream",
     "text": [
      "2022-11-18 10:49:28.807115 Process 7 current : 811551264542597120\n",
      "2022-11-18 10:49:32.569681 Process 5 current : 2480083422\n",
      "2022-11-18 10:49:34.362010 Process 5 current : 2480289914\n",
      "2022-11-18 10:49:34.859835 Process 5 current : 2480909844\n",
      "2022-11-18 10:49:35.401594 Process 7 current : 811619500093276162\n",
      "2022-11-18 10:49:37.190201 Process 7 current : 811732113489805313\n",
      "2022-11-18 10:49:38.026615 Process 5 current : 2482218608\n"
     ]
    },
    {
     "name": "stderr",
     "output_type": "stream",
     "text": [
      "Rate limit exceeded. Sleeping for 890 seconds.\n",
      "Rate limit exceeded. Sleeping for 893 seconds.\n"
     ]
    },
    {
     "name": "stdout",
     "output_type": "stream",
     "text": [
      "2022-11-18 10:49:38.498268 Process 5 current : 2482845632\n"
     ]
    },
    {
     "name": "stderr",
     "output_type": "stream",
     "text": [
      "Rate limit exceeded. Sleeping for 894 seconds.\n",
      "Rate limit exceeded. Sleeping for 892 seconds.\n"
     ]
    },
    {
     "name": "stdout",
     "output_type": "stream",
     "text": [
      "2022-11-18 10:50:27.991339 Process 9 current : 1160200911299366912\n"
     ]
    },
    {
     "name": "stderr",
     "output_type": "stream",
     "text": [
      "Rate limit exceeded. Sleeping for 887 seconds.\n"
     ]
    },
    {
     "name": "stdout",
     "output_type": "stream",
     "text": [
      "2022-11-18 10:50:29.328562 Process 9 current : 1160583186822455296\n",
      "2022-11-18 10:50:30.067941 Process 9 current : 1160666199207882753\n",
      "2022-11-18 10:50:30.434658 Process 9 current : 1161766256539607040\n",
      "2022-11-18 10:50:30.765422 Process 9 current : 1161805179932610565\n",
      "2022-11-18 10:50:31.276919 Process 9 current : 1162694995176034305\n",
      "2022-11-18 10:50:31.760786 Process 9 current : 1162779138740015104\n",
      "2022-11-18 10:50:37.682501 Process 9 current : 1163013881511514113\n"
     ]
    },
    {
     "name": "stderr",
     "output_type": "stream",
     "text": [
      "Rate limit exceeded. Sleeping for 891 seconds.\n"
     ]
    },
    {
     "name": "stdout",
     "output_type": "stream",
     "text": [
      "2022-11-18 10:56:47.966785 Process 2 current : 287341332\n",
      "2022-11-18 10:56:48.892906 Process 2 current : 287545295\n",
      "2022-11-18 10:56:51.238512 Process 2 current : 288024992\n",
      "2022-11-18 10:56:51.532191 Process 2 current : 288332624\n",
      "2022-11-18 10:56:52.380566 Process 2 current : 288478765\n",
      "2022-11-18 10:56:52.827500 Process 2 current : 288518476\n",
      "2022-11-18 10:56:53.815664 Process 2 current : 288981065\n"
     ]
    },
    {
     "name": "stderr",
     "output_type": "stream",
     "text": [
      "Rate limit exceeded. Sleeping for 890 seconds.\n",
      "Rate limit exceeded. Sleeping for 887 seconds.\n",
      "Rate limit exceeded. Sleeping for 892 seconds.\n"
     ]
    },
    {
     "name": "stdout",
     "output_type": "stream",
     "text": [
      "2022-11-18 11:04:33.365061 Process 5 current : 2483018282\n",
      "2022-11-18 11:04:33.885317 Process 5 current : 2483070756\n",
      "2022-11-18 11:04:35.578288 Process 5 current : 2484706290\n",
      "2022-11-18 11:04:37.828031 Process 5 current : 2484862494\n"
     ]
    },
    {
     "name": "stderr",
     "output_type": "stream",
     "text": [
      "Rate limit exceeded. Sleeping for 894 seconds.\n"
     ]
    },
    {
     "name": "stdout",
     "output_type": "stream",
     "text": [
      "2022-11-18 11:04:38.350337 Process 5 current : 2488181550\n",
      "2022-11-18 11:04:38.768190 Process 5 current : 2488473127\n"
     ]
    },
    {
     "name": "stderr",
     "output_type": "stream",
     "text": [
      "Rate limit exceeded. Sleeping for 896 seconds.\n",
      "Rate limit exceeded. Sleeping for 889 seconds.\n",
      "Rate limit exceeded. Sleeping for 892 seconds.\n",
      "Rate limit exceeded. Sleeping for 887 seconds.\n"
     ]
    },
    {
     "name": "stdout",
     "output_type": "stream",
     "text": [
      "2022-11-18 11:05:29.511679 Process 9 current : 1163414765554806785\n",
      "2022-11-18 11:05:29.900644 Process 9 current : 1163520126106234880\n",
      "2022-11-18 11:05:30.448730 Process 9 current : 1163891168972873730\n",
      "2022-11-18 11:05:30.823247 Process 9 current : 1163927558372487168\n",
      "2022-11-18 11:05:31.380748 Process 9 current : 1163999212918444038\n",
      "2022-11-18 11:05:31.867054 Process 9 current : 1164261551856947200\n",
      "2022-11-18 11:05:32.595896 Process 9 current : 1164277836745601025\n"
     ]
    },
    {
     "name": "stderr",
     "output_type": "stream",
     "text": [
      "Rate limit exceeded. Sleeping for 890 seconds.\n"
     ]
    },
    {
     "name": "stdout",
     "output_type": "stream",
     "text": [
      "2022-11-18 11:11:49.922704 Process 2 current : 289061626\n",
      "2022-11-18 11:11:52.866643 Process 2 current : 289076554\n",
      "2022-11-18 11:11:55.621535 Process 2 current : 289352133\n"
     ]
    },
    {
     "name": "stderr",
     "output_type": "stream",
     "text": [
      "Rate limit exceeded. Sleeping for 888 seconds.\n",
      "Rate limit exceeded. Sleeping for 887 seconds.\n"
     ]
    },
    {
     "name": "stdout",
     "output_type": "stream",
     "text": [
      "2022-11-18 11:12:03.709385 Process 11 current : 1440358588166258697\n",
      "2022-11-18 11:12:06.515191 Process 11 current : 1440361531858771974\n",
      "2022-11-18 11:12:07.365212 Process 11 current : 1440382967923150857\n",
      "2022-11-18 11:12:07.792435 Process 11 current : 1440448133314478095\n"
     ]
    },
    {
     "name": "stderr",
     "output_type": "stream",
     "text": [
      "Rate limit exceeded. Sleeping for 892 seconds.\n"
     ]
    },
    {
     "name": "stdout",
     "output_type": "stream",
     "text": [
      "2022-11-18 11:19:34.385440 Process 7 current : 811787711308820480\n",
      "2022-11-18 11:19:36.047387 Process 7 current : 812083777757323266\n",
      "2022-11-18 11:19:36.588560 Process 7 current : 812108833849868288\n",
      "2022-11-18 11:19:36.635080 Process 5 current : 2493061472\n",
      "2022-11-18 11:19:37.116831 Process 5 current : 2493383593\n",
      "2022-11-18 11:19:38.060893 Process 3 current : 561412818\n"
     ]
    },
    {
     "name": "stderr",
     "output_type": "stream",
     "text": [
      "Rate limit exceeded. Sleeping for 894 seconds.\n"
     ]
    },
    {
     "name": "stdout",
     "output_type": "stream",
     "text": [
      "2022-11-18 11:19:40.442745 Process 3 current : 561446987\n"
     ]
    },
    {
     "name": "stderr",
     "output_type": "stream",
     "text": [
      "Rate limit exceeded. Sleeping for 889 seconds.\n",
      "Rate limit exceeded. Sleeping for 895 seconds.\n",
      "Rate limit exceeded. Sleeping for 891 seconds.\n",
      "Rate limit exceeded. Sleeping for 887 seconds.\n",
      "Rate limit exceeded. Sleeping for 883 seconds.\n"
     ]
    },
    {
     "name": "stdout",
     "output_type": "stream",
     "text": [
      "2022-11-18 11:26:50.345749 Process 2 current : 289400483\n",
      "2022-11-18 11:26:51.534726 Process 2 current : 289702880\n",
      "2022-11-18 11:26:52.802370 Process 2 current : 290593287\n",
      "2022-11-18 11:26:54.551288 Process 2 current : 290948075\n",
      "2022-11-18 11:26:56.778566 Process 2 current : 290980590\n"
     ]
    },
    {
     "name": "stderr",
     "output_type": "stream",
     "text": [
      "Rate limit exceeded. Sleeping for 887 seconds.\n",
      "Rate limit exceeded. Sleeping for 887 seconds.\n"
     ]
    },
    {
     "name": "stdout",
     "output_type": "stream",
     "text": [
      "2022-11-18 11:27:00.665515 Process 11 current : 1440650624798912518\n",
      "2022-11-18 11:27:01.084765 Process 11 current : 1440667905222320128\n",
      "2022-11-18 11:27:01.606497 Process 11 current : 1440710034296479751\n",
      "2022-11-18 11:27:02.109407 Process 11 current : 1440740223776792581\n",
      "2022-11-18 11:27:02.960838 Process 11 current : 1441588851928035333\n",
      "2022-11-18 11:27:03.434917 Process 11 current : 1441611374405165064\n",
      "2022-11-18 11:27:03.755309 Process 11 current : 1441748511041589248\n",
      "2022-11-18 11:27:06.020428 Process 11 current : 1441814643882614785\n",
      "2022-11-18 11:27:06.430704 Process 11 current : 1441835459106074624\n"
     ]
    },
    {
     "name": "stderr",
     "output_type": "stream",
     "text": [
      "Rate limit exceeded. Sleeping for 894 seconds.\n"
     ]
    },
    {
     "name": "stdout",
     "output_type": "stream",
     "text": [
      "2022-11-18 11:34:35.722140 Process 3 current : 561799040\n",
      "2022-11-18 11:34:35.887088 Process 7 current : 812438747853692928\n",
      "2022-11-18 11:34:36.304233 Process 7 current : 812760079116206081\n",
      "2022-11-18 11:34:36.869500 Process 7 current : 813071994446966784\n",
      "2022-11-18 11:34:37.325759 Process 7 current : 813112543053041664\n",
      "2022-11-18 11:34:37.806108 Process 7 current : 813407713069670401\n",
      "2022-11-18 11:34:38.094336 Process 5 current : 2493680318\n",
      "2022-11-18 11:34:38.323055 Process 7 current : 813550184395218944\n",
      "2022-11-18 11:34:38.427434 Process 5 current : 2493954744\n"
     ]
    },
    {
     "name": "stderr",
     "output_type": "stream",
     "text": [
      "Rate limit exceeded. Sleeping for 893 seconds.\n"
     ]
    },
    {
     "name": "stdout",
     "output_type": "stream",
     "text": [
      "2022-11-18 11:34:38.708077 Process 5 current : 2494494812\n",
      "2022-11-18 11:34:38.776599 Process 3 current : 562060738\n",
      "2022-11-18 11:34:40.103238 Process 5 current : 2495196338\n",
      "2022-11-18 11:34:40.578029 Process 3 current : 562777699\n"
     ]
    },
    {
     "name": "stderr",
     "output_type": "stream",
     "text": [
      "Rate limit exceeded. Sleeping for 895 seconds.\n",
      "Rate limit exceeded. Sleeping for 895 seconds.\n"
     ]
    },
    {
     "name": "stdout",
     "output_type": "stream",
     "text": [
      "2022-11-18 11:34:41.917426 Process 5 current : 2497578709\n"
     ]
    },
    {
     "name": "stderr",
     "output_type": "stream",
     "text": [
      "Rate limit exceeded. Sleeping for 895 seconds.\n",
      "Rate limit exceeded. Sleeping for 888 seconds.\n"
     ]
    },
    {
     "name": "stdout",
     "output_type": "stream",
     "text": [
      "2022-11-18 11:35:37.418347 Process 9 current : 1164288547882438656\n",
      "2022-11-18 11:35:38.042249 Process 9 current : 1164355649083445248\n",
      "2022-11-18 11:35:38.511331 Process 9 current : 1164615704613675009\n",
      "2022-11-18 11:35:38.879687 Process 9 current : 1165019866052665345\n",
      "2022-11-18 11:35:39.295704 Process 9 current : 1166174639988436992\n",
      "2022-11-18 11:35:40.037530 Process 9 current : 1166192800557424640\n",
      "2022-11-18 11:35:40.483260 Process 9 current : 1166854722281791488\n",
      "2022-11-18 11:35:41.196611 Process 9 current : 1167134481658068992\n",
      "2022-11-18 11:35:41.748910 Process 9 current : 1167224562120945664\n"
     ]
    },
    {
     "name": "stderr",
     "output_type": "stream",
     "text": [
      "Rate limit exceeded. Sleeping for 891 seconds.\n",
      "Rate limit exceeded. Sleeping for 887 seconds.\n"
     ]
    },
    {
     "name": "stdout",
     "output_type": "stream",
     "text": [
      "2022-11-18 11:42:00.459695 Process 2 current : 291131093\n",
      "2022-11-18 11:42:00.900651 Process 2 current : 291303690\n"
     ]
    },
    {
     "name": "stderr",
     "output_type": "stream",
     "text": [
      "Rate limit exceeded. Sleeping for 887 seconds.\n"
     ]
    },
    {
     "name": "stdout",
     "output_type": "stream",
     "text": [
      "2022-11-18 11:42:05.921874 Process 11 current : 1442185853099331587\n",
      "2022-11-18 11:42:09.849923 Process 11 current : 1442205206352064513\n"
     ]
    },
    {
     "name": "stderr",
     "output_type": "stream",
     "text": [
      "Rate limit exceeded. Sleeping for 892 seconds.\n"
     ]
    },
    {
     "name": "stdout",
     "output_type": "stream",
     "text": [
      "2022-11-18 11:49:32.301612 Process 7 current : 813591879467970560\n",
      "2022-11-18 11:49:37.454586 Process 3 current : 563112896\n",
      "2022-11-18 11:49:37.911002 Process 3 current : 564052050\n",
      "2022-11-18 11:49:39.629908 Process 5 current : 2498324239\n",
      "2022-11-18 11:49:39.674483 Process 3 current : 564062537\n"
     ]
    },
    {
     "name": "stderr",
     "output_type": "stream",
     "text": [
      "Rate limit exceeded. Sleeping for 893 seconds.\n"
     ]
    },
    {
     "name": "stdout",
     "output_type": "stream",
     "text": [
      "2022-11-18 11:49:40.173972 Process 3 current : 564129517\n",
      "2022-11-18 11:49:40.899847 Process 3 current : 564166032\n",
      "2022-11-18 11:49:41.067281 Process 5 current : 2499724243\n",
      "2022-11-18 11:49:41.489344 Process 3 current : 564804506\n",
      "2022-11-18 11:49:42.047849 Process 5 current : 2499735536\n"
     ]
    },
    {
     "name": "stderr",
     "output_type": "stream",
     "text": [
      "Rate limit exceeded. Sleeping for 894 seconds.\n",
      "Rate limit exceeded. Sleeping for 894 seconds.\n",
      "Rate limit exceeded. Sleeping for 891 seconds.\n",
      "Rate limit exceeded. Sleeping for 888 seconds.\n"
     ]
    },
    {
     "name": "stdout",
     "output_type": "stream",
     "text": [
      "2022-11-18 11:50:38.048296 Process 9 current : 1167511432134569986\n",
      "2022-11-18 11:50:38.497786 Process 9 current : 1167516815196475392\n",
      "2022-11-18 11:50:38.984842 Process 9 current : 1167775229109837825\n"
     ]
    },
    {
     "name": "stderr",
     "output_type": "stream",
     "text": [
      "Rate limit exceeded. Sleeping for 889 seconds.\n"
     ]
    },
    {
     "name": "stdout",
     "output_type": "stream",
     "text": [
      "2022-11-18 11:56:49.283986 Process 2 current : 291336460\n",
      "2022-11-18 11:56:50.542422 Process 1 current : 87988638\n",
      "2022-11-18 11:56:52.336324 Process 1 current : 88180673\n",
      "2022-11-18 11:56:53.240853 Process 1 current : 88241395\n",
      "2022-11-18 11:56:54.321462 Process 1 current : 88303706\n",
      "2022-11-18 11:56:54.872127 Process 1 current : 88320350\n",
      "2022-11-18 11:56:55.516053 Process 2 current : 291652961\n",
      "2022-11-18 11:56:55.789336 Process 1 current : 88427831\n",
      "2022-11-18 11:56:55.964762 Process 2 current : 291784592\n"
     ]
    },
    {
     "name": "stderr",
     "output_type": "stream",
     "text": [
      "Rate limit exceeded. Sleeping for 892 seconds.\n"
     ]
    },
    {
     "name": "stdout",
     "output_type": "stream",
     "text": [
      "2022-11-18 11:56:58.191772 Process 1 current : 88700703\n",
      "2022-11-18 11:56:59.615566 Process 1 current : 88759671\n"
     ]
    },
    {
     "name": "stderr",
     "output_type": "stream",
     "text": [
      "Rate limit exceeded. Sleeping for 889 seconds.\n"
     ]
    },
    {
     "name": "stdout",
     "output_type": "stream",
     "text": [
      "2022-11-18 11:57:04.240691 Process 11 current : 1442471470681051142\n",
      "2022-11-18 11:57:04.679608 Process 11 current : 1442672842630369281\n",
      "2022-11-18 11:57:05.041699 Process 11 current : 1442817783914397705\n",
      "2022-11-18 11:57:05.599031 Process 11 current : 1443091810868400135\n",
      "2022-11-18 11:57:07.603731 Process 11 current : 1443245040722120709\n",
      "2022-11-18 11:57:08.560192 Process 11 current : 1443574731513348104\n",
      "2022-11-18 11:57:08.917574 Process 11 current : 1443707015453454345\n",
      "2022-11-18 11:57:12.954965 Process 11 current : 1443779510067888133\n",
      "2022-11-18 11:57:14.477595 Process 11 current : 1444082491808264196\n"
     ]
    },
    {
     "name": "stderr",
     "output_type": "stream",
     "text": [
      "Rate limit exceeded. Sleeping for 890 seconds.\n"
     ]
    },
    {
     "name": "stdout",
     "output_type": "stream",
     "text": [
      "2022-11-18 12:04:37.760543 Process 7 current : 813642964203282433\n",
      "2022-11-18 12:04:38.979686 Process 7 current : 813677521564798976\n",
      "2022-11-18 12:04:39.530668 Process 7 current : 814056962589593601\n"
     ]
    },
    {
     "name": "stderr",
     "output_type": "stream",
     "text": [
      "Rate limit exceeded. Sleeping for 894 seconds.\n"
     ]
    },
    {
     "name": "stdout",
     "output_type": "stream",
     "text": [
      "2022-11-18 12:04:42.483973 Process 5 current : 2499881774\n",
      "2022-11-18 12:04:42.886218 Process 5 current : 2500876864\n",
      "2022-11-18 12:04:43.362115 Process 5 current : 2502320492\n",
      "2022-11-18 12:04:43.787340 Process 5 current : 2502717543\n"
     ]
    },
    {
     "name": "stderr",
     "output_type": "stream",
     "text": [
      "Rate limit exceeded. Sleeping for 894 seconds.\n",
      "Rate limit exceeded. Sleeping for 894 seconds.\n",
      "Rate limit exceeded. Sleeping for 890 seconds.\n",
      "Rate limit exceeded. Sleeping for 888 seconds.\n",
      "Rate limit exceeded. Sleeping for 887 seconds.\n"
     ]
    },
    {
     "name": "stdout",
     "output_type": "stream",
     "text": [
      "2022-11-18 12:11:51.024982 Process 2 current : 291789016\n",
      "2022-11-18 12:11:51.852378 Process 1 current : 88960710\n",
      "2022-11-18 12:11:54.923970 Process 2 current : 292272990\n",
      "2022-11-18 12:11:57.037136 Process 1 current : 89057829\n",
      "2022-11-18 12:11:59.587983 Process 1 current : 89070134\n",
      "2022-11-18 12:11:59.927913 Process 1 current : 89250631\n",
      "2022-11-18 12:12:00.352695 Process 1 current : 89303029\n"
     ]
    },
    {
     "name": "stderr",
     "output_type": "stream",
     "text": [
      "Rate limit exceeded. Sleeping for 890 seconds.\n",
      "Rate limit exceeded. Sleeping for 890 seconds.\n"
     ]
    },
    {
     "name": "stdout",
     "output_type": "stream",
     "text": [
      "2022-11-18 12:12:05.355885 Process 11 current : 1444219973358944261\n",
      "2022-11-18 12:12:05.881609 Process 11 current : 1444301453905088512\n",
      "2022-11-18 12:12:06.400256 Process 11 current : 1444378380267229185\n"
     ]
    },
    {
     "name": "stderr",
     "output_type": "stream",
     "text": [
      "Rate limit exceeded. Sleeping for 889 seconds.\n"
     ]
    },
    {
     "name": "stdout",
     "output_type": "stream",
     "text": [
      "2022-11-18 12:19:42.116137 Process 5 current : 2504624659\n"
     ]
    },
    {
     "name": "stderr",
     "output_type": "stream",
     "text": [
      "Rate limit exceeded. Sleeping for 892 seconds.\n"
     ]
    },
    {
     "name": "stdout",
     "output_type": "stream",
     "text": [
      "2022-11-18 12:19:44.472800 Process 3 current : 564959225\n",
      "2022-11-18 12:19:44.879714 Process 3 current : 565248871\n"
     ]
    },
    {
     "name": "stderr",
     "output_type": "stream",
     "text": [
      "Rate limit exceeded. Sleeping for 894 seconds.\n"
     ]
    },
    {
     "name": "stdout",
     "output_type": "stream",
     "text": [
      "2022-11-18 12:19:46.222551 Process 5 current : 2508419602\n",
      "2022-11-18 12:19:47.583482 Process 5 current : 2509302748\n"
     ]
    },
    {
     "name": "stderr",
     "output_type": "stream",
     "text": [
      "Rate limit exceeded. Sleeping for 893 seconds.\n"
     ]
    },
    {
     "name": "stdout",
     "output_type": "stream",
     "text": [
      "2022-11-18 12:19:51.898627 Process 3 current : 565933318\n"
     ]
    },
    {
     "name": "stderr",
     "output_type": "stream",
     "text": [
      "Rate limit exceeded. Sleeping for 889 seconds.\n",
      "Rate limit exceeded. Sleeping for 887 seconds.\n"
     ]
    },
    {
     "name": "stdout",
     "output_type": "stream",
     "text": [
      "2022-11-18 12:20:43.727871 Process 9 current : 1167836847306788865\n",
      "2022-11-18 12:20:44.142218 Process 9 current : 1167843387065679872\n",
      "2022-11-18 12:20:44.559171 Process 9 current : 1168540589987700737\n",
      "2022-11-18 12:20:45.033798 Process 9 current : 1168619358685421568\n",
      "2022-11-18 12:20:45.460865 Process 9 current : 1168842697475600390\n",
      "2022-11-18 12:20:45.760614 Process 9 current : 1168962252214587392\n",
      "2022-11-18 12:20:47.037489 Process 9 current : 1169264355290046470\n"
     ]
    },
    {
     "name": "stderr",
     "output_type": "stream",
     "text": [
      "Rate limit exceeded. Sleeping for 890 seconds.\n"
     ]
    },
    {
     "name": "stdout",
     "output_type": "stream",
     "text": [
      "2022-11-18 12:26:54.056913 Process 1 current : 89392448\n",
      "2022-11-18 12:26:54.658577 Process 1 current : 89771517\n",
      "2022-11-18 12:26:55.425902 Process 1 current : 89799352\n",
      "2022-11-18 12:26:55.811940 Process 1 current : 89991475\n",
      "2022-11-18 12:26:57.348580 Process 1 current : 90024475\n"
     ]
    },
    {
     "name": "stderr",
     "output_type": "stream",
     "text": [
      "Rate limit exceeded. Sleeping for 890 seconds.\n",
      "Rate limit exceeded. Sleeping for 889 seconds.\n"
     ]
    },
    {
     "name": "stdout",
     "output_type": "stream",
     "text": [
      "2022-11-18 12:27:11.536017 Process 11 current : 1444442266265862145\n",
      "2022-11-18 12:27:14.427428 Process 11 current : 1444936084656250881\n",
      "2022-11-18 12:27:15.194789 Process 11 current : 1445103533133639681\n",
      "2022-11-18 12:27:19.674095 Process 11 current : 1445108730656288771\n"
     ]
    },
    {
     "name": "stderr",
     "output_type": "stream",
     "text": [
      "Rate limit exceeded. Sleeping for 888 seconds.\n"
     ]
    },
    {
     "name": "stdout",
     "output_type": "stream",
     "text": [
      "2022-11-18 12:34:39.970885 Process 7 current : 814222411042357248\n",
      "2022-11-18 12:34:41.659854 Process 7 current : 814462097874624512\n",
      "2022-11-18 12:34:42.154204 Process 7 current : 814489203623034881\n"
     ]
    },
    {
     "name": "stderr",
     "output_type": "stream",
     "text": [
      "Rate limit exceeded. Sleeping for 894 seconds.\n",
      "Rate limit exceeded. Sleeping for 894 seconds.\n"
     ]
    },
    {
     "name": "stdout",
     "output_type": "stream",
     "text": [
      "2022-11-18 12:34:47.905336 Process 3 current : 565991604\n",
      "2022-11-18 12:34:48.688523 Process 3 current : 566784917\n",
      "2022-11-18 12:34:50.454796 Process 3 current : 567345950\n"
     ]
    },
    {
     "name": "stderr",
     "output_type": "stream",
     "text": [
      "Rate limit exceeded. Sleeping for 892 seconds.\n",
      "Rate limit exceeded. Sleeping for 893 seconds.\n",
      "Rate limit exceeded. Sleeping for 887 seconds.\n"
     ]
    },
    {
     "name": "stdout",
     "output_type": "stream",
     "text": [
      "2022-11-18 12:35:37.994898 Process 9 current : 1169516073181466625\n",
      "2022-11-18 12:35:45.238458 Process 9 current : 1169711473586819072\n",
      "2022-11-18 12:35:46.616340 Process 9 current : 1169770159617302529\n",
      "2022-11-18 12:35:47.433957 Process 9 current : 1170704167410765829\n",
      "2022-11-18 12:35:47.960872 Process 9 current : 1170737101018738689\n",
      "2022-11-18 12:35:48.914314 Process 9 current : 1170895876144979969\n",
      "2022-11-18 12:35:49.685777 Process 9 current : 1171423553381642241\n"
     ]
    },
    {
     "name": "stderr",
     "output_type": "stream",
     "text": [
      "Rate limit exceeded. Sleeping for 889 seconds.\n"
     ]
    },
    {
     "name": "stdout",
     "output_type": "stream",
     "text": [
      "2022-11-18 12:41:55.015536 Process 1 current : 90068090\n",
      "2022-11-18 12:42:00.530038 Process 1 current : 90123499\n",
      "2022-11-18 12:42:01.609550 Process 1 current : 90519221\n"
     ]
    },
    {
     "name": "stderr",
     "output_type": "stream",
     "text": [
      "Rate limit exceeded. Sleeping for 889 seconds.\n",
      "Rate limit exceeded. Sleeping for 887 seconds.\n"
     ]
    },
    {
     "name": "stdout",
     "output_type": "stream",
     "text": [
      "2022-11-18 12:42:08.966158 Process 11 current : 1445120275822039040\n",
      "2022-11-18 12:42:09.483276 Process 11 current : 1445137100282777761\n",
      "2022-11-18 12:42:10.567367 Process 11 current : 1445137349533392899\n",
      "2022-11-18 12:42:12.330765 Process 11 current : 1445222732094791685\n",
      "2022-11-18 12:42:12.732340 Process 11 current : 1445405019247939592\n",
      "2022-11-18 12:42:13.220843 Process 11 current : 1445540258381062149\n",
      "2022-11-18 12:42:17.614007 Process 11 current : 1446110202034413606\n",
      "2022-11-18 12:42:17.925220 Process 11 current : 1446194511152046080\n"
     ]
    },
    {
     "name": "stderr",
     "output_type": "stream",
     "text": [
      "Rate limit exceeded. Sleeping for 890 seconds.\n"
     ]
    },
    {
     "name": "stdout",
     "output_type": "stream",
     "text": [
      "2022-11-18 12:49:41.077042 Process 7 current : 814541725343563776\n",
      "2022-11-18 12:49:41.500262 Process 7 current : 814926494573072384\n",
      "2022-11-18 12:49:41.952268 Process 7 current : 815022033473937408\n",
      "2022-11-18 12:49:42.400603 Process 7 current : 815323599472971776\n",
      "2022-11-18 12:49:43.306053 Process 7 current : 815369540364304384\n"
     ]
    },
    {
     "name": "stderr",
     "output_type": "stream",
     "text": [
      "Rate limit exceeded. Sleeping for 894 seconds.\n",
      "Rate limit exceeded. Sleeping for 890 seconds.\n"
     ]
    },
    {
     "name": "stdout",
     "output_type": "stream",
     "text": [
      "2022-11-18 12:49:48.683974 Process 3 current : 567500770\n",
      "2022-11-18 12:49:49.032451 Process 5 current : 2509308514\n",
      "2022-11-18 12:49:49.127991 Process 3 current : 567591542\n",
      "2022-11-18 12:49:49.560376 Process 5 current : 2510643518\n",
      "2022-11-18 12:49:50.983936 Process 3 current : 567673300\n",
      "2022-11-18 12:49:51.870437 Process 3 current : 567770489\n"
     ]
    },
    {
     "name": "stderr",
     "output_type": "stream",
     "text": [
      "Rate limit exceeded. Sleeping for 893 seconds.\n"
     ]
    },
    {
     "name": "stdout",
     "output_type": "stream",
     "text": [
      "2022-11-18 12:49:54.220152 Process 3 current : 568801309\n"
     ]
    },
    {
     "name": "stderr",
     "output_type": "stream",
     "text": [
      "Rate limit exceeded. Sleeping for 890 seconds.\n",
      "Rate limit exceeded. Sleeping for 887 seconds.\n"
     ]
    },
    {
     "name": "stdout",
     "output_type": "stream",
     "text": [
      "2022-11-18 12:50:40.814876 Process 9 current : 1171605862932074496\n",
      "2022-11-18 12:50:41.309050 Process 9 current : 1171809655275888640\n",
      "2022-11-18 12:50:41.721202 Process 9 current : 1171873205415501830\n",
      "2022-11-18 12:50:42.180458 Process 9 current : 1171947445841997824\n",
      "2022-11-18 12:50:43.110242 Process 9 current : 1172339673311531008\n",
      "2022-11-18 12:50:46.286888 Process 9 current : 1172412583585828865\n",
      "2022-11-18 12:50:46.690917 Process 9 current : 1172612939091779585\n",
      "2022-11-18 12:50:47.462803 Process 9 current : 1173247360299884544\n",
      "2022-11-18 12:50:47.781814 Process 9 current : 1173632865772457984\n",
      "2022-11-18 12:50:48.173884 Process 9 current : 1173709347391754241\n",
      "2022-11-18 12:50:48.637002 Process 9 current : 1174023199975063552\n"
     ]
    },
    {
     "name": "stderr",
     "output_type": "stream",
     "text": [
      "Rate limit exceeded. Sleeping for 892 seconds.\n"
     ]
    },
    {
     "name": "stdout",
     "output_type": "stream",
     "text": [
      "2022-11-18 12:56:57.900223 Process 1 current : 90523455\n",
      "2022-11-18 12:56:58.349667 Process 2 current : 292423536\n",
      "2022-11-18 12:56:58.363183 Process 1 current : 90533668\n",
      "2022-11-18 12:56:58.840056 Process 2 current : 292644523\n",
      "2022-11-18 12:56:58.853725 Process 1 current : 90563931\n",
      "2022-11-18 12:56:59.400927 Process 2 current : 292956255\n",
      "2022-11-18 12:57:00.220954 Process 2 current : 293084735\n",
      "2022-11-18 12:57:01.409406 Process 1 current : 90639372\n",
      "2022-11-18 12:57:02.051231 Process 2 current : 293711508\n"
     ]
    },
    {
     "name": "stderr",
     "output_type": "stream",
     "text": [
      "Rate limit exceeded. Sleeping for 889 seconds.\n",
      "Rate limit exceeded. Sleeping for 890 seconds.\n"
     ]
    },
    {
     "name": "stdout",
     "output_type": "stream",
     "text": [
      "2022-11-18 12:57:10.110749 Process 11 current : 1446226269826424832\n",
      "2022-11-18 12:57:10.564503 Process 11 current : 1446271169229905924\n",
      "2022-11-18 12:57:10.993691 Process 11 current : 1446304854435975168\n",
      "2022-11-18 12:57:11.441325 Process 11 current : 1446394284522016769\n",
      "2022-11-18 13:04:39.046660 Process 7 current : 815544125772754944\n",
      "2022-11-18 13:04:39.455101 Process 7 current : 815569309560926208\n",
      "2022-11-18 13:04:41.265588 Process 7 current : 815598112186077185\n",
      "2022-11-18 13:04:41.781537 Process 7 current : 815676558388199425\n",
      "2022-11-18 13:04:42.359322 Process 7 current : 815708250217840640\n",
      "2022-11-18 13:04:45.199223 Process 3 current : 569485011\n",
      "2022-11-18 13:04:45.837951 Process 5 current : 2510918743\n"
     ]
    },
    {
     "name": "stderr",
     "output_type": "stream",
     "text": [
      "Rate limit exceeded. Sleeping for 892 seconds.\n"
     ]
    },
    {
     "name": "stdout",
     "output_type": "stream",
     "text": [
      "2022-11-18 13:04:48.656384 Process 3 current : 570049823\n"
     ]
    },
    {
     "name": "stderr",
     "output_type": "stream",
     "text": [
      "Rate limit exceeded. Sleeping for 894 seconds.\n"
     ]
    },
    {
     "name": "stdout",
     "output_type": "stream",
     "text": [
      "2022-11-18 13:04:49.462825 Process 5 current : 2511095197\n",
      "2022-11-18 13:04:51.758201 Process 5 current : 2513935290\n"
     ]
    },
    {
     "name": "stderr",
     "output_type": "stream",
     "text": [
      "Rate limit exceeded. Sleeping for 895 seconds.\n"
     ]
    },
    {
     "name": "stdout",
     "output_type": "stream",
     "text": [
      "2022-11-18 13:04:55.479500 Process 3 current : 570269636\n"
     ]
    },
    {
     "name": "stderr",
     "output_type": "stream",
     "text": [
      "Rate limit exceeded. Sleeping for 889 seconds.\n",
      "Rate limit exceeded. Sleeping for 887 seconds.\n"
     ]
    },
    {
     "name": "stdout",
     "output_type": "stream",
     "text": [
      "2022-11-18 13:05:43.521952 Process 9 current : 1174603010498015235\n",
      "2022-11-18 13:05:44.058093 Process 9 current : 1174758220176527360\n",
      "2022-11-18 13:05:44.579873 Process 9 current : 1175174204322279424\n",
      "2022-11-18 13:05:47.664432 Process 9 current : 1175584375657783297\n",
      "2022-11-18 13:05:48.053769 Process 9 current : 1175785415355371520\n",
      "2022-11-18 13:05:48.872701 Process 9 current : 1175854800522612737\n",
      "2022-11-18 13:05:49.383432 Process 9 current : 1175865375793266689\n",
      "2022-11-18 13:05:49.843238 Process 9 current : 1176088542801477633\n",
      "2022-11-18 13:05:50.395198 Process 9 current : 1176273669930328069\n"
     ]
    },
    {
     "name": "stderr",
     "output_type": "stream",
     "text": [
      "Rate limit exceeded. Sleeping for 891 seconds.\n"
     ]
    },
    {
     "name": "stdout",
     "output_type": "stream",
     "text": [
      "2022-11-18 13:12:06.086966 Process 2 current : 293916398\n",
      "2022-11-18 13:12:06.756417 Process 2 current : 294305368\n"
     ]
    },
    {
     "name": "stderr",
     "output_type": "stream",
     "text": [
      "Rate limit exceeded. Sleeping for 888 seconds.\n",
      "Rate limit exceeded. Sleeping for 887 seconds.\n"
     ]
    },
    {
     "name": "stdout",
     "output_type": "stream",
     "text": [
      "2022-11-18 13:19:47.008313 Process 3 current : 570841936\n",
      "2022-11-18 13:19:47.697444 Process 5 current : 2517953511\n",
      "2022-11-18 13:19:47.941116 Process 3 current : 572137621\n",
      "2022-11-18 13:19:48.388947 Process 3 current : 572972808\n",
      "2022-11-18 13:19:48.534251 Process 5 current : 2518777515\n",
      "2022-11-18 13:19:48.844775 Process 3 current : 573173793\n",
      "2022-11-18 13:19:49.356532 Process 5 current : 2520368563\n"
     ]
    },
    {
     "name": "stderr",
     "output_type": "stream",
     "text": [
      "Rate limit exceeded. Sleeping for 893 seconds.\n"
     ]
    },
    {
     "name": "stdout",
     "output_type": "stream",
     "text": [
      "2022-11-18 13:19:51.746733 Process 5 current : 2523162416\n",
      "2022-11-18 13:19:52.490949 Process 5 current : 2523237666\n"
     ]
    },
    {
     "name": "stderr",
     "output_type": "stream",
     "text": [
      "Rate limit exceeded. Sleeping for 888 seconds.\n",
      "Rate limit exceeded. Sleeping for 895 seconds.\n",
      "Rate limit exceeded. Sleeping for 889 seconds.\n",
      "Rate limit exceeded. Sleeping for 887 seconds.\n"
     ]
    },
    {
     "name": "stdout",
     "output_type": "stream",
     "text": [
      "2022-11-18 13:20:44.077101 Process 9 current : 1176671013704220672\n",
      "2022-11-18 13:20:44.476577 Process 9 current : 1176724585221251072\n",
      "2022-11-18 13:20:44.972430 Process 9 current : 1176981182283599873\n",
      "2022-11-18 13:20:47.239825 Process 9 current : 1177020721190584321\n",
      "2022-11-18 13:20:48.959065 Process 9 current : 1177156636495859712\n",
      "2022-11-18 13:20:49.671577 Process 9 current : 1177237392689946624\n",
      "2022-11-18 13:20:50.618380 Process 9 current : 1177244314562248705\n",
      "2022-11-18 13:20:51.016454 Process 9 current : 1177291960874405889\n",
      "2022-11-18 13:20:52.378086 Process 9 current : 1177367344164888580\n"
     ]
    },
    {
     "name": "stderr",
     "output_type": "stream",
     "text": [
      "Rate limit exceeded. Sleeping for 890 seconds.\n"
     ]
    },
    {
     "name": "stdout",
     "output_type": "stream",
     "text": [
      "2022-11-18 13:26:56.749244 Process 2 current : 294448798\n",
      "2022-11-18 13:26:57.572068 Process 2 current : 294702989\n",
      "2022-11-18 13:26:59.393367 Process 2 current : 294826678\n",
      "2022-11-18 13:26:59.838193 Process 2 current : 295413810\n",
      "2022-11-18 13:27:00.454922 Process 1 current : 90753057\n",
      "2022-11-18 13:27:01.026188 Process 1 current : 90806313\n",
      "2022-11-18 13:27:01.848787 Process 1 current : 90880377\n",
      "2022-11-18 13:27:03.679542 Process 2 current : 295492779\n",
      "2022-11-18 13:27:05.483309 Process 1 current : 90936998\n"
     ]
    },
    {
     "name": "stderr",
     "output_type": "stream",
     "text": [
      "Rate limit exceeded. Sleeping for 893 seconds.\n"
     ]
    },
    {
     "name": "stdout",
     "output_type": "stream",
     "text": [
      "2022-11-18 13:27:06.430595 Process 2 current : 295812031\n"
     ]
    },
    {
     "name": "stderr",
     "output_type": "stream",
     "text": [
      "Rate limit exceeded. Sleeping for 890 seconds.\n",
      "Rate limit exceeded. Sleeping for 894 seconds.\n"
     ]
    },
    {
     "name": "stdout",
     "output_type": "stream",
     "text": [
      "2022-11-18 13:34:51.858007 Process 5 current : 2523313824\n",
      "2022-11-18 13:34:54.317562 Process 5 current : 2523804356\n",
      "2022-11-18 13:34:54.675372 Process 5 current : 2524559099\n",
      "2022-11-18 13:34:55.164260 Process 5 current : 2530199930\n"
     ]
    },
    {
     "name": "stderr",
     "output_type": "stream",
     "text": [
      "Rate limit exceeded. Sleeping for 895 seconds.\n",
      "Rate limit exceeded. Sleeping for 891 seconds.\n",
      "Rate limit exceeded. Sleeping for 883 seconds.\n",
      "Rate limit exceeded. Sleeping for 887 seconds.\n"
     ]
    },
    {
     "name": "stdout",
     "output_type": "stream",
     "text": [
      "2022-11-18 13:35:46.265759 Process 9 current : 1177468624065290240\n",
      "2022-11-18 13:41:57.488379 Process 2 current : 295895889\n",
      "2022-11-18 13:41:57.957296 Process 2 current : 295997589\n",
      "2022-11-18 13:41:58.558402 Process 2 current : 296489510\n",
      "2022-11-18 13:41:59.570778 Process 1 current : 90943584\n",
      "2022-11-18 13:42:00.092100 Process 2 current : 296713509\n",
      "2022-11-18 13:42:00.381749 Process 2 current : 297048264\n",
      "2022-11-18 13:42:00.426498 Process 1 current : 91122935\n",
      "2022-11-18 13:42:00.965223 Process 2 current : 297447292\n",
      "2022-11-18 13:42:00.970674 Process 1 current : 91176799\n"
     ]
    },
    {
     "name": "stderr",
     "output_type": "stream",
     "text": [
      "Rate limit exceeded. Sleeping for 890 seconds.\n",
      "Rate limit exceeded. Sleeping for 889 seconds.\n"
     ]
    },
    {
     "name": "stdout",
     "output_type": "stream",
     "text": [
      "2022-11-18 13:49:51.974092 Process 5 current : 2530835297\n",
      "2022-11-18 13:49:52.429462 Process 5 current : 2531338800\n"
     ]
    },
    {
     "name": "stderr",
     "output_type": "stream",
     "text": [
      "Rate limit exceeded. Sleeping for 894 seconds.\n",
      "Rate limit exceeded. Sleeping for 891 seconds.\n"
     ]
    },
    {
     "name": "stdout",
     "output_type": "stream",
     "text": [
      "2022-11-18 13:49:56.024925 Process 5 current : 2531507631\n",
      "2022-11-18 13:49:56.507783 Process 5 current : 2533290997\n"
     ]
    },
    {
     "name": "stderr",
     "output_type": "stream",
     "text": [
      "Rate limit exceeded. Sleeping for 893 seconds.\n"
     ]
    },
    {
     "name": "stdout",
     "output_type": "stream",
     "text": [
      "2022-11-18 13:49:56.864425 Process 5 current : 2535941033\n"
     ]
    },
    {
     "name": "stderr",
     "output_type": "stream",
     "text": [
      "Rate limit exceeded. Sleeping for 893 seconds.\n",
      "Rate limit exceeded. Sleeping for 886 seconds.\n"
     ]
    },
    {
     "name": "stdout",
     "output_type": "stream",
     "text": [
      "2022-11-18 13:57:05.261836 Process 2 current : 297603351\n",
      "2022-11-18 13:57:05.746715 Process 2 current : 297666105\n",
      "2022-11-18 13:57:06.285497 Process 2 current : 297813399\n"
     ]
    },
    {
     "name": "stderr",
     "output_type": "stream",
     "text": [
      "Rate limit exceeded. Sleeping for 893 seconds.\n"
     ]
    },
    {
     "name": "stdout",
     "output_type": "stream",
     "text": [
      "2022-11-18 13:57:10.282156 Process 2 current : 297920751\n"
     ]
    },
    {
     "name": "stderr",
     "output_type": "stream",
     "text": [
      "Rate limit exceeded. Sleeping for 890 seconds.\n"
     ]
    },
    {
     "name": "stdout",
     "output_type": "stream",
     "text": [
      "2022-11-18 14:04:52.701486 Process 5 current : 2535953805\n",
      "2022-11-18 14:04:53.197348 Process 5 current : 2538191721\n",
      "2022-11-18 14:04:53.648376 Process 5 current : 2539481857\n"
     ]
    },
    {
     "name": "stderr",
     "output_type": "stream",
     "text": [
      "Rate limit exceeded. Sleeping for 893 seconds.\n"
     ]
    },
    {
     "name": "stdout",
     "output_type": "stream",
     "text": [
      "2022-11-18 14:04:54.355902 Process 5 current : 2540474364\n",
      "2022-11-18 14:04:54.865660 Process 5 current : 2540607781\n"
     ]
    },
    {
     "name": "stderr",
     "output_type": "stream",
     "text": [
      "Rate limit exceeded. Sleeping for 891 seconds.\n",
      "Rate limit exceeded. Sleeping for 894 seconds.\n",
      "Rate limit exceeded. Sleeping for 895 seconds.\n",
      "Rate limit exceeded. Sleeping for 887 seconds.\n"
     ]
    },
    {
     "name": "stdout",
     "output_type": "stream",
     "text": [
      "2022-11-18 14:12:01.707696 Process 2 current : 298015007\n"
     ]
    },
    {
     "name": "stderr",
     "output_type": "stream",
     "text": [
      "Rate limit exceeded. Sleeping for 891 seconds.\n",
      "Rate limit exceeded. Sleeping for 889 seconds.\n"
     ]
    },
    {
     "name": "stdout",
     "output_type": "stream",
     "text": [
      "2022-11-18 14:19:55.247897 Process 5 current : 2540863342\n"
     ]
    },
    {
     "name": "stderr",
     "output_type": "stream",
     "text": [
      "Rate limit exceeded. Sleeping for 894 seconds.\n"
     ]
    },
    {
     "name": "stdout",
     "output_type": "stream",
     "text": [
      "2022-11-18 14:19:56.173785 Process 5 current : 2544454759\n",
      "2022-11-18 14:19:56.487879 Process 5 current : 2544511626\n",
      "2022-11-18 14:19:57.403326 Process 3 current : 573178378\n",
      "2022-11-18 14:19:57.754899 Process 3 current : 573316665\n"
     ]
    },
    {
     "name": "stderr",
     "output_type": "stream",
     "text": [
      "Rate limit exceeded. Sleeping for 889 seconds.\n",
      "Rate limit exceeded. Sleeping for 893 seconds.\n"
     ]
    },
    {
     "name": "stdout",
     "output_type": "stream",
     "text": [
      "2022-11-18 14:20:00.183857 Process 5 current : 2544702686\n"
     ]
    },
    {
     "name": "stderr",
     "output_type": "stream",
     "text": [
      "Rate limit exceeded. Sleeping for 894 seconds.\n",
      "Rate limit exceeded. Sleeping for 887 seconds.\n"
     ]
    },
    {
     "name": "stdout",
     "output_type": "stream",
     "text": [
      "2022-11-18 14:27:14.433264 Process 2 current : 298612708\n"
     ]
    },
    {
     "name": "stderr",
     "output_type": "stream",
     "text": [
      "Rate limit exceeded. Sleeping for 888 seconds.\n",
      "Rate limit exceeded. Sleeping for 890 seconds.\n"
     ]
    },
    {
     "name": "stdout",
     "output_type": "stream",
     "text": [
      "2022-11-18 14:34:55.522424 Process 5 current : 2545478801\n",
      "2022-11-18 14:34:55.879342 Process 5 current : 2545545694\n",
      "2022-11-18 14:34:56.597653 Process 3 current : 573735828\n"
     ]
    },
    {
     "name": "stderr",
     "output_type": "stream",
     "text": [
      "Rate limit exceeded. Sleeping for 894 seconds.\n"
     ]
    },
    {
     "name": "stdout",
     "output_type": "stream",
     "text": [
      "2022-11-18 14:34:59.061251 Process 7 current : 815814484765741056\n",
      "2022-11-18 14:34:59.840282 Process 7 current : 816085380017647616\n"
     ]
    },
    {
     "name": "stderr",
     "output_type": "stream",
     "text": [
      "Rate limit exceeded. Sleeping for 889 seconds.\n",
      "Rate limit exceeded. Sleeping for 893 seconds.\n",
      "Rate limit exceeded. Sleeping for 891 seconds.\n",
      "Rate limit exceeded. Sleeping for 888 seconds.\n"
     ]
    },
    {
     "name": "stdout",
     "output_type": "stream",
     "text": [
      "2022-11-18 14:42:04.379863 Process 2 current : 299048333\n",
      "2022-11-18 14:42:04.889844 Process 2 current : 299220494\n",
      "2022-11-18 14:42:09.184434 Process 2 current : 299328108\n",
      "2022-11-18 14:42:09.789072 Process 2 current : 299751154\n"
     ]
    },
    {
     "name": "stderr",
     "output_type": "stream",
     "text": [
      "Rate limit exceeded. Sleeping for 889 seconds.\n",
      "Rate limit exceeded. Sleeping for 887 seconds.\n"
     ]
    },
    {
     "name": "stdout",
     "output_type": "stream",
     "text": [
      "2022-11-18 14:49:49.784967 Process 7 current : 816129338273890306\n",
      "2022-11-18 14:49:51.192673 Process 7 current : 816185976137449472\n",
      "2022-11-18 14:49:51.603510 Process 7 current : 816309592686739456\n",
      "2022-11-18 14:49:52.034186 Process 7 current : 816406404684652544\n",
      "2022-11-18 14:49:55.624039 Process 3 current : 574040527\n"
     ]
    },
    {
     "name": "stderr",
     "output_type": "stream",
     "text": [
      "Rate limit exceeded. Sleeping for 895 seconds.\n"
     ]
    },
    {
     "name": "stdout",
     "output_type": "stream",
     "text": [
      "2022-11-18 14:49:56.428245 Process 3 current : 574057877\n",
      "2022-11-18 14:49:56.868370 Process 5 current : 2546122203\n",
      "2022-11-18 14:49:57.958243 Process 3 current : 574134169\n"
     ]
    },
    {
     "name": "stderr",
     "output_type": "stream",
     "text": [
      "Rate limit exceeded. Sleeping for 894 seconds.\n"
     ]
    },
    {
     "name": "stdout",
     "output_type": "stream",
     "text": [
      "2022-11-18 14:49:58.457429 Process 5 current : 2547321525\n",
      "2022-11-18 14:49:58.880179 Process 3 current : 574138379\n",
      "2022-11-18 14:49:59.120323 Process 5 current : 2548161858\n",
      "2022-11-18 14:49:59.345242 Process 3 current : 574166517\n",
      "2022-11-18 14:49:59.959426 Process 5 current : 2551191548\n",
      "2022-11-18 14:50:00.372422 Process 5 current : 2551219008\n",
      "2022-11-18 14:50:00.923415 Process 5 current : 2551330513\n"
     ]
    },
    {
     "name": "stderr",
     "output_type": "stream",
     "text": [
      "Rate limit exceeded. Sleeping for 893 seconds.\n",
      "Rate limit exceeded. Sleeping for 894 seconds.\n",
      "Rate limit exceeded. Sleeping for 887 seconds.\n"
     ]
    },
    {
     "name": "stdout",
     "output_type": "stream",
     "text": [
      "2022-11-18 14:57:06.660136 Process 2 current : 299888048\n",
      "2022-11-18 14:57:09.312805 Process 2 current : 299950052\n",
      "2022-11-18 14:57:09.727481 Process 2 current : 300278088\n",
      "2022-11-18 14:57:12.502479 Process 2 current : 300503209\n",
      "2022-11-18 14:57:13.032696 Process 2 current : 300528341\n",
      "2022-11-18 14:57:14.726746 Process 2 current : 300532585\n"
     ]
    },
    {
     "name": "stderr",
     "output_type": "stream",
     "text": [
      "Rate limit exceeded. Sleeping for 891 seconds.\n",
      "Rate limit exceeded. Sleeping for 888 seconds.\n",
      "Rate limit exceeded. Sleeping for 894 seconds.\n",
      "Rate limit exceeded. Sleeping for 893 seconds.\n"
     ]
    },
    {
     "name": "stdout",
     "output_type": "stream",
     "text": [
      "2022-11-18 15:05:02.105238 Process 3 current : 574184137\n",
      "2022-11-18 15:05:04.130492 Process 5 current : 2553426686\n"
     ]
    },
    {
     "name": "stderr",
     "output_type": "stream",
     "text": [
      "Rate limit exceeded. Sleeping for 894 seconds.\n"
     ]
    },
    {
     "name": "stdout",
     "output_type": "stream",
     "text": [
      "2022-11-18 15:05:05.904554 Process 3 current : 574610719\n"
     ]
    },
    {
     "name": "stderr",
     "output_type": "stream",
     "text": [
      "Rate limit exceeded. Sleeping for 890 seconds.\n",
      "Rate limit exceeded. Sleeping for 887 seconds.\n"
     ]
    },
    {
     "name": "stdout",
     "output_type": "stream",
     "text": [
      "2022-11-18 15:12:07.923941 Process 2 current : 300549099\n",
      "2022-11-18 15:12:08.568223 Process 1 current : 91197186\n",
      "2022-11-18 15:12:11.741906 Process 2 current : 300606264\n",
      "2022-11-18 15:12:12.217400 Process 1 current : 91423630\n",
      "2022-11-18 15:12:12.771619 Process 1 current : 91517160\n",
      "2022-11-18 15:12:12.866790 Process 2 current : 300646874\n",
      "2022-11-18 15:12:15.240945 Process 2 current : 301048344\n"
     ]
    },
    {
     "name": "stderr",
     "output_type": "stream",
     "text": [
      "Rate limit exceeded. Sleeping for 892 seconds.\n"
     ]
    },
    {
     "name": "stdout",
     "output_type": "stream",
     "text": [
      "2022-11-18 15:12:18.446493 Process 1 current : 91617092\n"
     ]
    },
    {
     "name": "stderr",
     "output_type": "stream",
     "text": [
      "Rate limit exceeded. Sleeping for 889 seconds.\n"
     ]
    },
    {
     "name": "stdout",
     "output_type": "stream",
     "text": [
      "2022-11-18 15:19:57.709498 Process 3 current : 575482374\n",
      "2022-11-18 15:19:58.217127 Process 3 current : 575913909\n"
     ]
    },
    {
     "name": "stderr",
     "output_type": "stream",
     "text": [
      "Rate limit exceeded. Sleeping for 894 seconds.\n"
     ]
    },
    {
     "name": "stdout",
     "output_type": "stream",
     "text": [
      "2022-11-18 15:20:01.840886 Process 5 current : 2553684883\n"
     ]
    },
    {
     "name": "stderr",
     "output_type": "stream",
     "text": [
      "Rate limit exceeded. Sleeping for 890 seconds.\n"
     ]
    },
    {
     "name": "stdout",
     "output_type": "stream",
     "text": [
      "2022-11-18 15:20:03.845134 Process 3 current : 577378101\n",
      "2022-11-18 15:20:04.350282 Process 3 current : 577572177\n",
      "2022-11-18 15:20:04.365153 Process 5 current : 2555209141\n",
      "2022-11-18 15:20:04.875146 Process 5 current : 2556734218\n",
      "2022-11-18 15:20:05.213945 Process 3 current : 578769255\n"
     ]
    },
    {
     "name": "stderr",
     "output_type": "stream",
     "text": [
      "Rate limit exceeded. Sleeping for 893 seconds.\n",
      "Rate limit exceeded. Sleeping for 891 seconds.\n",
      "Rate limit exceeded. Sleeping for 888 seconds.\n"
     ]
    },
    {
     "name": "stdout",
     "output_type": "stream",
     "text": [
      "2022-11-18 15:27:10.152328 Process 2 current : 301131496\n",
      "2022-11-18 15:27:10.211667 Process 1 current : 91666126\n",
      "2022-11-18 15:27:10.810386 Process 1 current : 91671182\n",
      "2022-11-18 15:27:11.344899 Process 1 current : 91818436\n",
      "2022-11-18 15:27:12.289999 Process 1 current : 91865200\n",
      "2022-11-18 15:27:14.072014 Process 2 current : 301543649\n",
      "2022-11-18 15:27:14.571445 Process 2 current : 302062283\n",
      "2022-11-18 15:27:16.291983 Process 2 current : 302180889\n",
      "2022-11-18 15:27:16.695236 Process 2 current : 302182335\n",
      "2022-11-18 15:27:17.211690 Process 2 current : 302599903\n"
     ]
    },
    {
     "name": "stderr",
     "output_type": "stream",
     "text": [
      "Rate limit exceeded. Sleeping for 889 seconds.\n"
     ]
    },
    {
     "name": "stdout",
     "output_type": "stream",
     "text": [
      "2022-11-18 15:27:19.990750 Process 1 current : 92261443\n"
     ]
    },
    {
     "name": "stderr",
     "output_type": "stream",
     "text": [
      "Rate limit exceeded. Sleeping for 888 seconds.\n"
     ]
    },
    {
     "name": "stdout",
     "output_type": "stream",
     "text": [
      "2022-11-18 15:34:59.139836 Process 7 current : 816651118747021312\n",
      "2022-11-18 15:34:59.585383 Process 7 current : 816789845490049024\n"
     ]
    },
    {
     "name": "stderr",
     "output_type": "stream",
     "text": [
      "Rate limit exceeded. Sleeping for 894 seconds.\n"
     ]
    },
    {
     "name": "stdout",
     "output_type": "stream",
     "text": [
      "2022-11-18 15:35:03.431353 Process 5 current : 2557136060\n",
      "2022-11-18 15:35:04.143305 Process 5 current : 2559040092\n"
     ]
    },
    {
     "name": "stderr",
     "output_type": "stream",
     "text": [
      "Rate limit exceeded. Sleeping for 890 seconds.\n"
     ]
    },
    {
     "name": "stdout",
     "output_type": "stream",
     "text": [
      "2022-11-18 15:35:04.657595 Process 5 current : 2560000381\n",
      "2022-11-18 15:35:05.061171 Process 5 current : 2560710709\n"
     ]
    },
    {
     "name": "stderr",
     "output_type": "stream",
     "text": [
      "Rate limit exceeded. Sleeping for 894 seconds.\n",
      "Rate limit exceeded. Sleeping for 891 seconds.\n",
      "Rate limit exceeded. Sleeping for 887 seconds.\n"
     ]
    },
    {
     "name": "stdout",
     "output_type": "stream",
     "text": [
      "2022-11-18 15:42:10.884745 Process 2 current : 302611929\n",
      "2022-11-18 15:42:12.856849 Process 1 current : 92337666\n",
      "2022-11-18 15:42:14.312885 Process 1 current : 92359693\n",
      "2022-11-18 15:42:14.508974 Process 2 current : 302818688\n",
      "2022-11-18 15:42:14.817884 Process 1 current : 92520459\n",
      "2022-11-18 15:42:15.215762 Process 1 current : 92582286\n",
      "2022-11-18 15:42:15.697652 Process 1 current : 92592328\n",
      "2022-11-18 15:42:16.176430 Process 1 current : 92695455\n",
      "2022-11-18 15:42:16.301587 Process 2 current : 302989439\n",
      "2022-11-18 15:42:16.635981 Process 2 current : 303433851\n"
     ]
    },
    {
     "name": "stderr",
     "output_type": "stream",
     "text": [
      "Rate limit exceeded. Sleeping for 894 seconds.\n",
      "Rate limit exceeded. Sleeping for 889 seconds.\n"
     ]
    },
    {
     "name": "stdout",
     "output_type": "stream",
     "text": [
      "2022-11-18 15:50:00.061626 Process 3 current : 580073682\n",
      "2022-11-18 15:50:00.584813 Process 3 current : 580489711\n",
      "2022-11-18 15:50:02.047749 Process 5 current : 2561122246\n"
     ]
    },
    {
     "name": "stderr",
     "output_type": "stream",
     "text": [
      "Rate limit exceeded. Sleeping for 894 seconds.\n"
     ]
    },
    {
     "name": "stdout",
     "output_type": "stream",
     "text": [
      "2022-11-18 15:50:03.096980 Process 3 current : 580603425\n",
      "2022-11-18 15:50:03.655382 Process 3 current : 581431322\n",
      "2022-11-18 15:50:04.255259 Process 3 current : 582416604\n",
      "2022-11-18 15:50:04.328848 Process 5 current : 2561136463\n",
      "2022-11-18 15:50:04.790008 Process 5 current : 2561768048\n",
      "2022-11-18 15:50:06.027032 Process 5 current : 2565240039\n",
      "2022-11-18 15:50:06.532754 Process 5 current : 2565612778\n"
     ]
    },
    {
     "name": "stderr",
     "output_type": "stream",
     "text": [
      "Rate limit exceeded. Sleeping for 890 seconds.\n"
     ]
    },
    {
     "name": "stdout",
     "output_type": "stream",
     "text": [
      "2022-11-18 15:50:07.008761 Process 5 current : 2566094628\n"
     ]
    },
    {
     "name": "stderr",
     "output_type": "stream",
     "text": [
      "Rate limit exceeded. Sleeping for 894 seconds.\n"
     ]
    },
    {
     "name": "stdout",
     "output_type": "stream",
     "text": [
      "2022-11-18 15:50:08.135814 Process 3 current : 583109179\n",
      "2022-11-18 15:50:09.036627 Process 3 current : 583580282\n"
     ]
    },
    {
     "name": "stderr",
     "output_type": "stream",
     "text": [
      "Rate limit exceeded. Sleeping for 891 seconds.\n",
      "Rate limit exceeded. Sleeping for 888 seconds.\n"
     ]
    },
    {
     "name": "stdout",
     "output_type": "stream",
     "text": [
      "2022-11-18 15:57:12.020193 Process 1 current : 92706924\n",
      "2022-11-18 15:57:12.337302 Process 1 current : 93778244\n",
      "2022-11-18 15:57:12.825369 Process 1 current : 93783830\n",
      "2022-11-18 15:57:15.582401 Process 1 current : 93964107\n",
      "2022-11-18 15:57:15.954412 Process 1 current : 94191295\n",
      "2022-11-18 15:57:16.501406 Process 1 current : 95058821\n",
      "2022-11-18 15:57:17.185570 Process 2 current : 303440327\n",
      "2022-11-18 15:57:17.192604 Process 1 current : 95121059\n",
      "2022-11-18 15:57:18.075275 Process 2 current : 304567381\n"
     ]
    },
    {
     "name": "stderr",
     "output_type": "stream",
     "text": [
      "Rate limit exceeded. Sleeping for 890 seconds.\n",
      "Rate limit exceeded. Sleeping for 887 seconds.\n"
     ]
    },
    {
     "name": "stdout",
     "output_type": "stream",
     "text": [
      "2022-11-18 16:04:58.082437 Process 7 current : 816820217892323328\n",
      "2022-11-18 16:04:58.542791 Process 7 current : 816883297426939904\n",
      "2022-11-18 16:05:00.933438 Process 3 current : 584300349\n",
      "2022-11-18 16:05:01.794566 Process 3 current : 587207166\n",
      "2022-11-18 16:05:02.000686 Process 5 current : 2569153233\n",
      "2022-11-18 16:05:02.177770 Process 3 current : 587521449\n",
      "2022-11-18 16:05:02.701852 Process 3 current : 587639516\n",
      "2022-11-18 16:05:03.250247 Process 3 current : 587727266\n"
     ]
    },
    {
     "name": "stderr",
     "output_type": "stream",
     "text": [
      "Rate limit exceeded. Sleeping for 895 seconds.\n"
     ]
    },
    {
     "name": "stdout",
     "output_type": "stream",
     "text": [
      "2022-11-18 16:05:04.020892 Process 7 current : 816999188332478464\n",
      "2022-11-18 16:05:04.114588 Process 3 current : 587782008\n"
     ]
    },
    {
     "name": "stderr",
     "output_type": "stream",
     "text": [
      "Rate limit exceeded. Sleeping for 893 seconds.\n"
     ]
    },
    {
     "name": "stdout",
     "output_type": "stream",
     "text": [
      "2022-11-18 16:05:04.274050 Process 5 current : 2569892863\n",
      "2022-11-18 16:05:04.556716 Process 3 current : 588376621\n",
      "2022-11-18 16:05:04.795577 Process 5 current : 2570774007\n",
      "2022-11-18 16:05:05.010652 Process 3 current : 589390524\n",
      "2022-11-18 16:05:05.487064 Process 3 current : 589889711\n"
     ]
    },
    {
     "name": "stderr",
     "output_type": "stream",
     "text": [
      "Rate limit exceeded. Sleeping for 895 seconds.\n",
      "Rate limit exceeded. Sleeping for 895 seconds.\n",
      "Rate limit exceeded. Sleeping for 888 seconds.\n"
     ]
    },
    {
     "name": "stdout",
     "output_type": "stream",
     "text": [
      "2022-11-18 16:12:10.846472 Process 2 current : 304770988\n",
      "2022-11-18 16:12:14.776745 Process 2 current : 304771434\n",
      "2022-11-18 16:12:15.198473 Process 2 current : 304822059\n",
      "2022-11-18 16:12:15.268431 Process 1 current : 95569657\n",
      "2022-11-18 16:12:16.020572 Process 2 current : 304828905\n",
      "2022-11-18 16:12:16.471812 Process 2 current : 305010445\n",
      "2022-11-18 16:12:16.961071 Process 2 current : 305243657\n",
      "2022-11-18 16:12:17.069654 Process 1 current : 95801092\n"
     ]
    },
    {
     "name": "stderr",
     "output_type": "stream",
     "text": [
      "Rate limit exceeded. Sleeping for 893 seconds.\n"
     ]
    },
    {
     "name": "stdout",
     "output_type": "stream",
     "text": [
      "2022-11-18 16:12:20.405903 Process 1 current : 95923411\n",
      "2022-11-18 16:12:21.258114 Process 1 current : 96074097\n"
     ]
    },
    {
     "name": "stderr",
     "output_type": "stream",
     "text": [
      "Rate limit exceeded. Sleeping for 889 seconds.\n"
     ]
    },
    {
     "name": "stdout",
     "output_type": "stream",
     "text": [
      "2022-11-18 16:19:57.909928 Process 7 current : 817046580356411392\n",
      "2022-11-18 16:19:58.958081 Process 7 current : 817083357133537280\n",
      "2022-11-18 16:19:59.369302 Process 7 current : 817337385826615297\n",
      "2022-11-18 16:19:59.830435 Process 7 current : 817488010094772226\n",
      "2022-11-18 16:20:00.233614 Process 7 current : 817488870686101504\n",
      "2022-11-18 16:20:01.766961 Process 7 current : 817489931450732544\n",
      "2022-11-18 16:20:03.572716 Process 7 current : 817519139069820928\n"
     ]
    },
    {
     "name": "stderr",
     "output_type": "stream",
     "text": [
      "Rate limit exceeded. Sleeping for 894 seconds.\n",
      "Rate limit exceeded. Sleeping for 894 seconds.\n"
     ]
    },
    {
     "name": "stdout",
     "output_type": "stream",
     "text": [
      "2022-11-18 16:20:07.743893 Process 3 current : 591701633\n",
      "2022-11-18 16:20:08.766416 Process 3 current : 592010863\n"
     ]
    },
    {
     "name": "stderr",
     "output_type": "stream",
     "text": [
      "Rate limit exceeded. Sleeping for 894 seconds.\n"
     ]
    },
    {
     "name": "stdout",
     "output_type": "stream",
     "text": [
      "2022-11-18 16:20:10.603682 Process 3 current : 592784578\n",
      "2022-11-18 16:20:11.478979 Process 3 current : 593654741\n",
      "2022-11-18 16:20:12.383593 Process 3 current : 593813785\n"
     ]
    },
    {
     "name": "stderr",
     "output_type": "stream",
     "text": [
      "Rate limit exceeded. Sleeping for 889 seconds.\n",
      "Rate limit exceeded. Sleeping for 888 seconds.\n"
     ]
    },
    {
     "name": "stdout",
     "output_type": "stream",
     "text": [
      "2022-11-18 16:27:12.368997 Process 2 current : 305259436\n",
      "2022-11-18 16:27:12.735630 Process 2 current : 305661348\n",
      "2022-11-18 16:27:14.506450 Process 2 current : 305738208\n",
      "2022-11-18 16:27:17.443945 Process 1 current : 96134617\n",
      "2022-11-18 16:27:18.388667 Process 1 current : 96195153\n",
      "2022-11-18 16:27:18.903500 Process 1 current : 96205284\n"
     ]
    },
    {
     "name": "stderr",
     "output_type": "stream",
     "text": [
      "Rate limit exceeded. Sleeping for 891 seconds.\n"
     ]
    },
    {
     "name": "stdout",
     "output_type": "stream",
     "text": [
      "2022-11-18 16:27:24.204188 Process 2 current : 306882366\n"
     ]
    },
    {
     "name": "stderr",
     "output_type": "stream",
     "text": [
      "Rate limit exceeded. Sleeping for 888 seconds.\n"
     ]
    },
    {
     "name": "stdout",
     "output_type": "stream",
     "text": [
      "2022-11-18 16:35:01.704124 Process 7 current : 817618096772874241\n",
      "2022-11-18 16:35:03.252670 Process 7 current : 817704842852499456\n",
      "2022-11-18 16:35:04.087680 Process 7 current : 817761976151580672\n",
      "2022-11-18 16:35:04.407976 Process 7 current : 817772686541811713\n",
      "2022-11-18 16:35:06.998340 Process 7 current : 817786610448211968\n",
      "2022-11-18 16:35:07.485733 Process 7 current : 817790196762734593\n"
     ]
    },
    {
     "name": "stderr",
     "output_type": "stream",
     "text": [
      "Rate limit exceeded. Sleeping for 894 seconds.\n",
      "Rate limit exceeded. Sleeping for 892 seconds.\n",
      "Rate limit exceeded. Sleeping for 894 seconds.\n"
     ]
    },
    {
     "name": "stdout",
     "output_type": "stream",
     "text": [
      "2022-11-18 16:35:11.857921 Process 3 current : 594890484\n"
     ]
    },
    {
     "name": "stderr",
     "output_type": "stream",
     "text": [
      "Rate limit exceeded. Sleeping for 892 seconds.\n"
     ]
    },
    {
     "name": "stdout",
     "output_type": "stream",
     "text": [
      "2022-11-18 16:35:47.152588 Process 4 current : 1323390174\n"
     ]
    },
    {
     "name": "stderr",
     "output_type": "stream",
     "text": [
      "Rate limit exceeded. Sleeping for 888 seconds.\n"
     ]
    },
    {
     "name": "stdout",
     "output_type": "stream",
     "text": [
      "2022-11-18 16:42:14.312958 Process 2 current : 307293680\n",
      "2022-11-18 16:42:14.862863 Process 2 current : 307410294\n"
     ]
    },
    {
     "name": "stderr",
     "output_type": "stream",
     "text": [
      "Rate limit exceeded. Sleeping for 891 seconds.\n",
      "Rate limit exceeded. Sleeping for 892 seconds.\n"
     ]
    },
    {
     "name": "stdout",
     "output_type": "stream",
     "text": [
      "2022-11-18 16:50:02.240778 Process 7 current : 817867291559952384\n",
      "2022-11-18 16:50:03.042037 Process 7 current : 817952645113610241\n",
      "2022-11-18 16:50:03.389598 Process 7 current : 818215907231027200\n",
      "2022-11-18 16:50:03.809877 Process 7 current : 818223548791541760\n",
      "2022-11-18 16:50:04.803535 Process 3 current : 594995252\n",
      "2022-11-18 16:50:05.262864 Process 3 current : 595022594\n",
      "2022-11-18 16:50:07.279165 Process 7 current : 818233671815725056\n",
      "2022-11-18 16:50:07.696043 Process 7 current : 818246053468262401\n"
     ]
    },
    {
     "name": "stderr",
     "output_type": "stream",
     "text": [
      "Rate limit exceeded. Sleeping for 895 seconds.\n"
     ]
    },
    {
     "name": "stdout",
     "output_type": "stream",
     "text": [
      "2022-11-18 16:50:09.885176 Process 3 current : 595684176\n"
     ]
    },
    {
     "name": "stderr",
     "output_type": "stream",
     "text": [
      "Rate limit exceeded. Sleeping for 890 seconds.\n",
      "Rate limit exceeded. Sleeping for 893 seconds.\n",
      "Rate limit exceeded. Sleeping for 893 seconds.\n",
      "Rate limit exceeded. Sleeping for 887 seconds.\n",
      "Rate limit exceeded. Sleeping for 892 seconds.\n",
      "Rate limit exceeded. Sleeping for 892 seconds.\n"
     ]
    },
    {
     "name": "stdout",
     "output_type": "stream",
     "text": [
      "2022-11-18 17:05:05.912412 Process 7 current : 818319582293266432\n",
      "2022-11-18 17:05:05.923372 Process 5 current : 2571697033\n",
      "2022-11-18 17:05:06.265229 Process 3 current : 595997046\n",
      "2022-11-18 17:05:06.294581 Process 5 current : 2573480784\n",
      "2022-11-18 17:05:06.647010 Process 3 current : 596297037\n"
     ]
    },
    {
     "name": "stderr",
     "output_type": "stream",
     "text": [
      "Rate limit exceeded. Sleeping for 894 seconds.\n"
     ]
    },
    {
     "name": "stdout",
     "output_type": "stream",
     "text": [
      "2022-11-18 17:05:10.488320 Process 3 current : 596302565\n",
      "2022-11-18 17:05:12.169134 Process 3 current : 596951891\n",
      "2022-11-18 17:05:12.583332 Process 3 current : 597011164\n",
      "2022-11-18 17:05:13.004134 Process 3 current : 597842347\n"
     ]
    },
    {
     "name": "stderr",
     "output_type": "stream",
     "text": [
      "Rate limit exceeded. Sleeping for 893 seconds.\n",
      "Rate limit exceeded. Sleeping for 889 seconds.\n",
      "Rate limit exceeded. Sleeping for 893 seconds.\n"
     ]
    },
    {
     "name": "stdout",
     "output_type": "stream",
     "text": [
      "2022-11-18 17:05:53.920732 Process 4 current : 1323399294\n",
      "2022-11-18 17:05:54.282128 Process 4 current : 1323745080\n",
      "2022-11-18 17:05:57.736759 Process 4 current : 1327820048\n"
     ]
    },
    {
     "name": "stderr",
     "output_type": "stream",
     "text": [
      "Rate limit exceeded. Sleeping for 888 seconds.\n",
      "Rate limit exceeded. Sleeping for 892 seconds.\n",
      "Rate limit exceeded. Sleeping for 888 seconds.\n"
     ]
    },
    {
     "name": "stdout",
     "output_type": "stream",
     "text": [
      "2022-11-18 17:20:03.595246 Process 7 current : 818873301049245696\n",
      "2022-11-18 17:20:04.702803 Process 7 current : 818886879961608192\n",
      "2022-11-18 17:20:05.523867 Process 7 current : 818893114979061761\n",
      "2022-11-18 17:20:06.878834 Process 3 current : 598820641\n",
      "2022-11-18 17:20:07.405631 Process 3 current : 598826233\n",
      "2022-11-18 17:20:07.959768 Process 3 current : 599420651\n",
      "2022-11-18 17:20:10.604025 Process 3 current : 599518830\n"
     ]
    },
    {
     "name": "stderr",
     "output_type": "stream",
     "text": [
      "Rate limit exceeded. Sleeping for 894 seconds.\n"
     ]
    },
    {
     "name": "stdout",
     "output_type": "stream",
     "text": [
      "2022-11-18 17:20:12.449054 Process 3 current : 599630355\n",
      "2022-11-18 17:20:12.885878 Process 3 current : 599666575\n"
     ]
    },
    {
     "name": "stderr",
     "output_type": "stream",
     "text": [
      "Rate limit exceeded. Sleeping for 894 seconds.\n",
      "Rate limit exceeded. Sleeping for 895 seconds.\n",
      "Rate limit exceeded. Sleeping for 890 seconds.\n"
     ]
    },
    {
     "name": "stdout",
     "output_type": "stream",
     "text": [
      "2022-11-18 17:20:46.627754 Process 4 current : 1330009939\n",
      "2022-11-18 17:20:47.179074 Process 4 current : 1330155708\n",
      "2022-11-18 17:20:47.727532 Process 4 current : 1330414201\n",
      "2022-11-18 17:20:48.279234 Process 4 current : 1330759765\n",
      "2022-11-18 17:20:49.049573 Process 4 current : 1332520058\n",
      "2022-11-18 17:20:53.190418 Process 4 current : 1334000070\n",
      "2022-11-18 17:20:53.573757 Process 4 current : 1334993402\n",
      "2022-11-18 17:20:54.101846 Process 4 current : 1335520536\n",
      "2022-11-18 17:20:54.555280 Process 4 current : 1337214343\n",
      "2022-11-18 17:20:54.963629 Process 4 current : 1338406920\n",
      "2022-11-18 17:20:55.937592 Process 4 current : 1339515560\n"
     ]
    },
    {
     "name": "stderr",
     "output_type": "stream",
     "text": [
      "Rate limit exceeded. Sleeping for 891 seconds.\n"
     ]
    },
    {
     "name": "stdout",
     "output_type": "stream",
     "text": [
      "2022-11-18 17:27:20.478744 Process 2 current : 307549658\n"
     ]
    },
    {
     "name": "stderr",
     "output_type": "stream",
     "text": [
      "Rate limit exceeded. Sleeping for 892 seconds.\n",
      "Rate limit exceeded. Sleeping for 888 seconds.\n"
     ]
    }
   ],
   "source": [
    "# get follower list of every target users\n",
    "target_users.remove(9624742) # followers too many, 6.3M\n",
    "\n",
    "target_followers = dataset.Get_Followers_Multi(\n",
    "    target_users = target_users,\n",
    ")\n"
   ]
  },
  {
   "cell_type": "markdown",
   "metadata": {},
   "source": [
    "## <font color=\"pink\"> Graph Construction </font> ##\n",
    "\n",
    "\n",
    "1. 把所有 target user 的 id 一起 encoding 成 0, 1, 2, 3, ... \n",
    "   \n",
    "2. 收集每個 target user 的追蹤關係後再下去比對，有出現在清單上面的 user id，就代表他們有 edge\n",
    "3. 全部用 follow 的關係當 edge 建圖，會有一張 Base Graph\n",
    "4. 每篇 tweet 以 base graph 為基礎來建 data graph，每一個 data graph 的區別是權重的不同\n",
    "5. 如果某兩個 user 有共同轉推同一篇 tweet ，那這兩個 user 在這張 data graph 的權重 + 1\n"
   ]
  },
  {
   "cell_type": "code",
   "execution_count": null,
   "metadata": {},
   "outputs": [],
   "source": [
    "retweeters_set = set() # 把 retweeters 用成集合，方便做 union\n",
    "requests = int(0) # total capture requests\n",
    "for tweet_id in json_file:\n",
    "    retweeters = set(json_file[tweet_id])\n",
    "    requests += len(retweeters)\n",
    "    retweeters_set = retweeters_set.union(retweeters) # set union\n",
    "\n",
    "plt.title('Biden dataset  ' + filename)\n",
    "plt.grid(True,color='r',alpha=0.6)\n",
    "v_label = 'Retweeter (' + str(len(retweeters_set)) + ')'\n",
    "r_label = 'Requests (' + str(requests) + ')'\n",
    "plt.bar([v_label, r_label], [len(retweeters_set), requests], color=['orange', 'blue'], width=0.4)\n",
    "plt.figure(figsize = (1,2))\n",
    "plt.show()"
   ]
  },
  {
   "cell_type": "code",
   "execution_count": null,
   "metadata": {},
   "outputs": [],
   "source": [
    "# 檢查有沒有重複\n",
    "print(len(retweeters_set.difference()))\n",
    "retweeters_set = sorted(retweeters_set)"
   ]
  },
  {
   "cell_type": "markdown",
   "metadata": {},
   "source": [
    "#### 2. Encoding\n",
    "- 將所有的 retweeter <font color='#FF1212'> (vertex)</font> 的 user id encoding 成 0,1,2,3...，方便建 adjacency matrix\n",
    "- json file 的 multiple objects 最前面與最後面要加中括弧[]，objects 之間要加逗號"
   ]
  },
  {
   "cell_type": "code",
   "execution_count": null,
   "metadata": {},
   "outputs": [],
   "source": [
    "\n",
    "wanna_save = True\n",
    "# json file 再多一個 object -> user id : following list\n",
    "user_follower = dict.fromkeys(retweeters_set)\n",
    "\n",
    "for id in user_follower.keys():\n",
    "    followers = []\n",
    "    for follwer in tweepy.Paginator(client.get_users_followers, id).flatten():\n",
    "        followers.append(follwer.id)\n",
    "    user_follower[id] = followers\n"
   ]
  },
  {
   "cell_type": "code",
   "execution_count": null,
   "metadata": {},
   "outputs": [],
   "source": [
    "if wanna_save:\n",
    "    with open('2022-10-06_followers.json', 'w') as f: # 這裡記得改掉 不然又寫錯\n",
    "        foller_json = json.dumps(user_follower)\n",
    "        f.write(foller_json)"
   ]
  },
  {
   "cell_type": "markdown",
   "metadata": {},
   "source": [
    "> 接下來要將 user's 的 followers，跟 retweeters_set 做比較，不在 retweeter_set 裡面的 id 直接踢掉\n",
    "> \n",
    "> 剩下來的存起來，用來建 edge list"
   ]
  },
  {
   "cell_type": "code",
   "execution_count": null,
   "metadata": {},
   "outputs": [],
   "source": [
    "encoding_table = dict()\n",
    "for i,j in zip(retweeters_set, range(len(retweeters_set))):\n",
    "    encoding_table[i] = j"
   ]
  }
 ],
 "metadata": {
  "kernelspec": {
   "display_name": "Python 3.7.13 ('DGL')",
   "language": "python",
   "name": "python3"
  },
  "language_info": {
   "codemirror_mode": {
    "name": "ipython",
    "version": 3
   },
   "file_extension": ".py",
   "mimetype": "text/x-python",
   "name": "python",
   "nbconvert_exporter": "python",
   "pygments_lexer": "ipython3",
   "version": "3.7.13"
  },
  "orig_nbformat": 4,
  "vscode": {
   "interpreter": {
    "hash": "66c9e842df77833218ebfcd98f0be0e387cfd88e6e6d188560a22d2024f33ac2"
   }
  }
 },
 "nbformat": 4,
 "nbformat_minor": 2
}
