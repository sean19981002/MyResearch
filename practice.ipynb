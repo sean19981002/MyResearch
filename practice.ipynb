{
 "cells": [
  {
   "cell_type": "code",
   "execution_count": 1,
   "metadata": {},
   "outputs": [],
   "source": [
    "import pandas as pd\n",
    "import tweepy\n",
    "import requests\n",
    "import datetime\n",
    "import json\n",
    "import matplotlib.pyplot as plt\n",
    "from IPython.display import display\n",
    "import time\n",
    "import random\n",
    "from threading import Thread\n",
    "from tqdm import tqdm, trange\n",
    "import multiprocessing as mp\n",
    "from  datetime import datetime\n",
    "from Classes import *\n",
    "import re\n",
    "import os\n",
    "from functions import *"
   ]
  },
  {
   "cell_type": "code",
   "execution_count": 2,
   "metadata": {},
   "outputs": [
    {
     "name": "stdout",
     "output_type": "stream",
     "text": [
      "0.json : 924\n",
      "1.json : 924\n",
      "2.json : 924\n",
      "3.json : 924\n",
      "4.json : 924\n",
      "5.json : 924\n",
      "6.json : 924\n",
      "7.json : 924\n",
      "8.json : 924\n",
      "9.json : 924\n",
      "10.json : 924\n",
      "11.json : 924\n",
      "12.json : 924\n",
      "13.json : 911\n"
     ]
    },
    {
     "data": {
      "text/plain": [
       "12923"
      ]
     },
     "execution_count": 2,
     "metadata": {},
     "output_type": "execute_result"
    }
   ],
   "source": [
    "e = set()\n",
    "for i in range(14):\n",
    "    with open('Biden/2022-11-07/user_profile/' + '%d.json' %i, 'r') as f:\n",
    "        json_pbj = json.load(f)\n",
    "        keys = set(json_pbj.keys())\n",
    "        print(\"%d.json :\"%i, len(keys))\n",
    "        e = e.union(keys)\n",
    "len(e)"
   ]
  },
  {
   "cell_type": "code",
   "execution_count": 26,
   "metadata": {},
   "outputs": [],
   "source": [
    "file_path = 'Biden/2022-11-07/user_profile/'\n",
    "to_excel = dict()\n",
    "for i in range(14):\n",
    "    with open(file_path+'%d.json'%i, 'r') as f:\n",
    "        json_obj = json.load(f)\n",
    "        for key in json_obj.keys():\n",
    "            if json_obj[key] == None:\n",
    "                continue\n",
    "            else:\n",
    "                to_excel[key] = json_obj[key]\n",
    "\n",
    "to_excel = pd.DataFrame.from_dict(to_excel, orient='index')\n",
    "to_excel['followers_count'].astype('str')\n",
    "to_excel['following_count'].astype('str')\n",
    "to_excel['tweet_count'].astype('str')\n",
    "to_excel.to_excel(file_path + 'Profile.xlsx', sheet_name='profile')"
   ]
  },
  {
   "cell_type": "code",
   "execution_count": null,
   "metadata": {},
   "outputs": [],
   "source": [
    "User_Profile(\n",
    "    user=[704863841092505600],\n",
    "    token = 'AAAAAAAAAAAAAAAAAAAAAPwxjQEAAAAAUG%2FmQd1X42iX%2FYsqWpOPk97RyAo%3DmWe7RLkTyX7mxP0K6MhOX6g96fJrdLP2pgffm6cHLEooRKTzao',\n",
    "    index=15,\n",
    "    exist=set([]),\n",
    "    file_path=''\n",
    ")"
   ]
  },
  {
   "cell_type": "code",
   "execution_count": null,
   "metadata": {},
   "outputs": [],
   "source": [
    "file_path = 'Biden/2022-11-07/user_tweets/'\n",
    "key = '9624742'\n",
    "count = 0\n",
    "for i in range(14):\n",
    "    if path.exists(file_path + \"%d.txt\"%i):\n",
    "        with open(file_path + \"%d.txt\"%i, 'r') as f:\n",
    "            lines = f.readlines()\n",
    "            for line in lines:\n",
    "                s = line.split(' ')\n",
    "                if key == s[0] and s[2] != 'None':\n",
    "                    count += 1\n",
    "\n",
    "count"
   ]
  },
  {
   "cell_type": "code",
   "execution_count": null,
   "metadata": {},
   "outputs": [],
   "source": [
    "path = 'Biden/2022-11-07/retweeters/'\n",
    "files = os.listdir(path)\n",
    "files = sorted(files)\n",
    "\n",
    "key = 9624742\n",
    "count = 0\n",
    "for file in files:\n",
    "    json_data = dict()\n",
    "    with open(path + file, 'r') as f:\n",
    "        json_data = json.load(f)\n",
    "        for i in json_data.keys():\n",
    "            if key in json_data[i]:\n",
    "                count += 1\n",
    "\n",
    "count"
   ]
  },
  {
   "cell_type": "code",
   "execution_count": 28,
   "metadata": {},
   "outputs": [
    {
     "name": "stdout",
     "output_type": "stream",
     "text": [
      "2022-11-21 17:00:28.785877\n",
      "0_followers.json : 85\n",
      "1_followers.json : 591\n",
      "2_followers.json : 893\n",
      "3_followers.json : 922\n",
      "4_followers.json : 785\n",
      "5_followers.json : 761\n",
      "6_followers.json : 929\n",
      "7_followers.json : 585\n",
      "8_followers.json : 924\n",
      "9_followers.json : 850\n",
      "10_followers.json : 933\n",
      "11_followers.json : 617\n",
      "12_followers.json : 935\n",
      "13_followers.json : 911\n",
      "Already crawled : 10721\n"
     ]
    }
   ],
   "source": [
    "print(datetime.datetime.now())\n",
    "exist = set()\n",
    "file_path = 'Biden/2022-11-07/followers/'\n",
    "for i in range(14):\n",
    "            # print(i)\n",
    "    if path.exists(file_path + \"%d_followers.json\" % i):\n",
    "        tmp = set()\n",
    "        with open(file_path + \"%d_followers.json\" % i, \"r\") as f:\n",
    "            file = json.load(f)\n",
    "            for key in list(file.keys()):\n",
    "                tmp.add(key)\n",
    "                exist.add(key)\n",
    "            print(\"%d_followers.json :\" % i, len(tmp))\n",
    "        \n",
    "print(\"Already crawled :\", len(exist))"
   ]
  },
  {
   "cell_type": "code",
   "execution_count": null,
   "metadata": {},
   "outputs": [],
   "source": [
    "print(datetime.datetime.now())\n",
    "exist = set()\n",
    "file_path = 'Biden/2022-11-07/followers/'\n",
    "for i in range(14):\n",
    "    if path.exists(file_path + \"%d_followers.json\" % i):\n",
    "        tmp = set()\n",
    "        with open(file_path + \"%d_followers.json\" % i, \"r\") as f:\n",
    "            file = json.load(f)\n",
    "            for key in list(file.keys()):\n",
    "                tmp.add(key)\n",
    "                exist.add(key)\n",
    "            print(\"%d_followers.json :\" % i, len(tmp))\n",
    "        \n",
    "print(\"Already crawled :\", len(exist))"
   ]
  },
  {
   "cell_type": "code",
   "execution_count": null,
   "metadata": {},
   "outputs": [],
   "source": [
    "file_path  = 'Biden/2022-11-07/user_tweets/'\n",
    "exist = set()\n",
    "if path.exists(file_path):\n",
    "            for i in range(14):\n",
    "                if path.exists(file_path + '%d.json'%i): # check files exist or not\n",
    "                    with open(file_path + '%d.json'%i, 'r') as f:\n",
    "                        json_file = json.load(f)\n",
    "                        for key in json_file.keys(): # key is target user's id\n",
    "                            exist.add(int(key))\n",
    "\n",
    "            for i in range(14):\n",
    "                if path.exists(file_path + '%d.txt'%i):\n",
    "                    with open(file_path + '%d.txt'%i, 'r') as f:\n",
    "                        lines = f.readlines()\n",
    "                        for line in lines:\n",
    "                            if '=' not in line:\n",
    "                                s = line.split(' ')\n",
    "                                exist.add(int(s[0]))\n",
    "            exist = list(exist)\n",
    "            print(\"Already crawled :\", len(exist))"
   ]
  },
  {
   "cell_type": "code",
   "execution_count": null,
   "metadata": {},
   "outputs": [],
   "source": [
    "print(datetime.datetime.now())\n",
    "p = 'Biden/2022-11-07/user_tweets/'\n",
    "files = os.listdir(p)\n",
    "txt_files = []\n",
    "txt_ele = set()\n",
    "for i in files:\n",
    "    if '.txt' in i and 'Biden' not in i and 'unfinish' not in i: \n",
    "        txt_files.append(i)\n",
    "txt_files = sorted(txt_files)\n",
    "\n",
    "for file in range(len(txt_files)):\n",
    "    tmp = set()\n",
    "    with open(p + \"%d.txt\"%file, 'r') as f:\n",
    "        lines = f.readlines()\n",
    "        for line in lines:\n",
    "            s = line.split(' ')\n",
    "            txt_ele.add(s[0])\n",
    "            tmp.add(s[0])\n",
    "        print(\"%d.txt :\"%file, len(tmp))\n",
    "print(\"total :\", len(txt_ele))"
   ]
  },
  {
   "cell_type": "code",
   "execution_count": null,
   "metadata": {},
   "outputs": [],
   "source": [
    "print(datetime.datetime.now())\n",
    "p = 'Biden/2022-11-07/user_tweets/'\n",
    "files = os.listdir(p)\n",
    "txt_files = []\n",
    "txt_ele = set()\n",
    "for i in files:\n",
    "    if '.txt' in i and 'Biden' not in i and 'unfinish' not in i: \n",
    "        txt_files.append(i)\n",
    "txt_files = sorted(txt_files)\n",
    "\n",
    "for file in range(len(txt_files)):\n",
    "    tmp = set()\n",
    "    with open(p + \"%d.txt\"%file, 'r') as f:\n",
    "        lines = f.readlines()\n",
    "        for line in lines:\n",
    "            s = line.split(' ')\n",
    "            txt_ele.add(s[0])\n",
    "            tmp.add(s[0])\n",
    "        print(\"%d.txt :\"%file, len(tmp))\n",
    "print(\"total :\", len(txt_ele))"
   ]
  },
  {
   "cell_type": "code",
   "execution_count": null,
   "metadata": {},
   "outputs": [],
   "source": [
    "print(datetime.datetime.now())\n",
    "p = 'Biden/2022-11-07/user_tweets/'\n",
    "files = os.listdir(p)\n",
    "json_file  = []\n",
    "for i in files:\n",
    "    if '.json' in i and 'Biden' not in i: \n",
    "        json_file.append(i)\n",
    "json_file = sorted(json_file)\n",
    "\n",
    "count = 0\n",
    "for i in json_file:\n",
    "    with open(p+i, 'r') as f:\n",
    "        json_data = json.load(f)\n",
    "        for key in json_data.keys():\n",
    "            txt_ele.add(s[0])\n",
    "print(\"No retweet :\", len(txt_ele))"
   ]
  },
  {
   "cell_type": "code",
   "execution_count": null,
   "metadata": {},
   "outputs": [],
   "source": [
    "dir_path = 'Biden/2022-10-10'\n",
    "f = list()\n",
    "l = list()\n",
    "u_t = dict()\n",
    "ids = set()\n",
    "for p in os.listdir(dir_path):\n",
    "    if \".txt\" in p:\n",
    "        f.append(p)\n",
    "f.remove('exist.txt')\n",
    "f = sorted(f)"
   ]
  },
  {
   "cell_type": "code",
   "execution_count": null,
   "metadata": {},
   "outputs": [],
   "source": [
    "for file in f:\n",
    "    file = \"/\" + file\n",
    "    with open(dir_path + file, \"r\") as g:\n",
    "        for line in g:\n",
    "            if \"=\" in line:\n",
    "                continue\n",
    "            \n",
    "            s = line.replace(\"\\n\", \"\")\n",
    "            s = s.split(' ')\n",
    "            ids.add(s[0])\n",
    "u_t = u_t.fromkeys(ids, [])\n"
   ]
  },
  {
   "cell_type": "code",
   "execution_count": null,
   "metadata": {},
   "outputs": [],
   "source": [
    "for file in f:\n",
    "    file = \"/\" + file\n",
    "    with open(dir_path + file, \"r\") as g:\n",
    "        value = list()\n",
    "        for line in g:\n",
    "            \n",
    "            s = line.replace(\"\\n\", \"\")\n",
    "            if \"=\" in s:\n",
    "                u_t[key] = value\n",
    "                value = []\n",
    "            \n",
    "            else:\n",
    "                \n",
    "                s = s.split(' ')\n",
    "                key = s[0]\n",
    "                ref = s[1]\n",
    "                tweet_id = s[2]\n",
    "                create_at = s[3] + \" \" + s[4]\n",
    "                tmp = {\n",
    "                    \"ref\":ref, \n",
    "                    \"tweet_id\" : tweet_id, \n",
    "                    \"create\":create_at\n",
    "                }\n",
    "                value.append(tmp)"
   ]
  },
  {
   "cell_type": "code",
   "execution_count": null,
   "metadata": {},
   "outputs": [],
   "source": [
    "with open(dir_path + \"/user_tweets.json\", \"w\") as f:\n",
    "    json.dump(u_t, f, indent=True)"
   ]
  },
  {
   "cell_type": "code",
   "execution_count": null,
   "metadata": {},
   "outputs": [],
   "source": [
    "a = list(u_t.keys())\n",
    "a = a[0]\n",
    "len(u_t[a])"
   ]
  },
  {
   "cell_type": "code",
   "execution_count": null,
   "metadata": {},
   "outputs": [],
   "source": [
    "for  i in u_t.keys():\n",
    "    print(len(u_t[i]))"
   ]
  },
  {
   "cell_type": "code",
   "execution_count": null,
   "metadata": {},
   "outputs": [],
   "source": [
    "print(datetime.datetime.now())\n",
    "i = 0\n",
    "path = \"Biden/2022-10-10/\"\n",
    "summ = list()\n",
    "for i in range(8):\n",
    "    with open(\"Biden/2022-10-10/%d_followers.json\" % i, \"r\") as f:\n",
    "        a = json.load(f)\n",
    "        summ.extend(list(a.keys()))\n",
    "        print(\"%d :\" %i , len(a.keys()))\n",
    "        #print(len(a))\n",
    "print(len(summ))"
   ]
  },
  {
   "cell_type": "code",
   "execution_count": null,
   "metadata": {},
   "outputs": [],
   "source": [
    "s = \"<ReferencedTweet id=1579540287097294850 type=replied_to\"\n",
    "x = re.search(\"id=\", s).end()\n",
    "integers = [str(i) for i in range(10)]\n",
    "id = ''\n",
    "for i in range(x, len(s)):\n",
    "    if s[i] == ' ':\n",
    "        break\n",
    "    if s[i] in integers:\n",
    "        id += s[i]\n",
    "id    "
   ]
  },
  {
   "cell_type": "code",
   "execution_count": null,
   "metadata": {},
   "outputs": [],
   "source": [
    "dic = dict()\n",
    "dic1 = dict()\n",
    "dic2 = dict()\n",
    "l = list()\n",
    "\n",
    "f = open('0.json', 'w')\n",
    "for i in range(3):\n",
    "    k = [j for j in range(10)]\n",
    "    l.append(k)\n",
    "\n",
    "json.dump(l, f, indent=4)\n",
    "f.close()\n",
    "\n"
   ]
  },
  {
   "cell_type": "code",
   "execution_count": null,
   "metadata": {},
   "outputs": [],
   "source": [
    "token = [\n",
    "'AAAAAAAAAAAAAAAAAAAAAIPvbAEAAAAApt3kcfjyiVBOLVWMbi1Fu6CLL24%3DuIMwpFYplQqMd68VXXv4eU954tnOQu5vljRnV3xL292k4F5sFR',\n",
    "'AAAAAAAAAAAAAAAAAAAAACHvcgEAAAAA9lDgALcD%2FZRxz%2BFrzuc6B7IxJqc%3DnBTsObUCrmc50dlBlB81QMnqnab8oj5Oo7uy4uXMi7vVUOEJAu',\n",
    "'AAAAAAAAAAAAAAAAAAAAAIPvbAEAAAAApt3kcfjyiVBOLVWMbi1Fu6CLL24%3DuIMwpFYplQqMd68VXXv4eU954tnOQu5vljRnV3xL292k4F5sFR',\n",
    "'AAAAAAAAAAAAAAAAAAAAAOvxbAEAAAAAOu%2FTOVHN5ocKWaChbnjZwI%2FoGdw%3DC1laLqLeCuXiwjg1bkV7kEVMY3pd3kZHDA4TKeRjcR89kKQPeR',\n",
    "'AAAAAAAAAAAAAAAAAAAAAC3ucgEAAAAANkLeJqeojqdGXtbsGknDrLiZuJ4%3DueRC8NneqPUawhC3rkI83DXgUk68poiPHc60YAMtKqDr9NFTHs',\n",
    "'AAAAAAAAAAAAAAAAAAAAAHfucgEAAAAAWrhXRgMpo%2Fj7fHl9uqSiUlklY5M%3DQWmApmhHTWG0LcdB77fiYOTnB8mbpU4HcPLMeWl6mQmZr60mKZ',\n",
    "'AAAAAAAAAAAAAAAAAAAAAJKnJgEAAAAAgpYwO66pBtdDUcwjHYnWbMY1ow8%3DJgCTSnmkqVE5M0ywnyoSvMX1Ywpz2ivYnONwQ0Aro7bgby6TUm',\n",
    "'AAAAAAAAAAAAAAAAAAAAAJaOeQEAAAAAyvSZWQ6m9q4SaMT1t1WCH%2FOymj0%3DVgRvLEP51YERK403i2pk5JU05Lu0vXppgQHxvhhxcBIkftu1FH'\n",
    "]"
   ]
  },
  {
   "cell_type": "code",
   "execution_count": null,
   "metadata": {},
   "outputs": [],
   "source": []
  },
  {
   "cell_type": "code",
   "execution_count": null,
   "metadata": {},
   "outputs": [],
   "source": [
    "pro = list()\n",
    "for i in range(4):\n",
    "    p = mp.Process(target=h, args=(i, ))\n",
    "    pro.append(p)\n",
    "for i in iter(pro):\n",
    "    i.start()\n",
    "for i in iter(pro):\n",
    "    i.join()"
   ]
  },
  {
   "cell_type": "code",
   "execution_count": null,
   "metadata": {},
   "outputs": [],
   "source": [
    "file_path = ''\n",
    "data = Data_crawl(\n",
    "    token=token\n",
    ")\n",
    "data.Get_Followers_MultiCore()"
   ]
  },
  {
   "cell_type": "code",
   "execution_count": null,
   "metadata": {},
   "outputs": [],
   "source": [
    "today = '2022-10-08'  #filename = str(datetime.date.today()) # 用當天日期當作檔案名稱\n",
    "filename = 'Biden/' + today + '/' + today\n",
    "filename = filename + '_' + str(0) + '_retweeters.json'\n",
    "filename"
   ]
  },
  {
   "cell_type": "markdown",
   "metadata": {},
   "source": [
    "必要 parameters"
   ]
  },
  {
   "cell_type": "code",
   "execution_count": null,
   "metadata": {},
   "outputs": [],
   "source": [
    "token = [\n",
    "'AAAAAAAAAAAAAAAAAAAAACHvcgEAAAAA9lDgALcD%2FZRxz%2BFrzuc6B7IxJqc%3DnBTsObUCrmc50dlBlB81QMnqnab8oj5Oo7uy4uXMi7vVUOEJAu',\n",
    "'AAAAAAAAAAAAAAAAAAAAAIPvbAEAAAAApt3kcfjyiVBOLVWMbi1Fu6CLL24%3DuIMwpFYplQqMd68VXXv4eU954tnOQu5vljRnV3xL292k4F5sFR',\n",
    "'AAAAAAAAAAAAAAAAAAAAAOvxbAEAAAAAOu%2FTOVHN5ocKWaChbnjZwI%2FoGdw%3DC1laLqLeCuXiwjg1bkV7kEVMY3pd3kZHDA4TKeRjcR89kKQPeR',\n",
    "'AAAAAAAAAAAAAAAAAAAAAC3ucgEAAAAANkLeJqeojqdGXtbsGknDrLiZuJ4%3DueRC8NneqPUawhC3rkI83DXgUk68poiPHc60YAMtKqDr9NFTHs',\n",
    "'AAAAAAAAAAAAAAAAAAAAAHfucgEAAAAAWrhXRgMpo%2Fj7fHl9uqSiUlklY5M%3DQWmApmhHTWG0LcdB77fiYOTnB8mbpU4HcPLMeWl6mQmZr60mKZ',\n",
    "'AAAAAAAAAAAAAAAAAAAAAJKnJgEAAAAAgpYwO66pBtdDUcwjHYnWbMY1ow8%3DJgCTSnmkqVE5M0ywnyoSvMX1Ywpz2ivYnONwQ0Aro7bgby6TUm',\n",
    "'AAAAAAAAAAAAAAAAAAAAAJaOeQEAAAAAyvSZWQ6m9q4SaMT1t1WCH%2FOymj0%3DVgRvLEP51YERK403i2pk5JU05Lu0vXppgQHxvhhxcBIkftu1FH'\n",
    "]\n",
    "\n",
    "# 時間格式需要符合 twitter 的格式：Year-Month-date + \"T\" + Hour:Minute:Second + \"Z\"\n",
    "end_time  = datetime.datetime.today() # end time is today's 00:00\n",
    "end_time = end_time.strftime('%Y-%m-%dT')\n",
    "end_time = end_time + \"00:00:00Z\"\n",
    "\n",
    "start_time = datetime.datetime.today() - datetime.timedelta(days= 8) # start time is 7 days ago\n",
    "start_time = start_time.strftime('%Y-%m-%dT')\n",
    "start_time = start_time + \"00:00:00Z\""
   ]
  },
  {
   "cell_type": "code",
   "execution_count": null,
   "metadata": {},
   "outputs": [],
   "source": [
    "dataset = Data_crawl(token=token)\n",
    "tweet_df = dataset.Get_Tweets_Dataframe(\n",
    "    start_time=start_time,\n",
    "    end_time=end_time\n",
    ")"
   ]
  },
  {
   "cell_type": "code",
   "execution_count": null,
   "metadata": {},
   "outputs": [],
   "source": [
    "dataset.Get_Retweeters_dict_MultiThread()"
   ]
  },
  {
   "cell_type": "code",
   "execution_count": null,
   "metadata": {},
   "outputs": [],
   "source": [
    "class MyThread(Thread):\n",
    "    def __init__(self, func, args):\n",
    "        super(MyThread, self).__init__()\n",
    "        self.func = func\n",
    "        self.args = args\n",
    "        self.result = 0\n",
    "    def run(self):\n",
    "        self.result = self.func(*self.args)\n",
    "\n",
    "    def get_results(self):\n",
    "        return self.result"
   ]
  },
  {
   "cell_type": "code",
   "execution_count": null,
   "metadata": {},
   "outputs": [],
   "source": [
    "l = [1,2,3,4,5]\n",
    "l = l[0:2]"
   ]
  },
  {
   "cell_type": "code",
   "execution_count": null,
   "metadata": {},
   "outputs": [],
   "source": [
    "d = {1:2, 2:3, 4:5, 6:9, 3:0}\n",
    "f = open(\"2022-10-107_retweeters.json\", 'w') \n",
    "#t = json.load(f)\n",
    "t = json.dump(d, f, indent=True)\n",
    "f.close()"
   ]
  },
  {
   "cell_type": "code",
   "execution_count": null,
   "metadata": {},
   "outputs": [],
   "source": [
    "def g(l:list):\n",
    "    s = random.randint(3,6)\n",
    "    print(s, \" second\")\n",
    "    time.sleep(s)\n",
    "    v = {s:l}\n",
    "    #with open(str(s) + '.json', 'w') as f:\n",
    "        #a = json.dumps(v)\n",
    "        #f.write(a)\n",
    "t = [1,2,3,4,5,6,7,8,9,10]\n",
    "thread = []\n",
    "r = []\n",
    "for i in range(3):\n",
    "    y = MyThread(func=g, args=(t,))\n",
    "    thread.append(y)\n",
    "for i in range(3):\n",
    "    thread[i].start()\n",
    "for i in range(3):\n",
    "    thread[i].join()\n",
    "\n",
    "r"
   ]
  },
  {
   "cell_type": "code",
   "execution_count": null,
   "metadata": {},
   "outputs": [],
   "source": [
    "t1 = MyThread(func=g, args=(t,))\n",
    "t2 = MyThread(func=g, args=(t,))\n",
    "t1.start()\n",
    "t2.start()\n",
    "t1.join()\n",
    "t2.join()\n",
    "res1 = t1.get_results()\n",
    "res2 = t2.get_results()\n",
    "print(res1, res2)"
   ]
  },
  {
   "cell_type": "code",
   "execution_count": null,
   "metadata": {},
   "outputs": [],
   "source": [
    "print(t)"
   ]
  },
  {
   "cell_type": "code",
   "execution_count": null,
   "metadata": {},
   "outputs": [],
   "source": [
    "def chunks(lst, n):\n",
    "    \"\"\"Yield successive n-sized chunks from lst.\"\"\"\n",
    "    for i in range(0, len(lst), n):\n",
    "        yield lst[i:i + n]"
   ]
  },
  {
   "cell_type": "code",
   "execution_count": null,
   "metadata": {},
   "outputs": [],
   "source": [
    "a = [i for i in range(55)]\n",
    "a = chunks(a, int(len(a)/3)+1)\n",
    "len(list(a))"
   ]
  }
 ],
 "metadata": {
  "kernelspec": {
   "display_name": "Python 3.7.15 ('dgl')",
   "language": "python",
   "name": "python3"
  },
  "language_info": {
   "codemirror_mode": {
    "name": "ipython",
    "version": 3
   },
   "file_extension": ".py",
   "mimetype": "text/x-python",
   "name": "python",
   "nbconvert_exporter": "python",
   "pygments_lexer": "ipython3",
   "version": "3.7.15"
  },
  "orig_nbformat": 4,
  "vscode": {
   "interpreter": {
    "hash": "bd41fe153378347448e1c201e7672b8e1a74a52b34c8d7e7e6593400a70fc6a0"
   }
  }
 },
 "nbformat": 4,
 "nbformat_minor": 2
}
