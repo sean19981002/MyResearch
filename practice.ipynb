{
 "cells": [
  {
   "cell_type": "code",
   "execution_count": 1,
   "metadata": {},
   "outputs": [],
   "source": [
    "import pandas as pd\n",
    "import tweepy\n",
    "import requests\n",
    "import datetime\n",
    "import json\n",
    "import matplotlib.pyplot as plt\n",
    "from IPython.display import display\n",
    "import time\n",
    "import random\n",
    "from threading import Thread\n",
    "from tqdm import tqdm, trange\n",
    "import multiprocessing as mp\n",
    "from  datetime import datetime\n",
    "from Classes import *\n",
    "import re\n",
    "import os"
   ]
  },
  {
   "cell_type": "code",
   "execution_count": 4,
   "metadata": {},
   "outputs": [
    {
     "name": "stdout",
     "output_type": "stream",
     "text": [
      "2022-10-31 17:10:14.006678\n",
      "276\n",
      "325\n",
      "436\n"
     ]
    },
    {
     "data": {
      "text/plain": [
       "1037"
      ]
     },
     "execution_count": 4,
     "metadata": {},
     "output_type": "execute_result"
    }
   ],
   "source": [
    "# how many downloaded\n",
    "print(datetime.datetime.now())\n",
    "w = set()\n",
    "for i in range(3):\n",
    "    x = set()\n",
    "    if os.path.exists('%d.txt' % i):\n",
    "        with open('%d.txt' % i, 'r') as f:\n",
    "            for line in f:\n",
    "                if '=' not in line:\n",
    "                    s = line.replace('\\n', '').split(' ')\n",
    "                    x.add(s[0])\n",
    "        w |= x\n",
    "    print(len(x))\n",
    "len(w)\n"
   ]
  },
  {
   "cell_type": "code",
   "execution_count": 3,
   "metadata": {},
   "outputs": [],
   "source": [
    "# find exist\n",
    "count = 0\n",
    "w = set()\n",
    "\n",
    "for i in range(3):\n",
    "    with open(\"%d.txt\" % i, \"r\") as f:\n",
    "        for line in f.readlines():\n",
    "            if '=' not in line:\n",
    "                a = line.replace('\\n', '').split(' ')\n",
    "                w.add(a[0])\n",
    "with open('exist.txt', 'a') as f:\n",
    "    for i in w:\n",
    "        f.write(i)\n",
    "        f.write('\\n')"
   ]
  },
  {
   "cell_type": "code",
   "execution_count": 10,
   "metadata": {},
   "outputs": [
    {
     "name": "stdout",
     "output_type": "stream",
     "text": [
      "2022-11-01 10:21:23.112293\n",
      "0 : 37\n",
      "1 : 165\n",
      "2 : 236\n",
      "3 : 362\n",
      "4 : 363\n",
      "5 : 567\n",
      "6 : 810\n",
      "7 : 2130\n",
      "4670\n"
     ]
    }
   ],
   "source": [
    "print(datetime.datetime.now())\n",
    "i = 0\n",
    "path = \"Biden/2022-10-10/\"\n",
    "summ = list()\n",
    "for i in range(8):\n",
    "    with open(\"Biden/2022-10-10/%d_followers.json\" % i, \"r\") as f:\n",
    "        a = json.load(f)\n",
    "        summ.extend(list(a.keys()))\n",
    "        print(\"%d :\" %i , len(a.keys()))\n",
    "        #print(len(a))\n",
    "print(len(summ))"
   ]
  },
  {
   "cell_type": "code",
   "execution_count": 2,
   "metadata": {},
   "outputs": [
    {
     "name": "stdout",
     "output_type": "stream",
     "text": [
      "2022-11-01 16:36:29.235981\n",
      "42\n",
      "165\n",
      "257\n",
      "382\n",
      "363\n",
      "594\n",
      "847\n",
      "2130\n",
      "4780\n"
     ]
    }
   ],
   "source": [
    "print(datetime.datetime.now())\n",
    "i = 0\n",
    "path = \"Biden/2022-10-10/\"\n",
    "summ = list()\n",
    "for i in range(8):\n",
    "    with open(\"Biden/2022-10-10/%d_followers.json\" % i, \"r\") as f:\n",
    "        a = json.load(f)\n",
    "        summ.extend(list(a.keys()))\n",
    "        print(len(a.keys()))\n",
    "        #print(len(a))\n",
    "print(len(summ))"
   ]
  },
  {
   "cell_type": "code",
   "execution_count": 1,
   "metadata": {},
   "outputs": [
    {
     "ename": "NameError",
     "evalue": "name 'json' is not defined",
     "output_type": "error",
     "traceback": [
      "\u001b[1;31m---------------------------------------------------------------------------\u001b[0m",
      "\u001b[1;31mNameError\u001b[0m                                 Traceback (most recent call last)",
      "\u001b[1;32m~\\AppData\\Local\\Temp\\ipykernel_15904\\441140878.py\u001b[0m in \u001b[0;36m<module>\u001b[1;34m\u001b[0m\n\u001b[0;32m      4\u001b[0m \u001b[1;32mfor\u001b[0m \u001b[0mi\u001b[0m \u001b[1;32min\u001b[0m \u001b[0mrange\u001b[0m\u001b[1;33m(\u001b[0m\u001b[1;36m8\u001b[0m\u001b[1;33m)\u001b[0m\u001b[1;33m:\u001b[0m\u001b[1;33m\u001b[0m\u001b[1;33m\u001b[0m\u001b[0m\n\u001b[0;32m      5\u001b[0m     \u001b[1;32mwith\u001b[0m \u001b[0mopen\u001b[0m\u001b[1;33m(\u001b[0m\u001b[1;34m\"Biden/2022-10-10/%d_followers.json\"\u001b[0m \u001b[1;33m%\u001b[0m \u001b[0mi\u001b[0m\u001b[1;33m,\u001b[0m \u001b[1;34m\"r\"\u001b[0m\u001b[1;33m)\u001b[0m \u001b[1;32mas\u001b[0m \u001b[0mf\u001b[0m\u001b[1;33m:\u001b[0m\u001b[1;33m\u001b[0m\u001b[1;33m\u001b[0m\u001b[0m\n\u001b[1;32m----> 6\u001b[1;33m         \u001b[0ma\u001b[0m \u001b[1;33m=\u001b[0m \u001b[0mjson\u001b[0m\u001b[1;33m.\u001b[0m\u001b[0mload\u001b[0m\u001b[1;33m(\u001b[0m\u001b[0mf\u001b[0m\u001b[1;33m)\u001b[0m\u001b[1;33m\u001b[0m\u001b[1;33m\u001b[0m\u001b[0m\n\u001b[0m\u001b[0;32m      7\u001b[0m         \u001b[0msumm\u001b[0m\u001b[1;33m.\u001b[0m\u001b[0mextend\u001b[0m\u001b[1;33m(\u001b[0m\u001b[0mlist\u001b[0m\u001b[1;33m(\u001b[0m\u001b[0ma\u001b[0m\u001b[1;33m.\u001b[0m\u001b[0mkeys\u001b[0m\u001b[1;33m(\u001b[0m\u001b[1;33m)\u001b[0m\u001b[1;33m)\u001b[0m\u001b[1;33m)\u001b[0m\u001b[1;33m\u001b[0m\u001b[1;33m\u001b[0m\u001b[0m\n\u001b[0;32m      8\u001b[0m         \u001b[0mprint\u001b[0m\u001b[1;33m(\u001b[0m\u001b[0mlen\u001b[0m\u001b[1;33m(\u001b[0m\u001b[0ma\u001b[0m\u001b[1;33m.\u001b[0m\u001b[0mkeys\u001b[0m\u001b[1;33m(\u001b[0m\u001b[1;33m)\u001b[0m\u001b[1;33m)\u001b[0m\u001b[1;33m)\u001b[0m\u001b[1;33m\u001b[0m\u001b[1;33m\u001b[0m\u001b[0m\n",
      "\u001b[1;31mNameError\u001b[0m: name 'json' is not defined"
     ]
    }
   ],
   "source": [
    "i = 0\n",
    "path = \"Biden/2022-10-10/\"\n",
    "summ = list()\n",
    "for i in range(8):\n",
    "    with open(\"Biden/2022-10-10/%d_followers.json\" % i, \"r\") as f:\n",
    "        a = json.load(f)\n",
    "        summ.extend(list(a.keys()))\n",
    "        print(len(a.keys()))\n",
    "        #print(len(a))\n",
    "print(len(summ))"
   ]
  },
  {
   "cell_type": "markdown",
   "metadata": {},
   "source": [
    "> import re\n",
    "> \n",
    "> re.findall(r'\\d+', \"hello 42 I'm a 32 string 30\")\n",
    "> \n",
    "> ['42', '32', '30']"
   ]
  },
  {
   "cell_type": "code",
   "execution_count": null,
   "metadata": {},
   "outputs": [],
   "source": [
    "s = \"<ReferencedTweet id=1579540287097294850 type=replied_to\"\n",
    "x = re.search(\"id=\", s).end()\n",
    "integers = [str(i) for i in range(10)]\n",
    "id = ''\n",
    "for i in range(x, len(s)):\n",
    "    if s[i] == ' ':\n",
    "        break\n",
    "    if s[i] in integers:\n",
    "        id += s[i]\n",
    "id    "
   ]
  },
  {
   "cell_type": "code",
   "execution_count": null,
   "metadata": {},
   "outputs": [],
   "source": [
    "dic = dict()\n",
    "dic1 = dict()\n",
    "dic2 = dict()\n",
    "l = list()\n",
    "\n",
    "f = open('0.json', 'w')\n",
    "for i in range(3):\n",
    "    k = [j for j in range(10)]\n",
    "    l.append(k)\n",
    "\n",
    "json.dump(l, f, indent=4)\n",
    "f.close()\n",
    "\n"
   ]
  },
  {
   "cell_type": "code",
   "execution_count": null,
   "metadata": {},
   "outputs": [],
   "source": [
    "token = [\n",
    "'AAAAAAAAAAAAAAAAAAAAAIPvbAEAAAAApt3kcfjyiVBOLVWMbi1Fu6CLL24%3DuIMwpFYplQqMd68VXXv4eU954tnOQu5vljRnV3xL292k4F5sFR',\n",
    "'AAAAAAAAAAAAAAAAAAAAACHvcgEAAAAA9lDgALcD%2FZRxz%2BFrzuc6B7IxJqc%3DnBTsObUCrmc50dlBlB81QMnqnab8oj5Oo7uy4uXMi7vVUOEJAu',\n",
    "'AAAAAAAAAAAAAAAAAAAAAIPvbAEAAAAApt3kcfjyiVBOLVWMbi1Fu6CLL24%3DuIMwpFYplQqMd68VXXv4eU954tnOQu5vljRnV3xL292k4F5sFR',\n",
    "'AAAAAAAAAAAAAAAAAAAAAOvxbAEAAAAAOu%2FTOVHN5ocKWaChbnjZwI%2FoGdw%3DC1laLqLeCuXiwjg1bkV7kEVMY3pd3kZHDA4TKeRjcR89kKQPeR',\n",
    "'AAAAAAAAAAAAAAAAAAAAAC3ucgEAAAAANkLeJqeojqdGXtbsGknDrLiZuJ4%3DueRC8NneqPUawhC3rkI83DXgUk68poiPHc60YAMtKqDr9NFTHs',\n",
    "'AAAAAAAAAAAAAAAAAAAAAHfucgEAAAAAWrhXRgMpo%2Fj7fHl9uqSiUlklY5M%3DQWmApmhHTWG0LcdB77fiYOTnB8mbpU4HcPLMeWl6mQmZr60mKZ',\n",
    "'AAAAAAAAAAAAAAAAAAAAAJKnJgEAAAAAgpYwO66pBtdDUcwjHYnWbMY1ow8%3DJgCTSnmkqVE5M0ywnyoSvMX1Ywpz2ivYnONwQ0Aro7bgby6TUm',\n",
    "'AAAAAAAAAAAAAAAAAAAAAJaOeQEAAAAAyvSZWQ6m9q4SaMT1t1WCH%2FOymj0%3DVgRvLEP51YERK403i2pk5JU05Lu0vXppgQHxvhhxcBIkftu1FH'\n",
    "]"
   ]
  },
  {
   "cell_type": "code",
   "execution_count": null,
   "metadata": {},
   "outputs": [],
   "source": []
  },
  {
   "cell_type": "code",
   "execution_count": null,
   "metadata": {},
   "outputs": [],
   "source": [
    "pro = list()\n",
    "for i in range(4):\n",
    "    p = mp.Process(target=h, args=(i, ))\n",
    "    pro.append(p)\n",
    "for i in iter(pro):\n",
    "    i.start()\n",
    "for i in iter(pro):\n",
    "    i.join()"
   ]
  },
  {
   "cell_type": "code",
   "execution_count": null,
   "metadata": {},
   "outputs": [],
   "source": [
    "file_path = ''\n",
    "data = Data_crawl(\n",
    "    token=token\n",
    ")\n",
    "data.Get_Followers_MultiCore()"
   ]
  },
  {
   "cell_type": "code",
   "execution_count": null,
   "metadata": {},
   "outputs": [],
   "source": [
    "today = '2022-10-08'  #filename = str(datetime.date.today()) # 用當天日期當作檔案名稱\n",
    "filename = 'Biden/' + today + '/' + today\n",
    "filename = filename + '_' + str(0) + '_retweeters.json'\n",
    "filename"
   ]
  },
  {
   "cell_type": "markdown",
   "metadata": {},
   "source": [
    "必要 parameters"
   ]
  },
  {
   "cell_type": "code",
   "execution_count": null,
   "metadata": {},
   "outputs": [],
   "source": [
    "token = [\n",
    "'AAAAAAAAAAAAAAAAAAAAACHvcgEAAAAA9lDgALcD%2FZRxz%2BFrzuc6B7IxJqc%3DnBTsObUCrmc50dlBlB81QMnqnab8oj5Oo7uy4uXMi7vVUOEJAu',\n",
    "'AAAAAAAAAAAAAAAAAAAAAIPvbAEAAAAApt3kcfjyiVBOLVWMbi1Fu6CLL24%3DuIMwpFYplQqMd68VXXv4eU954tnOQu5vljRnV3xL292k4F5sFR',\n",
    "'AAAAAAAAAAAAAAAAAAAAAOvxbAEAAAAAOu%2FTOVHN5ocKWaChbnjZwI%2FoGdw%3DC1laLqLeCuXiwjg1bkV7kEVMY3pd3kZHDA4TKeRjcR89kKQPeR',\n",
    "'AAAAAAAAAAAAAAAAAAAAAC3ucgEAAAAANkLeJqeojqdGXtbsGknDrLiZuJ4%3DueRC8NneqPUawhC3rkI83DXgUk68poiPHc60YAMtKqDr9NFTHs',\n",
    "'AAAAAAAAAAAAAAAAAAAAAHfucgEAAAAAWrhXRgMpo%2Fj7fHl9uqSiUlklY5M%3DQWmApmhHTWG0LcdB77fiYOTnB8mbpU4HcPLMeWl6mQmZr60mKZ',\n",
    "'AAAAAAAAAAAAAAAAAAAAAJKnJgEAAAAAgpYwO66pBtdDUcwjHYnWbMY1ow8%3DJgCTSnmkqVE5M0ywnyoSvMX1Ywpz2ivYnONwQ0Aro7bgby6TUm',\n",
    "'AAAAAAAAAAAAAAAAAAAAAJaOeQEAAAAAyvSZWQ6m9q4SaMT1t1WCH%2FOymj0%3DVgRvLEP51YERK403i2pk5JU05Lu0vXppgQHxvhhxcBIkftu1FH'\n",
    "]\n",
    "\n",
    "# 時間格式需要符合 twitter 的格式：Year-Month-date + \"T\" + Hour:Minute:Second + \"Z\"\n",
    "end_time  = datetime.datetime.today() # end time is today's 00:00\n",
    "end_time = end_time.strftime('%Y-%m-%dT')\n",
    "end_time = end_time + \"00:00:00Z\"\n",
    "\n",
    "start_time = datetime.datetime.today() - datetime.timedelta(days= 8) # start time is 7 days ago\n",
    "start_time = start_time.strftime('%Y-%m-%dT')\n",
    "start_time = start_time + \"00:00:00Z\""
   ]
  },
  {
   "cell_type": "code",
   "execution_count": null,
   "metadata": {},
   "outputs": [],
   "source": [
    "dataset = Data_crawl(token=token)\n",
    "tweet_df = dataset.Get_Tweets_Dataframe(\n",
    "    start_time=start_time,\n",
    "    end_time=end_time\n",
    ")"
   ]
  },
  {
   "cell_type": "code",
   "execution_count": null,
   "metadata": {},
   "outputs": [],
   "source": [
    "dataset.Get_Retweeters_dict_MultiThread()"
   ]
  },
  {
   "cell_type": "code",
   "execution_count": null,
   "metadata": {},
   "outputs": [],
   "source": [
    "class MyThread(Thread):\n",
    "    def __init__(self, func, args):\n",
    "        super(MyThread, self).__init__()\n",
    "        self.func = func\n",
    "        self.args = args\n",
    "        self.result = 0\n",
    "    def run(self):\n",
    "        self.result = self.func(*self.args)\n",
    "\n",
    "    def get_results(self):\n",
    "        return self.result"
   ]
  },
  {
   "cell_type": "code",
   "execution_count": null,
   "metadata": {},
   "outputs": [],
   "source": [
    "l = [1,2,3,4,5]\n",
    "l = l[0:2]"
   ]
  },
  {
   "cell_type": "code",
   "execution_count": null,
   "metadata": {},
   "outputs": [],
   "source": [
    "d = {1:2, 2:3, 4:5, 6:9, 3:0}\n",
    "f = open(\"2022-10-107_retweeters.json\", 'w') \n",
    "#t = json.load(f)\n",
    "t = json.dump(d, f, indent=True)\n",
    "f.close()"
   ]
  },
  {
   "cell_type": "code",
   "execution_count": null,
   "metadata": {},
   "outputs": [],
   "source": [
    "def g(l:list):\n",
    "    s = random.randint(3,6)\n",
    "    print(s, \" second\")\n",
    "    time.sleep(s)\n",
    "    v = {s:l}\n",
    "    #with open(str(s) + '.json', 'w') as f:\n",
    "        #a = json.dumps(v)\n",
    "        #f.write(a)\n",
    "t = [1,2,3,4,5,6,7,8,9,10]\n",
    "thread = []\n",
    "r = []\n",
    "for i in range(3):\n",
    "    y = MyThread(func=g, args=(t,))\n",
    "    thread.append(y)\n",
    "for i in range(3):\n",
    "    thread[i].start()\n",
    "for i in range(3):\n",
    "    thread[i].join()\n",
    "\n",
    "r"
   ]
  },
  {
   "cell_type": "code",
   "execution_count": null,
   "metadata": {},
   "outputs": [],
   "source": [
    "t1 = MyThread(func=g, args=(t,))\n",
    "t2 = MyThread(func=g, args=(t,))\n",
    "t1.start()\n",
    "t2.start()\n",
    "t1.join()\n",
    "t2.join()\n",
    "res1 = t1.get_results()\n",
    "res2 = t2.get_results()\n",
    "print(res1, res2)"
   ]
  },
  {
   "cell_type": "code",
   "execution_count": null,
   "metadata": {},
   "outputs": [],
   "source": [
    "print(t)"
   ]
  },
  {
   "cell_type": "code",
   "execution_count": null,
   "metadata": {},
   "outputs": [],
   "source": [
    "def chunks(lst, n):\n",
    "    \"\"\"Yield successive n-sized chunks from lst.\"\"\"\n",
    "    for i in range(0, len(lst), n):\n",
    "        yield lst[i:i + n]"
   ]
  },
  {
   "cell_type": "code",
   "execution_count": null,
   "metadata": {},
   "outputs": [],
   "source": [
    "a = [i for i in range(55)]\n",
    "a = chunks(a, int(len(a)/3)+1)\n",
    "len(list(a))"
   ]
  }
 ],
 "metadata": {
  "kernelspec": {
   "display_name": "Python 3.7.13 ('DGL')",
   "language": "python",
   "name": "python3"
  },
  "language_info": {
   "codemirror_mode": {
    "name": "ipython",
    "version": 3
   },
   "file_extension": ".py",
   "mimetype": "text/x-python",
   "name": "python",
   "nbconvert_exporter": "python",
   "pygments_lexer": "ipython3",
   "version": "3.7.13"
  },
  "orig_nbformat": 4,
  "vscode": {
   "interpreter": {
    "hash": "a4daff5589c88486e8d1e55bd2b476584878b84d3c161d7a6bbeb4800b1f9c19"
   }
  }
 },
 "nbformat": 4,
 "nbformat_minor": 2
}
