{
 "cells": [
  {
   "cell_type": "code",
   "execution_count": 1,
   "metadata": {},
   "outputs": [],
   "source": [
    "import json"
   ]
  },
  {
   "cell_type": "code",
   "execution_count": 4,
   "metadata": {},
   "outputs": [
    {
     "data": {
      "text/plain": [
       "12915"
      ]
     },
     "execution_count": 4,
     "metadata": {},
     "output_type": "execute_result"
    }
   ],
   "source": [
    "remove_list = [ # followers too many\n",
    "    9624742, \n",
    "    27493883, \n",
    "    2573480784, \n",
    "    307549658, \n",
    "    818893114979061761, \n",
    "    1351284403801108481, \n",
    "    713839291210792960,\n",
    "    15115280\n",
    "]\n",
    "t = dict()\n",
    "for i in range(14):\n",
    "    with open('%d_followers.json'%i, 'r') as fp:\n",
    "        json_f = json.load(fp = fp)\n",
    "        for key in remove_list:\n",
    "            if str(key) in json_f.keys():\n",
    "                del json_f[str(key)]\n",
    "\n",
    "        t.update(json_f)\n",
    "len(t.keys())"
   ]
  },
  {
   "cell_type": "code",
   "execution_count": 6,
   "metadata": {},
   "outputs": [
    {
     "data": {
      "text/plain": [
       "642638"
      ]
     },
     "execution_count": 6,
     "metadata": {},
     "output_type": "execute_result"
    }
   ],
   "source": [
    "z = 0\n",
    "for key in t.keys():\n",
    "    z += len(t[key])\n",
    "z"
   ]
  }
 ],
 "metadata": {
  "kernelspec": {
   "display_name": "dgl",
   "language": "python",
   "name": "python3"
  },
  "language_info": {
   "codemirror_mode": {
    "name": "ipython",
    "version": 3
   },
   "file_extension": ".py",
   "mimetype": "text/x-python",
   "name": "python",
   "nbconvert_exporter": "python",
   "pygments_lexer": "ipython3",
   "version": "3.7.15 (default, Nov  7 2022, 22:00:21) \n[GCC 11.2.0]"
  },
  "orig_nbformat": 4,
  "vscode": {
   "interpreter": {
    "hash": "bd41fe153378347448e1c201e7672b8e1a74a52b34c8d7e7e6593400a70fc6a0"
   }
  }
 },
 "nbformat": 4,
 "nbformat_minor": 2
}
