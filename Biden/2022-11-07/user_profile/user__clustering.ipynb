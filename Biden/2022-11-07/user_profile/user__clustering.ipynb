{
 "cells": [
  {
   "cell_type": "code",
   "execution_count": 118,
   "metadata": {},
   "outputs": [],
   "source": [
    "import pandas as pd\n",
    "import numpy as np\n",
    "import matplotlib.pyplot as plt\n",
    "%matplotlib inline \n",
    "from sklearn.preprocessing import MinMaxScaler\n",
    "from sklearn.cluster import KMeans\n",
    "from mpl_toolkits.mplot3d import Axes3D\n",
    "import tensorflow as tf"
   ]
  },
  {
   "cell_type": "code",
   "execution_count": 119,
   "metadata": {},
   "outputs": [],
   "source": [
    "df = pd.read_excel('Profile.xlsx')\n",
    "df = df[['followers_count', 'following_count', 'tweet_count', 'class']]\n",
    "#df['verified'] *= 1\n",
    "df_none = df[df['class'] == 0].copy()\n",
    "df_usa = df[df['class'] == 1].copy()\n",
    "df_other = df[df['class'] == -1].copy()"
   ]
  },
  {
   "cell_type": "code",
   "execution_count": 120,
   "metadata": {},
   "outputs": [],
   "source": [
    "# Normalizatoin\n",
    "# 先不做，因為 verified 會全部變成 0\n",
    "scalar = MinMaxScaler()\n",
    "scalar = scalar.fit(df.iloc[:, :])\n",
    "df.iloc[:, :] = scalar.transform(df.iloc[:, :])\n"
   ]
  },
  {
   "cell_type": "code",
   "execution_count": 121,
   "metadata": {},
   "outputs": [],
   "source": [
    "# Visualization\n",
    "X = df.to_numpy()\n"
   ]
  },
  {
   "cell_type": "code",
   "execution_count": 122,
   "metadata": {},
   "outputs": [
    {
     "data": {
      "text/plain": [
       "[PhysicalDevice(name='/physical_device:GPU:0', device_type='GPU')]"
      ]
     },
     "execution_count": 122,
     "metadata": {},
     "output_type": "execute_result"
    }
   ],
   "source": [
    "tf.config.list_physical_devices('GPU')"
   ]
  },
  {
   "cell_type": "code",
   "execution_count": 123,
   "metadata": {},
   "outputs": [],
   "source": [
    "# start kmeans\n",
    "n = 7\n",
    "fit = KMeans(n_clusters = n, n_init =1000 , verbose =0).fit(X)\n",
    "\n",
    "# labels\n",
    "pred_labels = list(fit.labels_)"
   ]
  },
  {
   "cell_type": "code",
   "execution_count": 124,
   "metadata": {},
   "outputs": [
    {
     "data": {
      "image/png": "[encoded data removed]",
      "text/plain": [
       "<Figure size 640x480 with 1 Axes>"
      ]
     },
     "metadata": {},
     "output_type": "display_data"
    }
   ],
   "source": [
    "count = dict()\n",
    "for i in range(n):\n",
    "    count[str(i)] = 0\n",
    "for i in pred_labels:\n",
    "    count[str(i)] += 1\n",
    "\n",
    "# plot\n",
    "\n",
    "color=['red', 'green', 'blue', 'yellow', 'orange', 'pink', 'black']\n",
    "plt.bar(list(count.keys()), list(count.values()), color =color)\n",
    "plt.xlabel('Labels')\n",
    "plt.ylabel('Labels Distribution')\n",
    "plt.title('K-Means Clustring of User Profile')\n",
    "plt.show()"
   ]
  },
  {
   "cell_type": "code",
   "execution_count": 125,
   "metadata": {},
   "outputs": [
    {
     "data": {
      "text/html": [
       "<div>\n",
       "<style scoped>\n",
       "    .dataframe tbody tr th:only-of-type {\n",
       "        vertical-align: middle;\n",
       "    }\n",
       "\n",
       "    .dataframe tbody tr th {\n",
       "        vertical-align: top;\n",
       "    }\n",
       "\n",
       "    .dataframe thead th {\n",
       "        text-align: right;\n",
       "    }\n",
       "</style>\n",
       "<table border=\"1\" class=\"dataframe\">\n",
       "  <thead>\n",
       "    <tr style=\"text-align: right;\">\n",
       "      <th></th>\n",
       "      <th>followers_count</th>\n",
       "      <th>following_count</th>\n",
       "      <th>tweet_count</th>\n",
       "      <th>class</th>\n",
       "    </tr>\n",
       "  </thead>\n",
       "  <tbody>\n",
       "    <tr>\n",
       "      <th>0</th>\n",
       "      <td>0.000000</td>\n",
       "      <td>0.001100</td>\n",
       "      <td>0.000041</td>\n",
       "      <td>0.0</td>\n",
       "    </tr>\n",
       "    <tr>\n",
       "      <th>2</th>\n",
       "      <td>0.000000</td>\n",
       "      <td>0.001336</td>\n",
       "      <td>0.000907</td>\n",
       "      <td>0.0</td>\n",
       "    </tr>\n",
       "    <tr>\n",
       "      <th>3</th>\n",
       "      <td>0.000000</td>\n",
       "      <td>0.004204</td>\n",
       "      <td>0.004153</td>\n",
       "      <td>0.0</td>\n",
       "    </tr>\n",
       "    <tr>\n",
       "      <th>5</th>\n",
       "      <td>0.000000</td>\n",
       "      <td>0.001140</td>\n",
       "      <td>0.000291</td>\n",
       "      <td>0.0</td>\n",
       "    </tr>\n",
       "    <tr>\n",
       "      <th>6</th>\n",
       "      <td>0.000000</td>\n",
       "      <td>0.000432</td>\n",
       "      <td>0.000002</td>\n",
       "      <td>0.0</td>\n",
       "    </tr>\n",
       "    <tr>\n",
       "      <th>...</th>\n",
       "      <td>...</td>\n",
       "      <td>...</td>\n",
       "      <td>...</td>\n",
       "      <td>...</td>\n",
       "    </tr>\n",
       "    <tr>\n",
       "      <th>12530</th>\n",
       "      <td>0.157783</td>\n",
       "      <td>0.144600</td>\n",
       "      <td>0.033702</td>\n",
       "      <td>0.0</td>\n",
       "    </tr>\n",
       "    <tr>\n",
       "      <th>12543</th>\n",
       "      <td>0.308006</td>\n",
       "      <td>0.001336</td>\n",
       "      <td>0.000797</td>\n",
       "      <td>0.0</td>\n",
       "    </tr>\n",
       "    <tr>\n",
       "      <th>12545</th>\n",
       "      <td>0.334966</td>\n",
       "      <td>0.035914</td>\n",
       "      <td>0.045115</td>\n",
       "      <td>0.0</td>\n",
       "    </tr>\n",
       "    <tr>\n",
       "      <th>12546</th>\n",
       "      <td>0.390114</td>\n",
       "      <td>0.082025</td>\n",
       "      <td>0.174551</td>\n",
       "      <td>0.0</td>\n",
       "    </tr>\n",
       "    <tr>\n",
       "      <th>12555</th>\n",
       "      <td>1.000000</td>\n",
       "      <td>0.014381</td>\n",
       "      <td>0.006221</td>\n",
       "      <td>0.0</td>\n",
       "    </tr>\n",
       "  </tbody>\n",
       "</table>\n",
       "<p>5509 rows × 4 columns</p>\n",
       "</div>"
      ],
      "text/plain": [
       "       followers_count  following_count  tweet_count  class\n",
       "0             0.000000         0.001100     0.000041    0.0\n",
       "2             0.000000         0.001336     0.000907    0.0\n",
       "3             0.000000         0.004204     0.004153    0.0\n",
       "5             0.000000         0.001140     0.000291    0.0\n",
       "6             0.000000         0.000432     0.000002    0.0\n",
       "...                ...              ...          ...    ...\n",
       "12530         0.157783         0.144600     0.033702    0.0\n",
       "12543         0.308006         0.001336     0.000797    0.0\n",
       "12545         0.334966         0.035914     0.045115    0.0\n",
       "12546         0.390114         0.082025     0.174551    0.0\n",
       "12555         1.000000         0.014381     0.006221    0.0\n",
       "\n",
       "[5509 rows x 4 columns]"
      ]
     },
     "execution_count": 125,
     "metadata": {},
     "output_type": "execute_result"
    }
   ],
   "source": [
    "# None Clustring\n",
    "n = 3\n",
    "scalar = scalar.fit(df_none.iloc[:, :])\n",
    "df_none.iloc[:, :] = scalar.transform(df_none.iloc[:, :])\n",
    "X = df_none.to_numpy()\n",
    "fit = KMeans(n_clusters = n, n_init =1000 , verbose =0).fit(X)\n",
    "\n",
    "# labels\n",
    "pred_labels = list(fit.labels_)\n",
    "df_none"
   ]
  },
  {
   "cell_type": "code",
   "execution_count": 126,
   "metadata": {},
   "outputs": [
    {
     "data": {
      "image/png": "[encoded data removed]",
      "text/plain": [
       "<Figure size 640x480 with 1 Axes>"
      ]
     },
     "metadata": {},
     "output_type": "display_data"
    }
   ],
   "source": [
    "count = dict()\n",
    "for i in range(n):\n",
    "    count[str(i)] = 0\n",
    "for i in pred_labels:\n",
    "    count[str(i)] += 1\n",
    "\n",
    "# plot\n",
    "color=['red', 'green', 'blue', 'yellow', 'orange', 'pink', 'black']\n",
    "plt.bar(list(count.keys()), list(count.values()), color =color)\n",
    "plt.xlabel('Labels')\n",
    "plt.ylabel('Labels Distribution')\n",
    "plt.title('K-Means Clustring of Class None')\n",
    "plt.show()"
   ]
  },
  {
   "cell_type": "code",
   "execution_count": 127,
   "metadata": {},
   "outputs": [
    {
     "data": {
      "text/html": [
       "<div>\n",
       "<style scoped>\n",
       "    .dataframe tbody tr th:only-of-type {\n",
       "        vertical-align: middle;\n",
       "    }\n",
       "\n",
       "    .dataframe tbody tr th {\n",
       "        vertical-align: top;\n",
       "    }\n",
       "\n",
       "    .dataframe thead th {\n",
       "        text-align: right;\n",
       "    }\n",
       "</style>\n",
       "<table border=\"1\" class=\"dataframe\">\n",
       "  <thead>\n",
       "    <tr style=\"text-align: right;\">\n",
       "      <th></th>\n",
       "      <th>followers_count</th>\n",
       "      <th>following_count</th>\n",
       "      <th>tweet_count</th>\n",
       "      <th>class</th>\n",
       "    </tr>\n",
       "  </thead>\n",
       "  <tbody>\n",
       "    <tr>\n",
       "      <th>18</th>\n",
       "      <td>0.000000</td>\n",
       "      <td>0.000193</td>\n",
       "      <td>0.000046</td>\n",
       "      <td>0.0</td>\n",
       "    </tr>\n",
       "    <tr>\n",
       "      <th>28</th>\n",
       "      <td>0.000000</td>\n",
       "      <td>0.001157</td>\n",
       "      <td>0.000056</td>\n",
       "      <td>0.0</td>\n",
       "    </tr>\n",
       "    <tr>\n",
       "      <th>31</th>\n",
       "      <td>0.000000</td>\n",
       "      <td>0.000000</td>\n",
       "      <td>0.000308</td>\n",
       "      <td>0.0</td>\n",
       "    </tr>\n",
       "    <tr>\n",
       "      <th>36</th>\n",
       "      <td>0.000000</td>\n",
       "      <td>0.000000</td>\n",
       "      <td>0.000034</td>\n",
       "      <td>0.0</td>\n",
       "    </tr>\n",
       "    <tr>\n",
       "      <th>41</th>\n",
       "      <td>0.000000</td>\n",
       "      <td>0.000154</td>\n",
       "      <td>0.000038</td>\n",
       "      <td>0.0</td>\n",
       "    </tr>\n",
       "    <tr>\n",
       "      <th>...</th>\n",
       "      <td>...</td>\n",
       "      <td>...</td>\n",
       "      <td>...</td>\n",
       "      <td>...</td>\n",
       "    </tr>\n",
       "    <tr>\n",
       "      <th>12556</th>\n",
       "      <td>0.111439</td>\n",
       "      <td>0.030379</td>\n",
       "      <td>0.058120</td>\n",
       "      <td>0.0</td>\n",
       "    </tr>\n",
       "    <tr>\n",
       "      <th>12557</th>\n",
       "      <td>0.127348</td>\n",
       "      <td>0.057822</td>\n",
       "      <td>0.032463</td>\n",
       "      <td>0.0</td>\n",
       "    </tr>\n",
       "    <tr>\n",
       "      <th>12558</th>\n",
       "      <td>0.181147</td>\n",
       "      <td>0.016719</td>\n",
       "      <td>0.099118</td>\n",
       "      <td>0.0</td>\n",
       "    </tr>\n",
       "    <tr>\n",
       "      <th>12559</th>\n",
       "      <td>0.183108</td>\n",
       "      <td>0.443708</td>\n",
       "      <td>0.145936</td>\n",
       "      <td>0.0</td>\n",
       "    </tr>\n",
       "    <tr>\n",
       "      <th>12560</th>\n",
       "      <td>1.000000</td>\n",
       "      <td>0.001549</td>\n",
       "      <td>0.030625</td>\n",
       "      <td>0.0</td>\n",
       "    </tr>\n",
       "  </tbody>\n",
       "</table>\n",
       "<p>4924 rows × 4 columns</p>\n",
       "</div>"
      ],
      "text/plain": [
       "       followers_count  following_count  tweet_count  class\n",
       "18            0.000000         0.000193     0.000046    0.0\n",
       "28            0.000000         0.001157     0.000056    0.0\n",
       "31            0.000000         0.000000     0.000308    0.0\n",
       "36            0.000000         0.000000     0.000034    0.0\n",
       "41            0.000000         0.000154     0.000038    0.0\n",
       "...                ...              ...          ...    ...\n",
       "12556         0.111439         0.030379     0.058120    0.0\n",
       "12557         0.127348         0.057822     0.032463    0.0\n",
       "12558         0.181147         0.016719     0.099118    0.0\n",
       "12559         0.183108         0.443708     0.145936    0.0\n",
       "12560         1.000000         0.001549     0.030625    0.0\n",
       "\n",
       "[4924 rows x 4 columns]"
      ]
     },
     "execution_count": 127,
     "metadata": {},
     "output_type": "execute_result"
    }
   ],
   "source": [
    "# USA Clustring\n",
    "n = 2\n",
    "scalar = scalar.fit(df_usa.iloc[:, :])\n",
    "df_usa.iloc[:, :] = scalar.transform(df_usa.iloc[:, :])\n",
    "X = df_usa.to_numpy()\n",
    "fit = KMeans(n_clusters = n, n_init =1000 , verbose =0).fit(X)\n",
    "\n",
    "# labels\n",
    "pred_labels = list(fit.labels_)\n",
    "df_usa"
   ]
  },
  {
   "cell_type": "code",
   "execution_count": 128,
   "metadata": {},
   "outputs": [
    {
     "data": {
      "image/png": "[encoded data removed]",
      "text/plain": [
       "<Figure size 640x480 with 1 Axes>"
      ]
     },
     "metadata": {},
     "output_type": "display_data"
    }
   ],
   "source": [
    "count = dict()\n",
    "for i in range(n):\n",
    "    count[str(i)] = 0\n",
    "for i in pred_labels:\n",
    "    count[str(i)] += 1\n",
    "\n",
    "# plot\n",
    "color=['red', 'green', 'blue', 'yellow', 'orange', 'pink', 'black']\n",
    "plt.bar(list(count.keys()), list(count.values()), color =color)\n",
    "plt.xlabel('Labels')\n",
    "plt.ylabel('Labels Distribution')\n",
    "plt.title('K-Means Clustring of Class USA')\n",
    "plt.show()"
   ]
  }
 ],
 "metadata": {
  "kernelspec": {
   "display_name": "Python 3.7.0 ('tf2.5')",
   "language": "python",
   "name": "python3"
  },
  "language_info": {
   "codemirror_mode": {
    "name": "ipython",
    "version": 3
   },
   "file_extension": ".py",
   "mimetype": "text/x-python",
   "name": "python",
   "nbconvert_exporter": "python",
   "pygments_lexer": "ipython3",
   "version": "3.7.0"
  },
  "orig_nbformat": 4,
  "vscode": {
   "interpreter": {
    "hash": "5954ceb90af766a0bc8666b74ea42dc1d0095402d9f9710a8a7a1b2fd54d46b5"
   }
  }
 },
 "nbformat": 4,
 "nbformat_minor": 2
}
