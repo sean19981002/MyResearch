{
 "cells": [
  {
   "cell_type": "code",
   "execution_count": 1,
   "metadata": {},
   "outputs": [],
   "source": [
    "import pandas as pd\n",
    "import json\n"
   ]
  },
  {
   "cell_type": "code",
   "execution_count": 2,
   "metadata": {},
   "outputs": [
    {
     "data": {
      "text/plain": [
       "79985"
      ]
     },
     "execution_count": 2,
     "metadata": {},
     "output_type": "execute_result"
    }
   ],
   "source": [
    "# load json files\n",
    "json_files = dict()\n",
    "columns = [\"target_id\", \"referenced\", \"tweet_id\", \"created_at\"]\n",
    "df = pd.DataFrame(columns=columns)\n",
    "target_id = []\n",
    "referenced = []\n",
    "tweet_id = []\n",
    "created_at = []\n",
    "\n",
    "for i in range(9):\n",
    "    with open('%d.json' % i, 'r') as file:\n",
    "        json_file = json.load(fp = file)\n",
    "        json_files.update(json_file)\n",
    "\n",
    "for key in json_files.keys():\n",
    "    list_value = json_files[key]\n",
    "    if list_value:\n",
    "        for value in list_value:\n",
    "            target_id.append(str(value['target_id']))\n",
    "            referenced.append(value['referenced'])\n",
    "            tweet_id.append(value['tweet_id'])\n",
    "            created_at.append(value['created_at'])\n",
    "    else:\n",
    "        target_id.append(str(key))\n",
    "        referenced.append('None')\n",
    "        tweet_id.append('None')\n",
    "        created_at.append('None')\n",
    "len(target_id)"
   ]
  },
  {
   "cell_type": "code",
   "execution_count": 3,
   "metadata": {},
   "outputs": [
    {
     "name": "stdout",
     "output_type": "stream",
     "text": [
      "0.txt\n",
      "1.txt\n",
      "2.txt\n",
      "3.txt\n",
      "4.txt\n",
      "5.txt\n",
      "6.txt\n",
      "7.txt\n",
      "8.txt\n",
      "9.txt\n",
      "10.txt\n",
      "11.txt\n",
      "12.txt\n",
      "13.txt\n"
     ]
    },
    {
     "data": {
      "text/plain": [
       "154586"
      ]
     },
     "execution_count": 3,
     "metadata": {},
     "output_type": "execute_result"
    }
   ],
   "source": [
    "# load txt file\n",
    "for i in range(14):\n",
    "    with open(\"%d.txt\" % i, \"r\") as file:\n",
    "        print(\"%d.txt\" % i)\n",
    "        lines = file.readlines()\n",
    "        for line in lines:\n",
    "            if \"=\" not in line:\n",
    "                s = line.split(\" \")\n",
    "                if  \"\\n\" in s:\n",
    "                    s.remove(\"\\n\")\n",
    "                if s[1] == 'None\\n':\n",
    "                    s[1].replace('\\n', '')\n",
    "                    target_id.append(s[0])\n",
    "                    referenced.append('None')\n",
    "                    tweet_id.append('None')\n",
    "                    created_at.append('None')\n",
    "                else:\n",
    "                    s[3] = s[3] + \" \" + s[4]\n",
    "                    s.remove(s[4])\n",
    "                    # id, ref, tweet_id, created_at\n",
    "                    if s[2] not in tweet_id:\n",
    "                        target_id.append(s[0])\n",
    "                        referenced.append(s[1])\n",
    "                        tweet_id.append(s[2])\n",
    "                        created_at.append(s[3])\n",
    "len(target_id)"
   ]
  },
  {
   "cell_type": "code",
   "execution_count": 11,
   "metadata": {},
   "outputs": [],
   "source": [
    "to_df = ({\n",
    "    \"target_id\" : target_id,\n",
    "    \"referenced\" : referenced,\n",
    "    \"tweet_id\" : tweet_id,\n",
    "    \"created_at\" : created_at\n",
    "})\n",
    "df = pd.DataFrame(to_df)\n",
    "for column in df.columns:\n",
    "    df[column] = df[column].astype('str')\n",
    "df.reset_index()\n",
    "df.to_excel('user_tweets.xlsx')"
   ]
  }
 ],
 "metadata": {
  "kernelspec": {
   "display_name": "Python 3.7.13 ('DGL')",
   "language": "python",
   "name": "python3"
  },
  "language_info": {
   "codemirror_mode": {
    "name": "ipython",
    "version": 3
   },
   "file_extension": ".py",
   "mimetype": "text/x-python",
   "name": "python",
   "nbconvert_exporter": "python",
   "pygments_lexer": "ipython3",
   "version": "3.7.13"
  },
  "orig_nbformat": 4,
  "vscode": {
   "interpreter": {
    "hash": "9724198e770339573151d7fae9b9e7043afe1f0cc6632f806ac9542ed2e6ebbd"
   }
  }
 },
 "nbformat": 4,
 "nbformat_minor": 2
}
